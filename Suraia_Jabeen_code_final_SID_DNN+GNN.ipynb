{
  "cells": [
    {
      "cell_type": "markdown",
      "metadata": {
        "id": "view-in-github",
        "colab_type": "text"
      },
      "source": [
        "<a href=\"https://colab.research.google.com/github/saddam944/bowlingpred/blob/master/Suraia_Jabeen_code_final_SID_DNN%2BGNN.ipynb\" target=\"_parent\"><img src=\"https://colab.research.google.com/assets/colab-badge.svg\" alt=\"Open In Colab\"/></a>"
      ]
    },
    {
      "cell_type": "code",
      "execution_count": null,
      "metadata": {
        "colab": {
          "base_uri": "https://localhost:8080/"
        },
        "id": "qmWEmQYPD0Ke",
        "outputId": "54ebbda5-0c2f-43c9-8b17-db8211db65f6"
      },
      "outputs": [
        {
          "output_type": "stream",
          "name": "stderr",
          "text": [
            "[nltk_data] Downloading collection 'book'\n",
            "[nltk_data]    | \n",
            "[nltk_data]    | Downloading package abc to /root/nltk_data...\n",
            "[nltk_data]    |   Package abc is already up-to-date!\n",
            "[nltk_data]    | Downloading package brown to /root/nltk_data...\n",
            "[nltk_data]    |   Package brown is already up-to-date!\n",
            "[nltk_data]    | Downloading package chat80 to /root/nltk_data...\n",
            "[nltk_data]    |   Package chat80 is already up-to-date!\n",
            "[nltk_data]    | Downloading package cmudict to /root/nltk_data...\n",
            "[nltk_data]    |   Package cmudict is already up-to-date!\n",
            "[nltk_data]    | Downloading package conll2000 to /root/nltk_data...\n",
            "[nltk_data]    |   Package conll2000 is already up-to-date!\n",
            "[nltk_data]    | Downloading package conll2002 to /root/nltk_data...\n",
            "[nltk_data]    |   Package conll2002 is already up-to-date!\n",
            "[nltk_data]    | Downloading package dependency_treebank to\n",
            "[nltk_data]    |     /root/nltk_data...\n",
            "[nltk_data]    |   Package dependency_treebank is already up-to-date!\n",
            "[nltk_data]    | Downloading package genesis to /root/nltk_data...\n",
            "[nltk_data]    |   Package genesis is already up-to-date!\n",
            "[nltk_data]    | Downloading package gutenberg to /root/nltk_data...\n",
            "[nltk_data]    |   Package gutenberg is already up-to-date!\n",
            "[nltk_data]    | Downloading package ieer to /root/nltk_data...\n",
            "[nltk_data]    |   Package ieer is already up-to-date!\n",
            "[nltk_data]    | Downloading package inaugural to /root/nltk_data...\n",
            "[nltk_data]    |   Package inaugural is already up-to-date!\n",
            "[nltk_data]    | Downloading package movie_reviews to\n",
            "[nltk_data]    |     /root/nltk_data...\n",
            "[nltk_data]    |   Package movie_reviews is already up-to-date!\n",
            "[nltk_data]    | Downloading package nps_chat to /root/nltk_data...\n",
            "[nltk_data]    |   Package nps_chat is already up-to-date!\n",
            "[nltk_data]    | Downloading package names to /root/nltk_data...\n",
            "[nltk_data]    |   Package names is already up-to-date!\n",
            "[nltk_data]    | Downloading package ppattach to /root/nltk_data...\n",
            "[nltk_data]    |   Package ppattach is already up-to-date!\n",
            "[nltk_data]    | Downloading package reuters to /root/nltk_data...\n",
            "[nltk_data]    |   Package reuters is already up-to-date!\n",
            "[nltk_data]    | Downloading package senseval to /root/nltk_data...\n",
            "[nltk_data]    |   Package senseval is already up-to-date!\n",
            "[nltk_data]    | Downloading package state_union to /root/nltk_data...\n",
            "[nltk_data]    |   Package state_union is already up-to-date!\n",
            "[nltk_data]    | Downloading package stopwords to /root/nltk_data...\n",
            "[nltk_data]    |   Package stopwords is already up-to-date!\n",
            "[nltk_data]    | Downloading package swadesh to /root/nltk_data...\n",
            "[nltk_data]    |   Package swadesh is already up-to-date!\n",
            "[nltk_data]    | Downloading package timit to /root/nltk_data...\n",
            "[nltk_data]    |   Package timit is already up-to-date!\n",
            "[nltk_data]    | Downloading package treebank to /root/nltk_data...\n",
            "[nltk_data]    |   Package treebank is already up-to-date!\n",
            "[nltk_data]    | Downloading package toolbox to /root/nltk_data...\n",
            "[nltk_data]    |   Package toolbox is already up-to-date!\n",
            "[nltk_data]    | Downloading package udhr to /root/nltk_data...\n",
            "[nltk_data]    |   Package udhr is already up-to-date!\n",
            "[nltk_data]    | Downloading package udhr2 to /root/nltk_data...\n",
            "[nltk_data]    |   Package udhr2 is already up-to-date!\n",
            "[nltk_data]    | Downloading package unicode_samples to\n",
            "[nltk_data]    |     /root/nltk_data...\n",
            "[nltk_data]    |   Package unicode_samples is already up-to-date!\n",
            "[nltk_data]    | Downloading package webtext to /root/nltk_data...\n",
            "[nltk_data]    |   Package webtext is already up-to-date!\n",
            "[nltk_data]    | Downloading package wordnet to /root/nltk_data...\n",
            "[nltk_data]    |   Package wordnet is already up-to-date!\n",
            "[nltk_data]    | Downloading package wordnet_ic to /root/nltk_data...\n",
            "[nltk_data]    |   Package wordnet_ic is already up-to-date!\n",
            "[nltk_data]    | Downloading package words to /root/nltk_data...\n",
            "[nltk_data]    |   Package words is already up-to-date!\n",
            "[nltk_data]    | Downloading package maxent_treebank_pos_tagger to\n",
            "[nltk_data]    |     /root/nltk_data...\n",
            "[nltk_data]    |   Package maxent_treebank_pos_tagger is already up-\n",
            "[nltk_data]    |       to-date!\n",
            "[nltk_data]    | Downloading package maxent_ne_chunker to\n",
            "[nltk_data]    |     /root/nltk_data...\n",
            "[nltk_data]    |   Package maxent_ne_chunker is already up-to-date!\n",
            "[nltk_data]    | Downloading package universal_tagset to\n",
            "[nltk_data]    |     /root/nltk_data...\n",
            "[nltk_data]    |   Package universal_tagset is already up-to-date!\n",
            "[nltk_data]    | Downloading package punkt to /root/nltk_data...\n",
            "[nltk_data]    |   Package punkt is already up-to-date!\n",
            "[nltk_data]    | Downloading package book_grammars to\n",
            "[nltk_data]    |     /root/nltk_data...\n",
            "[nltk_data]    |   Package book_grammars is already up-to-date!\n",
            "[nltk_data]    | Downloading package city_database to\n",
            "[nltk_data]    |     /root/nltk_data...\n",
            "[nltk_data]    |   Package city_database is already up-to-date!\n",
            "[nltk_data]    | Downloading package tagsets to /root/nltk_data...\n",
            "[nltk_data]    |   Package tagsets is already up-to-date!\n",
            "[nltk_data]    | Downloading package panlex_swadesh to\n",
            "[nltk_data]    |     /root/nltk_data...\n",
            "[nltk_data]    |   Package panlex_swadesh is already up-to-date!\n",
            "[nltk_data]    | Downloading package averaged_perceptron_tagger to\n",
            "[nltk_data]    |     /root/nltk_data...\n",
            "[nltk_data]    |   Package averaged_perceptron_tagger is already up-\n",
            "[nltk_data]    |       to-date!\n",
            "[nltk_data]    | \n",
            "[nltk_data]  Done downloading collection book\n"
          ]
        }
      ],
      "source": [
        "import nltk\n",
        "# import all the resources for Natural Language Processing with Python\n",
        "nltk.download(\"book\")\n",
        "\n",
        "from gensim.models import Word2Vec\n",
        "from nltk.corpus import stopwords\n",
        "\n",
        "import re"
      ]
    },
    {
      "cell_type": "code",
      "source": [
        "from nltk.stem import WordNetLemmatizer\n",
        "from nltk.tokenize import word_tokenize\n",
        "\n",
        "# Download necessary NLTK resources\n",
        "nltk.download('punkt')\n",
        "nltk.download('wordnet')"
      ],
      "metadata": {
        "colab": {
          "base_uri": "https://localhost:8080/"
        },
        "id": "u1BhtDUnzYlj",
        "outputId": "1cfff474-2a6e-4a63-d3f3-81fdb786448f"
      },
      "execution_count": null,
      "outputs": [
        {
          "output_type": "stream",
          "name": "stderr",
          "text": [
            "[nltk_data] Downloading package punkt to /root/nltk_data...\n",
            "[nltk_data]   Package punkt is already up-to-date!\n",
            "[nltk_data] Downloading package wordnet to /root/nltk_data...\n",
            "[nltk_data]   Package wordnet is already up-to-date!\n"
          ]
        },
        {
          "output_type": "execute_result",
          "data": {
            "text/plain": [
              "True"
            ]
          },
          "metadata": {},
          "execution_count": 2
        }
      ]
    },
    {
      "cell_type": "code",
      "execution_count": null,
      "metadata": {
        "id": "GstkNw1u3bTY"
      },
      "outputs": [],
      "source": [
        "import pandas as pd"
      ]
    },
    {
      "cell_type": "markdown",
      "source": [
        "**CONNECTING TO DRIVE**"
      ],
      "metadata": {
        "id": "RXjhKmRKEaUG"
      }
    },
    {
      "cell_type": "code",
      "execution_count": null,
      "metadata": {
        "colab": {
          "base_uri": "https://localhost:8080/"
        },
        "id": "2g8uP4-zD_NE",
        "outputId": "cef776b3-f03f-4b62-99f3-f146087db326"
      },
      "outputs": [
        {
          "output_type": "stream",
          "name": "stdout",
          "text": [
            "Drive already mounted at /content/drive; to attempt to forcibly remount, call drive.mount(\"/content/drive\", force_remount=True).\n"
          ]
        }
      ],
      "source": [
        "from google.colab import drive\n",
        "drive.mount(\"/content/drive\")"
      ]
    },
    {
      "cell_type": "markdown",
      "source": [],
      "metadata": {
        "id": "jXimaLIvEs6D"
      }
    },
    {
      "cell_type": "markdown",
      "source": [
        "**READING DATA FROM DRIVE**"
      ],
      "metadata": {
        "id": "epv9RqlUEmr8"
      }
    },
    {
      "cell_type": "code",
      "execution_count": null,
      "metadata": {
        "id": "vftIgGCn3XZf"
      },
      "outputs": [],
      "source": [
        "# Reading the data\n",
        "path = \"/content/drive/MyDrive/Saddam_Sir/Thesis/Dataset/Suicide_twitter_data_final.xlsx\"\n",
        "path1 = \"/content/drive/MyDrive/Saddam_Sir/Thesis/Dataset/Reddit-Suicide-Data-Final.xlsx\"\n",
        "path2 = \"/content/drive/MyDrive/Saddam_Sir/Thesis/Dataset/Facebook-Suicide-Data-2.xlsx\"\n",
        "\n",
        "df = pd.read_excel(path)\n",
        "df1 = pd.read_excel(path1)\n",
        "df2 = pd.read_excel(path2)"
      ]
    },
    {
      "cell_type": "markdown",
      "source": [
        "**READING DATA FROM SECOND SOURCE**"
      ],
      "metadata": {
        "id": "g2PxjjKWE0Ot"
      }
    },
    {
      "cell_type": "code",
      "execution_count": null,
      "metadata": {
        "colab": {
          "base_uri": "https://localhost:8080/",
          "height": 424
        },
        "id": "GjMipjH3y0Yd",
        "outputId": "109c71c7-b913-48dc-cc7b-4b1d4032ecbc"
      },
      "outputs": [
        {
          "output_type": "execute_result",
          "data": {
            "text/plain": [
              "                                                  text  sentiment\n",
              "0      Open-pit coal mining to be suicidal for Bang...          0\n",
              "1      Bangladesh police join forces with Meta, Tik...          0\n",
              "2      VIDEO: Why Kashmiri students protested after...          0\n",
              "3      least game addict boy in bangladesh. commits...          0\n",
              "4      Bangladesh's first transgender news reader t...          0\n",
              "..                                                 ...        ...\n",
              "381                   Wanting to die so I can restart.          1\n",
              "382  My ex is having active thoughts and I don't kn...          1\n",
              "383  Just some sad ex stuff\\nI know it’s lame and b...          1\n",
              "384  I’m corrosive\\nI destroy everything i touch. L...          1\n",
              "385  I Don’t Know Anymore\\nI 22M have been dealing ...          1\n",
              "\n",
              "[386 rows x 2 columns]"
            ],
            "text/html": [
              "\n",
              "  <div id=\"df-f3b278a9-86c6-471b-b693-adf636d8065e\" class=\"colab-df-container\">\n",
              "    <div>\n",
              "<style scoped>\n",
              "    .dataframe tbody tr th:only-of-type {\n",
              "        vertical-align: middle;\n",
              "    }\n",
              "\n",
              "    .dataframe tbody tr th {\n",
              "        vertical-align: top;\n",
              "    }\n",
              "\n",
              "    .dataframe thead th {\n",
              "        text-align: right;\n",
              "    }\n",
              "</style>\n",
              "<table border=\"1\" class=\"dataframe\">\n",
              "  <thead>\n",
              "    <tr style=\"text-align: right;\">\n",
              "      <th></th>\n",
              "      <th>text</th>\n",
              "      <th>sentiment</th>\n",
              "    </tr>\n",
              "  </thead>\n",
              "  <tbody>\n",
              "    <tr>\n",
              "      <th>0</th>\n",
              "      <td>Open-pit coal mining to be suicidal for Bang...</td>\n",
              "      <td>0</td>\n",
              "    </tr>\n",
              "    <tr>\n",
              "      <th>1</th>\n",
              "      <td>Bangladesh police join forces with Meta, Tik...</td>\n",
              "      <td>0</td>\n",
              "    </tr>\n",
              "    <tr>\n",
              "      <th>2</th>\n",
              "      <td>VIDEO: Why Kashmiri students protested after...</td>\n",
              "      <td>0</td>\n",
              "    </tr>\n",
              "    <tr>\n",
              "      <th>3</th>\n",
              "      <td>least game addict boy in bangladesh. commits...</td>\n",
              "      <td>0</td>\n",
              "    </tr>\n",
              "    <tr>\n",
              "      <th>4</th>\n",
              "      <td>Bangladesh's first transgender news reader t...</td>\n",
              "      <td>0</td>\n",
              "    </tr>\n",
              "    <tr>\n",
              "      <th>...</th>\n",
              "      <td>...</td>\n",
              "      <td>...</td>\n",
              "    </tr>\n",
              "    <tr>\n",
              "      <th>381</th>\n",
              "      <td>Wanting to die so I can restart.</td>\n",
              "      <td>1</td>\n",
              "    </tr>\n",
              "    <tr>\n",
              "      <th>382</th>\n",
              "      <td>My ex is having active thoughts and I don't kn...</td>\n",
              "      <td>1</td>\n",
              "    </tr>\n",
              "    <tr>\n",
              "      <th>383</th>\n",
              "      <td>Just some sad ex stuff\\nI know it’s lame and b...</td>\n",
              "      <td>1</td>\n",
              "    </tr>\n",
              "    <tr>\n",
              "      <th>384</th>\n",
              "      <td>I’m corrosive\\nI destroy everything i touch. L...</td>\n",
              "      <td>1</td>\n",
              "    </tr>\n",
              "    <tr>\n",
              "      <th>385</th>\n",
              "      <td>I Don’t Know Anymore\\nI 22M have been dealing ...</td>\n",
              "      <td>1</td>\n",
              "    </tr>\n",
              "  </tbody>\n",
              "</table>\n",
              "<p>386 rows × 2 columns</p>\n",
              "</div>\n",
              "    <div class=\"colab-df-buttons\">\n",
              "\n",
              "  <div class=\"colab-df-container\">\n",
              "    <button class=\"colab-df-convert\" onclick=\"convertToInteractive('df-f3b278a9-86c6-471b-b693-adf636d8065e')\"\n",
              "            title=\"Convert this dataframe to an interactive table.\"\n",
              "            style=\"display:none;\">\n",
              "\n",
              "  <svg xmlns=\"http://www.w3.org/2000/svg\" height=\"24px\" viewBox=\"0 -960 960 960\">\n",
              "    <path d=\"M120-120v-720h720v720H120Zm60-500h600v-160H180v160Zm220 220h160v-160H400v160Zm0 220h160v-160H400v160ZM180-400h160v-160H180v160Zm440 0h160v-160H620v160ZM180-180h160v-160H180v160Zm440 0h160v-160H620v160Z\"/>\n",
              "  </svg>\n",
              "    </button>\n",
              "\n",
              "  <style>\n",
              "    .colab-df-container {\n",
              "      display:flex;\n",
              "      gap: 12px;\n",
              "    }\n",
              "\n",
              "    .colab-df-convert {\n",
              "      background-color: #E8F0FE;\n",
              "      border: none;\n",
              "      border-radius: 50%;\n",
              "      cursor: pointer;\n",
              "      display: none;\n",
              "      fill: #1967D2;\n",
              "      height: 32px;\n",
              "      padding: 0 0 0 0;\n",
              "      width: 32px;\n",
              "    }\n",
              "\n",
              "    .colab-df-convert:hover {\n",
              "      background-color: #E2EBFA;\n",
              "      box-shadow: 0px 1px 2px rgba(60, 64, 67, 0.3), 0px 1px 3px 1px rgba(60, 64, 67, 0.15);\n",
              "      fill: #174EA6;\n",
              "    }\n",
              "\n",
              "    .colab-df-buttons div {\n",
              "      margin-bottom: 4px;\n",
              "    }\n",
              "\n",
              "    [theme=dark] .colab-df-convert {\n",
              "      background-color: #3B4455;\n",
              "      fill: #D2E3FC;\n",
              "    }\n",
              "\n",
              "    [theme=dark] .colab-df-convert:hover {\n",
              "      background-color: #434B5C;\n",
              "      box-shadow: 0px 1px 3px 1px rgba(0, 0, 0, 0.15);\n",
              "      filter: drop-shadow(0px 1px 2px rgba(0, 0, 0, 0.3));\n",
              "      fill: #FFFFFF;\n",
              "    }\n",
              "  </style>\n",
              "\n",
              "    <script>\n",
              "      const buttonEl =\n",
              "        document.querySelector('#df-f3b278a9-86c6-471b-b693-adf636d8065e button.colab-df-convert');\n",
              "      buttonEl.style.display =\n",
              "        google.colab.kernel.accessAllowed ? 'block' : 'none';\n",
              "\n",
              "      async function convertToInteractive(key) {\n",
              "        const element = document.querySelector('#df-f3b278a9-86c6-471b-b693-adf636d8065e');\n",
              "        const dataTable =\n",
              "          await google.colab.kernel.invokeFunction('convertToInteractive',\n",
              "                                                    [key], {});\n",
              "        if (!dataTable) return;\n",
              "\n",
              "        const docLinkHtml = 'Like what you see? Visit the ' +\n",
              "          '<a target=\"_blank\" href=https://colab.research.google.com/notebooks/data_table.ipynb>data table notebook</a>'\n",
              "          + ' to learn more about interactive tables.';\n",
              "        element.innerHTML = '';\n",
              "        dataTable['output_type'] = 'display_data';\n",
              "        await google.colab.output.renderOutput(dataTable, element);\n",
              "        const docLink = document.createElement('div');\n",
              "        docLink.innerHTML = docLinkHtml;\n",
              "        element.appendChild(docLink);\n",
              "      }\n",
              "    </script>\n",
              "  </div>\n",
              "\n",
              "\n",
              "<div id=\"df-2017d472-6785-4a28-88a0-50ef05e7b193\">\n",
              "  <button class=\"colab-df-quickchart\" onclick=\"quickchart('df-2017d472-6785-4a28-88a0-50ef05e7b193')\"\n",
              "            title=\"Suggest charts\"\n",
              "            style=\"display:none;\">\n",
              "\n",
              "<svg xmlns=\"http://www.w3.org/2000/svg\" height=\"24px\"viewBox=\"0 0 24 24\"\n",
              "     width=\"24px\">\n",
              "    <g>\n",
              "        <path d=\"M19 3H5c-1.1 0-2 .9-2 2v14c0 1.1.9 2 2 2h14c1.1 0 2-.9 2-2V5c0-1.1-.9-2-2-2zM9 17H7v-7h2v7zm4 0h-2V7h2v10zm4 0h-2v-4h2v4z\"/>\n",
              "    </g>\n",
              "</svg>\n",
              "  </button>\n",
              "\n",
              "<style>\n",
              "  .colab-df-quickchart {\n",
              "      --bg-color: #E8F0FE;\n",
              "      --fill-color: #1967D2;\n",
              "      --hover-bg-color: #E2EBFA;\n",
              "      --hover-fill-color: #174EA6;\n",
              "      --disabled-fill-color: #AAA;\n",
              "      --disabled-bg-color: #DDD;\n",
              "  }\n",
              "\n",
              "  [theme=dark] .colab-df-quickchart {\n",
              "      --bg-color: #3B4455;\n",
              "      --fill-color: #D2E3FC;\n",
              "      --hover-bg-color: #434B5C;\n",
              "      --hover-fill-color: #FFFFFF;\n",
              "      --disabled-bg-color: #3B4455;\n",
              "      --disabled-fill-color: #666;\n",
              "  }\n",
              "\n",
              "  .colab-df-quickchart {\n",
              "    background-color: var(--bg-color);\n",
              "    border: none;\n",
              "    border-radius: 50%;\n",
              "    cursor: pointer;\n",
              "    display: none;\n",
              "    fill: var(--fill-color);\n",
              "    height: 32px;\n",
              "    padding: 0;\n",
              "    width: 32px;\n",
              "  }\n",
              "\n",
              "  .colab-df-quickchart:hover {\n",
              "    background-color: var(--hover-bg-color);\n",
              "    box-shadow: 0 1px 2px rgba(60, 64, 67, 0.3), 0 1px 3px 1px rgba(60, 64, 67, 0.15);\n",
              "    fill: var(--button-hover-fill-color);\n",
              "  }\n",
              "\n",
              "  .colab-df-quickchart-complete:disabled,\n",
              "  .colab-df-quickchart-complete:disabled:hover {\n",
              "    background-color: var(--disabled-bg-color);\n",
              "    fill: var(--disabled-fill-color);\n",
              "    box-shadow: none;\n",
              "  }\n",
              "\n",
              "  .colab-df-spinner {\n",
              "    border: 2px solid var(--fill-color);\n",
              "    border-color: transparent;\n",
              "    border-bottom-color: var(--fill-color);\n",
              "    animation:\n",
              "      spin 1s steps(1) infinite;\n",
              "  }\n",
              "\n",
              "  @keyframes spin {\n",
              "    0% {\n",
              "      border-color: transparent;\n",
              "      border-bottom-color: var(--fill-color);\n",
              "      border-left-color: var(--fill-color);\n",
              "    }\n",
              "    20% {\n",
              "      border-color: transparent;\n",
              "      border-left-color: var(--fill-color);\n",
              "      border-top-color: var(--fill-color);\n",
              "    }\n",
              "    30% {\n",
              "      border-color: transparent;\n",
              "      border-left-color: var(--fill-color);\n",
              "      border-top-color: var(--fill-color);\n",
              "      border-right-color: var(--fill-color);\n",
              "    }\n",
              "    40% {\n",
              "      border-color: transparent;\n",
              "      border-right-color: var(--fill-color);\n",
              "      border-top-color: var(--fill-color);\n",
              "    }\n",
              "    60% {\n",
              "      border-color: transparent;\n",
              "      border-right-color: var(--fill-color);\n",
              "    }\n",
              "    80% {\n",
              "      border-color: transparent;\n",
              "      border-right-color: var(--fill-color);\n",
              "      border-bottom-color: var(--fill-color);\n",
              "    }\n",
              "    90% {\n",
              "      border-color: transparent;\n",
              "      border-bottom-color: var(--fill-color);\n",
              "    }\n",
              "  }\n",
              "</style>\n",
              "\n",
              "  <script>\n",
              "    async function quickchart(key) {\n",
              "      const quickchartButtonEl =\n",
              "        document.querySelector('#' + key + ' button');\n",
              "      quickchartButtonEl.disabled = true;  // To prevent multiple clicks.\n",
              "      quickchartButtonEl.classList.add('colab-df-spinner');\n",
              "      try {\n",
              "        const charts = await google.colab.kernel.invokeFunction(\n",
              "            'suggestCharts', [key], {});\n",
              "      } catch (error) {\n",
              "        console.error('Error during call to suggestCharts:', error);\n",
              "      }\n",
              "      quickchartButtonEl.classList.remove('colab-df-spinner');\n",
              "      quickchartButtonEl.classList.add('colab-df-quickchart-complete');\n",
              "    }\n",
              "    (() => {\n",
              "      let quickchartButtonEl =\n",
              "        document.querySelector('#df-2017d472-6785-4a28-88a0-50ef05e7b193 button');\n",
              "      quickchartButtonEl.style.display =\n",
              "        google.colab.kernel.accessAllowed ? 'block' : 'none';\n",
              "    })();\n",
              "  </script>\n",
              "</div>\n",
              "    </div>\n",
              "  </div>\n"
            ],
            "application/vnd.google.colaboratory.intrinsic+json": {
              "type": "dataframe",
              "variable_name": "df1",
              "summary": "{\n  \"name\": \"df1\",\n  \"rows\": 386,\n  \"fields\": [\n    {\n      \"column\": \"text\",\n      \"properties\": {\n        \"dtype\": \"string\",\n        \"num_unique_values\": 386,\n        \"samples\": [\n          \"Is this enough?\\nI have about 80 tablets each of ibuprofen and paracetamol, 20 codeine, 10 Sertraline, 3L spirits\\n\\nIf I have all of that now would I OD? I have done about half of that already. Will it take off the edge I need to hang myself\",\n          \"suicidal nostalgia\\nI struggle once a week with severe suicidal nostalgia over when I was a kid in the 90s & tonight it's so bad, I wish I had a gun to shoot myself because time doesn't go back, it goes forward.\\n\\nI was watching a talk show and noticed all of the old natural hair styles, faces, openness and simplicity of it all. It's not that the 90s were perfect but they felt more down to earth and this is one of the things that hurts most.\\n\\nThe other issue is that I was in elementary school and I wish I could start life all over again and just freeze time to when I was a child. Tonight, I really wanted to shoot myself in the head but I have no access to a gun but I'm also thinking of pondering on other ways to take my life once and for all over this.\\n\\nFor someone like me, things will only continue to get worse and I know it. Like I said, time machines don't exist yet. I can NEVER get this vibe back. Ever. This is never coming back and I just want to DIE.\\n\\nI have a lot of pills but pills hurt so I'm stuck until I find something else. I am tired of being alive.\",\n          \"  [World] - Suicide attacker targets Bangladesh forces camp | The Hindu\"\n        ],\n        \"semantic_type\": \"\",\n        \"description\": \"\"\n      }\n    },\n    {\n      \"column\": \"sentiment\",\n      \"properties\": {\n        \"dtype\": \"number\",\n        \"std\": 0,\n        \"min\": 0,\n        \"max\": 1,\n        \"num_unique_values\": 2,\n        \"samples\": [\n          1,\n          0\n        ],\n        \"semantic_type\": \"\",\n        \"description\": \"\"\n      }\n    }\n  ]\n}"
            }
          },
          "metadata": {},
          "execution_count": 6
        }
      ],
      "source": [
        "df1"
      ]
    },
    {
      "cell_type": "markdown",
      "source": [
        "**READING DATA FDROM THIRD SOURCE**\n",
        ")"
      ],
      "metadata": {
        "id": "gsquEqtVFAGZ"
      }
    },
    {
      "cell_type": "code",
      "execution_count": null,
      "metadata": {
        "colab": {
          "base_uri": "https://localhost:8080/",
          "height": 424
        },
        "id": "54UjFYFkWGgU",
        "outputId": "478496f9-63c0-445f-9880-33c6562f7e53"
      },
      "outputs": [
        {
          "output_type": "execute_result",
          "data": {
            "text/plain": [
              "                                                 text  sentiment\n",
              "0     Kashmiri Medical student attempted Suicide i...          1\n",
              "1     Chattogram  Dr. Akash doctor dies by suicide...          1\n",
              "2     Trigger Warning: Suicide  Abu Mohashin Khan,...          1\n",
              "3     WARNING - CONFRONTING IMAGES | What really h...          0\n",
              "4     SAY NO TO SUICIDE! As Let's Talk Mental Heal...          1\n",
              "..                                                ...        ...\n",
              "73  Before getting yourself involved in cybercrime...          1\n",
              "74  I Will never forget..  Instead of judging the ...          1\n",
              "75  to my brother, thanks for being an as*hole and...          1\n",
              "76  The beginning of my varsity life was so scary....          1\n",
              "77  I am worried thinking how many people will sui...          1\n",
              "\n",
              "[78 rows x 2 columns]"
            ],
            "text/html": [
              "\n",
              "  <div id=\"df-d11258e8-b93e-42aa-876c-fed1ea0443c7\" class=\"colab-df-container\">\n",
              "    <div>\n",
              "<style scoped>\n",
              "    .dataframe tbody tr th:only-of-type {\n",
              "        vertical-align: middle;\n",
              "    }\n",
              "\n",
              "    .dataframe tbody tr th {\n",
              "        vertical-align: top;\n",
              "    }\n",
              "\n",
              "    .dataframe thead th {\n",
              "        text-align: right;\n",
              "    }\n",
              "</style>\n",
              "<table border=\"1\" class=\"dataframe\">\n",
              "  <thead>\n",
              "    <tr style=\"text-align: right;\">\n",
              "      <th></th>\n",
              "      <th>text</th>\n",
              "      <th>sentiment</th>\n",
              "    </tr>\n",
              "  </thead>\n",
              "  <tbody>\n",
              "    <tr>\n",
              "      <th>0</th>\n",
              "      <td>Kashmiri Medical student attempted Suicide i...</td>\n",
              "      <td>1</td>\n",
              "    </tr>\n",
              "    <tr>\n",
              "      <th>1</th>\n",
              "      <td>Chattogram  Dr. Akash doctor dies by suicide...</td>\n",
              "      <td>1</td>\n",
              "    </tr>\n",
              "    <tr>\n",
              "      <th>2</th>\n",
              "      <td>Trigger Warning: Suicide  Abu Mohashin Khan,...</td>\n",
              "      <td>1</td>\n",
              "    </tr>\n",
              "    <tr>\n",
              "      <th>3</th>\n",
              "      <td>WARNING - CONFRONTING IMAGES | What really h...</td>\n",
              "      <td>0</td>\n",
              "    </tr>\n",
              "    <tr>\n",
              "      <th>4</th>\n",
              "      <td>SAY NO TO SUICIDE! As Let's Talk Mental Heal...</td>\n",
              "      <td>1</td>\n",
              "    </tr>\n",
              "    <tr>\n",
              "      <th>...</th>\n",
              "      <td>...</td>\n",
              "      <td>...</td>\n",
              "    </tr>\n",
              "    <tr>\n",
              "      <th>73</th>\n",
              "      <td>Before getting yourself involved in cybercrime...</td>\n",
              "      <td>1</td>\n",
              "    </tr>\n",
              "    <tr>\n",
              "      <th>74</th>\n",
              "      <td>I Will never forget..  Instead of judging the ...</td>\n",
              "      <td>1</td>\n",
              "    </tr>\n",
              "    <tr>\n",
              "      <th>75</th>\n",
              "      <td>to my brother, thanks for being an as*hole and...</td>\n",
              "      <td>1</td>\n",
              "    </tr>\n",
              "    <tr>\n",
              "      <th>76</th>\n",
              "      <td>The beginning of my varsity life was so scary....</td>\n",
              "      <td>1</td>\n",
              "    </tr>\n",
              "    <tr>\n",
              "      <th>77</th>\n",
              "      <td>I am worried thinking how many people will sui...</td>\n",
              "      <td>1</td>\n",
              "    </tr>\n",
              "  </tbody>\n",
              "</table>\n",
              "<p>78 rows × 2 columns</p>\n",
              "</div>\n",
              "    <div class=\"colab-df-buttons\">\n",
              "\n",
              "  <div class=\"colab-df-container\">\n",
              "    <button class=\"colab-df-convert\" onclick=\"convertToInteractive('df-d11258e8-b93e-42aa-876c-fed1ea0443c7')\"\n",
              "            title=\"Convert this dataframe to an interactive table.\"\n",
              "            style=\"display:none;\">\n",
              "\n",
              "  <svg xmlns=\"http://www.w3.org/2000/svg\" height=\"24px\" viewBox=\"0 -960 960 960\">\n",
              "    <path d=\"M120-120v-720h720v720H120Zm60-500h600v-160H180v160Zm220 220h160v-160H400v160Zm0 220h160v-160H400v160ZM180-400h160v-160H180v160Zm440 0h160v-160H620v160ZM180-180h160v-160H180v160Zm440 0h160v-160H620v160Z\"/>\n",
              "  </svg>\n",
              "    </button>\n",
              "\n",
              "  <style>\n",
              "    .colab-df-container {\n",
              "      display:flex;\n",
              "      gap: 12px;\n",
              "    }\n",
              "\n",
              "    .colab-df-convert {\n",
              "      background-color: #E8F0FE;\n",
              "      border: none;\n",
              "      border-radius: 50%;\n",
              "      cursor: pointer;\n",
              "      display: none;\n",
              "      fill: #1967D2;\n",
              "      height: 32px;\n",
              "      padding: 0 0 0 0;\n",
              "      width: 32px;\n",
              "    }\n",
              "\n",
              "    .colab-df-convert:hover {\n",
              "      background-color: #E2EBFA;\n",
              "      box-shadow: 0px 1px 2px rgba(60, 64, 67, 0.3), 0px 1px 3px 1px rgba(60, 64, 67, 0.15);\n",
              "      fill: #174EA6;\n",
              "    }\n",
              "\n",
              "    .colab-df-buttons div {\n",
              "      margin-bottom: 4px;\n",
              "    }\n",
              "\n",
              "    [theme=dark] .colab-df-convert {\n",
              "      background-color: #3B4455;\n",
              "      fill: #D2E3FC;\n",
              "    }\n",
              "\n",
              "    [theme=dark] .colab-df-convert:hover {\n",
              "      background-color: #434B5C;\n",
              "      box-shadow: 0px 1px 3px 1px rgba(0, 0, 0, 0.15);\n",
              "      filter: drop-shadow(0px 1px 2px rgba(0, 0, 0, 0.3));\n",
              "      fill: #FFFFFF;\n",
              "    }\n",
              "  </style>\n",
              "\n",
              "    <script>\n",
              "      const buttonEl =\n",
              "        document.querySelector('#df-d11258e8-b93e-42aa-876c-fed1ea0443c7 button.colab-df-convert');\n",
              "      buttonEl.style.display =\n",
              "        google.colab.kernel.accessAllowed ? 'block' : 'none';\n",
              "\n",
              "      async function convertToInteractive(key) {\n",
              "        const element = document.querySelector('#df-d11258e8-b93e-42aa-876c-fed1ea0443c7');\n",
              "        const dataTable =\n",
              "          await google.colab.kernel.invokeFunction('convertToInteractive',\n",
              "                                                    [key], {});\n",
              "        if (!dataTable) return;\n",
              "\n",
              "        const docLinkHtml = 'Like what you see? Visit the ' +\n",
              "          '<a target=\"_blank\" href=https://colab.research.google.com/notebooks/data_table.ipynb>data table notebook</a>'\n",
              "          + ' to learn more about interactive tables.';\n",
              "        element.innerHTML = '';\n",
              "        dataTable['output_type'] = 'display_data';\n",
              "        await google.colab.output.renderOutput(dataTable, element);\n",
              "        const docLink = document.createElement('div');\n",
              "        docLink.innerHTML = docLinkHtml;\n",
              "        element.appendChild(docLink);\n",
              "      }\n",
              "    </script>\n",
              "  </div>\n",
              "\n",
              "\n",
              "<div id=\"df-1614d754-4c7a-45a5-8b98-a430261dcc3c\">\n",
              "  <button class=\"colab-df-quickchart\" onclick=\"quickchart('df-1614d754-4c7a-45a5-8b98-a430261dcc3c')\"\n",
              "            title=\"Suggest charts\"\n",
              "            style=\"display:none;\">\n",
              "\n",
              "<svg xmlns=\"http://www.w3.org/2000/svg\" height=\"24px\"viewBox=\"0 0 24 24\"\n",
              "     width=\"24px\">\n",
              "    <g>\n",
              "        <path d=\"M19 3H5c-1.1 0-2 .9-2 2v14c0 1.1.9 2 2 2h14c1.1 0 2-.9 2-2V5c0-1.1-.9-2-2-2zM9 17H7v-7h2v7zm4 0h-2V7h2v10zm4 0h-2v-4h2v4z\"/>\n",
              "    </g>\n",
              "</svg>\n",
              "  </button>\n",
              "\n",
              "<style>\n",
              "  .colab-df-quickchart {\n",
              "      --bg-color: #E8F0FE;\n",
              "      --fill-color: #1967D2;\n",
              "      --hover-bg-color: #E2EBFA;\n",
              "      --hover-fill-color: #174EA6;\n",
              "      --disabled-fill-color: #AAA;\n",
              "      --disabled-bg-color: #DDD;\n",
              "  }\n",
              "\n",
              "  [theme=dark] .colab-df-quickchart {\n",
              "      --bg-color: #3B4455;\n",
              "      --fill-color: #D2E3FC;\n",
              "      --hover-bg-color: #434B5C;\n",
              "      --hover-fill-color: #FFFFFF;\n",
              "      --disabled-bg-color: #3B4455;\n",
              "      --disabled-fill-color: #666;\n",
              "  }\n",
              "\n",
              "  .colab-df-quickchart {\n",
              "    background-color: var(--bg-color);\n",
              "    border: none;\n",
              "    border-radius: 50%;\n",
              "    cursor: pointer;\n",
              "    display: none;\n",
              "    fill: var(--fill-color);\n",
              "    height: 32px;\n",
              "    padding: 0;\n",
              "    width: 32px;\n",
              "  }\n",
              "\n",
              "  .colab-df-quickchart:hover {\n",
              "    background-color: var(--hover-bg-color);\n",
              "    box-shadow: 0 1px 2px rgba(60, 64, 67, 0.3), 0 1px 3px 1px rgba(60, 64, 67, 0.15);\n",
              "    fill: var(--button-hover-fill-color);\n",
              "  }\n",
              "\n",
              "  .colab-df-quickchart-complete:disabled,\n",
              "  .colab-df-quickchart-complete:disabled:hover {\n",
              "    background-color: var(--disabled-bg-color);\n",
              "    fill: var(--disabled-fill-color);\n",
              "    box-shadow: none;\n",
              "  }\n",
              "\n",
              "  .colab-df-spinner {\n",
              "    border: 2px solid var(--fill-color);\n",
              "    border-color: transparent;\n",
              "    border-bottom-color: var(--fill-color);\n",
              "    animation:\n",
              "      spin 1s steps(1) infinite;\n",
              "  }\n",
              "\n",
              "  @keyframes spin {\n",
              "    0% {\n",
              "      border-color: transparent;\n",
              "      border-bottom-color: var(--fill-color);\n",
              "      border-left-color: var(--fill-color);\n",
              "    }\n",
              "    20% {\n",
              "      border-color: transparent;\n",
              "      border-left-color: var(--fill-color);\n",
              "      border-top-color: var(--fill-color);\n",
              "    }\n",
              "    30% {\n",
              "      border-color: transparent;\n",
              "      border-left-color: var(--fill-color);\n",
              "      border-top-color: var(--fill-color);\n",
              "      border-right-color: var(--fill-color);\n",
              "    }\n",
              "    40% {\n",
              "      border-color: transparent;\n",
              "      border-right-color: var(--fill-color);\n",
              "      border-top-color: var(--fill-color);\n",
              "    }\n",
              "    60% {\n",
              "      border-color: transparent;\n",
              "      border-right-color: var(--fill-color);\n",
              "    }\n",
              "    80% {\n",
              "      border-color: transparent;\n",
              "      border-right-color: var(--fill-color);\n",
              "      border-bottom-color: var(--fill-color);\n",
              "    }\n",
              "    90% {\n",
              "      border-color: transparent;\n",
              "      border-bottom-color: var(--fill-color);\n",
              "    }\n",
              "  }\n",
              "</style>\n",
              "\n",
              "  <script>\n",
              "    async function quickchart(key) {\n",
              "      const quickchartButtonEl =\n",
              "        document.querySelector('#' + key + ' button');\n",
              "      quickchartButtonEl.disabled = true;  // To prevent multiple clicks.\n",
              "      quickchartButtonEl.classList.add('colab-df-spinner');\n",
              "      try {\n",
              "        const charts = await google.colab.kernel.invokeFunction(\n",
              "            'suggestCharts', [key], {});\n",
              "      } catch (error) {\n",
              "        console.error('Error during call to suggestCharts:', error);\n",
              "      }\n",
              "      quickchartButtonEl.classList.remove('colab-df-spinner');\n",
              "      quickchartButtonEl.classList.add('colab-df-quickchart-complete');\n",
              "    }\n",
              "    (() => {\n",
              "      let quickchartButtonEl =\n",
              "        document.querySelector('#df-1614d754-4c7a-45a5-8b98-a430261dcc3c button');\n",
              "      quickchartButtonEl.style.display =\n",
              "        google.colab.kernel.accessAllowed ? 'block' : 'none';\n",
              "    })();\n",
              "  </script>\n",
              "</div>\n",
              "    </div>\n",
              "  </div>\n"
            ],
            "application/vnd.google.colaboratory.intrinsic+json": {
              "type": "dataframe",
              "variable_name": "df2",
              "summary": "{\n  \"name\": \"df2\",\n  \"rows\": 78,\n  \"fields\": [\n    {\n      \"column\": \"text\",\n      \"properties\": {\n        \"dtype\": \"string\",\n        \"num_unique_values\": 78,\n        \"samples\": [\n          \"  Six family members have been killed in an apparent murder-suicide in suburban Dallas after two brothers made a suicide pact that included the deaths of the other relatives, police say.NBCNEWS.COM6 dead in Texas in apparent murder-suicide after brothers made pact, police sayPolice in Allen, Texas, performed a welfare check early Monday and found the bodies of six family members.,\",\n          \"  Kashmiri Medical student attempted Suicide in Bangladesh.  Junaid Bhat In a football match between Kashmiri students studying in international medical college Bangladesh and the local Bangladeshi students, a small verbal exchange turned violent. In response the college administration punished only kashmiri student barring him from appearing in examinations for 6 months.  The victim tried to commit suicide two times but fortunately was saved by his friends.The college administration is not ready to listen to kashmiri students and is not even bothered to cancel the suspension of student from appearing in exams.  Talking to kashmiri students, they said that at home everyone knows Bangladesh is a safe country but these issues will damage the confidence of kashmiri parents while sending their wards to Bangladesh. Kashmiri students are continuously on protest. Now we request college administration and the local police station to solve the issue.Play Video,\",\n          \"  Bangladesh sees first female \\u2018suicide bomber\\u2019DHAKATRIBUNE.COMBangladesh sees first female \\u2018suicide bomber\\u2019 | Dhaka TribuneA female militant has blown herself up during a police raid in a militant hideout at Dhaka\\u2019s Ashkona, in what appears to be the first suicide attack by a woman in Bangladesh.Learn More,\"\n        ],\n        \"semantic_type\": \"\",\n        \"description\": \"\"\n      }\n    },\n    {\n      \"column\": \"sentiment\",\n      \"properties\": {\n        \"dtype\": \"number\",\n        \"std\": 0,\n        \"min\": 0,\n        \"max\": 1,\n        \"num_unique_values\": 2,\n        \"samples\": [\n          0,\n          1\n        ],\n        \"semantic_type\": \"\",\n        \"description\": \"\"\n      }\n    }\n  ]\n}"
            }
          },
          "metadata": {},
          "execution_count": 7
        }
      ],
      "source": [
        "df2"
      ]
    },
    {
      "cell_type": "markdown",
      "source": [
        "**READING DATA FROM FIRST SOURCE**"
      ],
      "metadata": {
        "id": "KVWH1oK0Fdo6"
      }
    },
    {
      "cell_type": "code",
      "source": [
        "df"
      ],
      "metadata": {
        "colab": {
          "base_uri": "https://localhost:8080/",
          "height": 424
        },
        "id": "chu4q_IvUf8R",
        "outputId": "3e489105-794d-40a5-b5d4-dd30414af162"
      },
      "execution_count": null,
      "outputs": [
        {
          "output_type": "execute_result",
          "data": {
            "text/plain": [
              "                                                  text  sentiment\n",
              "0    b'@SmurphySuzanne @Sunderland_GM And more coun...          0\n",
              "1    b'RT @TatasenkoMana: This Method suicide 18 Da...          0\n",
              "2    b'RT @ennui365: Why in the name of Vince Foste...          0\n",
              "3    b'@Alan_G_Smith_BC @diana_murphy613 @JustinTru...          0\n",
              "4    b\"RT @sidhant: Turkey's mega Antalya Diplomati...          0\n",
              "..                                                 ...        ...\n",
              "316  b'RT @Bonny:When i had money, everybody was wi...          1\n",
              "317  b'RT \"You were with me until i fall into a dee...          1\n",
              "318  b'RT \"Everything is a lie in this world.goodby...          1\n",
              "319  b'RT \"Tell me what can i do? i can't bear it a...          1\n",
              "320  b'RT @trovnia: After the loss in my business i...          1\n",
              "\n",
              "[321 rows x 2 columns]"
            ],
            "text/html": [
              "\n",
              "  <div id=\"df-b0f73520-7c5e-47c0-82c0-f324c1153124\" class=\"colab-df-container\">\n",
              "    <div>\n",
              "<style scoped>\n",
              "    .dataframe tbody tr th:only-of-type {\n",
              "        vertical-align: middle;\n",
              "    }\n",
              "\n",
              "    .dataframe tbody tr th {\n",
              "        vertical-align: top;\n",
              "    }\n",
              "\n",
              "    .dataframe thead th {\n",
              "        text-align: right;\n",
              "    }\n",
              "</style>\n",
              "<table border=\"1\" class=\"dataframe\">\n",
              "  <thead>\n",
              "    <tr style=\"text-align: right;\">\n",
              "      <th></th>\n",
              "      <th>text</th>\n",
              "      <th>sentiment</th>\n",
              "    </tr>\n",
              "  </thead>\n",
              "  <tbody>\n",
              "    <tr>\n",
              "      <th>0</th>\n",
              "      <td>b'@SmurphySuzanne @Sunderland_GM And more coun...</td>\n",
              "      <td>0</td>\n",
              "    </tr>\n",
              "    <tr>\n",
              "      <th>1</th>\n",
              "      <td>b'RT @TatasenkoMana: This Method suicide 18 Da...</td>\n",
              "      <td>0</td>\n",
              "    </tr>\n",
              "    <tr>\n",
              "      <th>2</th>\n",
              "      <td>b'RT @ennui365: Why in the name of Vince Foste...</td>\n",
              "      <td>0</td>\n",
              "    </tr>\n",
              "    <tr>\n",
              "      <th>3</th>\n",
              "      <td>b'@Alan_G_Smith_BC @diana_murphy613 @JustinTru...</td>\n",
              "      <td>0</td>\n",
              "    </tr>\n",
              "    <tr>\n",
              "      <th>4</th>\n",
              "      <td>b\"RT @sidhant: Turkey's mega Antalya Diplomati...</td>\n",
              "      <td>0</td>\n",
              "    </tr>\n",
              "    <tr>\n",
              "      <th>...</th>\n",
              "      <td>...</td>\n",
              "      <td>...</td>\n",
              "    </tr>\n",
              "    <tr>\n",
              "      <th>316</th>\n",
              "      <td>b'RT @Bonny:When i had money, everybody was wi...</td>\n",
              "      <td>1</td>\n",
              "    </tr>\n",
              "    <tr>\n",
              "      <th>317</th>\n",
              "      <td>b'RT \"You were with me until i fall into a dee...</td>\n",
              "      <td>1</td>\n",
              "    </tr>\n",
              "    <tr>\n",
              "      <th>318</th>\n",
              "      <td>b'RT \"Everything is a lie in this world.goodby...</td>\n",
              "      <td>1</td>\n",
              "    </tr>\n",
              "    <tr>\n",
              "      <th>319</th>\n",
              "      <td>b'RT \"Tell me what can i do? i can't bear it a...</td>\n",
              "      <td>1</td>\n",
              "    </tr>\n",
              "    <tr>\n",
              "      <th>320</th>\n",
              "      <td>b'RT @trovnia: After the loss in my business i...</td>\n",
              "      <td>1</td>\n",
              "    </tr>\n",
              "  </tbody>\n",
              "</table>\n",
              "<p>321 rows × 2 columns</p>\n",
              "</div>\n",
              "    <div class=\"colab-df-buttons\">\n",
              "\n",
              "  <div class=\"colab-df-container\">\n",
              "    <button class=\"colab-df-convert\" onclick=\"convertToInteractive('df-b0f73520-7c5e-47c0-82c0-f324c1153124')\"\n",
              "            title=\"Convert this dataframe to an interactive table.\"\n",
              "            style=\"display:none;\">\n",
              "\n",
              "  <svg xmlns=\"http://www.w3.org/2000/svg\" height=\"24px\" viewBox=\"0 -960 960 960\">\n",
              "    <path d=\"M120-120v-720h720v720H120Zm60-500h600v-160H180v160Zm220 220h160v-160H400v160Zm0 220h160v-160H400v160ZM180-400h160v-160H180v160Zm440 0h160v-160H620v160ZM180-180h160v-160H180v160Zm440 0h160v-160H620v160Z\"/>\n",
              "  </svg>\n",
              "    </button>\n",
              "\n",
              "  <style>\n",
              "    .colab-df-container {\n",
              "      display:flex;\n",
              "      gap: 12px;\n",
              "    }\n",
              "\n",
              "    .colab-df-convert {\n",
              "      background-color: #E8F0FE;\n",
              "      border: none;\n",
              "      border-radius: 50%;\n",
              "      cursor: pointer;\n",
              "      display: none;\n",
              "      fill: #1967D2;\n",
              "      height: 32px;\n",
              "      padding: 0 0 0 0;\n",
              "      width: 32px;\n",
              "    }\n",
              "\n",
              "    .colab-df-convert:hover {\n",
              "      background-color: #E2EBFA;\n",
              "      box-shadow: 0px 1px 2px rgba(60, 64, 67, 0.3), 0px 1px 3px 1px rgba(60, 64, 67, 0.15);\n",
              "      fill: #174EA6;\n",
              "    }\n",
              "\n",
              "    .colab-df-buttons div {\n",
              "      margin-bottom: 4px;\n",
              "    }\n",
              "\n",
              "    [theme=dark] .colab-df-convert {\n",
              "      background-color: #3B4455;\n",
              "      fill: #D2E3FC;\n",
              "    }\n",
              "\n",
              "    [theme=dark] .colab-df-convert:hover {\n",
              "      background-color: #434B5C;\n",
              "      box-shadow: 0px 1px 3px 1px rgba(0, 0, 0, 0.15);\n",
              "      filter: drop-shadow(0px 1px 2px rgba(0, 0, 0, 0.3));\n",
              "      fill: #FFFFFF;\n",
              "    }\n",
              "  </style>\n",
              "\n",
              "    <script>\n",
              "      const buttonEl =\n",
              "        document.querySelector('#df-b0f73520-7c5e-47c0-82c0-f324c1153124 button.colab-df-convert');\n",
              "      buttonEl.style.display =\n",
              "        google.colab.kernel.accessAllowed ? 'block' : 'none';\n",
              "\n",
              "      async function convertToInteractive(key) {\n",
              "        const element = document.querySelector('#df-b0f73520-7c5e-47c0-82c0-f324c1153124');\n",
              "        const dataTable =\n",
              "          await google.colab.kernel.invokeFunction('convertToInteractive',\n",
              "                                                    [key], {});\n",
              "        if (!dataTable) return;\n",
              "\n",
              "        const docLinkHtml = 'Like what you see? Visit the ' +\n",
              "          '<a target=\"_blank\" href=https://colab.research.google.com/notebooks/data_table.ipynb>data table notebook</a>'\n",
              "          + ' to learn more about interactive tables.';\n",
              "        element.innerHTML = '';\n",
              "        dataTable['output_type'] = 'display_data';\n",
              "        await google.colab.output.renderOutput(dataTable, element);\n",
              "        const docLink = document.createElement('div');\n",
              "        docLink.innerHTML = docLinkHtml;\n",
              "        element.appendChild(docLink);\n",
              "      }\n",
              "    </script>\n",
              "  </div>\n",
              "\n",
              "\n",
              "<div id=\"df-b558ebf5-ae46-47d8-9c82-2d48af37de08\">\n",
              "  <button class=\"colab-df-quickchart\" onclick=\"quickchart('df-b558ebf5-ae46-47d8-9c82-2d48af37de08')\"\n",
              "            title=\"Suggest charts\"\n",
              "            style=\"display:none;\">\n",
              "\n",
              "<svg xmlns=\"http://www.w3.org/2000/svg\" height=\"24px\"viewBox=\"0 0 24 24\"\n",
              "     width=\"24px\">\n",
              "    <g>\n",
              "        <path d=\"M19 3H5c-1.1 0-2 .9-2 2v14c0 1.1.9 2 2 2h14c1.1 0 2-.9 2-2V5c0-1.1-.9-2-2-2zM9 17H7v-7h2v7zm4 0h-2V7h2v10zm4 0h-2v-4h2v4z\"/>\n",
              "    </g>\n",
              "</svg>\n",
              "  </button>\n",
              "\n",
              "<style>\n",
              "  .colab-df-quickchart {\n",
              "      --bg-color: #E8F0FE;\n",
              "      --fill-color: #1967D2;\n",
              "      --hover-bg-color: #E2EBFA;\n",
              "      --hover-fill-color: #174EA6;\n",
              "      --disabled-fill-color: #AAA;\n",
              "      --disabled-bg-color: #DDD;\n",
              "  }\n",
              "\n",
              "  [theme=dark] .colab-df-quickchart {\n",
              "      --bg-color: #3B4455;\n",
              "      --fill-color: #D2E3FC;\n",
              "      --hover-bg-color: #434B5C;\n",
              "      --hover-fill-color: #FFFFFF;\n",
              "      --disabled-bg-color: #3B4455;\n",
              "      --disabled-fill-color: #666;\n",
              "  }\n",
              "\n",
              "  .colab-df-quickchart {\n",
              "    background-color: var(--bg-color);\n",
              "    border: none;\n",
              "    border-radius: 50%;\n",
              "    cursor: pointer;\n",
              "    display: none;\n",
              "    fill: var(--fill-color);\n",
              "    height: 32px;\n",
              "    padding: 0;\n",
              "    width: 32px;\n",
              "  }\n",
              "\n",
              "  .colab-df-quickchart:hover {\n",
              "    background-color: var(--hover-bg-color);\n",
              "    box-shadow: 0 1px 2px rgba(60, 64, 67, 0.3), 0 1px 3px 1px rgba(60, 64, 67, 0.15);\n",
              "    fill: var(--button-hover-fill-color);\n",
              "  }\n",
              "\n",
              "  .colab-df-quickchart-complete:disabled,\n",
              "  .colab-df-quickchart-complete:disabled:hover {\n",
              "    background-color: var(--disabled-bg-color);\n",
              "    fill: var(--disabled-fill-color);\n",
              "    box-shadow: none;\n",
              "  }\n",
              "\n",
              "  .colab-df-spinner {\n",
              "    border: 2px solid var(--fill-color);\n",
              "    border-color: transparent;\n",
              "    border-bottom-color: var(--fill-color);\n",
              "    animation:\n",
              "      spin 1s steps(1) infinite;\n",
              "  }\n",
              "\n",
              "  @keyframes spin {\n",
              "    0% {\n",
              "      border-color: transparent;\n",
              "      border-bottom-color: var(--fill-color);\n",
              "      border-left-color: var(--fill-color);\n",
              "    }\n",
              "    20% {\n",
              "      border-color: transparent;\n",
              "      border-left-color: var(--fill-color);\n",
              "      border-top-color: var(--fill-color);\n",
              "    }\n",
              "    30% {\n",
              "      border-color: transparent;\n",
              "      border-left-color: var(--fill-color);\n",
              "      border-top-color: var(--fill-color);\n",
              "      border-right-color: var(--fill-color);\n",
              "    }\n",
              "    40% {\n",
              "      border-color: transparent;\n",
              "      border-right-color: var(--fill-color);\n",
              "      border-top-color: var(--fill-color);\n",
              "    }\n",
              "    60% {\n",
              "      border-color: transparent;\n",
              "      border-right-color: var(--fill-color);\n",
              "    }\n",
              "    80% {\n",
              "      border-color: transparent;\n",
              "      border-right-color: var(--fill-color);\n",
              "      border-bottom-color: var(--fill-color);\n",
              "    }\n",
              "    90% {\n",
              "      border-color: transparent;\n",
              "      border-bottom-color: var(--fill-color);\n",
              "    }\n",
              "  }\n",
              "</style>\n",
              "\n",
              "  <script>\n",
              "    async function quickchart(key) {\n",
              "      const quickchartButtonEl =\n",
              "        document.querySelector('#' + key + ' button');\n",
              "      quickchartButtonEl.disabled = true;  // To prevent multiple clicks.\n",
              "      quickchartButtonEl.classList.add('colab-df-spinner');\n",
              "      try {\n",
              "        const charts = await google.colab.kernel.invokeFunction(\n",
              "            'suggestCharts', [key], {});\n",
              "      } catch (error) {\n",
              "        console.error('Error during call to suggestCharts:', error);\n",
              "      }\n",
              "      quickchartButtonEl.classList.remove('colab-df-spinner');\n",
              "      quickchartButtonEl.classList.add('colab-df-quickchart-complete');\n",
              "    }\n",
              "    (() => {\n",
              "      let quickchartButtonEl =\n",
              "        document.querySelector('#df-b558ebf5-ae46-47d8-9c82-2d48af37de08 button');\n",
              "      quickchartButtonEl.style.display =\n",
              "        google.colab.kernel.accessAllowed ? 'block' : 'none';\n",
              "    })();\n",
              "  </script>\n",
              "</div>\n",
              "    </div>\n",
              "  </div>\n"
            ],
            "application/vnd.google.colaboratory.intrinsic+json": {
              "type": "dataframe",
              "variable_name": "df",
              "summary": "{\n  \"name\": \"df\",\n  \"rows\": 321,\n  \"fields\": [\n    {\n      \"column\": \"text\",\n      \"properties\": {\n        \"dtype\": \"string\",\n        \"num_unique_values\": 246,\n        \"samples\": [\n          \"b\\\"Bitch you'll commit suicide\\\"\",\n          \"b'RT @Kon__K: Our PM has told us what we\\\\xe2\\\\x80\\\\x99ve known for 25 yrs. We\\\\xe2\\\\x80\\\\x99ve always had plenty of room for more refugees in Australia. Instead we\\\\xe2\\\\x80\\\\x99ve t\\\\xe2\\\\x80\\\\xa6'\",\n          \"b'@Anna90523382 context.. he said she threatened suicide if he left'\"\n        ],\n        \"semantic_type\": \"\",\n        \"description\": \"\"\n      }\n    },\n    {\n      \"column\": \"sentiment\",\n      \"properties\": {\n        \"dtype\": \"number\",\n        \"std\": 0,\n        \"min\": 0,\n        \"max\": 1,\n        \"num_unique_values\": 2,\n        \"samples\": [\n          1,\n          0\n        ],\n        \"semantic_type\": \"\",\n        \"description\": \"\"\n      }\n    }\n  ]\n}"
            }
          },
          "metadata": {},
          "execution_count": 8
        }
      ]
    },
    {
      "cell_type": "markdown",
      "source": [
        "**APPENDING DATA IN ONE DATAFRAME**"
      ],
      "metadata": {
        "id": "JHZoImF0FjYO"
      }
    },
    {
      "cell_type": "code",
      "execution_count": null,
      "metadata": {
        "colab": {
          "base_uri": "https://localhost:8080/"
        },
        "outputId": "5f5b0b83-0ed5-46dc-c75d-5f1726a7909f",
        "id": "a2Z8VSD_hQhV"
      },
      "outputs": [
        {
          "output_type": "stream",
          "name": "stdout",
          "text": [
            "Shape of df1: (386, 2)\n",
            "Shape of df3: (785, 2)\n"
          ]
        }
      ],
      "source": [
        "import pandas as pd\n",
        "\n",
        "# Assuming df, df1, and df2 are already defined\n",
        "\n",
        "# Check DataFrame Structure\n",
        "assert isinstance(df, pd.DataFrame), \"df is not a pandas DataFrame\"\n",
        "assert isinstance(df1, pd.DataFrame), \"df1 is not a pandas DataFrame\"\n",
        "assert isinstance(df2, pd.DataFrame), \"df2 is not a pandas DataFrame\"\n",
        "\n",
        "# Check Column Names\n",
        "assert 'text' in df1.columns and 'sentiment' in df1.columns, \"Columns 'text' and 'sentiment' not found in df1\"\n",
        "assert 'text' in df2.columns and 'sentiment' in df2.columns, \"Columns 'text' and 'sentiment' not found in df2\"\n",
        "\n",
        "# Make a copy of df\n",
        "df3 = df.copy()\n",
        "\n",
        "# Append df1 to df3\n",
        "for ind in df1.index:\n",
        "    df3 = pd.concat([df3, pd.DataFrame({'text': [df1['text'][ind]], 'sentiment': [df1['sentiment'][ind]]})], ignore_index=True)\n",
        "\n",
        "# Append df2 to df3\n",
        "for ind in df2.index:\n",
        "    df3 = pd.concat([df3, pd.DataFrame({'text': [df2['text'][ind]], 'sentiment': [df2['sentiment'][ind]]})], ignore_index=True)\n",
        "\n",
        "print(\"Shape of df1:\", df1.shape)\n",
        "print(\"Shape of df3:\", df3.shape)\n",
        "\n"
      ]
    },
    {
      "cell_type": "code",
      "execution_count": null,
      "metadata": {
        "colab": {
          "base_uri": "https://localhost:8080/"
        },
        "id": "xzs93D7OKCps",
        "outputId": "effea93e-ed9e-496e-db78-25a77893ba0f"
      },
      "outputs": [
        {
          "output_type": "execute_result",
          "data": {
            "text/plain": [
              "0      0\n",
              "1      0\n",
              "2      0\n",
              "3      0\n",
              "4      0\n",
              "      ..\n",
              "780    1\n",
              "781    1\n",
              "782    1\n",
              "783    1\n",
              "784    1\n",
              "Name: sentiment, Length: 785, dtype: int64"
            ]
          },
          "metadata": {},
          "execution_count": 7
        }
      ],
      "source": [
        "df3['sentiment']"
      ]
    },
    {
      "cell_type": "code",
      "execution_count": null,
      "metadata": {
        "id": "hf3a8FwPSKFQ"
      },
      "outputs": [],
      "source": [
        "# Write the DataFrame to a CSV file\n",
        "df3['sentiment'].to_csv('label.csv', index=False)"
      ]
    },
    {
      "cell_type": "code",
      "execution_count": null,
      "metadata": {
        "colab": {
          "base_uri": "https://localhost:8080/",
          "height": 35
        },
        "id": "H9aCzVfIZ5Rv",
        "outputId": "e5832281-2d8d-444c-cb7f-b6cf5c10e617"
      },
      "outputs": [
        {
          "output_type": "execute_result",
          "data": {
            "text/plain": [
              "'  Bangladesh Protests Sexual Harassment as Victims Commit Suicide'"
            ],
            "application/vnd.google.colaboratory.intrinsic+json": {
              "type": "string"
            }
          },
          "metadata": {},
          "execution_count": 9
        }
      ],
      "source": [
        "df3['text'][418]"
      ]
    },
    {
      "cell_type": "code",
      "execution_count": null,
      "metadata": {
        "id": "7CexRyHwEBZW"
      },
      "outputs": [],
      "source": [
        "def preprocess(paragraph):\n",
        "    text = re.sub(r'\\[[0-9]*\\]',' ',paragraph)\n",
        "    text = re.sub(r'\\s+',' ',text)\n",
        "    text = text.lower()\n",
        "    text = re.sub(r'\\d',' ',text)\n",
        "    text = re.sub(r'\\s+',' ',text)\n",
        "    return text"
      ]
    },
    {
      "cell_type": "code",
      "execution_count": null,
      "metadata": {
        "id": "Cs0HSjBN37KQ"
      },
      "outputs": [],
      "source": [
        "def sent_tok(paragraph):\n",
        "  # sentences tokenize\n",
        "  sentences = nltk.sent_tokenize(paragraph)\n",
        "  # print(sentences)\n",
        "  # tf_sen = sentences\n",
        "  return sentences"
      ]
    },
    {
      "cell_type": "code",
      "source": [
        "# Function to convert NLTK POS tags to WordNet POS tags\n",
        "def get_wordnet_pos(treebank_tag):\n",
        "    if treebank_tag.startswith('J'):\n",
        "        return wordnet.ADJ\n",
        "    elif treebank_tag.startswith('V'):\n",
        "        return wordnet.VERB\n",
        "    elif treebank_tag.startswith('N'):\n",
        "        return wordnet.NOUN\n",
        "    elif treebank_tag.startswith('R'):\n",
        "        return wordnet.ADV\n",
        "    else:\n",
        "        return None  # return None if no mapping found"
      ],
      "metadata": {
        "id": "K3S5U3k-8XO3"
      },
      "execution_count": null,
      "outputs": []
    },
    {
      "cell_type": "code",
      "source": [
        "def process_data(text):\n",
        "    # Initialize lemmatizer\n",
        "    lemmatizer = WordNetLemmatizer()\n",
        "\n",
        "    # Tokenize the text\n",
        "    tokens = word_tokenize(text)\n",
        "\n",
        "    # Get Part-of-Speech tags for each token\n",
        "    pos_tags = nltk.pos_tag(tokens)\n",
        "\n",
        "    # Lemmatize each token with its POS tag\n",
        "    lemmatized_tokens = []\n",
        "    for token, pos_tag in pos_tags:\n",
        "        wordnet_pos = get_wordnet_pos(pos_tag) or wordnet.NOUN  # Assume noun as default\n",
        "        lemmatized_token = lemmatizer.lemmatize(token, pos=wordnet_pos)\n",
        "        lemmatized_tokens.append(lemmatized_token)\n",
        "\n",
        "    return lemmatized_tokens"
      ],
      "metadata": {
        "id": "EtNvMyS646Fy"
      },
      "execution_count": null,
      "outputs": []
    },
    {
      "cell_type": "code",
      "execution_count": null,
      "metadata": {
        "colab": {
          "base_uri": "https://localhost:8080/",
          "height": 53
        },
        "id": "Ee-ugv-HF_lu",
        "outputId": "2bb30ccf-4acd-412a-80ee-5cdaaae8f6d8"
      },
      "outputs": [
        {
          "output_type": "execute_result",
          "data": {
            "text/plain": [
              "'I did the same thing a few days ago but the pain was unbearable and i somehow chickened out. I’m sick and tired of fighting my demons and having to work and put effort for a life that I don’t even want. I’m going to be gone by the end of this year enough is enough.'"
            ],
            "application/vnd.google.colaboratory.intrinsic+json": {
              "type": "string"
            }
          },
          "metadata": {},
          "execution_count": 14
        }
      ],
      "source": [
        "df3['text'] = df3['text'].astype(str)\n",
        "df3['text'][510]"
      ]
    },
    {
      "cell_type": "code",
      "execution_count": null,
      "metadata": {
        "colab": {
          "base_uri": "https://localhost:8080/",
          "height": 53
        },
        "id": "4D8xPDQo3Vwf",
        "outputId": "7b0fa32f-c991-49f7-9243-148c370f8be9"
      },
      "outputs": [
        {
          "output_type": "execute_result",
          "data": {
            "text/plain": [
              "'I did the same thing a few days ago but the pain was unbearable and i somehow chickened out. I’m sick and tired of fighting my demons and having to work and put effort for a life that I don’t even want. I’m going to be gone by the end of this year enough is enough.'"
            ],
            "application/vnd.google.colaboratory.intrinsic+json": {
              "type": "string"
            }
          },
          "metadata": {},
          "execution_count": 15
        }
      ],
      "source": [
        "df3['cleaned'] = df3['text'].apply(func = preprocess)\n",
        "df3['text'][510]"
      ]
    },
    {
      "cell_type": "code",
      "source": [
        "from nltk.corpus import wordnet"
      ],
      "metadata": {
        "id": "An04qI9K9Djn"
      },
      "execution_count": null,
      "outputs": []
    },
    {
      "cell_type": "code",
      "source": [
        "df3['cleaned'] = df3.cleaned.apply(func = process_data)\n",
        "df3['cleaned'][510]"
      ],
      "metadata": {
        "colab": {
          "base_uri": "https://localhost:8080/"
        },
        "id": "ny2wbloK86wt",
        "outputId": "9a816946-342d-4e69-bba2-ded955b5f951"
      },
      "execution_count": null,
      "outputs": [
        {
          "output_type": "execute_result",
          "data": {
            "text/plain": [
              "['i',\n",
              " 'do',\n",
              " 'the',\n",
              " 'same',\n",
              " 'thing',\n",
              " 'a',\n",
              " 'few',\n",
              " 'day',\n",
              " 'ago',\n",
              " 'but',\n",
              " 'the',\n",
              " 'pain',\n",
              " 'be',\n",
              " 'unbearable',\n",
              " 'and',\n",
              " 'i',\n",
              " 'somehow',\n",
              " 'chickened',\n",
              " 'out',\n",
              " '.',\n",
              " 'i',\n",
              " '’',\n",
              " 'm',\n",
              " 'sick',\n",
              " 'and',\n",
              " 'tire',\n",
              " 'of',\n",
              " 'fight',\n",
              " 'my',\n",
              " 'demon',\n",
              " 'and',\n",
              " 'have',\n",
              " 'to',\n",
              " 'work',\n",
              " 'and',\n",
              " 'put',\n",
              " 'effort',\n",
              " 'for',\n",
              " 'a',\n",
              " 'life',\n",
              " 'that',\n",
              " 'i',\n",
              " 'don',\n",
              " '’',\n",
              " 't',\n",
              " 'even',\n",
              " 'want',\n",
              " '.',\n",
              " 'i',\n",
              " '’',\n",
              " 'm',\n",
              " 'go',\n",
              " 'to',\n",
              " 'be',\n",
              " 'go',\n",
              " 'by',\n",
              " 'the',\n",
              " 'end',\n",
              " 'of',\n",
              " 'this',\n",
              " 'year',\n",
              " 'enough',\n",
              " 'be',\n",
              " 'enough',\n",
              " '.']"
            ]
          },
          "metadata": {},
          "execution_count": 17
        }
      ]
    },
    {
      "cell_type": "code",
      "execution_count": null,
      "metadata": {
        "id": "krUccSO-3xFD"
      },
      "outputs": [],
      "source": [
        "# df3['cleaned'] = df3.cleaned.apply(func = sent_tok)\n",
        "# df3['cleaned'][510]"
      ]
    },
    {
      "cell_type": "code",
      "execution_count": null,
      "metadata": {
        "colab": {
          "base_uri": "https://localhost:8080/",
          "height": 35
        },
        "id": "fTBdKNT1SKGp",
        "outputId": "f25263d3-e967-4c04-b93a-77bf251ab6ad"
      },
      "outputs": [
        {
          "output_type": "execute_result",
          "data": {
            "text/plain": [
              "'  How would your life be simply without music?'"
            ],
            "application/vnd.google.colaboratory.intrinsic+json": {
              "type": "string"
            }
          },
          "metadata": {},
          "execution_count": 18
        }
      ],
      "source": [
        "df3['text'][420]"
      ]
    },
    {
      "cell_type": "code",
      "execution_count": null,
      "metadata": {
        "colab": {
          "base_uri": "https://localhost:8080/"
        },
        "id": "u-LoAHQCnpUM",
        "outputId": "95042171-d975-44ca-e4c1-e67ee1efe7f2"
      },
      "outputs": [
        {
          "output_type": "execute_result",
          "data": {
            "text/plain": [
              "['[',\n",
              " 'tumblr',\n",
              " ']',\n",
              " 'sing',\n",
              " 'a',\n",
              " 'song',\n",
              " 'of',\n",
              " 'sixpenceee',\n",
              " ':',\n",
              " 'the',\n",
              " 'tale',\n",
              " 'of',\n",
              " 'fake',\n",
              " 'therapy',\n",
              " 'scam',\n",
              " 'and',\n",
              " 'child',\n",
              " 'slavery']"
            ]
          },
          "metadata": {},
          "execution_count": 19
        }
      ],
      "source": [
        "df3['cleaned'][442]"
      ]
    },
    {
      "cell_type": "code",
      "execution_count": null,
      "metadata": {
        "colab": {
          "base_uri": "https://localhost:8080/"
        },
        "id": "1OyEpfyoIDRR",
        "outputId": "c1b6d861-005a-43e6-c0b0-9deecc5f6395"
      },
      "outputs": [
        {
          "output_type": "execute_result",
          "data": {
            "text/plain": [
              "(785, 3)"
            ]
          },
          "metadata": {},
          "execution_count": 20
        }
      ],
      "source": [
        "df3.shape"
      ]
    },
    {
      "cell_type": "code",
      "execution_count": null,
      "metadata": {
        "id": "ND7vbW2m7rPH"
      },
      "outputs": [],
      "source": [
        "import os\n",
        "from sklearn.feature_extraction.text import TfidfVectorizer\n",
        "from sklearn.decomposition import TruncatedSVD"
      ]
    },
    {
      "cell_type": "code",
      "execution_count": null,
      "metadata": {
        "colab": {
          "base_uri": "https://localhost:8080/"
        },
        "id": "hODL9JH3_6t9",
        "outputId": "94a3ae90-f818-43a1-de11-0796649a65ff"
      },
      "outputs": [
        {
          "output_type": "stream",
          "name": "stdout",
          "text": [
            "Requirement already satisfied: tensorflow==2.15.1 in /usr/local/lib/python3.10/dist-packages (2.15.1)\n",
            "Requirement already satisfied: absl-py>=1.0.0 in /usr/local/lib/python3.10/dist-packages (from tensorflow==2.15.1) (1.4.0)\n",
            "Requirement already satisfied: astunparse>=1.6.0 in /usr/local/lib/python3.10/dist-packages (from tensorflow==2.15.1) (1.6.3)\n",
            "Requirement already satisfied: flatbuffers>=23.5.26 in /usr/local/lib/python3.10/dist-packages (from tensorflow==2.15.1) (24.3.25)\n",
            "Requirement already satisfied: gast!=0.5.0,!=0.5.1,!=0.5.2,>=0.2.1 in /usr/local/lib/python3.10/dist-packages (from tensorflow==2.15.1) (0.5.4)\n",
            "Requirement already satisfied: google-pasta>=0.1.1 in /usr/local/lib/python3.10/dist-packages (from tensorflow==2.15.1) (0.2.0)\n",
            "Requirement already satisfied: h5py>=2.9.0 in /usr/local/lib/python3.10/dist-packages (from tensorflow==2.15.1) (3.9.0)\n",
            "Requirement already satisfied: libclang>=13.0.0 in /usr/local/lib/python3.10/dist-packages (from tensorflow==2.15.1) (18.1.1)\n",
            "Requirement already satisfied: ml-dtypes~=0.3.1 in /usr/local/lib/python3.10/dist-packages (from tensorflow==2.15.1) (0.3.2)\n",
            "Requirement already satisfied: numpy<2.0.0,>=1.23.5 in /usr/local/lib/python3.10/dist-packages (from tensorflow==2.15.1) (1.25.2)\n",
            "Requirement already satisfied: opt-einsum>=2.3.2 in /usr/local/lib/python3.10/dist-packages (from tensorflow==2.15.1) (3.3.0)\n",
            "Requirement already satisfied: packaging in /usr/local/lib/python3.10/dist-packages (from tensorflow==2.15.1) (24.0)\n",
            "Requirement already satisfied: protobuf!=4.21.0,!=4.21.1,!=4.21.2,!=4.21.3,!=4.21.4,!=4.21.5,<5.0.0dev,>=3.20.3 in /usr/local/lib/python3.10/dist-packages (from tensorflow==2.15.1) (3.20.3)\n",
            "Requirement already satisfied: setuptools in /usr/local/lib/python3.10/dist-packages (from tensorflow==2.15.1) (67.7.2)\n",
            "Requirement already satisfied: six>=1.12.0 in /usr/local/lib/python3.10/dist-packages (from tensorflow==2.15.1) (1.16.0)\n",
            "Requirement already satisfied: termcolor>=1.1.0 in /usr/local/lib/python3.10/dist-packages (from tensorflow==2.15.1) (2.4.0)\n",
            "Requirement already satisfied: typing-extensions>=3.6.6 in /usr/local/lib/python3.10/dist-packages (from tensorflow==2.15.1) (4.12.0)\n",
            "Requirement already satisfied: wrapt<1.15,>=1.11.0 in /usr/local/lib/python3.10/dist-packages (from tensorflow==2.15.1) (1.14.1)\n",
            "Requirement already satisfied: tensorflow-io-gcs-filesystem>=0.23.1 in /usr/local/lib/python3.10/dist-packages (from tensorflow==2.15.1) (0.37.0)\n",
            "Requirement already satisfied: grpcio<2.0,>=1.24.3 in /usr/local/lib/python3.10/dist-packages (from tensorflow==2.15.1) (1.64.0)\n",
            "Requirement already satisfied: tensorboard<2.16,>=2.15 in /usr/local/lib/python3.10/dist-packages (from tensorflow==2.15.1) (2.15.2)\n",
            "Requirement already satisfied: tensorflow-estimator<2.16,>=2.15.0 in /usr/local/lib/python3.10/dist-packages (from tensorflow==2.15.1) (2.15.0)\n",
            "Requirement already satisfied: keras<2.16,>=2.15.0 in /usr/local/lib/python3.10/dist-packages (from tensorflow==2.15.1) (2.15.0)\n",
            "Requirement already satisfied: wheel<1.0,>=0.23.0 in /usr/local/lib/python3.10/dist-packages (from astunparse>=1.6.0->tensorflow==2.15.1) (0.43.0)\n",
            "Requirement already satisfied: google-auth<3,>=1.6.3 in /usr/local/lib/python3.10/dist-packages (from tensorboard<2.16,>=2.15->tensorflow==2.15.1) (2.27.0)\n",
            "Requirement already satisfied: google-auth-oauthlib<2,>=0.5 in /usr/local/lib/python3.10/dist-packages (from tensorboard<2.16,>=2.15->tensorflow==2.15.1) (1.2.0)\n",
            "Requirement already satisfied: markdown>=2.6.8 in /usr/local/lib/python3.10/dist-packages (from tensorboard<2.16,>=2.15->tensorflow==2.15.1) (3.6)\n",
            "Requirement already satisfied: requests<3,>=2.21.0 in /usr/local/lib/python3.10/dist-packages (from tensorboard<2.16,>=2.15->tensorflow==2.15.1) (2.31.0)\n",
            "Requirement already satisfied: tensorboard-data-server<0.8.0,>=0.7.0 in /usr/local/lib/python3.10/dist-packages (from tensorboard<2.16,>=2.15->tensorflow==2.15.1) (0.7.2)\n",
            "Requirement already satisfied: werkzeug>=1.0.1 in /usr/local/lib/python3.10/dist-packages (from tensorboard<2.16,>=2.15->tensorflow==2.15.1) (3.0.3)\n",
            "Requirement already satisfied: cachetools<6.0,>=2.0.0 in /usr/local/lib/python3.10/dist-packages (from google-auth<3,>=1.6.3->tensorboard<2.16,>=2.15->tensorflow==2.15.1) (5.3.3)\n",
            "Requirement already satisfied: pyasn1-modules>=0.2.1 in /usr/local/lib/python3.10/dist-packages (from google-auth<3,>=1.6.3->tensorboard<2.16,>=2.15->tensorflow==2.15.1) (0.4.0)\n",
            "Requirement already satisfied: rsa<5,>=3.1.4 in /usr/local/lib/python3.10/dist-packages (from google-auth<3,>=1.6.3->tensorboard<2.16,>=2.15->tensorflow==2.15.1) (4.9)\n",
            "Requirement already satisfied: requests-oauthlib>=0.7.0 in /usr/local/lib/python3.10/dist-packages (from google-auth-oauthlib<2,>=0.5->tensorboard<2.16,>=2.15->tensorflow==2.15.1) (1.3.1)\n",
            "Requirement already satisfied: charset-normalizer<4,>=2 in /usr/local/lib/python3.10/dist-packages (from requests<3,>=2.21.0->tensorboard<2.16,>=2.15->tensorflow==2.15.1) (3.3.2)\n",
            "Requirement already satisfied: idna<4,>=2.5 in /usr/local/lib/python3.10/dist-packages (from requests<3,>=2.21.0->tensorboard<2.16,>=2.15->tensorflow==2.15.1) (3.7)\n",
            "Requirement already satisfied: urllib3<3,>=1.21.1 in /usr/local/lib/python3.10/dist-packages (from requests<3,>=2.21.0->tensorboard<2.16,>=2.15->tensorflow==2.15.1) (2.0.7)\n",
            "Requirement already satisfied: certifi>=2017.4.17 in /usr/local/lib/python3.10/dist-packages (from requests<3,>=2.21.0->tensorboard<2.16,>=2.15->tensorflow==2.15.1) (2024.2.2)\n",
            "Requirement already satisfied: MarkupSafe>=2.1.1 in /usr/local/lib/python3.10/dist-packages (from werkzeug>=1.0.1->tensorboard<2.16,>=2.15->tensorflow==2.15.1) (2.1.5)\n",
            "Requirement already satisfied: pyasn1<0.7.0,>=0.4.6 in /usr/local/lib/python3.10/dist-packages (from pyasn1-modules>=0.2.1->google-auth<3,>=1.6.3->tensorboard<2.16,>=2.15->tensorflow==2.15.1) (0.6.0)\n",
            "Requirement already satisfied: oauthlib>=3.0.0 in /usr/local/lib/python3.10/dist-packages (from requests-oauthlib>=0.7.0->google-auth-oauthlib<2,>=0.5->tensorboard<2.16,>=2.15->tensorflow==2.15.1) (3.2.2)\n"
          ]
        }
      ],
      "source": [
        "!pip install tensorflow==2.15.1"
      ]
    },
    {
      "cell_type": "code",
      "execution_count": null,
      "metadata": {
        "id": "bX_ITkzVUTSv"
      },
      "outputs": [],
      "source": [
        "# import gensim.models.keyedvectors as word2vec #need to use due to depreceated model\n",
        "from nltk.tokenize import RegexpTokenizer\n",
        "from nltk.corpus import stopwords\n",
        "\n",
        "from keras.models import Sequential\n",
        "from tensorflow.keras.layers import Dense\n",
        "# from keras.layers.embeddings import Embedding\n",
        "from keras.layers import Embedding\n",
        "# from keras.preprocessing.sequence import pad_sequences\n",
        "from keras.utils import pad_sequences\n",
        "# from keras.preprocessing.text import Tokenizer\n",
        "from keras.layers import LSTM\n",
        "\n",
        "import numpy as np\n",
        "import pandas as pd\n",
        "import matplotlib.pyplot as plt\n",
        "\n",
        "from sklearn.model_selection import train_test_split\n",
        "from sklearn.metrics import confusion_matrix, roc_curve,  roc_auc_score, classification_report\n",
        "\n",
        "import re\n",
        "import logging"
      ]
    },
    {
      "cell_type": "markdown",
      "source": [
        "**DATA PRE-PROCESSING, TF-IDF AND LSI**"
      ],
      "metadata": {
        "id": "7Xu2-64qF37r"
      }
    },
    {
      "cell_type": "code",
      "execution_count": null,
      "metadata": {
        "colab": {
          "base_uri": "https://localhost:8080/"
        },
        "id": "RZ7dGZuR6-Ey",
        "outputId": "4081bf5d-0801-44b0-bb32-b092f9dafe58"
      },
      "outputs": [
        {
          "output_type": "stream",
          "name": "stdout",
          "text": [
            "Topic 0:  ['russia', 'path', 'bound']\n",
            "Topic 1:  ['month', 'universe', 'path']\n",
            "Topic 0:  ['world', 'felt', 'xe']\n",
            "Topic 1:  ['die', 'ango', 'dazai']\n",
            "Topic 0:  ['capitol', 'xa', 'rt']\n",
            "Topic 1:  ['foster', 'hear', 'ennui']\n",
            "Topic 0:  ['drive', 'suicide', 'alan_g_smith_bc']\n",
            "Topic 1:  ['alan_g_smith_bc', 'diana_murphy', 'drive']\n",
            "Topic 0:  ['pakistan', 'minister', 'bangladesh']\n",
            "Topic 1:  ['forum', 'xa', 'foreign']\n",
            "Topic 0:  ['servant', 'think', 'serve']\n",
            "Topic 1:  ['sexual', 'need', 'commit']\n",
            "Topic 0:  ['xe', 'know', 'yr']\n",
            "Topic 1:  ['ve', 'refugee', 'room']\n",
            "Topic 0:  ['krauseforiowa', 'cult', 'vaccine']\n",
            "Topic 1:  ['vaccine', 'estimate', 'koolaid']\n",
            "Topic 0:  ['releasetheayercut', 'xf', 'vafxcvzyao']\n",
            "Topic 1:  ['http', 'suicide', 'scene']\n",
            "Topic 0:  ['suicide', 'xe', 'thought']\n",
            "Topic 1:  ['yoonkookau', 'meet', 'suicide']\n",
            "Topic 0:  ['xe', 'le', 'stop']\n",
            "Topic 1:  ['xa', 'create', 'ncorporation']\n",
            "Topic 0:  ['matter', 'word', 'young']\n",
            "Topic 1:  ['young', 'matter', 'consider']\n",
            "Topic 0:  ['data', 'outright', 'measurable']\n",
            "Topic 1:  ['trupunzel', 'newshubpolitics', 'disincline']\n",
            "Topic 0:  ['http', 'ypataks', 'eo']\n",
            "Topic 1:  ['eo', 'couldn', 'xe']\n",
            "Topic 0:  ['child', 'bully', 'come']\n",
            "Topic 1:  ['bullying', 'snitching', 'say']\n",
            "Topic 0:  ['xa', 'suicide', 'xf']\n",
            "Topic 1:  ['teen', 'suicide', 'xf']\n",
            "Topic 0:  ['xe', 'politi', 'regime']\n",
            "Topic 1:  ['rt', 'collectively', 'legal']\n",
            "Topic 0:  ['http', 'sunni', 'jihadwatchrs']\n",
            "Topic 1:  ['mosque', 'suicide', 'shi']\n",
            "Topic 0:  ['series', 'sloppy', 'punish']\n",
            "Topic 1:  ['sloppy', 'ixylzu', 'bangladesh']\n",
            "Topic 0:  ['xe', 'couldn', 'suicide']\n",
            "Topic 1:  ['suicide', 'live', 'addr']\n",
            "Topic 0:  ['suicide', 'xf', 'day']\n",
            "Topic 1:  ['day', 'suicideawareness', 'attempted']\n",
            "Topic 0:  ['people', 'nation', 'suicide']\n",
            "Topic 1:  ['cut', 'indias', 'arm']\n",
            "Topic 0:  ['stand', 'likely', 'person']\n",
            "Topic 1:  ['energy', 'stand', 'realize']\n",
            "Topic 0:  ['china', 'paulsorrentino', 'vietnam']\n",
            "Topic 1:  ['vietnam', 'bangladesh', 'profit']\n",
            "Topic 0:  ['xa', 'suicide', 'kaikaeya']\n",
            "Topic 1:  ['bird', 'kaikaeya', 'like']\n",
            "Topic 0:  ['xe', 'politi', 'regime']\n",
            "Topic 1:  ['rt', 'collectively', 'legal']\n",
            "Topic 0:  ['pressfreedom', 'unhumanrights', 'bangladesh']\n",
            "Topic 1:  ['sabriaballand', 'bangladesh', 'freedomofspeech']\n",
            "Topic 0:  ['noh', 'suicide', 'remove']\n",
            "Topic 1:  ['suicide', 'lgbtq', 'texas']\n",
            "Topic 0:  ['bad', 'crisis', 'people']\n",
            "Topic 1:  ['bad', 'wheat', 'soar']\n",
            "Topic 0:  ['xe', 'politi', 'regime']\n",
            "Topic 1:  ['rt', 'collectively', 'legal']\n",
            "Topic 0:  ['real', 'anti', 'lgbtq']\n",
            "Topic 1:  ['establish', 'xa', 'cause']\n",
            "Topic 0:  ['http', 'sunni', 'jihadwatchrs']\n",
            "Topic 1:  ['mosque', 'suicide', 'shi']\n",
            "Topic 0:  ['people', 'suicide', 've']\n",
            "Topic 1:  ['suicide', 'realize', 'say']\n",
            "Topic 0:  ['drive', 'trailer', 'xa']\n",
            "Topic 1:  ['man', 'demonic', 'rt']\n",
            "Topic 0:  ['psychinout', 'jschildkraut', 'thanks']\n",
            "Topic 1:  ['position', 'suicide', 'craigjbryan']\n",
            "Topic 0:  ['xe', 'know', 'yr']\n",
            "Topic 1:  ['ve', 'refugee', 'room']\n",
            "Topic 0:  ['xa', 'ntwo', 'fascists']\n",
            "Topic 1:  ['surround', 'day', 'mistress']\n",
            "Topic 0:  ['commit', 'bitch', 'll']\n",
            "Topic 1:  ['ll', 'bitch', 'commit']\n",
            "Topic 0:  ['therapy', 'really', 'run']\n",
            "Topic 1:  ['assist', 'equine', 'gett']\n",
            "Topic 0:  ['strongly', 'gh_hussainpk', 'condemn']\n",
            "Topic 1:  ['condemn', 'sharif', 'opposition']\n",
            "Topic 0:  ['xe', 'dano', 'rid']\n",
            "Topic 1:  ['rt', 'tell', 'spatteranalyst']\n",
            "Topic 0:  ['gun', 'violence', 'criminal']\n",
            "Topic 1:  ['violence', 'criminal', 'tarrasimmons']\n",
            "Topic 0:  ['xf', 'xba', 'leave']\n",
            "Topic 1:  ['xa', 'nlove', 'hour']\n",
            "Topic 0:  ['like', 'end', 'shaneellall']\n",
            "Topic 1:  ['conversion', 'xe', 'shaneellall']\n",
            "Topic 0:  ['woman', 'firstpost', 'score']\n",
            "Topic 1:  ['world', 'bangladesh', 'cricket']\n",
            "Topic 0:  ['real', 'anti', 'lgbtq']\n",
            "Topic 1:  ['establish', 'xa', 'cause']\n",
            "Topic 0:  ['mission', 'russia', 'syrians']\n",
            "Topic 1:  ['kyivindependent', 'lie', 'mission']\n",
            "Topic 0:  ['self', 'harm', 'suicide']\n",
            "Topic 1:  ['suicide', 'self', 'harm']\n",
            "Topic 0:  ['fan', 'bangladesh', 'best']\n",
            "Topic 1:  ['bangladesh', 'ban', 'bit']\n",
            "Topic 0:  ['charade', 'hope', 'pnffsayzyd']\n",
            "Topic 1:  ['freak', 'pnffsayzyd', 'people']\n",
            "Topic 0:  ['xa', 'suicide', 'start']\n",
            "Topic 1:  ['threaten', 'war', 'nato']\n",
            "Topic 0:  ['health', 'care', 'surviving']\n",
            "Topic 1:  ['care', 'rt', 'underpaid']\n",
            "Topic 0:  ['discord', 'love', 'wish']\n",
            "Topic 1:  ['love', 'suicide', 'understand']\n",
            "Topic 0:  ['mixed', 'suicide', 'genocide']\n",
            "Topic 1:  ['like', 'jesus', 'christ']\n",
            "Topic 0:  ['verge', 'eye', 'suicide']\n",
            "Topic 1:  ['suicide', 'dead', 'verge']\n",
            "Topic 0:  ['xe', 'liv', 'smirk']\n",
            "Topic 1:  ['stigmatise', 'xa', 'narcissisticpersonalitydisorder']\n",
            "Topic 0:  ['twittersupport', 'suicide', 'http']\n",
            "Topic 1:  ['think', 'violates', 'die']\n",
            "Topic 0:  ['state', 'xe', 'word']\n",
            "Topic 1:  ['cruel', 'xa', 'texas']\n",
            "Topic 0:  ['ppgol', 'suicide', 'http']\n",
            "Topic 1:  ['squad', 'http', 'ppgol']\n",
            "Topic 0:  ['family', 'abuse', 'child']\n",
            "Topic 1:  ['abuse', 'child', 'low']\n",
            "Topic 0:  ['head', 'like', 'leondeg']\n",
            "Topic 1:  ['like', 'gsw', 'webb']\n",
            "Topic 0:  ['realbrysongray', 'xe', 'commit']\n",
            "Topic 1:  ['xe', 'suicide', 'teen']\n",
            "Topic 0:  ['haram', 'hell', 'kill']\n",
            "Topic 1:  ['xf', 'living', 'suicide']\n",
            "Topic 0:  ['xa', 'guy', 'refilwe']\n",
            "Topic 1:  ['xf', 'xba', 'commit']\n",
            "Topic 0:  ['xf', 'happen', 'ndid']\n",
            "Topic 1:  ['veteran', 'xf', 'think']\n",
            "Topic 0:  ['real', 'suicide', 'rt']\n",
            "Topic 1:  ['mental', 'suicide', 'rt']\n",
            "Topic 0:  ['chicomms', 'economic', 'commitment']\n",
            "Topic 1:  ['sendansullivan', 'potus', 'suicide']\n",
            "Topic 0:  ['joke', 'harm', 'ban']\n",
            "Topic 1:  ['joke', 'benign', 'harm']\n",
            "Topic 0:  ['health', 'care', 'surviving']\n",
            "Topic 1:  ['care', 'rt', 'underpaid']\n",
            "Topic 0:  ['day', 'teamcdb', 'charlie']\n",
            "Topic 1:  ['charliedaniels', 'teamcdb', 'day']\n",
            "Topic 0:  ['wicket', 'play', 'far']\n",
            "Topic 1:  ['warne', 'wicket', 'bad']\n",
            "Topic 0:  ['suicide', 'http', 'boyfriend']\n",
            "Topic 1:  ['mdbdfqx', 'boyfriend', 'http']\n",
            "Topic 0:  ['health', 'care', 'surviving']\n",
            "Topic 1:  ['care', 'rt', 'underpaid']\n",
            "Topic 0:  ['like', 'bad', 'rt']\n",
            "Topic 1:  ['fascinate', 'xa', 'bad']\n",
            "Topic 0:  ['department', 'suicide', 'nbcout']\n",
            "Topic 1:  ['human', 'lgbtq', 'resource']\n",
            "Topic 0:  ['xe', 'politi', 'regime']\n",
            "Topic 1:  ['rt', 'collectively', 'legal']\n",
            "Topic 0:  ['attempt', 'survive', 'life']\n",
            "Topic 1:  ['conflict', 'attempt', 'time']\n",
            "Topic 0:  ['badge', 'make', 'respawn']\n",
            "Topic 1:  ['make', 'asian', '_moyparra']\n",
            "Topic 0:  ['india', 'try', 'narendramodi']\n",
            "Topic 1:  ['attack', 'try', 'narendramodi']\n",
            "Topic 0:  ['xe', 'politi', 'regime']\n",
            "Topic 1:  ['rt', 'collectively', 'legal']\n",
            "Topic 0:  ['world', 'west', 'pakistan']\n",
            "Topic 1:  ['china', 'new', 'pakistan']\n",
            "Topic 0:  ['xe', 'know', 'yr']\n",
            "Topic 1:  ['ve', 'refugee', 'room']\n",
            "Topic 0:  ['ad', 'xa', 'lamborghini']\n",
            "Topic 1:  ['payday', 'joelkatz', 'replace']\n",
            "Topic 0:  ['xe', 'politi', 'regime']\n",
            "Topic 1:  ['rt', 'collectively', 'legal']\n",
            "Topic 0:  ['apparently', 'russia', 'case']\n",
            "Topic 1:  ['nhttps', 'just', 'case']\n",
            "Topic 0:  ['health', 'care', 'surviving']\n",
            "Topic 1:  ['care', 'rt', 'underpaid']\n",
            "Topic 0:  ['xe', 'politi', 'regime']\n",
            "Topic 1:  ['rt', 'collectively', 'legal']\n",
            "Topic 0:  ['price', 'npeople', 'pipes']\n",
            "Topic 1:  ['nfood', 'soared', 'price']\n",
            "Topic 0:  ['health', 'care', 'surviving']\n",
            "Topic 1:  ['care', 'rt', 'underpaid']\n",
            "Topic 0:  ['stop', 'nnow', 'infestation']\n",
            "Topic 1:  ['meeting', 'aaronjmate', 'infestation']\n",
            "Topic 0:  ['noh', 'suicide', 'remove']\n",
            "Topic 1:  ['suicide', 'lgbtq', 'texas']\n",
            "Topic 0:  ['suicide', 'prey', 'squad']\n",
            "Topic 1:  ['good', 'suicide', 'kaikaeya']\n",
            "Topic 0:  ['suicide', 'rate', 'time']\n",
            "Topic 1:  ['lie', 'suicide', 'theunderdoggym']\n",
            "Topic 0:  ['real', 'suicide', 'rt']\n",
            "Topic 1:  ['mental', 'suicide', 'rt']\n",
            "Topic 0:  ['suicide', 'squad', 'aquaman']\n",
            "Topic 1:  ['squad', 'ultimate', 'ranking']\n",
            "Topic 0:  ['battlecorgig', 'odd', 'nexta_tv']\n",
            "Topic 1:  ['turret', 'russian', 'suf']\n",
            "Topic 0:  ['gtbvr', 'border', 'dead']\n",
            "Topic 1:  ['http', 'bsf', 'biz']\n",
            "Topic 0:  ['xe', 'don', 'nit']\n",
            "Topic 1:  ['hammer', 'receive', 'wake']\n",
            "Topic 0:  ['jamieharrisnyc', 'liv', 'xe']\n",
            "Topic 1:  ['jamieharrisnyc', 'opportunity', 've']\n",
            "Topic 0:  ['bundle', 'year', 'support']\n",
            "Topic 1:  ['rt', 'solo', 'year']\n",
            "Topic 0:  ['life', 'xa', 'make']\n",
            "Topic 1:  ['suicide', 'juwariyaahh', 'haram']\n",
            "Topic 0:  ['xe', 'politi', 'regime']\n",
            "Topic 1:  ['rt', 'collectively', 'legal']\n",
            "Topic 0:  ['story', 'doj', 'nthe']\n",
            "Topic 1:  ['doj', 'suicide', 'progess']\n",
            "Topic 0:  ['noh', 'suicide', 'remove']\n",
            "Topic 1:  ['suicide', 'lgbtq', 'texas']\n",
            "Topic 0:  ['xe', 'politi', 'regime']\n",
            "Topic 1:  ['rt', 'collectively', 'legal']\n",
            "Topic 0:  ['health', 'care', 'surviving']\n",
            "Topic 1:  ['care', 'rt', 'underpaid']\n",
            "Topic 0:  ['xe', 'politi', 'regime']\n",
            "Topic 1:  ['rt', 'collectively', 'legal']\n",
            "Topic 0:  ['artist', 'crim_sama', 'harassment']\n",
            "Topic 1:  ['ragbrozine', 'kick', 'abuse']\n",
            "Topic 0:  ['health', 'care', 'surviving']\n",
            "Topic 1:  ['care', 'rt', 'underpaid']\n",
            "Topic 0:  ['india', 'rt', 'try']\n",
            "Topic 1:  ['xe', 'bangladesh', 'indepe']\n",
            "Topic 0:  ['xe', 'politi', 'regime']\n",
            "Topic 1:  ['rt', 'collectively', 'legal']\n",
            "Topic 0:  ['xe', 'politi', 'regime']\n",
            "Topic 1:  ['rt', 'collectively', 'legal']\n",
            "Topic 0:  ['suicide', 'bwnditvqvl', 'bomber']\n",
            "Topic 1:  ['equivalent', 'http', 'suicide']\n",
            "Topic 0:  ['strike', 'peshawar', 'ap']\n",
            "Topic 1:  ['inside', 'bomber', 'rt']\n",
            "Topic 0:  ['health', 'care', 'surviving']\n",
            "Topic 1:  ['care', 'rt', 'underpaid']\n",
            "Topic 0:  ['eat', 'just', 'xa']\n",
            "Topic 1:  ['just', 'ultimately', 'morali']\n",
            "Topic 0:  ['xe', 'traitor', 'police']\n",
            "Topic 1:  ['yesterday', 'police', 'commit']\n",
            "Topic 0:  ['commit', 'want', 'suicide']\n",
            "Topic 1:  ['commit', 'dd', 'risk']\n",
            "Topic 0:  ['leave', 'nrocks', 'daughter']\n",
            "Topic 1:  ['room', 'nrocks', 'bxkxlhb']\n",
            "Topic 0:  ['island', 'djqnifbom', 'tourism']\n",
            "Topic 1:  ['http', 'xe', 'island']\n",
            "Topic 0:  ['skill', 'kyivindependent', 'mission']\n",
            "Topic 1:  ['suicide', 'skill', 'kyivindependent']\n",
            "Topic 0:  ['thenewamerica', 'suicide', 'short']\n",
            "Topic 1:  ['tonight', 'thenewamerica', 'short']\n",
            "Topic 0:  ['suicide', 'xe', 'tax']\n",
            "Topic 1:  ['stress', 'im', 'lol']\n",
            "Topic 0:  ['bestfanarmy', 'barmy_stream', 'open']\n",
            "Topic 1:  ['today', 'iheartawards', 'university']\n",
            "Topic 0:  ['xa', 'rt', 'queen']\n",
            "Topic 1:  ['xe', 'laughing', 'xa']\n",
            "Topic 0:  ['health', 'care', 'surviving']\n",
            "Topic 1:  ['care', 'rt', 'underpaid']\n",
            "Topic 0:  ['noh', 'suicide', 'remove']\n",
            "Topic 1:  ['suicide', 'lgbtq', 'texas']\n",
            "Topic 0:  ['padding', 'number', 'suicide']\n",
            "Topic 1:  ['number', 'giffordscourage', 'padding']\n",
            "Topic 0:  ['xe', 'politi', 'regime']\n",
            "Topic 1:  ['rt', 'collectively', 'legal']\n",
            "Topic 0:  ['hand', 'just', 'india']\n",
            "Topic 1:  ['commiting', 'independent', 'economically']\n",
            "Topic 0:  ['xe', 'threat', 'npd']\n",
            "Topic 1:  ['xb', 'xef', 'xe']\n",
            "Topic 0:  ['xe', 'pain', 'raz']\n",
            "Topic 1:  ['exmachinaes', 'ceverything', 'promise']\n",
            "Topic 0:  ['india', 'rt', 'try']\n",
            "Topic 1:  ['xe', 'bangladesh', 'indepe']\n",
            "Topic 0:  ['xe', 'politi', 'regime']\n",
            "Topic 1:  ['rt', 'collectively', 'legal']\n",
            "Topic 0:  ['lot', 'squad', 'mcu']\n",
            "Topic 1:  ['watch', 'mcu', 'strange']\n",
            "Topic 0:  ['rt', 'peshawar', 'spill']\n",
            "Topic 1:  ['suicide', 'xe', 'strongly']\n",
            "Topic 0:  ['noh', 'suicide', 'remove']\n",
            "Topic 1:  ['suicide', 'lgbtq', 'texas']\n",
            "Topic 0:  ['trusted', 'cstross', 'hop']\n",
            "Topic 1:  ['hop', 'reach', 'people']\n",
            "Topic 0:  ['match', 'begin', 'xe']\n",
            "Topic 1:  ['begin', 'new', 'rain']\n",
            "Topic 0:  ['squad', 'director', 'suicide']\n",
            "Topic 1:  ['fight', 'director', 'dcu']\n",
            "Topic 0:  ['girl', 'just', 'old']\n",
            "Topic 1:  ['just', 'note', 'year']\n",
            "Topic 0:  ['health', 'care', 'surviving']\n",
            "Topic 1:  ['care', 'rt', 'underpaid']\n",
            "Topic 0:  ['xe', 'know', 'yr']\n",
            "Topic 1:  ['ve', 'refugee', 'room']\n",
            "Topic 0:  ['true', 'production', 'suicide']\n",
            "Topic 1:  ['jones', 'place', 'record']\n",
            "Topic 0:  ['staff', 'fabreau', 'kathrynmathias']\n",
            "Topic 1:  ['push', 'xa', 'fabreau']\n",
            "Topic 0:  ['save', 'join', 'andrewknight']\n",
            "Topic 1:  ['nwe', 'brexshit', 'join']\n",
            "Topic 0:  ['hnlgswgub', 'https', 'nbcnews']\n",
            "Topic 1:  ['texas', 'remove', 'https']\n",
            "Topic 0:  ['xa', 'gun', 'bail']\n",
            "Topic 1:  ['gun', 'suicide', 'bail']\n",
            "Topic 0:  ['xe', 'politi', 'regime']\n",
            "Topic 1:  ['rt', 'collectively', 'legal']\n",
            "Topic 0:  ['commitment', 'praise', 'prevention']\n",
            "Topic 1:  ['xa', 'praise', 'prevention']\n",
            "Topic 0:  ['need', 'matarbari', 'rt']\n",
            "Topic 1:  ['matarbari', 'bangladesh', 'fffinbd']\n",
            "Topic 0:  ['texas', 'people', 'homophobe']\n",
            "Topic 1:  ['suicide', 'lgbtq', 'people']\n",
            "Topic 0:  ['xe', 'know', 'yr']\n",
            "Topic 1:  ['ve', 'refugee', 'room']\n",
            "Topic 0:  ['rt', 'locati', 'pe']\n",
            "Topic 1:  ['http', 'topography', 'pe']\n",
            "Topic 0:  ['style', 'ill', 'rt']\n",
            "Topic 1:  ['rt', 'ill', 'double']\n",
            "Topic 0:  ['xe', 'politi', 'regime']\n",
            "Topic 1:  ['rt', 'collectively', 'legal']\n",
            "Topic 0:  ['laurieinri', 'work', 'know']\n",
            "Topic 1:  ['know', 'safety', 'suicide']\n",
            "Topic 0:  ['rat', 'watch', 'like']\n",
            "Topic 1:  ['watch', 'rule', 'finally']\n",
            "Topic 0:  ['friend', 'undergrad', 'xa']\n",
            "Topic 1:  ['just', 'wolfe', 'week']\n",
            "Topic 0:  ['african', 'proverb', 'commit']\n",
            "Topic 1:  ['xa', 'rt', 'commit']\n",
            "Topic 0:  ['xe', 'wi', 'trend']\n",
            "Topic 1:  ['alabama', 'rt', 'garybham']\n",
            "Topic 0:  ['lose', 'suicide', 'male']\n",
            "Topic 1:  ['suicide', 'firearm', 'potential']\n",
            "Topic 0:  ['cmclymer', 'ciaspygirl', 'evil']\n",
            "Topic 1:  ['lgbtq', 'resource', 'remove']\n",
            "Topic 0:  ['xa', 'develop', 'available']\n",
            "Topic 1:  ['suicide', 'rt', 'available']\n",
            "Topic 0:  ['vkpuopcfrj', 'abt', 'liz_cheney']\n",
            "Topic 1:  ['https', 'vkpuopcfrj', 'abt']\n",
            "Topic 0:  ['eat', 'just', 'xa']\n",
            "Topic 1:  ['just', 'ultimately', 'morali']\n",
            "Topic 0:  ['farmer', 'suicide', 'govt']\n",
            "Topic 1:  ['feb', 'tjyjhyhtug', 'xc']\n",
            "Topic 0:  ['suicide', 'nsorry', 'usually']\n",
            "Topic 1:  ['week', 'suck', 'year']\n",
            "Topic 0:  ['insensitive', 'kts', 'suicide']\n",
            "Topic 1:  ['fuck', 'soooo', 'joke']\n",
            "Topic 0:  ['family', 'http', 'pay']\n",
            "Topic 1:  ['kfieca', 'make', 'coz']\n",
            "Topic 0:  ['risk', 'initiator', 'small']\n",
            "Topic 1:  ['suicide', 'initiator', 'xe']\n",
            "Topic 0:  ['shd', 'xa', 'situation']\n",
            "Topic 1:  ['dinesh_sir', 'shd', 'exam']\n",
            "Topic 0:  ['justgiving', 'prevention', 'kivn']\n",
            "Topic 1:  ['prevention', 'donate', 'fundraise']\n",
            "Topic 0:  ['xe', 'politi', 'regime']\n",
            "Topic 1:  ['rt', 'collectively', 'legal']\n",
            "Topic 0:  ['forbid', 'think', 'warhead']\n",
            "Topic 1:  ['commit', 'warhead', 'thehillopinion']\n",
            "Topic 0:  ['mask', 'work', 'xe']\n",
            "Topic 1:  ['rt', 'pattern', 'crash']\n",
            "Topic 0:  ['like', 'end', 'shaneellall']\n",
            "Topic 1:  ['conversion', 'xe', 'shaneellall']\n",
            "Topic 0:  ['suicide', 'richsignorelli', 'nhe']\n",
            "Topic 1:  ['escape', 'hitler', 'nhe']\n",
            "Topic 0:  ['need', 'matarbari', 'rt']\n",
            "Topic 1:  ['matarbari', 'bangladesh', 'fffinbd']\n",
            "Topic 0:  ['violence', 'state', 'voting']\n",
            "Topic 1:  ['gun', 'violence', 'election']\n",
            "Topic 0:  ['xe', 'politi', 'regime']\n",
            "Topic 1:  ['rt', 'collectively', 'legal']\n",
            "Topic 0:  ['didn', 'xe', 'suicide']\n",
            "Topic 1:  ['suicide', 'kayneivor', 'beat']\n",
            "Topic 0:  ['xe', 'politi', 'regime']\n",
            "Topic 1:  ['rt', 'collectively', 'legal']\n",
            "Topic 0:  ['play', 'xe', 'mouse']\n",
            "Topic 1:  ['xe', 've', 'shit']\n",
            "Topic 0:  ['xe', 'peop', 'suicide']\n",
            "Topic 1:  ['terminally', 'xa', 'reject']\n",
            "Topic 0:  ['great', 'good', 'bankrupt']\n",
            "Topic 1:  ['rate', 'good', 'economy']\n",
            "Topic 0:  ['xb', 'rates', 'xe']\n",
            "Topic 1:  ['spike', 'xa', 'fact']\n",
            "Topic 0:  ['wrong', 'suicide', 'acwpjtgftd']\n",
            "Topic 1:  ['health', 'http', 'acwpjtgftd']\n",
            "Topic 0:  ['suicide', 'girl', 'keenanpeachy']\n",
            "Topic 1:  ['girl', 'attempt', 'adolescent']\n",
            "Topic 0:  ['xe', 'politi', 'regime']\n",
            "Topic 1:  ['rt', 'collectively', 'legal']\n",
            "Topic 0:  ['claim', 'register', 'bulkbiker']\n",
            "Topic 1:  ['increase', 'reason', 'register']\n",
            "Topic 0:  ['xe', 'politi', 'regime']\n",
            "Topic 1:  ['rt', 'collectively', 'legal']\n",
            "Topic 0:  ['xa', 'ntwo', 'fascists']\n",
            "Topic 1:  ['surround', 'day', 'mistress']\n",
            "Topic 0:  ['history', 'nobuhisa', 'xe']\n",
            "Topic 1:  ['committed', 'toshioakagi', 'today']\n",
            "Topic 0:  ['xa', 'send', 'wish']\n",
            "Topic 1:  ['xf', 'ghostyoutuber', 'mtv']\n",
            "Topic 0:  ['noh', 'suicide', 'remove']\n",
            "Topic 1:  ['suicide', 'lgbtq', 'texas']\n",
            "Topic 0:  ['xe', 'doesn', 'help']\n",
            "Topic 1:  ['reason', 'xe', 'doesn']\n",
            "Topic 0:  ['xa', 'ntwo', 'fascists']\n",
            "Topic 1:  ['surround', 'day', 'mistress']\n",
            "Topic 0:  ['lie', 'nit', 'worth']\n",
            "Topic 1:  ['saliva', 'small', 'remulla']\n",
            "Topic 0:  ['day', 'teamcdb', 'charlie']\n",
            "Topic 1:  ['charliedaniels', 'teamcdb', 'day']\n",
            "Topic 0:  ['paris', 'inside', 'kremlin']\n",
            "Topic 1:  ['season', 'detonate', 'vest']\n",
            "Topic 0:  ['israel', 'milligazette', 'terrorist']\n",
            "Topic 1:  ['xe', 'don', 'kid']\n",
            "Topic 0:  ['lie', 'position', 'suicide']\n",
            "Topic 1:  ['stats', 'lie', 'erdo']\n",
            "Topic 0:  ['xe', 'politi', 'regime']\n",
            "Topic 1:  ['rt', 'collectively', 'legal']\n",
            "Topic 0:  ['http', 'unfamiliar', 'poor']\n",
            "Topic 1:  ['mission', 'http', 'poor']\n",
            "Topic 0:  ['xe', 'politi', 'regime']\n",
            "Topic 1:  ['rt', 'collectively', 'legal']\n",
            "Topic 0:  ['note', 'voice', 'devil']\n",
            "Topic 1:  ['stabbing', 'little', 'suicide']\n",
            "Topic 0:  ['fuck', 'pity', 'lp']\n",
            "Topic 1:  ['lucky', 'suicide', 'lp']\n",
            "Topic 0:  ['xe', 'kind', 'friend']\n",
            "Topic 1:  ['strong', 'rt', 'large']\n",
            "Topic 0:  ['west', 'god', 'toughlove']\n",
            "Topic 1:  ['save', 'west', 'delusionextremism']\n",
            "Topic 0:  ['xe', 'incredibly', 'despair']\n",
            "Topic 1:  ['news', 'xa', 'illusion']\n",
            "Topic 0:  ['rate', 'recession', 'suicide']\n",
            "Topic 1:  ['wonder', 'recession', 'suicide']\n",
            "Topic 0:  ['mental', 'seek', 'suicide']\n",
            "Topic 1:  ['say', 'health', 'immediately']\n",
            "Topic 0:  ['noh', 'suicide', 'remove']\n",
            "Topic 1:  ['suicide', 'lgbtq', 'texas']\n",
            "Topic 0:  ['bighealthyfr', 'atlanta', 'rt']\n",
            "Topic 1:  ['atlanta', 'bighealthyfr', 'rt']\n",
            "Topic 0:  ['xe', 'know', 'yr']\n",
            "Topic 1:  ['ve', 'refugee', 'room']\n",
            "Topic 0:  ['lie', 'readily', 'victim']\n",
            "Topic 1:  ['worth', 'small', 'victim']\n",
            "Topic 0:  ['dissolve', 'rt', 'partition']\n",
            "Topic 1:  ['appropriate', 'away', 'xe']\n",
            "Topic 0:  ['xe', 'politi', 'regime']\n",
            "Topic 1:  ['rt', 'collectively', 'legal']\n",
            "Topic 0:  ['xe', 'politi', 'regime']\n",
            "Topic 1:  ['rt', 'collectively', 'legal']\n",
            "Topic 0:  ['literally', 'suicide', 'say']\n",
            "Topic 1:  ['suicide', 'body', 'therapy']\n",
            "Topic 0:  ['bomber', 'botched', 'year']\n",
            "Topic 1:  ['fiasco', 'year', 'andreivkozyrev']\n",
            "Topic 0:  ['xe', 'suicide', 'http']\n",
            "Topic 1:  ['zfn', 'lu', 'suicide']\n",
            "Topic 0:  ['report', 'eorganiser', 'xa']\n",
            "Topic 1:  ['radicalisation', 'rt', 'eorganiser']\n",
            "Topic 0:  ['noh', 'suicide', 'remove']\n",
            "Topic 1:  ['suicide', 'lgbtq', 'texas']\n",
            "Topic 0:  ['real', 'suicide', 'rt']\n",
            "Topic 1:  ['mental', 'suicide', 'rt']\n",
            "Topic 0:  ['amp', 'ship', 'suicide']\n",
            "Topic 1:  ['people', 'amp', 'commits']\n",
            "Topic 0:  ['seeing', 'ruin', 'self']\n",
            "Topic 1:  ['self', 'suicide', 'destruction']\n",
            "Topic 0:  ['xe', 'interve', 'tx']\n",
            "Topic 1:  ['amp', 'lgbtq', 'need']\n",
            "Topic 0:  ['use', 'word', 'say']\n",
            "Topic 1:  ['word', 'drjesstaylor', 'know']\n",
            "Topic 0:  ['xe', 'soldier', 'mission']\n",
            "Topic 1:  ['make', 'xa', 'putin']\n",
            "Topic 0:  ['xe', 'politi', 'regime']\n",
            "Topic 1:  ['rt', 'collectively', 'legal']\n",
            "Topic 0:  ['xe', 'know', 'yr']\n",
            "Topic 1:  ['ve', 'refugee', 'room']\n",
            "Topic 0:  ['die', 'rt', 'edwardgluce']\n",
            "Topic 1:  ['die', 'edwardgluce', 'cult']\n",
            "Topic 0:  ['allege', 'xe', 'stanford']\n",
            "Topic 1:  ['bzxntrnt', 'meyer', 'usa']\n",
            "Topic 0:  ['lie', 'readily', 'victim']\n",
            "Topic 1:  ['worth', 'small', 'victim']\n",
            "Topic 0:  ['xe', 'politi', 'regime']\n",
            "Topic 1:  ['rt', 'collectively', 'legal']\n",
            "Topic 0:  ['noh', 'suicide', 'remove']\n",
            "Topic 1:  ['suicide', 'lgbtq', 'texas']\n",
            "Topic 0:  ['medium', 'need', 'aw']\n",
            "Topic 1:  ['oldco', 'medium', 'suicide']\n",
            "Topic 0:  ['sure', 'insure', 'suicide']\n",
            "Topic 1:  ['nthen', 'suicide', 'sure']\n",
            "Topic 0:  ['prevention', 'dex', 'speaking']\n",
            "Topic 1:  ['suicide', 'dex', 'prevention']\n",
            "Topic 0:  ['jet', 'suicide', 'zj']\n",
            "Topic 1:  ['zone', 'ubmws', 'ukrainian']\n",
            "Topic 0:  ['threaten', 'suicide', 'context']\n",
            "Topic 1:  ['leave', 'threaten', 'anna']\n",
            "Topic 0:  ['strongly', 'gh_hussainpk', 'condemn']\n",
            "Topic 1:  ['condemn', 'sharif', 'opposition']\n",
            "Topic 0:  ['think', 'aware', 've']\n",
            "Topic 1:  ['bvs', 'aware', 'happen']\n",
            "Topic 0:  ['http', 'sunni', 'jihadwatchrs']\n",
            "Topic 1:  ['mosque', 'suicide', 'shi']\n",
            "Topic 0:  ['russia', 'elect', 'weapon']\n",
            "Topic 1:  ['elect', 'suicide', 'fuck']\n",
            "Topic 0:  ['xa', 'ntwo', 'fascists']\n",
            "Topic 1:  ['surround', 'day', 'mistress']\n",
            "Topic 0:  ['lie', 'small', 'nation']\n",
            "Topic 1:  ['credibility', 'salazarkerby', 'nit']\n",
            "Topic 0:  ['nthe', 'batman', 'nshazam']\n",
            "Topic 1:  ['suicide', 'lantern', 'ngreen']\n",
            "Topic 0:  ['xe', 'shouldn', 'want']\n",
            "Topic 1:  ['transition', 'delusion', 'illness']\n",
            "Topic 0:  ['noh', 'suicide', 'remove']\n",
            "Topic 1:  ['suicide', 'lgbtq', 'texas']\n",
            "Topic 0:  ['xe', 'join', 'scenario']\n",
            "Topic 1:  ['news', 'good', 'scenario']\n",
            "Topic 0:  ['send', 'care', 'xe']\n",
            "Topic 1:  ['russian', 'putin', 'care']\n",
            "Topic 0:  ['think', 'kyivindependent', 'greenyenergy']\n",
            "Topic 1:  ['kyivindependent', 'wasteland', 'suicide']\n",
            "Topic 0:  ['political', 'suicide', 'oil']\n",
            "Topic 1:  ['jackposobiec', 'wow', 'political']\n",
            "Topic 0:  ['die', 'rt', 'edwardgluce']\n",
            "Topic 1:  ['die', 'edwardgluce', 'cult']\n",
            "Topic 0:  ['bpd', 'bpdbryan', 'help']\n",
            "Topic 1:  ['help', 'suicide', 'high']\n",
            "Topic 0:  ['wind', 'underlying', 'problem']\n",
            "Topic 1:  ['underlying', 'politically', 'depression']\n",
            "Topic 0:  ['xe', 'politi', 'regime']\n",
            "Topic 1:  ['rt', 'collectively', 'legal']\n",
            "Topic 0:  ['die', 'rt', 'edwardgluce']\n",
            "Topic 1:  ['die', 'edwardgluce', 'cult']\n",
            "Topic 0:  ['lynch', 'wife', 'thefordhamram']\n",
            "Topic 1:  ['xa', 'wife', 'xe']\n",
            "Topic 0:  ['squad', 'lmfao', 'rt']\n",
            "Topic 1:  ['lmfao', 'suicide', 'say']\n",
            "Topic 0:  ['come', 'sort', 'lady']\n",
            "Topic 1:  ['friend', 'suicide', 'lady']\n",
            "Topic 0:  ['bangladesh', 'join', 'force']\n",
            "Topic 1:  ['newly', 'join', 'rt']\n",
            "Topic 0:  ['die', 'brfootball', 'captain']\n",
            "Topic 1:  ['march', 'brfootball', 'fund']\n",
            "Topic 0:  ['ukraine', 'senrubiopress', 'russia']\n",
            "Topic 1:  ['td_port', 'russian', 'marcorubio']\n",
            "Topic 0:  ['contemplate', 'think', 'suicide']\n",
            "Topic 1:  ['suicide', 'everyday', 'contemplate']\n",
            "Topic 0:  ['ikr', 'xa', 'azerbaijan']\n",
            "Topic 1:  ['operate', 'rt', 'azerbaijan']\n",
            "Topic 0:  ['sad', 'feel', 'sister']\n",
            "Topic 1:  ['sister', 'suicide', 'minute']\n",
            "Topic 0:  ['rock', 'xe', 'yjd']\n",
            "Topic 1:  ['rock', 'live', 'youtube']\n",
            "Topic 0:  ['homophone', 'thing', 'react']\n",
            "Topic 1:  ['nthe', 'happen', 'know']\n",
            "Topic 0:  ['http', 'suicide', 'read']\n",
            "Topic 1:  ['depression', 'win', 'xa']\n",
            "Topic 0:  ['covid', 'silence', 'kris_tea']\n",
            "Topic 1:  ['landjax', 'brother', 'kris_tea']\n",
            "Topic 0:  ['plight', 'sudden', 'ukraine']\n",
            "Topic 1:  ['care', 'post', 'mission']\n",
            "Topic 0:  ['nuke', 'putin', 'plant']\n",
            "Topic 1:  ['commit', 'require', 'blame']\n",
            "Topic 0:  ['joke', 'harm', 'ban']\n",
            "Topic 1:  ['joke', 'benign', 'harm']\n",
            "Topic 0:  ['noh', 'suicide', 'remove']\n",
            "Topic 1:  ['suicide', 'lgbtq', 'texas']\n",
            "Topic 0:  ['covid', 'negative', 'acknowledge']\n",
            "Topic 1:  ['negative', 'mental', 'argue']\n",
            "Topic 0:  ['gf', 'suicide', 'lose']\n",
            "Topic 1:  ['allow', 'class', 'basis']\n",
            "Topic 0:  ['xe', 'don', 'leaving']\n",
            "Topic 1:  ['xa', 'know', 'recall']\n",
            "Topic 0:  ['friend', 'speak', 'jeronefn']\n",
            "Topic 1:  ['ppl', 'gang', 'jeronefn']\n",
            "Topic 0:  ['xe', 'know', 'yr']\n",
            "Topic 1:  ['ve', 'refugee', 'room']\n",
            "Topic 0:  ['joker', 'roll', 'weve']\n",
            "Topic 1:  ['madhatter', 'ill', 'weve']\n",
            "Topic 0:  ['xa', 'suicide', 'start']\n",
            "Topic 1:  ['threaten', 'war', 'nato']\n",
            "Topic 0:  ['attack', 'xe', 'target']\n",
            "Topic 1:  ['afgfactchecks', 'suicide', 'target']\n",
            "Topic 0:  ['http', 'wbk', 'stanford']\n",
            "Topic 1:  ['soccer', 'ncsb', 'stanford']\n",
            "Topic 0:  ['xe', 'recent', 'highlight']\n",
            "Topic 1:  ['md', 'cloud', 'agreement']\n",
            "Topic 0:  ['shaneellall', 'xa', 'conversion']\n",
            "Topic 1:  ['drshaneretimp', 'therapy', 'preaching']\n",
            "Topic 0:  ['xa', 'shame', 'zanou']\n",
            "Topic 1:  ['xe', 'govabbott', 'suicide']\n",
            "Topic 0:  ['tx', 'collaborative', 'spunkyblonde']\n",
            "Topic 1:  ['dhhs', 'state', 'campaign']\n",
            "Topic 0:  ['lie', 'small', 'nation']\n",
            "Topic 1:  ['credibility', 'salazarkerby', 'nit']\n",
            "Topic 0:  ['xe', 'know', 'yr']\n",
            "Topic 1:  ['ve', 'refugee', 'room']\n",
            "Topic 0:  ['movie', 'want', 'quit']\n",
            "Topic 1:  ['batman', 'hopefully', 'http']\n",
            "Topic 0:  ['people', 'jl', 'love']\n",
            "Topic 1:  ['kinetic_aces', 'recut', 'love']\n",
            "Topic 0:  ['xe', 'tell', 'self']\n",
            "Topic 1:  ['nanon', 'fan', 'rt']\n",
            "Topic 0:  ['xe', 'home', 'nmany']\n",
            "Topic 1:  ['earn', 'hannahd', 'lose']\n",
            "Topic 0:  ['xe', 'know', 'yr']\n",
            "Topic 1:  ['ve', 'refugee', 'room']\n",
            "Topic 0:  ['amin', 'director', 'today']\n",
            "Topic 1:  ['director', 'dhaka', 'manage']\n",
            "Topic 0:  ['open', 'morrelganj', 'facebook']\n",
            "Topic 1:  ['post', 'sexually', 'offensive']\n",
            "Topic 0:  ['suicide', 'ex', 'chhatra']\n",
            "Topic 1:  ['bangladesh', 'ex', 'chhatra']\n",
            "Topic 0:  ['brother', 'suicide', 'opendoors']\n",
            "Topic 1:  ['jashim', 'brother', 'pray']\n",
            "Topic 0:  ['police', 'magura', 'separate']\n",
            "Topic 1:  ['morning', 'recover', 'july']\n",
            "Topic 0:  ['dy', 'newly', 'wed']\n",
            "Topic 1:  ['newly', 'wed', 'suicide']\n",
            "Topic 0:  ['dispute', 'family', 'schoolboy']\n",
            "Topic 1:  ['commits', 'dispute', 'family']\n",
            "Topic 0:  ['abuse', 'family', 'relationship']\n",
            "Topic 1:  ['family', 'academic', 'reason']\n",
            "Topic 0:  ['ca', 'sorrynotsorry', 'suck']\n",
            "Topic 1:  ['control', 'life', 'anymore']\n",
            "Topic 0:  ['emotion', 'room', 'close']\n",
            "Topic 1:  ['close', 'emotion', 'love']\n",
            "Topic 0:  ['old', 'life', 'pet']\n",
            "Topic 1:  ['die', 'life', 'old']\n",
            "Topic 0:  ['change', 'just', 'include']\n",
            "Topic 1:  ['people', 'way', 'world']\n",
            "Topic 0:  ['year', 'im', 'day']\n",
            "Topic 1:  ['hard', 'im', 'illusion']\n",
            "Topic 0:  ['worthless', 'bite', 'trash']\n",
            "Topic 1:  ['worthless', 'love', 'memory']\n",
            "Topic 0:  ['quite', 'life', 'emotion']\n",
            "Topic 1:  ['worthless', 'emotion', 'room']\n",
            "Topic 0:  ['harm', 'know', 'painful']\n",
            "Topic 1:  ['rt', 'painful', 'know']\n",
            "Topic 0:  ['love', 'rt', 'ricky']\n",
            "Topic 1:  ['room', 'ricky', 'rt']\n",
            "Topic 0:  ['dark', 'rt', 'room']\n",
            "Topic 1:  ['room', 'emotion', 'color']\n",
            "Topic 0:  ['money', 'bonny', 'aburden']\n",
            "Topic 1:  ['aburden', 'bonny', 'everybody']\n",
            "Topic 0:  ['deep', 'matter', 'hole']\n",
            "Topic 1:  ['fall', 'hope', 'deep']\n",
            "Topic 0:  ['lose', 'forever', 'lie']\n",
            "Topic 1:  ['business', 'forever', 'loss']\n",
            "Topic 0:  ['lose', 'tell', 'pit']\n",
            "Topic 1:  ['bear', 'ca', 'pit']\n",
            "Topic 0:  ['lose', 'fell', 'forever']\n",
            "Topic 1:  ['loss', 'pull', 'll']\n",
            "Topic 0:  ['suicidal', 'open', 'pit']\n",
            "Topic 1:  ['bangladesh', 'suicidal', 'coal']\n",
            "Topic 0:  ['suicide', 'police', 'bangladesh']\n",
            "Topic 1:  ['bangladesh', 'force', 'join']\n",
            "Topic 0:  ['protest', 'monitor', 'suicide']\n",
            "Topic 1:  ['video', 'suicide', 'protest']\n",
            "Topic 0:  ['bangladesh', 'commits', 'addict']\n",
            "Topic 1:  ['commits', 'pubg', 'game']\n",
            "Topic 0:  ['attempt', 'transgender', 'assault']\n",
            "Topic 1:  ['assault', 'reader', 'airwave']\n",
            "Topic 0:  ['suicide', 'rate', 'bangladesh']\n",
            "Topic 1:  ['woman', 'country', 'men']\n",
            "Topic 0:  ['sozib', 'suicide', 'dy']\n",
            "Topic 1:  ['suicide', 'cricketer', 'mohammad']\n",
            "Topic 0:  ['pakistan', 'iraq', 'men']\n",
            "Topic 1:  ['high', 'rate', 'pakistan']\n",
            "Topic 0:  ['dead', 'police', 'family']\n",
            "Topic 1:  ['arabiya', 'texas', 'police']\n",
            "Topic 0:  ['world', 'member', 'plot']\n",
            "Topic 1:  ['plot', 'dead', 'murder']\n",
            "Topic 0:  ['bangladesh', 'claim', 'coronavirus']\n",
            "Topic 1:  ['life', 'claim', 'suicide']\n",
            "Topic 0:  ['suicide', 'old', 'year']\n",
            "Topic 1:  ['batsman', 'dy', 'sozib']\n",
            "Topic 0:  ['hotlines', 'prevention', 'bangladesh']\n",
            "Topic 1:  ['prevention', 'bangladesh', 'suicide']\n",
            "Topic 0:  ['near', 'bomber', 'capital']\n",
            "Topic 1:  ['dead', 'bangladesh', 'capital']\n",
            "Topic 0:  ['ideological', 'gen', 'trend']\n",
            "Topic 1:  ['trend', 'ideological', 'gen']\n",
            "Topic 0:  ['suicide', 'rise', 'alarm']\n",
            "Topic 1:  ['alarm', 'bangladesh', 'rate']\n",
            "Topic 0:  ['great', 'reset', 'timeline']\n",
            "Topic 1:  ['timeline', 'reset', 'great']\n",
            "Topic 0:  ['case', 'manage', 'specific']\n",
            "Topic 1:  ['interesting', 'suicide', 'reason']\n",
            "Topic 0:  ['secularism', 'islamisation', 'bangladesh']\n",
            "Topic 1:  ['commit', 'islamisation', 'secularism']\n",
            "Topic 0:  ['gender', 'explanation', 'paradox']\n",
            "Topic 1:  ['evidence', 'explanation', 'gender']\n",
            "Topic 0:  ['__', 'nato', 'fertility']\n",
            "Topic 1:  ['nato', 'aid', 'fortify']\n",
            "Topic 0:  ['bomber', 'female', 'suicide']\n",
            "Topic 1:  ['bangladesh', 'bomber', 'female']\n",
            "Topic 0:  ['life', 'just', 'confuse']\n",
            "Topic 1:  ['really', 'morality', 'little']\n",
            "Topic 0:  ['himu', 'operation', 'bangladesh']\n",
            "Topic 1:  ['hasan', 'operation', 'suicide']\n",
            "Topic 0:  ['rate', 'climb', 'report']\n",
            "Topic 1:  ['domestic', 'report', 'climb']\n",
            "Topic 0:  ['suicide', 'bangladesh', 'commit']\n",
            "Topic 1:  ['bangladesh', 'commit', 'suicide']\n",
            "Topic 0:  ['law', 'murder', 'goons']\n",
            "Topic 1:  ['murder', 'entire', 'commit']\n",
            "Topic 0:  ['country', 'bigot', 'want']\n",
            "Topic 1:  ['selfish', 'want', 'away']\n",
            "Topic 0:  ['men', 'talk', 'gendered']\n",
            "Topic 1:  ['let', 'talk', 'men']\n",
            "Topic 0:  ['near', 'casualty', 'bangladesh']\n",
            "Topic 1:  ['bangladesh', 'attacker', 'international']\n",
            "Topic 0:  ['suicide', 'pakistan', 'indonesia']\n",
            "Topic 1:  ['commit', 'men', 'bangladesh']\n",
            "Topic 0:  ['really', 'situation', 'dunno']\n",
            "Topic 1:  ['situation', 'dunno', 'complex']\n",
            "Topic 0:  ['rescue', 'world', 'bangladesh']\n",
            "Topic 1:  ['al', 'arabiya', 'bangladesh']\n",
            "Topic 0:  ['rape', 'year', 'patriarchal']\n",
            "Topic 1:  ['perpetuate', 'comment', 'year']\n",
            "Topic 0:  ['bangladesh', 'commits', 'hero']\n",
            "Topic 1:  ['commits', 'rana', 'bangladesh']\n",
            "Topic 0:  ['ahmadi', 'bangladesh', 'bomber']\n",
            "Topic 1:  ['suicide', 'bomber', 'bangladesh']\n",
            "Topic 0:  ['kill', 'check', 'post']\n",
            "Topic 1:  ['check', 'attempt', 'post']\n",
            "Topic 0:  ['suicide', 'world', 'commits']\n",
            "Topic 1:  ['rescue', 'suicide', 'plaza']\n",
            "Topic 0:  ['palestine', 'worldnews', 'justify']\n",
            "Topic 1:  ['bangladesh', 'palestine', 'poll']\n",
            "Topic 0:  ['indian', 'analysis', 'reform']\n",
            "Topic 1:  ['reform', 'critical', 'indian']\n",
            "Topic 0:  ['attempt', 'hijack', 'bangladeshi']\n",
            "Topic 1:  ['plane', 'bangladeshi', 'hijack']\n",
            "Topic 0:  ['hamper', 'pesticide', 'bangladesh']\n",
            "Topic 1:  ['pesticide', 'prevention', 'suicide']\n",
            "Topic 0:  ['page', 'da', 'wikipedia']\n",
            "Topic 1:  ['wikipedia', 'page', 'da']\n",
            "Topic 0:  ['world', 'girl', 'humiliate']\n",
            "Topic 1:  ['humiliate', 'commits', 'suicide']\n",
            "Topic 0:  ['humiliate', 'suicide', 'girl']\n",
            "Topic 1:  ['commits', 'bangladesh', 'time']\n",
            "Topic 0:  ['rise', 'suicide', 'bangladesh']\n",
            "Topic 1:  ['bangladesh', 'rise', 'suicide']\n",
            "Topic 0:  ['law', 'farm', 'oppose']\n",
            "Topic 1:  ['foreign', 'judiicary', 'media']\n",
            "Topic 0:  ['men', 'let', 'violence']\n",
            "Topic 1:  ['gendered', 'let', 'men']\n",
            "Topic 0:  ['indian', 'patriarchy', 'society']\n",
            "Topic 1:  ['patriarchy', 'indian', 'society']\n",
            "Topic 0:  ['seoul', 'busan', 'liberation']\n",
            "Topic 1:  ['liberation', 'busan', 'seoul']\n",
            "Topic 0:  ['review', 'december', 'conflict']\n",
            "Topic 1:  ['december', 'conflict', 'review']\n",
            "Topic 0:  ['suicide', 'son', 'body']\n",
            "Topic 1:  ['commit', 'hang', 'mother']\n",
            "Topic 0:  ['dhaka', 'bomber', 'blast']\n",
            "Topic 1:  ['rab', 'blast', 'camp']\n",
            "Topic 0:  ['bangladesh', 'suicide', 'journal']\n",
            "Topic 1:  ['epidemiology', 'hamper', 'output']\n",
            "Topic 0:  ['believe', 'til', 'civilian']\n",
            "Topic 1:  ['poll', 'nearly', 'civilian']\n",
            "Topic 0:  ['comfort', 'affirmation', 'iso']\n",
            "Topic 1:  ['iso', 'comfort', 'affirmation']\n",
            "Topic 0:  ['bangladesh', 'pm', 'suicide']\n",
            "Topic 1:  ['attack', 'suicide', 'visit']\n",
            "Topic 0:  ['united', 'kds', 'bomb']\n",
            "Topic 1:  ['kds', 'bomb', 'suicide']\n",
            "Topic 0:  ['charge', 'mass', 'http']\n",
            "Topic 1:  ['destruction', 'bangladesh', 'late']\n",
            "Topic 0:  ['idea', 'pod', 'game']\n",
            "Topic 1:  ['game', 'idea', 'play']\n",
            "Topic 0:  ['dhaka', 'final', 'tribune']\n",
            "Topic 1:  ['bazar', 'loss', 'tribune']\n",
            "Topic 0:  ['people', 'bullying', 'try']\n",
            "Topic 1:  ['comment', 'depression', 'hsp']\n",
            "Topic 0:  ['china', 'indonesia', 'country']\n",
            "Topic 1:  ['high', 'country', 'woman']\n",
            "Topic 0:  ['suicide', 'blast', 'kill']\n",
            "Topic 1:  ['police', 'kill', 'raid']\n",
            "Topic 0:  ['risk', 'remain', 'month']\n",
            "Topic 1:  ['mass', 'bangladesh', 'remain']\n",
            "Topic 0:  ['kill', 'militant', 'blast']\n",
            "Topic 1:  ['express', 'pk', 'suicide']\n",
            "Topic 0:  ['kill', 'islam', 'pm']\n",
            "Topic 1:  ['suicide', 'kill', 'islam']\n",
            "Topic 0:  ['room', 'blast', 'south']\n",
            "Topic 1:  ['raid', 'hotel', 'blast']\n",
            "Topic 0:  ['blast', 'bangladesh', 'pk']\n",
            "Topic 1:  ['bangladesh', 'blast', 'dhaka']\n",
            "Topic 0:  ['raid', 'detonate', 'suicide']\n",
            "Topic 1:  ['detonate', 'bomb', 'time']\n",
            "Topic 0:  ['medium', 'incorrect', 'view']\n",
            "Topic 1:  ['view', 'corrupt', 'portrayal']\n",
            "Topic 0:  ['force', 'special', 'attack']\n",
            "Topic 1:  ['attack', 'bangladesh', 'base']\n",
            "Topic 0:  ['suicide', 'break', 'world']\n",
            "Topic 1:  ['police', 'post', 'suicide']\n",
            "Topic 0:  ['police', 'base', 'suicide']\n",
            "Topic 1:  ['force', 'suicide', 'police']\n",
            "Topic 0:  ['suicide', 'attacker', 'camp']\n",
            "Topic 1:  ['attacker', 'business', 'tribune']\n",
            "Topic 0:  ['bomber', 'suspect', 'airport']\n",
            "Topic 1:  ['suicide', 'bomber', 'bangladesh']\n",
            "Topic 0:  ['bangladesh', 'break', 'police']\n",
            "Topic 1:  ['police', 'bomb', 'lull']\n",
            "Topic 0:  ['target', 'attacker', 'camp']\n",
            "Topic 1:  ['bangladesh', 'target', 'suicide']\n",
            "Topic 0:  ['special', 'bomber', 'police']\n",
            "Topic 1:  ['force', 'suicide', 'special']\n",
            "Topic 0:  ['near', 'road', 'injury']\n",
            "Topic 1:  ['dhaka', 'airport', 'bomb']\n",
            "Topic 0:  ['bangladesh', 'force', 'target']\n",
            "Topic 1:  ['force', 'suicide', 'attacker']\n",
            "Topic 0:  ['female', 'bangladesh', 'bombing']\n",
            "Topic 1:  ['bangladesh', 'bombing', 'suicide']\n",
            "Topic 0:  ['suicide', 'surround', 'world']\n",
            "Topic 1:  ['morning', 'police', 'post']\n",
            "Topic 0:  ['target', 'suicide', 'business']\n",
            "Topic 1:  ['target', 'camp', 'bangladesh']\n",
            "Topic 0:  ['kill', 'militant', 'suicide']\n",
            "Topic 1:  ['bangladesh', 'blast', 'kill']\n",
            "Topic 0:  ['suicide', 'suspect', 'world']\n",
            "Topic 1:  ['bangladesh', 'suicide', 'suspect']\n",
            "Topic 0:  ['camp', 'bangladesh', 'suicide']\n",
            "Topic 1:  ['target', 'camp', 'attacker']\n",
            "Topic 0:  ['lull', 'time', 'bombing']\n",
            "Topic 1:  ['ny', 'time', 'police']\n",
            "Topic 0:  ['police', 'bangladesh', 'world']\n",
            "Topic 1:  ['special', 'suicide', 'reuters']\n",
            "Topic 0:  ['blow', 'bangladesh', 'airport']\n",
            "Topic 1:  ['suicide', 'bomber', 'bangladesh']\n",
            "Topic 0:  ['hindu', 'bangladesh', 'suicide']\n",
            "Topic 1:  ['suicide', 'force', 'target']\n",
            "Topic 0:  ['surround', 'militant', 'world']\n",
            "Topic 1:  ['hideout', 'world', 'surround']\n",
            "Topic 0:  ['suicide', 'dy', 'world']\n",
            "Topic 1:  ['suspect', 'bulletin', 'dy']\n",
            "Topic 0:  ['suspected', 'militant', 'world']\n",
            "Topic 1:  ['militant', 'detonate', 'bomb']\n",
            "Topic 0:  ['suspected', 'raid', 'bomb']\n",
            "Topic 1:  ['suicide', 'bomb', 'raid']\n",
            "Topic 0:  ['hit', 'bomb', 'diffuse']\n",
            "Topic 1:  ['bangladesh', 'bomb', 'card']\n",
            "Topic 0:  ['factory', 'garment', 'suicide']\n",
            "Topic 1:  ['suicide', 'survivor', 'commits']\n",
            "Topic 0:  ['bangladesh', 'commit', 'harassment']\n",
            "Topic 1:  ['victim', 'sexual', 'commit']\n",
            "Topic 0:  ['bangladesh', 'roi', 'help']\n",
            "Topic 1:  ['রই', 'bangladesh', 'anonymous']\n",
            "Topic 0:  ['music', 'life', 'simply']\n",
            "Topic 1:  ['life', 'music', 'simply']\n",
            "Topic 0:  ['china', 'bangladesh', 'old']\n",
            "Topic 1:  ['men', 'rate', 'min']\n",
            "Topic 0:  ['bombing', 'egypt', 'bangladesh']\n",
            "Topic 1:  ['egypt', 'bangladesh', 'gaza']\n",
            "Topic 0:  ['mod', 'awareness', 'mental']\n",
            "Topic 1:  ['mental', 'health', 'mod']\n",
            "Topic 0:  ['india', 'info', 'trial']\n",
            "Topic 1:  ['bangladesh', 'sharif', 'khost']\n",
            "Topic 0:  ['monitor', 'fund', 'controversial']\n",
            "Topic 1:  ['charity', 'regime', 'fund']\n",
            "Topic 0:  ['dalit', 'atrocity', 'muslim']\n",
            "Topic 1:  ['muslim', 'dalit', 'atrocity']\n",
            "Topic 0:  ['discussion', 'september', 'thread']\n",
            "Topic 1:  ['thread', 'discussion', 'coronavirusdownunder']\n",
            "Topic 0:  ['south', 'asian', 'help']\n",
            "Topic 1:  ['need', 'asian', 'south']\n",
            "Topic 0:  ['unreached', 'people', 'week']\n",
            "Topic 1:  ['people', 'japan', 'unreached']\n",
            "Topic 0:  ['hindu', 'hindutva', 'visualised']\n",
            "Topic 1:  ['nation', 'hindu', 'rise']\n",
            "Topic 0:  ['movie', 'charulata', 'indian']\n",
            "Topic 1:  ['indian', 'time', 'movie']\n",
            "Topic 0:  ['radical', 'gameplan', 'agenda']\n",
            "Topic 1:  ['gameplan', 'agenda', 'global']\n",
            "Topic 0:  ['discussion', 'september', 'thread']\n",
            "Topic 1:  ['thread', 'discussion', 'coronavirusdownunder']\n",
            "Topic 0:  ['suicide', 'th', 'nov']\n",
            "Topic 1:  ['bombing', 'suicide', 'afghanistan']\n",
            "Topic 0:  ['review', 'style', 'read']\n",
            "Topic 1:  ['read', 'guy', 'green']\n",
            "Topic 0:  ['boycott', 'british', 'ddraig']\n",
            "Topic 1:  ['just', 'olympics', 'expansion']\n",
            "Topic 0:  ['covid', 'dd', 'economy']\n",
            "Topic 1:  ['economy', 'covid', 'dd']\n",
            "Topic 0:  ['today', 'fifth', 'hype']\n",
            "Topic 1:  ['today', 'august', 'history']\n",
            "Topic 0:  ['newspaper', 'publish', 'wouldn']\n",
            "Topic 1:  ['guess', 'local', 'newspaper']\n",
            "Topic 0:  ['bowler', 'world', 'underrated']\n",
            "Topic 1:  ['shami', 'mohammed', 'world']\n",
            "Topic 0:  ['power', 'word', 'war']\n",
            "Topic 1:  ['war', 'world', 'like']\n",
            "Topic 0:  ['sixpenceee', 'therapy', 'song']\n",
            "Topic 1:  ['tumblr', 'fake', 'tale']\n",
            "Topic 0:  ['trafficking', 'human', 'pandemic']\n",
            "Topic 1:  ['human', 'pandemic', 'trafficking']\n",
            "Topic 0:  ['unreached', 'pashayi', 'group']\n",
            "Topic 1:  ['group', 'people', 'afghanistan']\n",
            "Topic 0:  ['ocd', 'licensed', 'suggest']\n",
            "Topic 1:  ['licensed', 'suggest', 'bangladesh']\n",
            "Topic 0:  ['guy', 'rate', 'parent']\n",
            "Topic 1:  ['rate', 'childhood', 'parent']\n",
            "Topic 0:  ['tribunal', 'bangladesh', 'event']\n",
            "Topic 1:  ['genocide', 'bangladesh', 'event']\n",
            "Topic 0:  ['heard', 'asia', 'mass']\n",
            "Topic 1:  ['mass', 'asia', 'heard']\n",
            "Topic 0:  ['second', 'today', 'august']\n",
            "Topic 1:  ['august', 'history', 'hype']\n",
            "Topic 0:  ['religion', 'article', 'world']\n",
            "Topic 1:  ['world', 'help', 'religion']\n",
            "Topic 0:  ['gurwinder', 'brotherhood', 'muslim']\n",
            "Topic 1:  ['brotherhood', 'gurwinder', 'muslim']\n",
            "Topic 0:  ['terrible', 'noahgettheboat', 'sub']\n",
            "Topic 1:  ['sub', 'terrible', 'noahgettheboat']\n",
            "Topic 0:  ['centre', 'doe', 'unknown']\n",
            "Topic 1:  ['identity', 'leapt', 'london']\n",
            "Topic 0:  ['people', 'really', 'majority']\n",
            "Topic 1:  ['manipulate', 'sub', 'piss']\n",
            "Topic 0:  ['india', 'history', 'king']\n",
            "Topic 1:  ['satta', 'note', 'king']\n",
            "Topic 0:  ['muslim', 'angry', 'diplomacy']\n",
            "Topic 1:  ['usa', 'adir', 'diplomacy']\n",
            "Topic 0:  ['like', 'living', 'feel']\n",
            "Topic 1:  ['life', 'like', 'feel']\n",
            "Topic 0:  ['sub', 'unrealistic', 'overdramatic']\n",
            "Topic 1:  ['unrealistic', 'overdramatic', 'sub']\n",
            "Topic 0:  ['high', 'america', 'chance']\n",
            "Topic 1:  ['bangladesh', 'america', 'boy']\n",
            "Topic 0:  ['islamic', 'root', 'theology']\n",
            "Topic 1:  ['root', 'fundamentalism', 'islamic']\n",
            "Topic 0:  ['food', 'india', 'insecurity']\n",
            "Topic 1:  ['insecurity', 'food', 'india']\n",
            "Topic 0:  ['end', 'just', 'wish']\n",
            "Topic 1:  ['wish', 'end', 'just']\n",
            "Topic 0:  ['subreddit', 'pdt', 'stats']\n",
            "Topic 1:  ['stats', 'librandu', 'subreddit']\n",
            "Topic 0:  ['asian', 'book', 'hemispehere']\n",
            "Topic 1:  ['summary', 'hemispehere', 'asian']\n",
            "Topic 0:  ['heart', 'mehndi', 'speech']\n",
            "Topic 1:  ['event', 'heart', 'darkness']\n",
            "Topic 0:  ['canadian', 'contact', 'escape']\n",
            "Topic 1:  ['embassy', 'canadian', 'bangladesh']\n",
            "Topic 0:  ['muslim', 'american', 'truth']\n",
            "Topic 1:  ['american', 'muslim', 'truth']\n",
            "Topic 0:  ['lakh', 'army', 'barely']\n",
            "Topic 1:  ['jammu', 'lakh', 'camp']\n",
            "Topic 0:  ['indian', 'patriarchy', 'society']\n",
            "Topic 1:  ['patriarchy', 'indian', 'society']\n",
            "Topic 0:  ['trade', 'report', 'hro']\n",
            "Topic 1:  ['food', 'trade', 'iran']\n",
            "Topic 0:  ['grade', 'affect', 'health']\n",
            "Topic 1:  ['health', 'mental', 'affect']\n",
            "Topic 0:  ['unit', 'family', 'death']\n",
            "Topic 1:  ['family', 'death', 'unit']\n",
            "Topic 0:  ['share', 'idea', 'valorant']\n",
            "Topic 1:  ['idea', 'share', 'valorant']\n",
            "Topic 0:  ['right', 'mar', 'hershey']\n",
            "Topic 1:  ['human', 'right', 'director']\n",
            "Topic 0:  ['share', 'idea', 'valorant']\n",
            "Topic 1:  ['valorant', 'share', 'idea']\n",
            "Topic 0:  ['people', 'salar', 'china']\n",
            "Topic 1:  ['salar', 'group', 'china']\n",
            "Topic 0:  ['tv', 'class', 'depiction']\n",
            "Topic 1:  ['culture', 'pakistani', 'tv']\n",
            "Topic 0:  ['tense', 'discussion', 'result']\n",
            "Topic 1:  ['discussion', 'rant', 'day']\n",
            "Topic 0:  ['life', 'like', 'woman']\n",
            "Topic 1:  ['like', 'department', 'drop']\n",
            "Topic 0:  ['helpline', 'bangladesh', 'number']\n",
            "Topic 1:  ['number', 'helpline', 'bangladesh']\n",
            "Topic 0:  ['dormitory', 'kranji', 'report']\n",
            "Topic 1:  ['dead', 'dormitory', 'kranji']\n",
            "Topic 0:  ['suppose', 'stranger', 'helpful']\n",
            "Topic 1:  ['talk', 'stranger', 'suppose']\n",
            "Topic 0:  ['jammu', 'rohingyas', 'prc']\n",
            "Topic 1:  ['lakh', 'jammu', 'state']\n",
            "Topic 0:  ['crypto', 'introduce', 'league']\n",
            "Topic 1:  ['superheroes', 'project', 'crypto']\n",
            "Topic 0:  ['fall', 'online', 'like']\n",
            "Topic 1:  ['story', 'share', 'fall']\n",
            "Topic 0:  ['male', 'suicide', 'rate']\n",
            "Topic 1:  ['high', 'suicide', 'country']\n",
            "Topic 0:  ['sexual', 'marriage', 'kafir']\n",
            "Topic 1:  ['month', 'punishment', 'woman']\n",
            "Topic 0:  ['risk', 'depression', 'life']\n",
            "Topic 1:  ['life', 'risk', 'depression']\n",
            "Topic 0:  ['muslim', 'past', 'devote']\n",
            "Topic 1:  ['past', 'experience', 'devote']\n",
            "Topic 0:  ['liberation', 'palestinian', 'patriotism']\n",
            "Topic 1:  ['palestinian', 'liberation', 'patriotism']\n",
            "Topic 0:  ['parent', 'year', 'constantly']\n",
            "Topic 1:  ['commit', 'brother', 'young']\n",
            "Topic 0:  ['tiny', 'muslim', 'myth']\n",
            "Topic 1:  ['radical', 'minority', 'myth']\n",
            "Topic 0:  ['worker', 'woman', 'blood']\n",
            "Topic 1:  ['migrant', 'woman', 'hand']\n",
            "Topic 0:  ['hotlines', 'prevention', 'suicide']\n",
            "Topic 1:  ['prevention', 'hotlines', 'suicide']\n",
            "Topic 0:  ['tumblrs', 'crowdfunded', 'numerous']\n",
            "Topic 1:  ['numerous', 'crowdfunded', 'scam']\n",
            "Topic 0:  ['tiny', 'muslim', 'myth']\n",
            "Topic 1:  ['minority', 'radical', 'tiny']\n",
            "Topic 0:  ['kill', 'say', 'bangladeshi']\n",
            "Topic 1:  ['bangladeshi', 'qaeda', 'affiliate']\n",
            "Topic 0:  ['na', 'life', 'like']\n",
            "Topic 1:  ['mess', 'life', 'na']\n",
            "Topic 0:  ['sks', 'hear', 've']\n",
            "Topic 1:  ['asia', 'hear', 'sks']\n",
            "Topic 0:  ['texas', 'say', 'brother']\n",
            "Topic 1:  ['pact', 'murder', 'suicide']\n",
            "Topic 0:  ['weak', 'destroyed', 'tire']\n",
            "Topic 1:  ['destroyed', 'tire', 'weak']\n",
            "Topic 0:  ['religion', 'death', 'survive']\n",
            "Topic 1:  ['final', 'fight', 'death']\n",
            "Topic 0:  ['want', 'happy', 'stop']\n",
            "Topic 1:  ['happy', 'stop', 'want']\n",
            "Topic 0:  ['compile', 'time', 'porn']\n",
            "Topic 1:  ['evidence', 'effect', 'come']\n",
            "Topic 0:  ['tiny', 'muslim', 'myth']\n",
            "Topic 1:  ['radical', 'minority', 'myth']\n",
            "Topic 0:  ['die', 'say', 'feel']\n",
            "Topic 1:  ['say', 'want', 'bathrobe']\n",
            "Topic 0:  ['just', 'think', 'day']\n",
            "Topic 1:  ['think', 'day', 'know']\n",
            "Topic 0:  ['people', 'really', 'feel']\n",
            "Topic 1:  ['just', 'people', 'person']\n",
            "Topic 0:  ['situation', 'dont', 'know']\n",
            "Topic 1:  ['longer', 'stranger', 'im']\n",
            "Topic 0:  ['life', 'year', 'end']\n",
            "Topic 1:  ['pain', 'fight', 'chickened']\n",
            "Topic 0:  ['help', 'home', 'kill']\n",
            "Topic 1:  ['kill', 'home', 'think']\n",
            "Topic 0:  ['know', 'family', 'school']\n",
            "Topic 1:  ['friend', 'old', 'hate']\n",
            "Topic 0:  ['like', 'just', 'entire']\n",
            "Topic 1:  ['try', 'life', 'entire']\n",
            "Topic 0:  ['ve', 'leave', 'help']\n",
            "Topic 1:  ['leave', 'day', 'girlfriend']\n",
            "Topic 0:  ['plan', 'ripping', 'intention']\n",
            "Topic 1:  ['really', 'plan', 'time']\n",
            "Topic 0:  ['scary', 'hit', 'wake']\n",
            "Topic 1:  ['relief', 'hit', 'know']\n",
            "Topic 0:  ['feel', 'make', 'greedy']\n",
            "Topic 1:  ['professional', 'loved', 'carry']\n",
            "Topic 0:  ['just', 'feel', 'love']\n",
            "Topic 1:  ['feel', 'love', 'bad']\n",
            "Topic 0:  ['feel', 'heart', 'like']\n",
            "Topic 1:  ['actually', 'btw', 'feel']\n",
            "Topic 0:  ['stop', 'people', 'stranger']\n",
            "Topic 1:  ['life', 'people', 'want']\n",
            "Topic 0:  ['time', 'try', 'think']\n",
            "Topic 1:  ['ve', 'll', 'hurt']\n",
            "Topic 0:  ['feel', 'just', 'hardly']\n",
            "Topic 1:  ['just', 'break', 'anymore']\n",
            "Topic 0:  ['think', 'day', 'future']\n",
            "Topic 1:  ['train', 'think', 'reason']\n",
            "Topic 0:  ['positive', 'leap', 'care']\n",
            "Topic 1:  ['nice', 'final', 'dead']\n",
            "Topic 0:  ['just', 'tired', 'people']\n",
            "Topic 1:  ['tired', 'mean', 'world']\n",
            "Topic 0:  ['try', 'affection', 'love']\n",
            "Topic 1:  ['fuck', 'try', 'just']\n",
            "Topic 0:  ['deserve', 'people', 'death']\n",
            "Topic 1:  ['feel', 'kill', 'deserve']\n",
            "Topic 0:  ['don', 'know', 'think']\n",
            "Topic 1:  ['know', 'think', 'year']\n",
            "Topic 0:  ['don', 'hard', 'know']\n",
            "Topic 1:  ['help', 'don', 'hard']\n",
            "Topic 0:  ['wan', 'na', 'wait']\n",
            "Topic 1:  ['na', 'wait', 'rash']\n",
            "Topic 0:  ['alive', 'end', 'trigger']\n",
            "Topic 1:  ['end', 'just', 'trigger']\n",
            "Topic 0:  ['suicide', 'anti', 'sell']\n",
            "Topic 1:  ['student', 'primarily', 'pressure']\n",
            "Topic 0:  ['prevention', 'suicide', 'die']\n",
            "Topic 1:  ['die', 'like', 'prevention']\n",
            "Topic 0:  ['thought', 'suicide', 'ask']\n",
            "Topic 1:  ['suicidal', 'thought', 'gp']\n",
            "Topic 0:  ['suicide', 'basically']\n",
            "Topic 1:  ['basically', 'suicide']\n",
            "Topic 0:  ['prevention', 'slavery', 'suicide']\n",
            "Topic 1:  ['slavery', 'suicide', 'prevention']\n",
            "Topic 0:  ['suicide', 'curse']\n",
            "Topic 1:  ['curse', 'suicide']\n",
            "Topic 0:  ['squad', 'sequel', 'reboot']\n",
            "Topic 1:  ['suicide', 'squad', 'total']\n",
            "Topic 0:  ['ant', 'commits', 'suicide']\n",
            "Topic 1:  ['commits', 'ant', 'suicide']\n",
            "Topic 0:  ['suicide', 'female', 'male']\n",
            "Topic 1:  ['female', 'male', 'ratio']\n",
            "Topic 0:  ['ottawans', 'suicide', 'watch']\n",
            "Topic 1:  ['watch', 'ottawans', 'suicide']\n",
            "Topic 0:  ['prevent', 'bridge', 'suicide']\n",
            "Topic 1:  ['net', 'prevent', 'bridge']\n",
            "Topic 0:  ['suicide', 'commit', 'response']\n",
            "Topic 1:  ['commit', 'response', 'suicide']\n",
            "Topic 0:  ['suicidal', 'passive', 'ideation']\n",
            "Topic 1:  ['ideation', 'passive', 'suicidal']\n",
            "Topic 0:  ['anon', 'com', 'commits']\n",
            "Topic 1:  ['suicide', 'commits', 'imgur']\n",
            "Topic 0:  ['suicide', 'retirement', 'plan']\n",
            "Topic 1:  ['plan', 'gon', 'morbid']\n",
            "Topic 0:  ['employee', 'fellow', 'starbucks']\n",
            "Topic 1:  ['suicide', 'wear', 'fellow']\n",
            "Topic 0:  ['cultural', 'appropriation', 'suicide']\n",
            "Topic 1:  ['suicide', 'cultural', 'appropriation']\n",
            "Topic 0:  ['offender', 'suicide', 'think']\n",
            "Topic 1:  ['think', 'sex', 'offender']\n",
            "Topic 0:  ['stop', 'suicide']\n",
            "Topic 1:  ['suicide', 'stop']\n",
            "Topic 0:  ['goodbye', 'capsule', 'suicide']\n",
            "Topic 1:  ['wave', 'capsule', 'goodbye']\n",
            "Topic 0:  ['google', 'hotline', 'math']\n",
            "Topic 1:  ['suicide', 'simple', 'send']\n",
            "Topic 0:  ['visual', 'wit', 'isekai']\n",
            "Topic 1:  ['isekai', 'suicide', 'teaser']\n",
            "Topic 0:  ['collective', 'climate', 'chief']\n",
            "Topic 1:  ['climate', 'suicide', 'cooperate']\n",
            "Topic 0:  ['thing', 'petah', 'suicide']\n",
            "Topic 1:  ['suicide', 'thing', 'petah']\n",
            "Topic 0:  ['suicide', 'map', 'rate']\n",
            "Topic 1:  ['europe', 'map', 'rate']\n",
            "Topic 0:  ['suicide', 'gatekeeping', 'start']\n",
            "Topic 1:  ['gatekeeping', 'start', 'suicide']\n",
            "Topic 0:  ['suicide', 'gfycat', 'hollowsameiaerismetalmark']\n",
            "Topic 1:  ['http', 'com', 'hollowsameiaerismetalmark']\n",
            "Topic 0:  ['moral', 'just', 'allow']\n",
            "Topic 1:  ['just', 'allow', 'suicide']\n",
            "Topic 0:  ['suicide', 'pastor', 'pro']\n",
            "Topic 1:  ['pro', 'trump', 'bombers']\n",
            "Topic 0:  ['year', 'counsel', 'idea']\n",
            "Topic 1:  ['ve', 'year', 'idea']\n",
            "Topic 0:  ['want', 'pain', 'feel']\n",
            "Topic 1:  ['leave', 'want', 'really']\n",
            "Topic 0:  ['life', 'fully', 'fault']\n",
            "Topic 1:  ['ruin', 'life', 'partially']\n",
            "Topic 0:  ['self', 'young', 'wrong']\n",
            "Topic 1:  ['disappointed', 'wrong', 'self']\n",
            "Topic 0:  ['fun', 'right', 'good']\n",
            "Topic 1:  ['hate', 'fun', 'pop']\n",
            "Topic 0:  ['die', 'year']\n",
            "Topic 1:  ['year', 'die']\n",
            "Topic 0:  ['long', 'state', 'need']\n",
            "Topic 1:  ['really', 'guess', 'sure']\n",
            "Topic 0:  ['just', 'asexual', 'ca']\n",
            "Topic 1:  ['like', 'feel', 'ca']\n",
            "Topic 0:  ['im', 'okay', 'ask']\n",
            "Topic 1:  ['really', 'know', 'just']\n",
            "Topic 0:  ['just', 'want', 'worthless']\n",
            "Topic 1:  ['want', 'suck', 'scar']\n",
            "Topic 0:  ['feel', 'like', 'action']\n",
            "Topic 1:  ['like', 'leave', 'kid']\n",
            "Topic 0:  ['just', 'like', 'start']\n",
            "Topic 1:  ['like', 'zombie', 'know']\n",
            "Topic 0:  ['friend', 'day', 'just']\n",
            "Topic 1:  ['just', 'like', 'think']\n",
            "Topic 0:  ['pain', 'life', 'like']\n",
            "Topic 1:  ['ca', 'like', 'life']\n",
            "Topic 0:  ['na', 'gon', 'stop']\n",
            "Topic 1:  ['good', 'gon', 'stop']\n",
            "Topic 0:  ['im', 'asleep', 'kill']\n",
            "Topic 1:  ['sleep', 'work', 'making']\n",
            "Topic 0:  ['year', 'time', 'waste']\n",
            "Topic 1:  ['run', 'year', 'obviously']\n",
            "Topic 0:  ['wait', 'probably', 'hour']\n",
            "Topic 1:  ['know', 'wait', 'problem']\n",
            "Topic 0:  ['care', 'world', 'people']\n",
            "Topic 1:  ['world', 'people', 'thing']\n",
            "Topic 0:  ['break', 'ca', 'home']\n",
            "Topic 1:  ['need', 'know', 'ca']\n",
            "Topic 0:  ['just', 'leave', 'dude']\n",
            "Topic 1:  ['end', 'just', 'leave']\n",
            "Topic 0:  ['people', 'make', 'antisocial']\n",
            "Topic 1:  ['badly', 'just', 'people']\n",
            "Topic 0:  ['ve', 'wish', 'past']\n",
            "Topic 1:  ['overdose', 'need', 'unreliable']\n",
            "Topic 0:  ['suicide', 'good', 'option']\n",
            "Topic 1:  ['good', 'option', 'pill']\n",
            "Topic 0:  ['want', 'weigh', 'lot']\n",
            "Topic 1:  ['lot', 'currently', 'deal']\n",
            "Topic 0:  ['think', 'everyday', 'suicide']\n",
            "Topic 1:  ['suicide', 'think', 'everyday']\n",
            "Topic 0:  ['rip', 'heartbroken', 'apart']\n",
            "Topic 1:  ['guilt', 'rip', 'apart']\n",
            "Topic 0:  ['write', 'note', 'message']\n",
            "Topic 1:  ['people', 'ultimately', 'note']\n",
            "Topic 0:  ['live', 'extreme', 'tonight']\n",
            "Topic 1:  ['bad', 'actually', 'come']\n",
            "Topic 0:  ['just', 'work', 'anymore']\n",
            "Topic 1:  ['end', 'just', 'make']\n",
            "Topic 0:  ['feel', 'like', 'emotion']\n",
            "Topic 1:  ['like', 'emotion', 'whats']\n",
            "Topic 0:  ['live', 'don', 'school']\n",
            "Topic 1:  ['make', 'live', 'stressed']\n",
            "Topic 0:  ['exist', 'hate']\n",
            "Topic 1:  ['hate', 'exist']\n",
            "Topic 0:  ['parent', 'trust', 'laugh']\n",
            "Topic 1:  ['say', 'trust', 'parent']\n",
            "Topic 0:  ['believe', 'god', 'person']\n",
            "Topic 1:  ['person', 'make', 'know']\n",
            "Topic 0:  ['want', 'parent', 'talk']\n",
            "Topic 1:  ['parent', 'psychological', 'highscool']\n",
            "Topic 0:  ['drug', 'stress', 'money']\n",
            "Topic 1:  ['think', 'll', 'buy']\n",
            "Topic 0:  ['im', 'pain', 'year']\n",
            "Topic 1:  ['just', 'im', 'totally']\n",
            "Topic 0:  ['want', 'stop', 'good']\n",
            "Topic 1:  ['just', 'week', 'ago']\n",
            "Topic 0:  ['pain', 'like', 'begin']\n",
            "Topic 1:  ['want', 'know', 'end']\n",
            "Topic 0:  ['ready', 'weigh', 'make']\n",
            "Topic 1:  ['worth', 'pro', 'don']\n",
            "Topic 0:  ['want', 'exist', 'dont']\n",
            "Topic 1:  ['exist', 'dont', 'want']\n",
            "Topic 0:  ['people', 'ca', 'anymore']\n",
            "Topic 1:  ['ca', 'want', 'good']\n",
            "Topic 0:  ['don', 'anymore', 'ok']\n",
            "Topic 1:  ['like', 'don', 'positive']\n",
            "Topic 0:  ['completely', 'truly', 'defeat']\n",
            "Topic 1:  ['truly', 'belong', 'defeat']\n",
            "Topic 0:  ['dont', 'help', 'ask']\n",
            "Topic 1:  ['help', 'thing', 'want']\n",
            "Topic 0:  ['vacation', 'like', 'time']\n",
            "Topic 1:  ['just', 'like', 'want']\n",
            "Topic 0:  ['don', 'just', 'person']\n",
            "Topic 1:  ['week', 'person', 'end']\n",
            "Topic 0:  ['just', 'say', 'exist']\n",
            "Topic 1:  ['say', 'use', 'crap']\n",
            "Topic 0:  ['feeling', 'write', 'im']\n",
            "Topic 1:  ['ve', 'write', 'im']\n",
            "Topic 0:  ['end', 'play', 'instead']\n",
            "Topic 1:  ['play', 'tell', 'sit']\n",
            "Topic 0:  ['life', 'lucky', 'like']\n",
            "Topic 1:  ['like', 'bad', 'felt']\n",
            "Topic 0:  ['really', 'year', 'way']\n",
            "Topic 1:  ['want', 'really', 'dead']\n",
            "Topic 0:  ['worth', 'struggle', 'life']\n",
            "Topic 1:  ['feel', 'struggle', 'just']\n",
            "Topic 0:  ['reach', 'note', 'time']\n",
            "Topic 1:  ['post', 'note', 've']\n",
            "Topic 0:  ['ptsd', 'year', 'age']\n",
            "Topic 1:  ['want', 'exhausted', 'just']\n",
            "Topic 0:  ['got', 'want', 'arrest']\n",
            "Topic 1:  ['arrest', 'die', 'got']\n",
            "Topic 0:  ['day', 'motivation', 'zone']\n",
            "Topic 1:  ['motivation', 'sleep', 'kill']\n",
            "Topic 0:  ['feel', 'fine', 'think']\n",
            "Topic 1:  ['fine', 'think', 'die']\n",
            "Topic 0:  ['just', 'sad', 'think']\n",
            "Topic 1:  ['think', 'sad', 'bf']\n",
            "Topic 0:  ['think', 'frustrating', 'start']\n",
            "Topic 1:  ['time', 'just', 'think']\n",
            "Topic 0:  ['just', 'feel', 'love']\n",
            "Topic 1:  ['feel', 'think', 'really']\n",
            "Topic 0:  ['just', 'world', 'shit']\n",
            "Topic 1:  ['world', 'day', 'want']\n",
            "Topic 0:  ['im', 'painful', 'benadryl']\n",
            "Topic 1:  ['young', 'painful', 'benadryl']\n",
            "Topic 0:  ['extremely', 'life', 'unfulfilling']\n",
            "Topic 1:  ['life', 'extremely', 'unfulfilling']\n",
            "Topic 0:  ['meet', 'dead', 'think']\n",
            "Topic 1:  ['ve', 'ashamed', 'family']\n",
            "Topic 0:  ['want', 'destroy', 'die']\n",
            "Topic 1:  ['die', 'destroy', 'want']\n",
            "Topic 0:  ['time', 'want', 'thing']\n",
            "Topic 1:  ['like', 'want', 'tonight']\n",
            "Topic 0:  ['son', 'good', 've']\n",
            "Topic 1:  ['good', 'matter', 'time']\n",
            "Topic 0:  ['good', 'make', 'suffer']\n",
            "Topic 1:  ['think', 'goodbye', 'good']\n",
            "Topic 0:  ['easy', 'look', 'sort']\n",
            "Topic 1:  ['im', 'look', 'care']\n",
            "Topic 0:  ['ca', 'im', 'just']\n",
            "Topic 1:  ['im', 'just', 'stop']\n",
            "Topic 0:  ['life', 'pas', 'remorse']\n",
            "Topic 1:  ['really', 'live', 'pas']\n",
            "Topic 0:  ['fuck', 'fucking', 'ziptie']\n",
            "Topic 1:  ['funny', 'knek', 'round']\n",
            "Topic 0:  ['mental', 'illness', 'point']\n",
            "Topic 1:  ['friendship', 'point', 'continue']\n",
            "Topic 0:  ['deserve', 'sympathy', 'mean']\n",
            "Topic 1:  ['shitty', 'ask', 'mean']\n",
            "Topic 0:  ['make', 'decision', 'hope']\n",
            "Topic 1:  ['hour', 'make', 'life']\n",
            "Topic 0:  ['feel', 'want', 'tire']\n",
            "Topic 1:  ['just', 'want', 'leave']\n",
            "Topic 0:  ['think', 'ca', 'na']\n",
            "Topic 1:  ['ca', 'year', 'option']\n",
            "Topic 0:  ['don', 'end', 'bad']\n",
            "Topic 1:  ['good', 'end', 'bad']\n",
            "Topic 0:  ['ca', 'like', 'academic']\n",
            "Topic 1:  ['feel', 'ca', 'like']\n",
            "Topic 0:  ['want', 'leave', 've']\n",
            "Topic 1:  ['leave', 'make', 'easy']\n",
            "Topic 0:  ['just', 'like', 'throw']\n",
            "Topic 1:  ['like', 'don', 'person']\n",
            "Topic 0:  ['seriously', 'mean', 'think']\n",
            "Topic 1:  ['planet', 'seriously', 'mean']\n",
            "Topic 0:  ['just', 'people', 'fuck']\n",
            "Topic 1:  ['people', 'like', 'eachother']\n",
            "Topic 0:  ['just', 'want', 'know']\n",
            "Topic 1:  ['want', 'know', 'goal']\n",
            "Topic 0:  ['help', 'know', 'black']\n",
            "Topic 1:  ['wake', 'don', 'help']\n",
            "Topic 0:  ['make', 'guy', 'alright']\n",
            "Topic 1:  ['day', 'bit', 'alright']\n",
            "Topic 0:  ['think', 'just', 'slowly']\n",
            "Topic 1:  ['scar', 'slowly', 'just']\n",
            "Topic 0:  ['feel', 'like', 'just']\n",
            "Topic 1:  ['just', 'fuck', 'mood']\n",
            "Topic 0:  ['know', 'want', 'feel']\n",
            "Topic 1:  ['want', 'big', 'answer']\n",
            "Topic 0:  ['time', 'pain', 'strong']\n",
            "Topic 1:  ['pain', 'strong', 'time']\n",
            "Topic 0:  ['hate', 'wake', 'piece']\n",
            "Topic 1:  ['wake', 'vase', 'day']\n",
            "Topic 0:  ['end', 've', 'feel']\n",
            "Topic 1:  ['want', 'end', 'just']\n",
            "Topic 0:  ['like', 'reset', 'suicide']\n",
            "Topic 1:  ['end', 'day', 'peaceful']\n",
            "Topic 0:  ['fuck', 'think', 'end']\n",
            "Topic 1:  ['end', 'best', 'time']\n",
            "Topic 0:  ['ibuprofen', 'od', 'hang']\n",
            "Topic 1:  ['sertraline', 'need', 'codeine']\n",
            "Topic 0:  ['want', 'people', 'friend']\n",
            "Topic 1:  ['tell', 'want', 'people']\n",
            "Topic 0:  ['maybe', 'suicide', 'win']\n",
            "Topic 1:  ['know', 'maybe', 'time']\n",
            "Topic 0:  ['think', 'family', 'need']\n",
            "Topic 1:  ['just', 'chance', 've']\n",
            "Topic 0:  ['life', 'right', 'feel']\n",
            "Topic 1:  ['right', 'love', 'beautiful']\n",
            "Topic 0:  ['treat', 'happen', 'cruelty']\n",
            "Topic 1:  ['cruelty', 'people', 'happen']\n",
            "Topic 0:  ['ca', 'hate', 'anymore']\n",
            "Topic 1:  ['life', 'hate', 'jail']\n",
            "Topic 0:  ['try', 'courage', 'hard']\n",
            "Topic 1:  ['end', 'hard', 'actually']\n",
            "Topic 0:  ['maybe', 'family', 'week']\n",
            "Topic 1:  ['anymore', 'maybe', 'accuse']\n",
            "Topic 0:  ['life', 'ruin']\n",
            "Topic 1:  ['ruin', 'life']\n",
            "Topic 0:  ['quit', 'thought', 'certain']\n",
            "Topic 1:  ['certain', 'fuck', 'terrifying']\n",
            "Topic 0:  ['hurt', 'stop', 'people']\n",
            "Topic 1:  ['stop', 'want', 'best']\n",
            "Topic 0:  ['just', 'today', 'make']\n",
            "Topic 1:  ['make', 'hate', 'people']\n",
            "Topic 0:  ['easy', 've', 'die']\n",
            "Topic 1:  ['die', 'wonder', 'like']\n",
            "Topic 0:  ['feel', 'useful', 'sooner']\n",
            "Topic 1:  ['life', 'toi', 'exept']\n",
            "Topic 0:  ['year', 'life', 'mental']\n",
            "Topic 1:  ['make', 'life', 'good']\n",
            "Topic 0:  ['method', 'painful', 'think']\n",
            "Topic 1:  ['think', 'suicide', 'method']\n",
            "Topic 0:  ['suicide', 'option', 'feel']\n",
            "Topic 1:  ['feel', 'like', 'option']\n",
            "Topic 0:  ['god', 'make', 'real']\n",
            "Topic 1:  ['start', 'god', 'like']\n",
            "Topic 0:  ['attempt', 'scar', 'forward']\n",
            "Topic 1:  ['scar', 'want', 'work']\n",
            "Topic 0:  ['don', 've', 'anymore']\n",
            "Topic 1:  ['want', 'don', 've']\n",
            "Topic 0:  ['don', 'really', 'treat']\n",
            "Topic 1:  ['care', 'really', 'just']\n",
            "Topic 0:  ['future', 'think', 'successful']\n",
            "Topic 1:  ['time', 'future', 'think']\n",
            "Topic 0:  ['night', 'want', 'gym']\n",
            "Topic 1:  ['want', 'don', 'negative']\n",
            "Topic 0:  ['hate', 'just', 'vent']\n",
            "Topic 1:  ['just', 'know', 'best']\n",
            "Topic 0:  ['wrong', 'live', 'think']\n",
            "Topic 1:  ['wish', 'wrong', 'ghost']\n",
            "Topic 0:  ['painful', 'die', 'moment']\n",
            "Topic 1:  ['die', 'remember', 'distract']\n",
            "Topic 0:  ['know', 'stupid', 'ugly']\n",
            "Topic 1:  ['bear', 'live', 'basically']\n",
            "Topic 0:  ['just', 'tire', 'really']\n",
            "Topic 1:  ['end', 'just', 'tire']\n",
            "Topic 0:  ['know', 'dude', 'past']\n",
            "Topic 1:  ['dude', 'dang', 'hate']\n",
            "Topic 0:  ['just', 'crisis', 'like']\n",
            "Topic 1:  ['crisis', 'like', 'sit']\n",
            "Topic 0:  ['decide', 'world', 'thing']\n",
            "Topic 1:  ['thing', 'na', 'time']\n",
            "Topic 0:  ['don', 'just', 'abused']\n",
            "Topic 1:  ['life', 'don', 'abused']\n",
            "Topic 0:  ['write', 'try', 'disappointed']\n",
            "Topic 1:  ['write', 'kms', 'note']\n",
            "Topic 0:  ['constantly', 'life', 'normal']\n",
            "Topic 1:  ['just', 'life', 'pain']\n",
            "Topic 0:  ['just', 'stop', 'time']\n",
            "Topic 1:  ['want', 'feel', 'just']\n",
            "Topic 0:  ['day', 'destroy', 'good']\n",
            "Topic 1:  ['proud', 'good', 'hope']\n",
            "Topic 0:  ['week', 'want', 'suppose']\n",
            "Topic 1:  ['want', 'suppose', 'don']\n",
            "Topic 0:  ['think', 'react', 'grade']\n",
            "Topic 1:  ['react', 'daydream', 'everyday']\n",
            "Topic 0:  ['die', 'think', 'live']\n",
            "Topic 1:  ['want', 'die', 'life']\n",
            "Topic 0:  ['just', 'care', 'tell']\n",
            "Topic 1:  ['tell', 'constantly', 'friend']\n",
            "Topic 0:  ['feel', 'make', 'anxiety']\n",
            "Topic 1:  ['anxiety', 've', 'really']\n",
            "Topic 0:  ['im', 'die', 'vking']\n",
            "Topic 1:  ['coward', 'die', 'im']\n",
            "Topic 0:  ['don', 'year', 'afraid']\n",
            "Topic 1:  ['know', 'alive', 'na']\n",
            "Topic 0:  ['custody', 'sister', 'little']\n",
            "Topic 1:  ['right', 'voluntary', 'little']\n",
            "Topic 0:  ['restart', 'die', 'want']\n",
            "Topic 1:  ['die', 'restart', 'want']\n",
            "Topic 0:  ['know', 'help', 'ask']\n",
            "Topic 1:  ['help', 'ask', 'month']\n",
            "Topic 0:  ['feel', 'life', 'ruin']\n",
            "Topic 1:  ['leave', 'hate', 'know']\n",
            "Topic 0:  ['touch', 'destroy', 'way']\n",
            "Topic 1:  ['living', 'touch', 'bubble']\n",
            "Topic 0:  ['good', 'try', 'past']\n",
            "Topic 1:  ['end', 'fuck', 'throw']\n",
            "Topic 0:  ['student', 'kashmiri', 'appear']\n",
            "Topic 1:  ['kashmiri', 'appear', 'medical']\n",
            "Topic 0:  ['akash', 'life', 'police']\n",
            "Topic 1:  ['hospital', 'dr', 'adultery']\n",
            "Topic 0:  ['live', 'really', 'team']\n",
            "Topic 1:  ['mohashin', 'say', 'facebook']\n",
            "Topic 0:  ['travel', 'police', 'warn']\n",
            "Topic 1:  ['murder', 'model', 'claim']\n",
            "Topic 0:  ['help', 'ask', 'let']\n",
            "Topic 1:  ['talk', 'mental', 'suicide']\n",
            "Topic 0:  ['anxiety', 'disorder', 'heartbeat']\n",
            "Topic 1:  ['disorder', 'feel', 'fear']\n",
            "Topic 0:  ['kabul', 'attack', 'gunman']\n",
            "Topic 1:  ['attack', 'afghanistan', 'afghan']\n",
            "Topic 0:  ['year', 'life', 'hmm']\n",
            "Topic 1:  ['suicide', 'year', 'depression']\n",
            "Topic 0:  ['body', 'evolve', 'life']\n",
            "Topic 1:  ['mental', 'evolve', 'unhealthy']\n",
            "Topic 0:  ['world', 'positivity', 'ups']\n",
            "Topic 1:  ['let', 'suicidepreventionday', 'metlife']\n",
            "Topic 0:  ['teenager', 'dr', 'research']\n",
            "Topic 1:  ['parent', 'research', 'commit']\n",
            "Topic 0:  ['world', 'video', 'day']\n",
            "Topic 1:  ['video', 'day', 'play']\n",
            "Topic 0:  ['people', 'suicide', 'year']\n",
            "Topic 1:  ['suicidal', 'thought', 'prevention']\n",
            "Topic 0:  ['stopsuicide', 'awareness_on_suicide_prevention', 'spsbd']\n",
            "Topic 1:  ['stop_suicide', 'awareness_on_suicide_prevention', 'spsbd']\n",
            "Topic 0:  ['protect', 'spsbd', 'squad']\n",
            "Topic 1:  ['squad', 'spsbd', 'bangladesh']\n",
            "Topic 0:  ['mi', 'nm', 'version']\n",
            "Topic 1:  ['ne', 'bangladesh', 'mi']\n",
            "Topic 0:  ['student', 'try', 'mbbs']\n",
            "Topic 1:  ['kashmiri', 'thekashmirmonitor', 'bangladesh']\n",
            "Topic 0:  ['people', 'lockdown', 'write']\n",
            "Topic 1:  ['lockdown', 'close', 'stay']\n",
            "Topic 0:  ['khulna', 'reason', 'play']\n",
            "Topic 1:  ['data', 'play', 'commit']\n",
            "Topic 0:  ['phd', 'rahman', 'mahfuzur']\n",
            "Topic 1:  ['virginia', 'phd', 'rahman']\n",
            "Topic 0:  ['world', 'day', 'saynotosuicide']\n",
            "Topic 1:  ['day', 'prevention', 'saynotosuicide']\n",
            "Topic 0:  ['elderly', 'social', 'panchagarh']\n",
            "Topic 1:  ['social', 'people', 'vulnerable']\n",
            "Topic 0:  ['webinar', 'dr', 'suicide']\n",
            "Topic 1:  ['suicide', 'professor', 'law']\n",
            "Topic 0:  ['story', 'suicide', 'million']\n",
            "Topic 1:  ['million', 'silent', 'story']\n",
            "Topic 0:  ['check', 'cmhzzj', 'gy']\n",
            "Topic 1:  ['cricketer', 'http', 'cmhzzj']\n",
            "Topic 0:  ['kill', 'dead', 'brother']\n",
            "Topic 1:  ['family', 'member', 'believe']\n",
            "Topic 0:  ['suicide', 'include', 'mastermind']\n",
            "Topic 1:  ['suicide', 'attack', 'mastermind']\n",
            "Topic 0:  ['world', 'day', 'saynotosuicide']\n",
            "Topic 1:  ['day', 'prevention', 'saynotosuicide']\n",
            "Topic 0:  ['islam', 'sajib', 'age']\n",
            "Topic 1:  ['islam', 'suicide', 'sajibul']\n",
            "Topic 0:  ['attempt', 'video', 'suicide']\n",
            "Topic 1:  ['erosnow', 'priyanka', 'ranbirkapoorplay']\n",
            "Topic 0:  ['build', 'city', 'sheikh']\n",
            "Topic 1:  ['sheikh', 'dubai', 'article']\n",
            "Topic 0:  ['organisation', 'commit', 'mental']\n",
            "Topic 1:  ['brac', 'friendly', 'health']\n",
            "Topic 0:  ['towhid', 'form', 'suicide']\n",
            "Topic 1:  ['shoot', 'form', 'police']\n",
            "Topic 0:  ['suicide', 'murder', 'texas']\n",
            "Topic 1:  ['texas', 'family', 'brother']\n",
            "Topic 0:  ['suicide', 'female', 'militant']\n",
            "Topic 1:  ['female', 'militant', 'bangladesh']\n",
            "Topic 0:  ['suicide', 'yeardhakatribune', 'day']\n",
            "Topic 1:  ['people', 'year', 'save']\n",
            "Topic 0:  ['percent', 'social', 'covid']\n",
            "Topic 1:  ['need', 'percent', 'community']\n",
            "Topic 0:  ['bangladesh', 'http', 'youtube']\n",
            "Topic 1:  ['match', 'gl', 'goo']\n",
            "Topic 0:  ['suicide', 'punishable', 'prosecute']\n",
            "Topic 1:  ['country', 'report', 'child']\n",
            "Topic 0:  ['erosnow', 'attempt', 'priyankachopra']\n",
            "Topic 1:  ['priyanka', 'succeed', 'anjaanaanjaani']\n",
            "Topic 0:  ['trend', 'new', 'youtube']\n",
            "Topic 1:  ['trend', 'bangladesh', 'subscribe']\n",
            "Topic 0:  ['defeat', 'life', 'comindian']\n",
            "Topic 1:  ['fan', 'commits', 'life']\n",
            "Topic 0:  ['near', 'blow', 'bomber']\n",
            "Topic 1:  ['bangladesh', 'bomber', 'near']\n",
            "Topic 0:  ['suicide', 'punish', 'shall']\n",
            "Topic 1:  ['imprisonment', 'code', 'penal']\n",
            "Topic 0:  ['report', 'police', 'crossfire']\n",
            "Topic 1:  ['publish', 'police', 'extra']\n",
            "Topic 0:  ['home', 'pact', 'social']\n",
            "Topic 1:  ['dead', 'tragedy', 'ca']\n",
            "Topic 0:  ['today', 'birthday', 'rest']\n",
            "Topic 1:  ['day', 'birthday', 'بيسميللاه_هير_رحمانير_راحيم']\n",
            "Topic 0:  ['day', 'awal', 'life']\n",
            "Topic 1:  ['today', 'day', 'peace']\n",
            "Topic 0:  ['flag', 'hoist', 'house']\n",
            "Topic 1:  ['day', 'flag', 'hoist']\n",
            "Topic 0:  ['life', 'accept', 'defeat']\n",
            "Topic 1:  ['fighting', 'defeat', 'accept']\n",
            "Topic 0:  ['dream', 'stop', 'moment']\n",
            "Topic 1:  ['excuse', 'dream', 'jordan']\n",
            "Topic 0:  ['sundarbans', 'environment', 'rahima']\n",
            "Topic 1:  ['protect', 'tree', 'environment']\n",
            "Topic 0:  ['suicide', 'dhaka', 'live']\n",
            "Topic 1:  ['dhaka', 'अल', 'चक']\n",
            "Topic 0:  ['day', 'overcome', 'mental']\n",
            "Topic 1:  ['day', 'activity', 'mind']\n",
            "Topic 0:  ['mental', 'strength', 'strong']\n",
            "Topic 1:  ['think', 'strong', 'point']\n",
            "Topic 0:  ['depression', 'suffer', 'world']\n",
            "Topic 1:  ['suffer', 'talk', 'depression']\n",
            "Topic 0:  ['group', 'people', 'wait']\n",
            "Topic 1:  ['people', 'wait', 'farooq']\n",
            "Topic 0:  ['family', 'father', 'say']\n",
            "Topic 1:  ['father', 'make', 'islam']\n",
            "Topic 0:  ['body', 'evolve', 'danger']\n",
            "Topic 1:  ['mental', 'life', 'stress']\n",
            "Topic 0:  ['day', 'leg', 'doctor']\n",
            "Topic 1:  ['leg', 'doctor', 'house']\n",
            "Topic 0:  ['suicide', 'important', 'example']\n",
            "Topic 1:  ['know', 'example', 'facebook']\n",
            "Topic 0:  ['day', 'life', 'like']\n",
            "Topic 1:  ['life', 'lose', 'like']\n",
            "Topic 0:  ['tamuk', 'daughter', 'son']\n",
            "Topic 1:  ['day', 'tamuk', 'home']\n",
            "Topic 0:  ['parent', 'year', 'bear']\n",
            "Topic 1:  ['understand', 'bear', 'family']\n",
            "Topic 0:  ['people', 'room', 'old']\n",
            "Topic 1:  ['japan', 'loneliness', 'company']\n",
            "Topic 0:  ['terrible', 'fog', 'know']\n",
            "Topic 1:  ['unknown', 'know', 'form']\n",
            "Topic 0:  ['insult', 'today', 'common']\n",
            "Topic 1:  ['love', 'think', 'common']\n",
            "Topic 0:  ['near', 'time', 'life']\n",
            "Topic 1:  ['life', 'depression', 'near']\n",
            "Topic 0:  ['scary', 'morgue', 'form']\n",
            "Topic 1:  ['body', 'change', 'dead']\n",
            "Topic 0:  ['like', 'love', 'crazy']\n",
            "Topic 1:  ['love', 'say', 'people']\n",
            "Topic 0:  ['love', 'money', 'future']\n",
            "Topic 1:  ['pressure', 'love', 'depression']\n",
            "Topic 0:  ['term', 'save', 'lot']\n",
            "Topic 1:  ['need', 'justice', 'word']\n",
            "Topic 0:  ['teacher', 'start', 'tell']\n",
            "Topic 1:  ['say', 'teacher', 'start']\n",
            "Topic 0:  ['away', 'longer', 'content']\n",
            "Topic 1:  ['content', 'pause', 'longer']\n",
            "Topic 0:  ['instead', 'life', 'make']\n",
            "Topic 1:  ['make', 'judge', 'single']\n",
            "Topic 0:  ['আম', 'কর', 'act']\n",
            "Topic 1:  ['আর', 'আম', 'পর']\n",
            "Topic 0:  ['time', 'friend', 'beginning']\n",
            "Topic 1:  ['allah', 'time', 'result']\n",
            "Topic 0:  ['chester', 'suicide', 'worried']\n",
            "Topic 1:  ['worried', 'bennington', 'people']\n"
          ]
        }
      ],
      "source": [
        "#and use regular expression to keep only letters we will use nltk Regular expression package\n",
        "tkr = RegexpTokenizer('[a-zA-Z@]+')\n",
        "\n",
        "text_split = []\n",
        "cnt = 0\n",
        "for x in df3['cleaned']:\n",
        "    # print(x)\n",
        "\n",
        "    text = str(x).lower().split()\n",
        "    text = tkr.tokenize(str(text))\n",
        "    # text_split.append(text)\n",
        "\n",
        "    tfidf = TfidfVectorizer(stop_words='english')\n",
        "\n",
        "    response = tfidf.fit_transform(x)\n",
        "\n",
        "    # print (tfidf.get_feature_names_out())\n",
        "    # Define the number of topics or components\n",
        "    num_components=2\n",
        "\n",
        "    # Create SVD object\n",
        "    lsa = TruncatedSVD(n_components=num_components, n_iter=100, random_state=42)\n",
        "\n",
        "    # Fit SVD model on data\n",
        "    lsa.fit_transform(response)\n",
        "\n",
        "    # Get Singular values and Components\n",
        "    Sigma = lsa.singular_values_\n",
        "    V_transpose = lsa.components_.T\n",
        "\n",
        "    # Print the topics with their terms\n",
        "    terms = tfidf.get_feature_names_out()\n",
        "    # print(terms)\n",
        "\n",
        "    # print(cnt)\n",
        "    cnt += 1\n",
        "    temp = []\n",
        "    for index, component in enumerate(lsa.components_):\n",
        "        zipped = zip(terms, component)\n",
        "        top_terms_key=sorted(zipped, key = lambda t: t[1], reverse=True)[:3]\n",
        "        top_terms_list=list(dict(top_terms_key).keys())\n",
        "        print(\"Topic \"+str(index)+\": \",top_terms_list)\n",
        "        temp = temp + top_terms_list\n",
        "\n",
        "    text_split.append(text+temp)\n",
        "\n",
        "# print(cnt)\n",
        "# print(text_split[1:2])\n",
        "# print(tems)\n",
        "# print(top_terms_list)"
      ]
    },
    {
      "cell_type": "markdown",
      "source": [
        "**TOTAL LENGTH OF DATA**"
      ],
      "metadata": {
        "id": "QwoTOebYGjD8"
      }
    },
    {
      "cell_type": "code",
      "execution_count": null,
      "metadata": {
        "colab": {
          "base_uri": "https://localhost:8080/"
        },
        "id": "eCCd5lKCISgR",
        "outputId": "2ec20e4e-febf-4d49-e97d-acb8fd238fa7"
      },
      "outputs": [
        {
          "output_type": "execute_result",
          "data": {
            "text/plain": [
              "785"
            ]
          },
          "metadata": {},
          "execution_count": 25
        }
      ],
      "source": [
        "len(text_split)"
      ]
    },
    {
      "cell_type": "markdown",
      "source": [
        "**PRE-TRAINED WORD2VEC MODELB OF GOOGLE READING FROM DRIVE**"
      ],
      "metadata": {
        "id": "U-VoysrbG9ki"
      }
    },
    {
      "cell_type": "code",
      "execution_count": null,
      "metadata": {
        "id": "TpPYIZrrUGh4"
      },
      "outputs": [],
      "source": [
        "'''\n",
        "Use pretrained Word2Vec model from google but trim the word list to 50,0000 compared to 300,000 in the original\n",
        "Google pretrained model\n",
        "'''\n",
        "from gensim.models import KeyedVectors\n",
        "\n",
        "# Load the Word2Vec model\n",
        "w2vModel = KeyedVectors.load_word2vec_format('/content/drive/MyDrive/Pattern/Lab/Project/word2vec/GoogleNews-vectors-negative300.bin.gz', binary=True, limit=50000)\n",
        "\n",
        "\n",
        "# w2vModel = word2vec.KeyedVectors.load_word2vec_format('/content/drive/MyDrive/Pattern/Lab/Project/word2vec/GoogleNews-vectors-negative300.bin.gz', binary=True, limit=50000)"
      ]
    },
    {
      "cell_type": "code",
      "execution_count": null,
      "metadata": {
        "id": "6YEDm2vPanTV"
      },
      "outputs": [],
      "source": [
        "binary_labels =df3['sentiment']"
      ]
    },
    {
      "cell_type": "code",
      "source": [
        "!pip install Keras"
      ],
      "metadata": {
        "colab": {
          "base_uri": "https://localhost:8080/"
        },
        "id": "Qt5hpcpXKwS2",
        "outputId": "a3b42ddf-b33f-4a6c-fe0d-14725a9fc7bf"
      },
      "execution_count": null,
      "outputs": [
        {
          "output_type": "stream",
          "name": "stdout",
          "text": [
            "Requirement already satisfied: Keras in /usr/local/lib/python3.10/dist-packages (2.15.0)\n"
          ]
        }
      ]
    },
    {
      "cell_type": "code",
      "source": [
        "from tensorflow.keras.preprocessing.text import Tokenizer\n"
      ],
      "metadata": {
        "id": "xQRiJrUnKtHg"
      },
      "execution_count": null,
      "outputs": []
    },
    {
      "cell_type": "code",
      "execution_count": null,
      "metadata": {
        "colab": {
          "base_uri": "https://localhost:8080/"
        },
        "id": "88HkLyF7Ubqz",
        "outputId": "16aaf939-0ff4-41f1-e4ec-ece4931263f6"
      },
      "outputs": [
        {
          "output_type": "execute_result",
          "data": {
            "text/plain": [
              "1670"
            ]
          },
          "metadata": {},
          "execution_count": 30
        }
      ],
      "source": [
        "#Convert words to integers\n",
        "tokenizer = Tokenizer()\n",
        "tokenizer.fit_on_texts(text_split)\n",
        "X = tokenizer.texts_to_sequences(text_split)\n",
        "# X[10]\n",
        "# X.shape[1]\n",
        "L = len(max(X, key=len))\n",
        "L"
      ]
    },
    {
      "cell_type": "code",
      "execution_count": null,
      "metadata": {
        "colab": {
          "base_uri": "https://localhost:8080/"
        },
        "id": "iGTiVC9jUlBJ",
        "outputId": "a61b1c44-b769-4539-cda3-1f187f491917"
      },
      "outputs": [
        {
          "output_type": "stream",
          "name": "stdout",
          "text": [
            "(785, 1670)\n"
          ]
        },
        {
          "output_type": "execute_result",
          "data": {
            "text/plain": [
              "array([[   0,    0,    0, ...,  183, 1268, 1266],\n",
              "       [   0,    0,    0, ...,   69, 1711, 1710],\n",
              "       [   0,    0,    0, ..., 1269,  449, 1712],\n",
              "       ...,\n",
              "       [   0,    0,    0, ..., 4357, 2527, 4358],\n",
              "       [   0,    0,    0, ...,  701,   55,  597],\n",
              "       [   0,    0,    0, ..., 1707, 2530,   37]], dtype=int32)"
            ]
          },
          "metadata": {},
          "execution_count": 31
        }
      ],
      "source": [
        "#lenght of tweet to consider\n",
        "maxlentweet = L\n",
        "#add padding\n",
        "X = pad_sequences(X, maxlen=maxlentweet)\n",
        "print(X.shape)\n",
        "X"
      ]
    },
    {
      "cell_type": "code",
      "execution_count": null,
      "metadata": {
        "colab": {
          "base_uri": "https://localhost:8080/"
        },
        "id": "nzP2n-cFUoVG",
        "outputId": "5ab6c98b-7a8f-4c1b-912a-39dc40d3798b"
      },
      "outputs": [
        {
          "output_type": "stream",
          "name": "stdout",
          "text": [
            "(50000, 300)\n"
          ]
        }
      ],
      "source": [
        "# w2vModel.syn0.shape\n",
        "\n",
        "# Access the word vectors directly\n",
        "vectors = w2vModel.vectors\n",
        "\n",
        "# Get the shape of the word vectors\n",
        "shape = vectors.shape\n",
        "print(shape)"
      ]
    },
    {
      "cell_type": "markdown",
      "metadata": {
        "id": "DAh8qEgJVuq2"
      },
      "source": [
        "# Bert"
      ]
    },
    {
      "cell_type": "markdown",
      "metadata": {
        "id": "k2wR48i1Bh3H"
      },
      "source": [
        "# New Section"
      ]
    },
    {
      "cell_type": "code",
      "execution_count": null,
      "metadata": {
        "colab": {
          "base_uri": "https://localhost:8080/"
        },
        "id": "uXuwMLa5b3SF",
        "outputId": "2e059842-6dbc-4a2b-db35-b24049fb8a2e"
      },
      "outputs": [
        {
          "output_type": "stream",
          "name": "stdout",
          "text": [
            "Requirement already satisfied: tensorflow-text==2.15.0 in /usr/local/lib/python3.10/dist-packages (2.15.0)\n",
            "Requirement already satisfied: tensorflow-hub>=0.13.0 in /usr/local/lib/python3.10/dist-packages (from tensorflow-text==2.15.0) (0.15.0)\n",
            "Requirement already satisfied: tensorflow<2.16,>=2.15.0 in /usr/local/lib/python3.10/dist-packages (from tensorflow-text==2.15.0) (2.15.1)\n",
            "Requirement already satisfied: absl-py>=1.0.0 in /usr/local/lib/python3.10/dist-packages (from tensorflow<2.16,>=2.15.0->tensorflow-text==2.15.0) (1.4.0)\n",
            "Requirement already satisfied: astunparse>=1.6.0 in /usr/local/lib/python3.10/dist-packages (from tensorflow<2.16,>=2.15.0->tensorflow-text==2.15.0) (1.6.3)\n",
            "Requirement already satisfied: flatbuffers>=23.5.26 in /usr/local/lib/python3.10/dist-packages (from tensorflow<2.16,>=2.15.0->tensorflow-text==2.15.0) (24.3.25)\n",
            "Requirement already satisfied: gast!=0.5.0,!=0.5.1,!=0.5.2,>=0.2.1 in /usr/local/lib/python3.10/dist-packages (from tensorflow<2.16,>=2.15.0->tensorflow-text==2.15.0) (0.5.4)\n",
            "Requirement already satisfied: google-pasta>=0.1.1 in /usr/local/lib/python3.10/dist-packages (from tensorflow<2.16,>=2.15.0->tensorflow-text==2.15.0) (0.2.0)\n",
            "Requirement already satisfied: h5py>=2.9.0 in /usr/local/lib/python3.10/dist-packages (from tensorflow<2.16,>=2.15.0->tensorflow-text==2.15.0) (3.9.0)\n",
            "Requirement already satisfied: libclang>=13.0.0 in /usr/local/lib/python3.10/dist-packages (from tensorflow<2.16,>=2.15.0->tensorflow-text==2.15.0) (18.1.1)\n",
            "Requirement already satisfied: ml-dtypes~=0.3.1 in /usr/local/lib/python3.10/dist-packages (from tensorflow<2.16,>=2.15.0->tensorflow-text==2.15.0) (0.3.2)\n",
            "Requirement already satisfied: numpy<2.0.0,>=1.23.5 in /usr/local/lib/python3.10/dist-packages (from tensorflow<2.16,>=2.15.0->tensorflow-text==2.15.0) (1.25.2)\n",
            "Requirement already satisfied: opt-einsum>=2.3.2 in /usr/local/lib/python3.10/dist-packages (from tensorflow<2.16,>=2.15.0->tensorflow-text==2.15.0) (3.3.0)\n",
            "Requirement already satisfied: packaging in /usr/local/lib/python3.10/dist-packages (from tensorflow<2.16,>=2.15.0->tensorflow-text==2.15.0) (24.0)\n",
            "Requirement already satisfied: protobuf!=4.21.0,!=4.21.1,!=4.21.2,!=4.21.3,!=4.21.4,!=4.21.5,<5.0.0dev,>=3.20.3 in /usr/local/lib/python3.10/dist-packages (from tensorflow<2.16,>=2.15.0->tensorflow-text==2.15.0) (3.20.3)\n",
            "Requirement already satisfied: setuptools in /usr/local/lib/python3.10/dist-packages (from tensorflow<2.16,>=2.15.0->tensorflow-text==2.15.0) (67.7.2)\n",
            "Requirement already satisfied: six>=1.12.0 in /usr/local/lib/python3.10/dist-packages (from tensorflow<2.16,>=2.15.0->tensorflow-text==2.15.0) (1.16.0)\n",
            "Requirement already satisfied: termcolor>=1.1.0 in /usr/local/lib/python3.10/dist-packages (from tensorflow<2.16,>=2.15.0->tensorflow-text==2.15.0) (2.4.0)\n",
            "Requirement already satisfied: typing-extensions>=3.6.6 in /usr/local/lib/python3.10/dist-packages (from tensorflow<2.16,>=2.15.0->tensorflow-text==2.15.0) (4.12.0)\n",
            "Requirement already satisfied: wrapt<1.15,>=1.11.0 in /usr/local/lib/python3.10/dist-packages (from tensorflow<2.16,>=2.15.0->tensorflow-text==2.15.0) (1.14.1)\n",
            "Requirement already satisfied: tensorflow-io-gcs-filesystem>=0.23.1 in /usr/local/lib/python3.10/dist-packages (from tensorflow<2.16,>=2.15.0->tensorflow-text==2.15.0) (0.37.0)\n",
            "Requirement already satisfied: grpcio<2.0,>=1.24.3 in /usr/local/lib/python3.10/dist-packages (from tensorflow<2.16,>=2.15.0->tensorflow-text==2.15.0) (1.64.0)\n",
            "Requirement already satisfied: tensorboard<2.16,>=2.15 in /usr/local/lib/python3.10/dist-packages (from tensorflow<2.16,>=2.15.0->tensorflow-text==2.15.0) (2.15.2)\n",
            "Requirement already satisfied: tensorflow-estimator<2.16,>=2.15.0 in /usr/local/lib/python3.10/dist-packages (from tensorflow<2.16,>=2.15.0->tensorflow-text==2.15.0) (2.15.0)\n",
            "Requirement already satisfied: keras<2.16,>=2.15.0 in /usr/local/lib/python3.10/dist-packages (from tensorflow<2.16,>=2.15.0->tensorflow-text==2.15.0) (2.15.0)\n",
            "Requirement already satisfied: wheel<1.0,>=0.23.0 in /usr/local/lib/python3.10/dist-packages (from astunparse>=1.6.0->tensorflow<2.16,>=2.15.0->tensorflow-text==2.15.0) (0.43.0)\n",
            "Requirement already satisfied: google-auth<3,>=1.6.3 in /usr/local/lib/python3.10/dist-packages (from tensorboard<2.16,>=2.15->tensorflow<2.16,>=2.15.0->tensorflow-text==2.15.0) (2.27.0)\n",
            "Requirement already satisfied: google-auth-oauthlib<2,>=0.5 in /usr/local/lib/python3.10/dist-packages (from tensorboard<2.16,>=2.15->tensorflow<2.16,>=2.15.0->tensorflow-text==2.15.0) (1.2.0)\n",
            "Requirement already satisfied: markdown>=2.6.8 in /usr/local/lib/python3.10/dist-packages (from tensorboard<2.16,>=2.15->tensorflow<2.16,>=2.15.0->tensorflow-text==2.15.0) (3.6)\n",
            "Requirement already satisfied: requests<3,>=2.21.0 in /usr/local/lib/python3.10/dist-packages (from tensorboard<2.16,>=2.15->tensorflow<2.16,>=2.15.0->tensorflow-text==2.15.0) (2.31.0)\n",
            "Requirement already satisfied: tensorboard-data-server<0.8.0,>=0.7.0 in /usr/local/lib/python3.10/dist-packages (from tensorboard<2.16,>=2.15->tensorflow<2.16,>=2.15.0->tensorflow-text==2.15.0) (0.7.2)\n",
            "Requirement already satisfied: werkzeug>=1.0.1 in /usr/local/lib/python3.10/dist-packages (from tensorboard<2.16,>=2.15->tensorflow<2.16,>=2.15.0->tensorflow-text==2.15.0) (3.0.3)\n",
            "Requirement already satisfied: cachetools<6.0,>=2.0.0 in /usr/local/lib/python3.10/dist-packages (from google-auth<3,>=1.6.3->tensorboard<2.16,>=2.15->tensorflow<2.16,>=2.15.0->tensorflow-text==2.15.0) (5.3.3)\n",
            "Requirement already satisfied: pyasn1-modules>=0.2.1 in /usr/local/lib/python3.10/dist-packages (from google-auth<3,>=1.6.3->tensorboard<2.16,>=2.15->tensorflow<2.16,>=2.15.0->tensorflow-text==2.15.0) (0.4.0)\n",
            "Requirement already satisfied: rsa<5,>=3.1.4 in /usr/local/lib/python3.10/dist-packages (from google-auth<3,>=1.6.3->tensorboard<2.16,>=2.15->tensorflow<2.16,>=2.15.0->tensorflow-text==2.15.0) (4.9)\n",
            "Requirement already satisfied: requests-oauthlib>=0.7.0 in /usr/local/lib/python3.10/dist-packages (from google-auth-oauthlib<2,>=0.5->tensorboard<2.16,>=2.15->tensorflow<2.16,>=2.15.0->tensorflow-text==2.15.0) (1.3.1)\n",
            "Requirement already satisfied: charset-normalizer<4,>=2 in /usr/local/lib/python3.10/dist-packages (from requests<3,>=2.21.0->tensorboard<2.16,>=2.15->tensorflow<2.16,>=2.15.0->tensorflow-text==2.15.0) (3.3.2)\n",
            "Requirement already satisfied: idna<4,>=2.5 in /usr/local/lib/python3.10/dist-packages (from requests<3,>=2.21.0->tensorboard<2.16,>=2.15->tensorflow<2.16,>=2.15.0->tensorflow-text==2.15.0) (3.7)\n",
            "Requirement already satisfied: urllib3<3,>=1.21.1 in /usr/local/lib/python3.10/dist-packages (from requests<3,>=2.21.0->tensorboard<2.16,>=2.15->tensorflow<2.16,>=2.15.0->tensorflow-text==2.15.0) (2.0.7)\n",
            "Requirement already satisfied: certifi>=2017.4.17 in /usr/local/lib/python3.10/dist-packages (from requests<3,>=2.21.0->tensorboard<2.16,>=2.15->tensorflow<2.16,>=2.15.0->tensorflow-text==2.15.0) (2024.2.2)\n",
            "Requirement already satisfied: MarkupSafe>=2.1.1 in /usr/local/lib/python3.10/dist-packages (from werkzeug>=1.0.1->tensorboard<2.16,>=2.15->tensorflow<2.16,>=2.15.0->tensorflow-text==2.15.0) (2.1.5)\n",
            "Requirement already satisfied: pyasn1<0.7.0,>=0.4.6 in /usr/local/lib/python3.10/dist-packages (from pyasn1-modules>=0.2.1->google-auth<3,>=1.6.3->tensorboard<2.16,>=2.15->tensorflow<2.16,>=2.15.0->tensorflow-text==2.15.0) (0.6.0)\n",
            "Requirement already satisfied: oauthlib>=3.0.0 in /usr/local/lib/python3.10/dist-packages (from requests-oauthlib>=0.7.0->google-auth-oauthlib<2,>=0.5->tensorboard<2.16,>=2.15->tensorflow<2.16,>=2.15.0->tensorflow-text==2.15.0) (3.2.2)\n"
          ]
        }
      ],
      "source": [
        "!pip install tensorflow-text==2.15.0"
      ]
    },
    {
      "cell_type": "code",
      "execution_count": null,
      "metadata": {
        "colab": {
          "base_uri": "https://localhost:8080/"
        },
        "id": "2q10QKMvWGgB",
        "outputId": "81ed6e8f-263f-411f-ef4e-d32603803ef8"
      },
      "outputs": [
        {
          "output_type": "stream",
          "name": "stdout",
          "text": [
            "Populating the interactive namespace from numpy and matplotlib\n"
          ]
        },
        {
          "output_type": "stream",
          "name": "stderr",
          "text": [
            "/usr/local/lib/python3.10/dist-packages/IPython/core/magics/pylab.py:159: UserWarning: pylab import has clobbered these variables: ['shuffle', 'text', 'shape']\n",
            "`%matplotlib` prevents importing * from pylab and numpy\n",
            "  warn(\"pylab import has clobbered these variables: %s\"  % clobbered +\n"
          ]
        }
      ],
      "source": [
        "import pickle\n",
        "import os\n",
        "import pandas as pd\n",
        "import random as rn\n",
        "import numpy as np\n",
        "from google.colab import drive\n",
        "from sklearn.preprocessing import LabelBinarizer\n",
        "# from tensorflow.regularizer import l1,l2\n",
        "from tqdm import tqdm\n",
        "import heapq\n",
        "from sklearn.utils import shuffle\n",
        "%pylab inline\n",
        "import matplotlib.pyplot as plt\n",
        "import matplotlib.image as mpimg\n",
        "\n",
        "from nltk.corpus import stopwords\n",
        "from sklearn.metrics.pairwise import cosine_similarity\n",
        "from nltk.tokenize import RegexpTokenizer\n",
        "import re\n",
        "\n",
        "import tensorflow as tf\n",
        "import tensorflow_text as text\n",
        "\n",
        "from sklearn.model_selection import train_test_split\n",
        "# from tensorflow.keras.utils import load_img, img_to_array"
      ]
    },
    {
      "cell_type": "code",
      "source": [
        "!pip install tensorflow-hub==0.15.0"
      ],
      "metadata": {
        "colab": {
          "base_uri": "https://localhost:8080/"
        },
        "id": "tTVdvY70jqcS",
        "outputId": "13a9c119-5e55-43ad-8fce-f9b40fdf62ff"
      },
      "execution_count": null,
      "outputs": [
        {
          "output_type": "stream",
          "name": "stdout",
          "text": [
            "Requirement already satisfied: tensorflow-hub==0.15.0 in /usr/local/lib/python3.10/dist-packages (0.15.0)\n",
            "Requirement already satisfied: numpy>=1.12.0 in /usr/local/lib/python3.10/dist-packages (from tensorflow-hub==0.15.0) (1.25.2)\n",
            "Requirement already satisfied: protobuf>=3.19.6 in /usr/local/lib/python3.10/dist-packages (from tensorflow-hub==0.15.0) (3.20.3)\n"
          ]
        }
      ]
    },
    {
      "cell_type": "code",
      "source": [
        "!pip install tensorflow-hub tf_keras"
      ],
      "metadata": {
        "colab": {
          "base_uri": "https://localhost:8080/"
        },
        "id": "eqHj1XOINO9o",
        "outputId": "78b98f62-fff9-4fd6-ed4f-c610cd127c06"
      },
      "execution_count": null,
      "outputs": [
        {
          "output_type": "stream",
          "name": "stdout",
          "text": [
            "Requirement already satisfied: tensorflow-hub in /usr/local/lib/python3.10/dist-packages (0.15.0)\n",
            "Requirement already satisfied: tf_keras in /usr/local/lib/python3.10/dist-packages (2.15.1)\n",
            "Requirement already satisfied: numpy>=1.12.0 in /usr/local/lib/python3.10/dist-packages (from tensorflow-hub) (1.25.2)\n",
            "Requirement already satisfied: protobuf>=3.19.6 in /usr/local/lib/python3.10/dist-packages (from tensorflow-hub) (3.20.3)\n",
            "Requirement already satisfied: tensorflow<2.16,>=2.15 in /usr/local/lib/python3.10/dist-packages (from tf_keras) (2.15.1)\n",
            "Requirement already satisfied: absl-py>=1.0.0 in /usr/local/lib/python3.10/dist-packages (from tensorflow<2.16,>=2.15->tf_keras) (1.4.0)\n",
            "Requirement already satisfied: astunparse>=1.6.0 in /usr/local/lib/python3.10/dist-packages (from tensorflow<2.16,>=2.15->tf_keras) (1.6.3)\n",
            "Requirement already satisfied: flatbuffers>=23.5.26 in /usr/local/lib/python3.10/dist-packages (from tensorflow<2.16,>=2.15->tf_keras) (24.3.25)\n",
            "Requirement already satisfied: gast!=0.5.0,!=0.5.1,!=0.5.2,>=0.2.1 in /usr/local/lib/python3.10/dist-packages (from tensorflow<2.16,>=2.15->tf_keras) (0.5.4)\n",
            "Requirement already satisfied: google-pasta>=0.1.1 in /usr/local/lib/python3.10/dist-packages (from tensorflow<2.16,>=2.15->tf_keras) (0.2.0)\n",
            "Requirement already satisfied: h5py>=2.9.0 in /usr/local/lib/python3.10/dist-packages (from tensorflow<2.16,>=2.15->tf_keras) (3.9.0)\n",
            "Requirement already satisfied: libclang>=13.0.0 in /usr/local/lib/python3.10/dist-packages (from tensorflow<2.16,>=2.15->tf_keras) (18.1.1)\n",
            "Requirement already satisfied: ml-dtypes~=0.3.1 in /usr/local/lib/python3.10/dist-packages (from tensorflow<2.16,>=2.15->tf_keras) (0.3.2)\n",
            "Requirement already satisfied: opt-einsum>=2.3.2 in /usr/local/lib/python3.10/dist-packages (from tensorflow<2.16,>=2.15->tf_keras) (3.3.0)\n",
            "Requirement already satisfied: packaging in /usr/local/lib/python3.10/dist-packages (from tensorflow<2.16,>=2.15->tf_keras) (24.0)\n",
            "Requirement already satisfied: setuptools in /usr/local/lib/python3.10/dist-packages (from tensorflow<2.16,>=2.15->tf_keras) (67.7.2)\n",
            "Requirement already satisfied: six>=1.12.0 in /usr/local/lib/python3.10/dist-packages (from tensorflow<2.16,>=2.15->tf_keras) (1.16.0)\n",
            "Requirement already satisfied: termcolor>=1.1.0 in /usr/local/lib/python3.10/dist-packages (from tensorflow<2.16,>=2.15->tf_keras) (2.4.0)\n",
            "Requirement already satisfied: typing-extensions>=3.6.6 in /usr/local/lib/python3.10/dist-packages (from tensorflow<2.16,>=2.15->tf_keras) (4.12.0)\n",
            "Requirement already satisfied: wrapt<1.15,>=1.11.0 in /usr/local/lib/python3.10/dist-packages (from tensorflow<2.16,>=2.15->tf_keras) (1.14.1)\n",
            "Requirement already satisfied: tensorflow-io-gcs-filesystem>=0.23.1 in /usr/local/lib/python3.10/dist-packages (from tensorflow<2.16,>=2.15->tf_keras) (0.37.0)\n",
            "Requirement already satisfied: grpcio<2.0,>=1.24.3 in /usr/local/lib/python3.10/dist-packages (from tensorflow<2.16,>=2.15->tf_keras) (1.64.0)\n",
            "Requirement already satisfied: tensorboard<2.16,>=2.15 in /usr/local/lib/python3.10/dist-packages (from tensorflow<2.16,>=2.15->tf_keras) (2.15.2)\n",
            "Requirement already satisfied: tensorflow-estimator<2.16,>=2.15.0 in /usr/local/lib/python3.10/dist-packages (from tensorflow<2.16,>=2.15->tf_keras) (2.15.0)\n",
            "Requirement already satisfied: keras<2.16,>=2.15.0 in /usr/local/lib/python3.10/dist-packages (from tensorflow<2.16,>=2.15->tf_keras) (2.15.0)\n",
            "Requirement already satisfied: wheel<1.0,>=0.23.0 in /usr/local/lib/python3.10/dist-packages (from astunparse>=1.6.0->tensorflow<2.16,>=2.15->tf_keras) (0.43.0)\n",
            "Requirement already satisfied: google-auth<3,>=1.6.3 in /usr/local/lib/python3.10/dist-packages (from tensorboard<2.16,>=2.15->tensorflow<2.16,>=2.15->tf_keras) (2.27.0)\n",
            "Requirement already satisfied: google-auth-oauthlib<2,>=0.5 in /usr/local/lib/python3.10/dist-packages (from tensorboard<2.16,>=2.15->tensorflow<2.16,>=2.15->tf_keras) (1.2.0)\n",
            "Requirement already satisfied: markdown>=2.6.8 in /usr/local/lib/python3.10/dist-packages (from tensorboard<2.16,>=2.15->tensorflow<2.16,>=2.15->tf_keras) (3.6)\n",
            "Requirement already satisfied: requests<3,>=2.21.0 in /usr/local/lib/python3.10/dist-packages (from tensorboard<2.16,>=2.15->tensorflow<2.16,>=2.15->tf_keras) (2.31.0)\n",
            "Requirement already satisfied: tensorboard-data-server<0.8.0,>=0.7.0 in /usr/local/lib/python3.10/dist-packages (from tensorboard<2.16,>=2.15->tensorflow<2.16,>=2.15->tf_keras) (0.7.2)\n",
            "Requirement already satisfied: werkzeug>=1.0.1 in /usr/local/lib/python3.10/dist-packages (from tensorboard<2.16,>=2.15->tensorflow<2.16,>=2.15->tf_keras) (3.0.3)\n",
            "Requirement already satisfied: cachetools<6.0,>=2.0.0 in /usr/local/lib/python3.10/dist-packages (from google-auth<3,>=1.6.3->tensorboard<2.16,>=2.15->tensorflow<2.16,>=2.15->tf_keras) (5.3.3)\n",
            "Requirement already satisfied: pyasn1-modules>=0.2.1 in /usr/local/lib/python3.10/dist-packages (from google-auth<3,>=1.6.3->tensorboard<2.16,>=2.15->tensorflow<2.16,>=2.15->tf_keras) (0.4.0)\n",
            "Requirement already satisfied: rsa<5,>=3.1.4 in /usr/local/lib/python3.10/dist-packages (from google-auth<3,>=1.6.3->tensorboard<2.16,>=2.15->tensorflow<2.16,>=2.15->tf_keras) (4.9)\n",
            "Requirement already satisfied: requests-oauthlib>=0.7.0 in /usr/local/lib/python3.10/dist-packages (from google-auth-oauthlib<2,>=0.5->tensorboard<2.16,>=2.15->tensorflow<2.16,>=2.15->tf_keras) (1.3.1)\n",
            "Requirement already satisfied: charset-normalizer<4,>=2 in /usr/local/lib/python3.10/dist-packages (from requests<3,>=2.21.0->tensorboard<2.16,>=2.15->tensorflow<2.16,>=2.15->tf_keras) (3.3.2)\n",
            "Requirement already satisfied: idna<4,>=2.5 in /usr/local/lib/python3.10/dist-packages (from requests<3,>=2.21.0->tensorboard<2.16,>=2.15->tensorflow<2.16,>=2.15->tf_keras) (3.7)\n",
            "Requirement already satisfied: urllib3<3,>=1.21.1 in /usr/local/lib/python3.10/dist-packages (from requests<3,>=2.21.0->tensorboard<2.16,>=2.15->tensorflow<2.16,>=2.15->tf_keras) (2.0.7)\n",
            "Requirement already satisfied: certifi>=2017.4.17 in /usr/local/lib/python3.10/dist-packages (from requests<3,>=2.21.0->tensorboard<2.16,>=2.15->tensorflow<2.16,>=2.15->tf_keras) (2024.2.2)\n",
            "Requirement already satisfied: MarkupSafe>=2.1.1 in /usr/local/lib/python3.10/dist-packages (from werkzeug>=1.0.1->tensorboard<2.16,>=2.15->tensorflow<2.16,>=2.15->tf_keras) (2.1.5)\n",
            "Requirement already satisfied: pyasn1<0.7.0,>=0.4.6 in /usr/local/lib/python3.10/dist-packages (from pyasn1-modules>=0.2.1->google-auth<3,>=1.6.3->tensorboard<2.16,>=2.15->tensorflow<2.16,>=2.15->tf_keras) (0.6.0)\n",
            "Requirement already satisfied: oauthlib>=3.0.0 in /usr/local/lib/python3.10/dist-packages (from requests-oauthlib>=0.7.0->google-auth-oauthlib<2,>=0.5->tensorboard<2.16,>=2.15->tensorflow<2.16,>=2.15->tf_keras) (3.2.2)\n"
          ]
        }
      ]
    },
    {
      "cell_type": "code",
      "source": [
        "!pip install KerasLayer"
      ],
      "metadata": {
        "colab": {
          "base_uri": "https://localhost:8080/"
        },
        "id": "aqthbtmFNqcH",
        "outputId": "0e7f0cb9-19a8-4423-eb95-570d98e9f386"
      },
      "execution_count": null,
      "outputs": [
        {
          "output_type": "stream",
          "name": "stdout",
          "text": [
            "\u001b[31mERROR: Could not find a version that satisfies the requirement KerasLayer (from versions: none)\u001b[0m\u001b[31m\n",
            "\u001b[0m\u001b[31mERROR: No matching distribution found for KerasLayer\u001b[0m\u001b[31m\n",
            "\u001b[0m"
          ]
        }
      ]
    },
    {
      "cell_type": "code",
      "source": [
        "import tensorflow as tf\n",
        "# import tensorflow_hub as hub\n",
        "\n",
        "print(\"TensorFlow version:\", tf.__version__)\n",
        "# print(\"TensorFlow Hub version:\", hub.__version__)\n"
      ],
      "metadata": {
        "colab": {
          "base_uri": "https://localhost:8080/"
        },
        "id": "ZEJVjifhT8N-",
        "outputId": "99d2970a-d67e-43b7-aab4-261cf91da4b8"
      },
      "execution_count": null,
      "outputs": [
        {
          "output_type": "stream",
          "name": "stdout",
          "text": [
            "TensorFlow version: 2.15.1\n"
          ]
        }
      ]
    },
    {
      "cell_type": "code",
      "source": [
        "!pip show tensorflow-hub\n"
      ],
      "metadata": {
        "colab": {
          "base_uri": "https://localhost:8080/"
        },
        "id": "Y9dlJ-ClM5vO",
        "outputId": "04fafac4-ffd7-48a6-a956-9dacf0124c16"
      },
      "execution_count": null,
      "outputs": [
        {
          "output_type": "stream",
          "name": "stdout",
          "text": [
            "Name: tensorflow-hub\n",
            "Version: 0.15.0\n",
            "Summary: TensorFlow Hub is a library to foster the publication, discovery, and consumption of reusable parts of machine learning models.\n",
            "Home-page: https://github.com/tensorflow/hub\n",
            "Author: Google LLC\n",
            "Author-email: packages@tensorflow.org\n",
            "License: Apache 2.0\n",
            "Location: /usr/local/lib/python3.10/dist-packages\n",
            "Requires: numpy, protobuf\n",
            "Required-by: tensorflow-text\n"
          ]
        }
      ]
    },
    {
      "cell_type": "code",
      "source": [
        "import tensorflow_hub as hub\n",
        "\n",
        "print(\"TensorFlow Hub version:\", hub.__version__)"
      ],
      "metadata": {
        "colab": {
          "base_uri": "https://localhost:8080/"
        },
        "id": "dFZW6LWao_q4",
        "outputId": "b6ac5cca-0339-487c-bd01-9be94db99233"
      },
      "execution_count": null,
      "outputs": [
        {
          "output_type": "stream",
          "name": "stdout",
          "text": [
            "TensorFlow Hub version: 0.15.0\n"
          ]
        }
      ]
    },
    {
      "cell_type": "code",
      "execution_count": null,
      "metadata": {
        "id": "uTFA2wdDVyn5"
      },
      "outputs": [],
      "source": [
        "bert_preprocess = hub.KerasLayer(\"https://tfhub.dev/tensorflow/bert_en_uncased_preprocess/3\")\n",
        "bert_encoder = hub.KerasLayer(\"https://tfhub.dev/tensorflow/bert_en_uncased_L-12_H-768_A-12/4\")"
      ]
    },
    {
      "cell_type": "code",
      "execution_count": null,
      "metadata": {
        "colab": {
          "base_uri": "https://localhost:8080/"
        },
        "id": "4tmhBc7gV9PS",
        "outputId": "984bf729-dcce-4f9c-ff73-e98b9675c817"
      },
      "outputs": [
        {
          "output_type": "execute_result",
          "data": {
            "text/plain": [
              "<tf.Tensor: shape=(2, 768), dtype=float32, numpy=\n",
              "array([[-0.843517  , -0.5132727 , -0.8884572 , ..., -0.7474886 ,\n",
              "        -0.75314724,  0.91964495],\n",
              "       [-0.8720834 , -0.50543964, -0.94446665, ..., -0.8584749 ,\n",
              "        -0.7174534 ,  0.88082975]], dtype=float32)>"
            ]
          },
          "metadata": {},
          "execution_count": 41
        }
      ],
      "source": [
        "def get_sentence_embeding(sentences):\n",
        "    preprocessed_text = bert_preprocess(sentences)\n",
        "    return bert_encoder(preprocessed_text)['pooled_output']\n",
        "\n",
        "get_sentence_embeding([\n",
        "    \"500$ discount. hurry up\",\n",
        "    \"Bhavin, are you up for a volleybal game tomorrow?\"]\n",
        ")"
      ]
    },
    {
      "cell_type": "code",
      "execution_count": null,
      "metadata": {
        "colab": {
          "base_uri": "https://localhost:8080/",
          "height": 53
        },
        "id": "s9ZXj3SCeVQq",
        "outputId": "97831d41-b457-4121-8175-4fcfb3ea926c"
      },
      "outputs": [
        {
          "output_type": "execute_result",
          "data": {
            "text/plain": [
              "\"b'@smurphysuzanne@sunderland_gmandmorecountrywillalignwithrussiaandchinainthenextfewmonth.itbethewestthatbeonasuicidepath.westernpoliticianhubrisknownobound.theyreallybelievetheybemasteroftheuniverse.'\""
            ],
            "application/vnd.google.colaboratory.intrinsic+json": {
              "type": "string"
            }
          },
          "metadata": {},
          "execution_count": 42
        }
      ],
      "source": [
        "text = []\n",
        "\n",
        "for i in df3['cleaned']:\n",
        "    string = \"\"\n",
        "    for j in i:\n",
        "        string += j\n",
        "    text.append(string)\n",
        "\n",
        "text[0]"
      ]
    },
    {
      "cell_type": "code",
      "execution_count": null,
      "metadata": {
        "id": "ZYbmB0UqcPiW"
      },
      "outputs": [],
      "source": [
        "bert_embed = get_sentence_embeding(text)"
      ]
    },
    {
      "cell_type": "code",
      "execution_count": null,
      "metadata": {
        "colab": {
          "base_uri": "https://localhost:8080/"
        },
        "id": "ToTQItpGcrAO",
        "outputId": "9c55ef8b-0582-49a3-9000-db467b0f973f"
      },
      "outputs": [
        {
          "output_type": "execute_result",
          "data": {
            "text/plain": [
              "<tf.Tensor: shape=(785, 768), dtype=float32, numpy=\n",
              "array([[-0.32935375, -0.15666994, -0.2501714 , ...,  0.11209126,\n",
              "        -0.45407778,  0.44354537],\n",
              "       [-0.5577115 , -0.27584428, -0.3277408 , ..., -0.27733937,\n",
              "        -0.64225185,  0.7567291 ],\n",
              "       [-0.28208378, -0.2240554 , -0.37278756, ..., -0.32295296,\n",
              "        -0.58725214,  0.62646186],\n",
              "       ...,\n",
              "       [-0.55351484, -0.29850733, -0.32068196, ..., -0.08490788,\n",
              "        -0.56487507,  0.59934056],\n",
              "       [-0.40220118, -0.20366985, -0.65784806, ..., -0.49699476,\n",
              "        -0.5037736 ,  0.44894192],\n",
              "       [-0.66127074, -0.29605785, -0.67903805, ..., -0.37591705,\n",
              "        -0.56469625,  0.7503463 ]], dtype=float32)>"
            ]
          },
          "metadata": {},
          "execution_count": 44
        }
      ],
      "source": [
        "bert_embed"
      ]
    },
    {
      "cell_type": "code",
      "execution_count": null,
      "metadata": {
        "colab": {
          "base_uri": "https://localhost:8080/"
        },
        "id": "dhp8XBskSufl",
        "outputId": "c99af771-62e6-45a9-9e0b-568e8671cfc3"
      },
      "outputs": [
        {
          "output_type": "execute_result",
          "data": {
            "text/plain": [
              "(785, 768)"
            ]
          },
          "metadata": {},
          "execution_count": 45
        }
      ],
      "source": [
        "bert_embed = bert_embed.numpy()\n",
        "bert_embed.shape"
      ]
    },
    {
      "cell_type": "code",
      "execution_count": null,
      "metadata": {
        "colab": {
          "base_uri": "https://localhost:8080/"
        },
        "id": "aPk5ppPlS3OT",
        "outputId": "227fb230-ae22-4e44-a029-8789400f9984"
      },
      "outputs": [
        {
          "output_type": "execute_result",
          "data": {
            "text/plain": [
              "numpy.ndarray"
            ]
          },
          "metadata": {},
          "execution_count": 46
        }
      ],
      "source": [
        "type(bert_embed)"
      ]
    },
    {
      "cell_type": "markdown",
      "metadata": {
        "id": "IRTnMe6dDc-Y"
      },
      "source": [
        "**LSTM**"
      ]
    },
    {
      "cell_type": "code",
      "execution_count": null,
      "metadata": {
        "id": "te3jAxhLUpkY"
      },
      "outputs": [],
      "source": [
        "#create a embedding layer using Google pre triained word2vec (50000 words)\n",
        "# embedding_layer = Embedding(input_dim=w2vModel.syn0.shape[0], output_dim=w2vModel.syn0.shape[1], weights=[w2vModel.syn0],\n",
        "#                             input_length=X.shape[1])\n",
        "\n",
        "#\n",
        "\n",
        "# Load the Word2Vec model using Gensim\n",
        "from gensim.models import KeyedVectors\n",
        "\n",
        "# Load the Word2Vec model\n",
        "w2vModel = KeyedVectors.load_word2vec_format('/content/drive/MyDrive/Pattern/Lab/Project/word2vec/GoogleNews-vectors-negative300.bin.gz', binary=True, limit=50000)\n",
        "\n",
        "# Example: Get the vector for a specific word\n",
        "# word_vector = w2vModel['example_word']\n"
      ]
    },
    {
      "cell_type": "code",
      "execution_count": null,
      "metadata": {
        "id": "OfIm1Ny-8fud"
      },
      "outputs": [],
      "source": [
        "# Assuming X is a sequence of word indices (e.g., created using Tokenizer)\n",
        "embedding_layer = Embedding(input_dim=len(w2vModel.index_to_key), output_dim=w2vModel.vector_size, input_length=X.shape[1])\n"
      ]
    },
    {
      "cell_type": "code",
      "execution_count": null,
      "metadata": {
        "colab": {
          "base_uri": "https://localhost:8080/"
        },
        "id": "msLszxBir22W",
        "outputId": "84b04309-ac09-4426-b152-c5488fc4aa94"
      },
      "outputs": [
        {
          "output_type": "stream",
          "name": "stdout",
          "text": [
            "Model: \"sequential\"\n",
            "_________________________________________________________________\n",
            " Layer (type)                Output Shape              Param #   \n",
            "=================================================================\n",
            " embedding (Embedding)       (None, 1670, 300)         15000000  \n",
            "                                                                 \n",
            "=================================================================\n",
            "Total params: 15000000 (57.22 MB)\n",
            "Trainable params: 15000000 (57.22 MB)\n",
            "Non-trainable params: 0 (0.00 Byte)\n",
            "_________________________________________________________________\n"
          ]
        }
      ],
      "source": [
        "from tensorflow.keras.layers import Embedding\n",
        "from tensorflow.keras.models import Sequential\n",
        "\n",
        "# Assuming you've already defined your `embedding_layer`\n",
        "# Create a Sequential model and add the embedding layer to it\n",
        "model = Sequential()\n",
        "model.add(embedding_layer)\n",
        "\n",
        "# Get a summary of the model to see the parameters in the Embedding layer\n",
        "model.summary()\n"
      ]
    },
    {
      "cell_type": "code",
      "execution_count": null,
      "metadata": {
        "colab": {
          "base_uri": "https://localhost:8080/"
        },
        "id": "YvWr081UUxFd",
        "outputId": "aa6d8349-1193-4253-b608-da86801b1b87"
      },
      "outputs": [
        {
          "output_type": "stream",
          "name": "stdout",
          "text": [
            "Model: \"sequential_1\"\n",
            "_________________________________________________________________\n",
            " Layer (type)                Output Shape              Param #   \n",
            "=================================================================\n",
            " embedding (Embedding)       (None, 1670, 300)         15000000  \n",
            "                                                                 \n",
            " lstm (LSTM)                 (None, 80)                121920    \n",
            "                                                                 \n",
            " dense (Dense)               (None, 1)                 81        \n",
            "                                                                 \n",
            "=================================================================\n",
            "Total params: 15122001 (57.69 MB)\n",
            "Trainable params: 15122001 (57.69 MB)\n",
            "Non-trainable params: 0 (0.00 Byte)\n",
            "_________________________________________________________________\n",
            "None\n"
          ]
        }
      ],
      "source": [
        "#create model\n",
        "\n",
        "lstm_out = 80\n",
        "\n",
        "model = Sequential()\n",
        "model.add(embedding_layer)\n",
        "model.add(LSTM(units=lstm_out))\n",
        "model.add(Dense(1, activation='sigmoid'))\n",
        "model.compile(loss='binary_crossentropy', optimizer='adam', metrics=['accuracy'])\n",
        "print(model.summary())"
      ]
    },
    {
      "cell_type": "code",
      "execution_count": null,
      "metadata": {
        "colab": {
          "base_uri": "https://localhost:8080/"
        },
        "id": "kf4OKSMrG-Bc",
        "outputId": "304b8b78-0c6c-4b2e-a2e1-2625f1a8590b"
      },
      "outputs": [
        {
          "output_type": "execute_result",
          "data": {
            "text/plain": [
              "(785,)"
            ]
          },
          "metadata": {},
          "execution_count": 51
        }
      ],
      "source": [
        "df3['sentiment'].shape"
      ]
    },
    {
      "cell_type": "code",
      "execution_count": null,
      "metadata": {
        "id": "WFC2Sb6pU1a8"
      },
      "outputs": [],
      "source": [
        "#split dataset\n",
        "X_train, X_test, Y_train, Y_test = train_test_split(X, df3['sentiment'], test_size= 0.1, random_state = 24)"
      ]
    },
    {
      "cell_type": "code",
      "execution_count": null,
      "metadata": {
        "colab": {
          "base_uri": "https://localhost:8080/"
        },
        "id": "a3XtPCwqVART",
        "outputId": "0a9dcc16-993a-45c4-da7a-b35b5c65d4b4"
      },
      "outputs": [
        {
          "output_type": "stream",
          "name": "stdout",
          "text": [
            "Epoch 1/6\n",
            "23/23 [==============================] - 9s 252ms/step - loss: 0.5590 - accuracy: 0.7337\n",
            "Epoch 2/6\n",
            "23/23 [==============================] - 7s 305ms/step - loss: 0.2348 - accuracy: 0.9207\n",
            "Epoch 3/6\n",
            "23/23 [==============================] - 10s 414ms/step - loss: 0.0990 - accuracy: 0.9731\n",
            "Epoch 4/6\n",
            "23/23 [==============================] - 4s 159ms/step - loss: 0.0509 - accuracy: 0.9844\n",
            "Epoch 5/6\n",
            "23/23 [==============================] - 5s 215ms/step - loss: 0.0215 - accuracy: 0.9958\n",
            "Epoch 6/6\n",
            "23/23 [==============================] - 4s 175ms/step - loss: 0.0195 - accuracy: 0.9958\n"
          ]
        },
        {
          "output_type": "execute_result",
          "data": {
            "text/plain": [
              "<keras.src.callbacks.History at 0x798197655b10>"
            ]
          },
          "metadata": {},
          "execution_count": 53
        }
      ],
      "source": [
        "#fit model\n",
        "batch_size = 32\n",
        "model.fit(X_train, Y_train, epochs=6, verbose=1, batch_size=batch_size)"
      ]
    },
    {
      "cell_type": "code",
      "execution_count": null,
      "metadata": {
        "colab": {
          "base_uri": "https://localhost:8080/"
        },
        "id": "CTQJatLWVDUi",
        "outputId": "19e9fa7e-b7f7-4d89-ab75-a1546ec817ca"
      },
      "outputs": [
        {
          "output_type": "stream",
          "name": "stdout",
          "text": [
            "3/3 - 1s - loss: 0.5325 - accuracy: 0.8608 - 557ms/epoch - 186ms/step\n",
            "3/3 [==============================] - 0s 31ms/step\n"
          ]
        }
      ],
      "source": [
        "#analyze the results\n",
        "score, acc = model.evaluate(X_test, Y_test, verbose = 2, batch_size=batch_size)\n",
        "y_pred = model.predict(X_test)"
      ]
    },
    {
      "cell_type": "code",
      "execution_count": null,
      "metadata": {
        "id": "CP--BD78a5d9"
      },
      "outputs": [],
      "source": [
        "threshold = 0.5  # Set the threshold for classification\n",
        "\n",
        "# Assuming y_pred contains probability scores, convert to binary labels\n",
        "y_pred_binary = (y_pred >= threshold).astype(int)\n",
        "\n",
        "# Now, you can use classification metrics on y_test and y_pred_binary\n"
      ]
    },
    {
      "cell_type": "code",
      "execution_count": null,
      "metadata": {
        "id": "eQR71KwTbDOm"
      },
      "outputs": [],
      "source": [
        "# # Evaluate the model\n",
        "# accuracy = accuracy_score(y_test, y_pred)\n",
        "# conf_matrix = confusion_matrix(y_test, y_pred)\n",
        "# report = classification_report(y_test, y_pred)\n",
        "\n",
        "from sklearn.metrics import accuracy_score, confusion_matrix, classification_report\n",
        "\n",
        "# Assuming you have already defined y_test and y_pred\n",
        "\n",
        "# Evaluate the model\n",
        "accuracy = accuracy_score(Y_test, y_pred_binary)\n",
        "conf_matrix = confusion_matrix(Y_test, y_pred_binary)\n",
        "report = classification_report(Y_test, y_pred_binary)\n"
      ]
    },
    {
      "cell_type": "code",
      "execution_count": null,
      "metadata": {
        "colab": {
          "base_uri": "https://localhost:8080/"
        },
        "id": "I_mXogf7bKgw",
        "outputId": "46521594-f6d3-4ffc-8b0b-d250b6c949a2"
      },
      "outputs": [
        {
          "output_type": "stream",
          "name": "stdout",
          "text": [
            "Accuracy: 0.8607594936708861\n",
            "Confusion Matrix:\n",
            " [[41  7]\n",
            " [ 4 27]]\n",
            "Classification Report:\n",
            "               precision    recall  f1-score   support\n",
            "\n",
            "           0       0.91      0.85      0.88        48\n",
            "           1       0.79      0.87      0.83        31\n",
            "\n",
            "    accuracy                           0.86        79\n",
            "   macro avg       0.85      0.86      0.86        79\n",
            "weighted avg       0.87      0.86      0.86        79\n",
            "\n"
          ]
        }
      ],
      "source": [
        "print(\"Accuracy:\", accuracy)\n",
        "print(\"Confusion Matrix:\\n\", conf_matrix)\n",
        "print(\"Classification Report:\\n\", report)"
      ]
    },
    {
      "cell_type": "code",
      "execution_count": null,
      "metadata": {
        "colab": {
          "base_uri": "https://localhost:8080/",
          "height": 424
        },
        "id": "7vKwxckgapz-",
        "outputId": "07d519c9-99b5-441e-a63d-4302e83a92b3"
      },
      "outputs": [
        {
          "output_type": "display_data",
          "data": {
            "text/plain": [
              "<Figure size 600x400 with 2 Axes>"
            ],
            "image/png": "[encoded data removed]"
          },
          "metadata": {}
        }
      ],
      "source": [
        "import numpy as np\n",
        "import matplotlib.pyplot as plt\n",
        "import seaborn as sns\n",
        "from sklearn.metrics import confusion_matrix\n",
        "\n",
        "# Replace these values with your own\n",
        "conf_matrix2 = np.array(conf_matrix)\n",
        "# conf_matrix = np.array([[33, 4], [17, 9]])\n",
        "classes = ['Class 0', 'Class 1']\n",
        "\n",
        "# Create a heatmap for the confusion matrix\n",
        "plt.figure(figsize=(6, 4))\n",
        "sns.set(font_scale=1.2)  # Adjust font size as needed\n",
        "sns.heatmap(conf_matrix2, annot=True, fmt=\"d\", cmap=\"Blues\", xticklabels=classes, yticklabels=classes)\n",
        "\n",
        "plt.xlabel('Predicted')\n",
        "plt.ylabel('Actual')\n",
        "plt.title('Confusion Matrix')\n",
        "plt.show()\n"
      ]
    },
    {
      "cell_type": "code",
      "execution_count": null,
      "metadata": {
        "colab": {
          "base_uri": "https://localhost:8080/",
          "height": 424
        },
        "id": "tTfHNno3eAVY",
        "outputId": "416a043a-114e-47d9-b309-39e6efa5eeb2"
      },
      "outputs": [
        {
          "output_type": "display_data",
          "data": {
            "text/plain": [
              "<Figure size 600x400 with 1 Axes>"
            ],
            "image/png": "[encoded data removed]"
          },
          "metadata": {}
        }
      ],
      "source": [
        "import matplotlib.pyplot as plt\n",
        "from sklearn.metrics import roc_curve, auc\n",
        "\n",
        "# Assuming you have y_pred_probs for predicted probabilities and y_test for true labels\n",
        "\n",
        "# Calculate ROC curve for Class 1 (assuming binary classification)\n",
        "fpr, tpr, thresholds = roc_curve(Y_test, y_pred_binary)\n",
        "\n",
        "# Calculate AUC (Area Under the Curve)\n",
        "roc_auc = auc(fpr, tpr)\n",
        "\n",
        "# Plot ROC curve\n",
        "plt.figure(figsize=(6, 4))\n",
        "plt.plot(fpr, tpr, color='darkorange', lw=2, label=f'ROC curve (area = {roc_auc:.2f})')\n",
        "plt.plot([0, 1], [0, 1], color='navy', lw=2, linestyle='--')\n",
        "plt.xlim([0.0, 1.0])\n",
        "plt.ylim([0.0, 1.05])\n",
        "plt.xlabel('False Positive Rate')\n",
        "plt.ylabel('True Positive Rate')\n",
        "plt.title('Receiver Operating Characteristic (ROC)')\n",
        "plt.legend(loc='lower right')\n",
        "plt.show()"
      ]
    },
    {
      "cell_type": "markdown",
      "metadata": {
        "id": "l9JPBfNoJanz"
      },
      "source": [
        "BERT+word2vec"
      ]
    },
    {
      "cell_type": "markdown",
      "metadata": {
        "id": "xOS1EntuwfKN"
      },
      "source": [
        "*word2vec*"
      ]
    },
    {
      "cell_type": "code",
      "execution_count": null,
      "metadata": {
        "id": "tlxDDacTkJqI"
      },
      "outputs": [],
      "source": [
        "#\n",
        "import gensim\n",
        "import numpy as np\n",
        "\n",
        "# Preprocess texts and obtain a list of lists of words\n",
        "# text_split = [[\"this\", \"is\", \"the\", \"first\", \"sentence\"], [\"this\", \"is\", \"the\", \"second\", \"sentence\"]]\n",
        "\n",
        "# Train word embeddings using Word2Vec model\n",
        "model = gensim.models.Word2Vec(text_split, vector_size=100, window=5, min_count=1, workers=4)\n",
        "\n",
        "# Obtain sentence embeddings by taking the average of word embeddings\n",
        "sentence_embeddings = []\n",
        "for text in text_split:\n",
        "    embeddings = []\n",
        "    for word in text:\n",
        "        if word in model.wv.key_to_index:  # Check if the word exists in the vocabulary\n",
        "            embeddings.append(model.wv[word])\n",
        "    if len(embeddings) > 0:\n",
        "        sentence_embeddings.append(np.mean(embeddings, axis=0))  # Calculate the mean of word embeddings\n",
        "    else:\n",
        "        sentence_embeddings.append(np.zeros(model.vector_size))  # Use zeros if no valid word embeddings are found\n"
      ]
    },
    {
      "cell_type": "code",
      "execution_count": null,
      "metadata": {
        "colab": {
          "base_uri": "https://localhost:8080/"
        },
        "id": "lIbHgBCjwPCt",
        "outputId": "0c7c0077-c90c-4081-cd1c-c9d8b07f2de2"
      },
      "outputs": [
        {
          "output_type": "execute_result",
          "data": {
            "text/plain": [
              "(785, 100)"
            ]
          },
          "metadata": {},
          "execution_count": 59
        }
      ],
      "source": [
        "wor2vec_embeddings = np.array(sentence_embeddings)\n",
        "wor2vec_embeddings.shape"
      ]
    },
    {
      "cell_type": "code",
      "execution_count": null,
      "metadata": {
        "colab": {
          "base_uri": "https://localhost:8080/"
        },
        "id": "0dvwTivkg4UH",
        "outputId": "445849a1-4c11-4e17-9ef8-faaaf5249ff5"
      },
      "outputs": [
        {
          "output_type": "execute_result",
          "data": {
            "text/plain": [
              "array([ 0.03656434,  0.21833362,  0.1385378 ,  0.25651816,  0.28121233,\n",
              "       -0.5691477 ,  0.3841561 ,  0.9979726 , -0.05116224, -0.4206317 ,\n",
              "        0.06041259, -0.52382845, -0.3372437 ,  0.34415564, -0.17316534,\n",
              "       -0.29191205, -0.09943359, -0.41029078, -0.15140785, -0.7429085 ,\n",
              "       -0.04956472,  0.26036415,  0.43282783, -0.15092155, -0.05092929,\n",
              "        0.25182208, -0.4653744 ,  0.02767959, -0.31119892,  0.28072003,\n",
              "        0.2916401 , -0.0340243 ,  0.14403903, -0.01775441, -0.42171124,\n",
              "        0.6062271 , -0.1654427 , -0.39411888, -0.17443967, -0.57925075,\n",
              "        0.25394642, -0.50374764, -0.30966386, -0.01804875,  0.5125289 ,\n",
              "       -0.31982478, -0.23876235, -0.41694027,  0.4722674 ,  0.22437477,\n",
              "       -0.01455363, -0.47059616,  0.06047519,  0.12030023,  0.00761491,\n",
              "        0.23328458,  0.2134186 , -0.1249446 , -0.27591994,  0.21696933,\n",
              "       -0.17586482,  0.01405965,  0.00681644, -0.11750092, -0.6772109 ,\n",
              "        0.3521564 , -0.13826276,  0.2938416 , -0.56031966,  0.38043717,\n",
              "       -0.08755144,  0.22695887,  0.55450946,  0.10082119,  0.56382024,\n",
              "        0.24358235,  0.2808169 , -0.37595326, -0.4286876 ,  0.14294674,\n",
              "       -0.02713102, -0.13808347, -0.5738779 ,  0.6247688 , -0.3196575 ,\n",
              "       -0.04547343,  0.11051445,  0.19528757,  0.42132542,  0.21359353,\n",
              "        0.34578773,  0.10545092,  0.22758654, -0.04493152,  0.60964036,\n",
              "        0.27470922,  0.33849174, -0.01365326,  0.14356504,  0.12915759],\n",
              "      dtype=float32)"
            ]
          },
          "metadata": {},
          "execution_count": 60
        }
      ],
      "source": [
        "wor2vec_embeddings[0]"
      ]
    },
    {
      "cell_type": "markdown",
      "metadata": {
        "id": "sLhm3iQ6wh5e"
      },
      "source": [
        "*BERT*"
      ]
    },
    {
      "cell_type": "code",
      "execution_count": null,
      "metadata": {
        "colab": {
          "base_uri": "https://localhost:8080/"
        },
        "id": "eizj6XD4woAd",
        "outputId": "0e678c39-db7f-4725-f9a4-5102e4479f14"
      },
      "outputs": [
        {
          "output_type": "stream",
          "name": "stdout",
          "text": [
            "Requirement already satisfied: transformers in /usr/local/lib/python3.10/dist-packages (4.41.1)\n",
            "Requirement already satisfied: filelock in /usr/local/lib/python3.10/dist-packages (from transformers) (3.14.0)\n",
            "Requirement already satisfied: huggingface-hub<1.0,>=0.23.0 in /usr/local/lib/python3.10/dist-packages (from transformers) (0.23.2)\n",
            "Requirement already satisfied: numpy>=1.17 in /usr/local/lib/python3.10/dist-packages (from transformers) (1.25.2)\n",
            "Requirement already satisfied: packaging>=20.0 in /usr/local/lib/python3.10/dist-packages (from transformers) (24.0)\n",
            "Requirement already satisfied: pyyaml>=5.1 in /usr/local/lib/python3.10/dist-packages (from transformers) (6.0.1)\n",
            "Requirement already satisfied: regex!=2019.12.17 in /usr/local/lib/python3.10/dist-packages (from transformers) (2024.5.15)\n",
            "Requirement already satisfied: requests in /usr/local/lib/python3.10/dist-packages (from transformers) (2.31.0)\n",
            "Requirement already satisfied: tokenizers<0.20,>=0.19 in /usr/local/lib/python3.10/dist-packages (from transformers) (0.19.1)\n",
            "Requirement already satisfied: safetensors>=0.4.1 in /usr/local/lib/python3.10/dist-packages (from transformers) (0.4.3)\n",
            "Requirement already satisfied: tqdm>=4.27 in /usr/local/lib/python3.10/dist-packages (from transformers) (4.66.4)\n",
            "Requirement already satisfied: fsspec>=2023.5.0 in /usr/local/lib/python3.10/dist-packages (from huggingface-hub<1.0,>=0.23.0->transformers) (2023.6.0)\n",
            "Requirement already satisfied: typing-extensions>=3.7.4.3 in /usr/local/lib/python3.10/dist-packages (from huggingface-hub<1.0,>=0.23.0->transformers) (4.12.0)\n",
            "Requirement already satisfied: charset-normalizer<4,>=2 in /usr/local/lib/python3.10/dist-packages (from requests->transformers) (3.3.2)\n",
            "Requirement already satisfied: idna<4,>=2.5 in /usr/local/lib/python3.10/dist-packages (from requests->transformers) (3.7)\n",
            "Requirement already satisfied: urllib3<3,>=1.21.1 in /usr/local/lib/python3.10/dist-packages (from requests->transformers) (2.0.7)\n",
            "Requirement already satisfied: certifi>=2017.4.17 in /usr/local/lib/python3.10/dist-packages (from requests->transformers) (2024.2.2)\n"
          ]
        }
      ],
      "source": [
        "!pip install transformers"
      ]
    },
    {
      "cell_type": "code",
      "execution_count": null,
      "metadata": {
        "colab": {
          "base_uri": "https://localhost:8080/",
          "height": 423,
          "referenced_widgets": [
            "a44780961737423da036aefd9f90cc9e",
            "ccabaf3bebc6491189c15dce3ad3ecd3",
            "c6bfa82b52ce451ca2d3876395239a79",
            "0509a82ef1184ec1b324b28a5f7969d8",
            "81a0b8d3a70649e2aeb4cd3858c5ef42",
            "c86b6273931d47ed8e17f2d9a6e7b98d",
            "3c442f6ca7a34ee48a7bd5ae9f0ec06d",
            "d4efab6be75e4ec7afc4cc8258414a2f",
            "29e8e659409a43e0a310b71ff5115d60",
            "7ec63ed9c66a472b9d75b1605db0988f",
            "82aa6d6b34b34094a90327cd75f465f0",
            "7b43fea5edae44eab23e0d0199d0d998",
            "3a45020e26d342009e9dae169e5765e7",
            "85e0e73705ee4a8db99e05fa64683f7c",
            "c8bad80889794e8392917222f77be517",
            "8e8825cacf414155898e57561e139f5c",
            "4e8e54862c2242469d59417757a597f9",
            "00a9f8591821455e998ada4815427825",
            "a996de72ba2542839bba5c359873bec2",
            "cfca88ace068428683fccece6e204a22",
            "80c0750e4a19411ca91fee4fe670f9e6",
            "3137175520e442f7b5b7492be02cfa7d",
            "29596abd38294f8e9a86d8574f07a0cd",
            "b9c03adf3d9e417fba2edcf774b00174",
            "22a1a587d1d04006a8a410358d0646d6",
            "b1ca6f3313984b1aacb769676ea44804",
            "1150318c1aa442bf85ce7aee1043c6ec",
            "f50fe31e764e4be2baf6c749611bb1dd",
            "b50a13b323384c49acfb8bc6c391e401",
            "1f92afc5be0344c489116da7946db02f",
            "de67af1fcbcf4a72a4b546db5d357047",
            "dc88361620c241f6952542e77fa80f09",
            "5d7a0a1689be413ab755d051003ea01b",
            "c21ead900faa40339effe66bcd77194f",
            "c69fda693c5e4960a6637199cec07c27",
            "21a95973d4e9482592463cdfb2a28430",
            "b1457f2c2683422faa6e9839734cecd2",
            "b6954b3062d045bba23e93c46017103c",
            "7fcb6e2fafd4462da02f5bb6980f884b",
            "0a39b0b782f6454ba2708ab4392a8ad9",
            "78ad783dae4146beabacd83508b212a0",
            "73916bd05c124fc9ac00f4c55d2914c6",
            "6ed452afe4fa4b668ef5ca627168020e",
            "8339bdace82845c782072a5004f152ec",
            "51bc6949e5e54c3b8042acd2891fff00",
            "2340948e3acf49adaa89ee97dd8c89fe",
            "1a5844603ce047e998b343546f15bb59",
            "ce5779f3c6cb4cc0bf0ad16a4ec76d91",
            "47899f6589e24432b0789e91e38a4838",
            "b32f3ab5cb6e4e5da39e8da0c9ebd2ad",
            "5c01cc3286754447a6e6033fa3f8ef5e",
            "3ecd61891437442ba87c79809c18fe53",
            "92b34f54df584200b3b674f335dd80a0",
            "bb3060b0639144e08ed69adc9846ebbc",
            "85aa3224fac94ab5991f38eca4ef15f5"
          ]
        },
        "id": "dircACt0wjoK",
        "outputId": "35824fd9-5502-4312-fab3-d2649f87fd78"
      },
      "outputs": [
        {
          "output_type": "stream",
          "name": "stderr",
          "text": [
            "/usr/local/lib/python3.10/dist-packages/huggingface_hub/utils/_token.py:89: UserWarning: \n",
            "The secret `HF_TOKEN` does not exist in your Colab secrets.\n",
            "To authenticate with the Hugging Face Hub, create a token in your settings tab (https://huggingface.co/settings/tokens), set it as secret in your Google Colab and restart your session.\n",
            "You will be able to reuse this secret in all of your notebooks.\n",
            "Please note that authentication is recommended but still optional to access public models or datasets.\n",
            "  warnings.warn(\n"
          ]
        },
        {
          "output_type": "display_data",
          "data": {
            "text/plain": [
              "tokenizer_config.json:   0%|          | 0.00/48.0 [00:00<?, ?B/s]"
            ],
            "application/vnd.jupyter.widget-view+json": {
              "version_major": 2,
              "version_minor": 0,
              "model_id": "a44780961737423da036aefd9f90cc9e"
            }
          },
          "metadata": {}
        },
        {
          "output_type": "stream",
          "name": "stderr",
          "text": [
            "/usr/local/lib/python3.10/dist-packages/huggingface_hub/file_download.py:1132: FutureWarning: `resume_download` is deprecated and will be removed in version 1.0.0. Downloads always resume when possible. If you want to force a new download, use `force_download=True`.\n",
            "  warnings.warn(\n"
          ]
        },
        {
          "output_type": "display_data",
          "data": {
            "text/plain": [
              "config.json:   0%|          | 0.00/570 [00:00<?, ?B/s]"
            ],
            "application/vnd.jupyter.widget-view+json": {
              "version_major": 2,
              "version_minor": 0,
              "model_id": "7b43fea5edae44eab23e0d0199d0d998"
            }
          },
          "metadata": {}
        },
        {
          "output_type": "display_data",
          "data": {
            "text/plain": [
              "vocab.txt:   0%|          | 0.00/232k [00:00<?, ?B/s]"
            ],
            "application/vnd.jupyter.widget-view+json": {
              "version_major": 2,
              "version_minor": 0,
              "model_id": "29596abd38294f8e9a86d8574f07a0cd"
            }
          },
          "metadata": {}
        },
        {
          "output_type": "display_data",
          "data": {
            "text/plain": [
              "tokenizer.json:   0%|          | 0.00/466k [00:00<?, ?B/s]"
            ],
            "application/vnd.jupyter.widget-view+json": {
              "version_major": 2,
              "version_minor": 0,
              "model_id": "c21ead900faa40339effe66bcd77194f"
            }
          },
          "metadata": {}
        },
        {
          "output_type": "display_data",
          "data": {
            "text/plain": [
              "model.safetensors:   0%|          | 0.00/440M [00:00<?, ?B/s]"
            ],
            "application/vnd.jupyter.widget-view+json": {
              "version_major": 2,
              "version_minor": 0,
              "model_id": "51bc6949e5e54c3b8042acd2891fff00"
            }
          },
          "metadata": {}
        },
        {
          "output_type": "stream",
          "name": "stderr",
          "text": [
            "Some weights of the PyTorch model were not used when initializing the TF 2.0 model TFBertModel: ['cls.predictions.transform.LayerNorm.bias', 'cls.predictions.transform.dense.bias', 'cls.predictions.bias', 'cls.seq_relationship.bias', 'cls.seq_relationship.weight', 'cls.predictions.transform.dense.weight', 'cls.predictions.transform.LayerNorm.weight']\n",
            "- This IS expected if you are initializing TFBertModel from a PyTorch model trained on another task or with another architecture (e.g. initializing a TFBertForSequenceClassification model from a BertForPreTraining model).\n",
            "- This IS NOT expected if you are initializing TFBertModel from a PyTorch model that you expect to be exactly identical (e.g. initializing a TFBertForSequenceClassification model from a BertForSequenceClassification model).\n",
            "All the weights of TFBertModel were initialized from the PyTorch model.\n",
            "If your task is similar to the task the model of the checkpoint was trained on, you can already use TFBertModel for predictions without further training.\n"
          ]
        }
      ],
      "source": [
        "from transformers import AutoTokenizer, TFAutoModel\n",
        "import tensorflow as tf\n",
        "\n",
        "# Load the pre-trained BERT model and tokenizer\n",
        "model_name = 'bert-base-uncased'\n",
        "tokenizer = AutoTokenizer.from_pretrained(model_name)\n",
        "model = TFAutoModel.from_pretrained(model_name)\n",
        "\n",
        "# Define the list of texts for which we need to get sentence embeddings\n",
        "texts = [\"this is the first sentence\", \"this is the second sentence\"]\n",
        "\n",
        "# Tokenize the input texts\n",
        "tokenized_texts = [tokenizer.encode(text, add_special_tokens=True) for text in texts]\n",
        "\n",
        "# Pad and truncate the tokenized sequences to a common length\n",
        "max_length = 64\n",
        "padded_tokenized_texts = [t + [0]*(max_length-len(t)) if len(t) < max_length else t[:max_length] for t in tokenized_texts]\n",
        "\n",
        "# Convert the padded sequences to tensors\n",
        "input_ids = tf.constant(padded_tokenized_texts)\n",
        "\n",
        "# Obtain the BERT embeddings for the `[CLS]` token\n",
        "bert_embeddings = model(input_ids)[0][:, 0, :].numpy().tolist()\n"
      ]
    },
    {
      "cell_type": "code",
      "execution_count": null,
      "metadata": {
        "colab": {
          "base_uri": "https://localhost:8080/"
        },
        "id": "QMQnUGiWviOg",
        "outputId": "90392cde-6f1e-4b44-ecca-8ce630f243a0"
      },
      "outputs": [
        {
          "output_type": "stream",
          "name": "stderr",
          "text": [
            "Some weights of the PyTorch model were not used when initializing the TF 2.0 model TFBertModel: ['cls.predictions.transform.LayerNorm.bias', 'cls.predictions.transform.dense.bias', 'cls.predictions.bias', 'cls.seq_relationship.bias', 'cls.seq_relationship.weight', 'cls.predictions.transform.dense.weight', 'cls.predictions.transform.LayerNorm.weight']\n",
            "- This IS expected if you are initializing TFBertModel from a PyTorch model trained on another task or with another architecture (e.g. initializing a TFBertForSequenceClassification model from a BertForPreTraining model).\n",
            "- This IS NOT expected if you are initializing TFBertModel from a PyTorch model that you expect to be exactly identical (e.g. initializing a TFBertForSequenceClassification model from a BertForSequenceClassification model).\n",
            "All the weights of TFBertModel were initialized from the PyTorch model.\n",
            "If your task is similar to the task the model of the checkpoint was trained on, you can already use TFBertModel for predictions without further training.\n"
          ]
        },
        {
          "output_type": "stream",
          "name": "stdout",
          "text": [
            "Model: \"tf_bert_model_1\"\n",
            "_________________________________________________________________\n",
            " Layer (type)                Output Shape              Param #   \n",
            "=================================================================\n",
            " bert (TFBertMainLayer)      multiple                  109482240 \n",
            "                                                                 \n",
            "=================================================================\n",
            "Total params: 109482240 (417.64 MB)\n",
            "Trainable params: 109482240 (417.64 MB)\n",
            "Non-trainable params: 0 (0.00 Byte)\n",
            "_________________________________________________________________\n"
          ]
        }
      ],
      "source": [
        "from transformers import AutoTokenizer, TFAutoModel\n",
        "\n",
        "# Load the pre-trained BERT model and tokenizer\n",
        "model_name = 'bert-base-uncased'\n",
        "tokenizer = AutoTokenizer.from_pretrained(model_name)\n",
        "model = TFAutoModel.from_pretrained(model_name)\n",
        "\n",
        "# Print the model summary\n",
        "model.summary()\n"
      ]
    },
    {
      "cell_type": "code",
      "execution_count": null,
      "metadata": {
        "colab": {
          "base_uri": "https://localhost:8080/"
        },
        "id": "X_hcTrqmOjx_",
        "outputId": "f560b72b-1911-47af-9049-d0847f212c5e"
      },
      "outputs": [
        {
          "output_type": "execute_result",
          "data": {
            "text/plain": [
              "(785,)"
            ]
          },
          "metadata": {},
          "execution_count": 64
        }
      ],
      "source": [
        "binary_labels.shape"
      ]
    },
    {
      "cell_type": "markdown",
      "metadata": {
        "id": "ETPxxN-cS9pd"
      },
      "source": [
        "Merge BERT + wordvec"
      ]
    },
    {
      "cell_type": "code",
      "execution_count": null,
      "metadata": {
        "id": "6Tfw6uvgw7pV"
      },
      "outputs": [],
      "source": [
        "import numpy as np\n",
        "\n",
        "# Assume wor2vec_embeddings has shape (n_samples, 100)\n",
        "# Assume bert_embed has shape (n_samples, 768)\n",
        "\n",
        "# Extend wor2vec_embeddings with zeros to match dimensions\n",
        "num_samples = wor2vec_embeddings.shape[0]\n",
        "num_columns_to_add = 768 - 100  # Adjust as needed\n",
        "\n",
        "# Pad with zeros along the second axis\n",
        "wor2vec_embeddings_extended = np.pad(wor2vec_embeddings, ((0, 0), (0, num_columns_to_add)), 'constant')\n",
        "\n",
        "# Concatenate along the first axis\n",
        "merged_embed = np.concatenate([wor2vec_embeddings_extended, bert_embed], axis=0)\n",
        "\n"
      ]
    },
    {
      "cell_type": "code",
      "source": [
        "# Now, you can use lstm_features_train for visualization or any further analysis\n",
        "print(\"LSTM Feature Vectors (Training):\", merged_embed)"
      ],
      "metadata": {
        "colab": {
          "base_uri": "https://localhost:8080/"
        },
        "id": "MWKYOCmZe2gJ",
        "outputId": "c398e96f-3620-4283-f702-c96addb3bdfe"
      },
      "execution_count": null,
      "outputs": [
        {
          "output_type": "stream",
          "name": "stdout",
          "text": [
            "LSTM Feature Vectors (Training): [[ 0.03656434  0.21833362  0.1385378  ...  0.          0.\n",
            "   0.        ]\n",
            " [ 0.03225324  0.19782054  0.20326662 ...  0.          0.\n",
            "   0.        ]\n",
            " [ 0.03456775  0.16281417  0.19144759 ...  0.          0.\n",
            "   0.        ]\n",
            " ...\n",
            " [-0.55351484 -0.29850733 -0.32068196 ... -0.08490788 -0.56487507\n",
            "   0.59934056]\n",
            " [-0.40220118 -0.20366985 -0.65784806 ... -0.49699476 -0.5037736\n",
            "   0.44894192]\n",
            " [-0.66127074 -0.29605785 -0.67903805 ... -0.37591705 -0.56469625\n",
            "   0.7503463 ]]\n"
          ]
        }
      ]
    },
    {
      "cell_type": "code",
      "source": [
        "# Calculate the number of parameters\n",
        "num_parameters = merged_embed.size"
      ],
      "metadata": {
        "id": "FZX-PVSAfIFM"
      },
      "execution_count": null,
      "outputs": []
    },
    {
      "cell_type": "code",
      "source": [
        "print(\"LSTM Feature Vectors size (Training):\", num_parameters)"
      ],
      "metadata": {
        "colab": {
          "base_uri": "https://localhost:8080/"
        },
        "id": "Ga7sO1blfC09",
        "outputId": "3a003378-12f7-4ed7-bf59-a2c8daaed09d"
      },
      "execution_count": null,
      "outputs": [
        {
          "output_type": "stream",
          "name": "stdout",
          "text": [
            "LSTM Feature Vectors size (Training): 1205760\n"
          ]
        }
      ]
    },
    {
      "cell_type": "code",
      "source": [
        "\n",
        "# Calculate the number of parameters\n",
        "num_parameters = merged_embed.size\n",
        "\n",
        "# Create a parameter table\n",
        "parameter_table = [\n",
        "    [\"Embedding Type\", \"Shape\", \"Number of Parameters\"],\n",
        "    [\"Word2Vec\", wor2vec_embeddings_extended.shape, wor2vec_embeddings_extended.size],\n",
        "    [\"BERT\", bert_embed.shape, bert_embed.size],\n",
        "    [\"Merged\", merged_embed.shape, num_parameters]\n",
        "]\n",
        "\n",
        "# Display the parameter table\n",
        "print(\"{:<15} {:<20} {:<15}\".format(\"Embedding Type\", \"Shape\", \"Number of Parameters\"))\n",
        "for row in parameter_table[1:]:\n",
        "    embedding_type, shape, num_params = row\n",
        "    print(f\"{embedding_type:<15} {str(shape):<20} {num_params:<15}\")\n"
      ],
      "metadata": {
        "colab": {
          "base_uri": "https://localhost:8080/"
        },
        "id": "nlpEr48c3m8w",
        "outputId": "a6b094e6-1fa0-4323-a01f-21bc73e6e5ef"
      },
      "execution_count": null,
      "outputs": [
        {
          "output_type": "stream",
          "name": "stdout",
          "text": [
            "Embedding Type  Shape                Number of Parameters\n",
            "Word2Vec        (785, 768)           602880         \n",
            "BERT            (785, 768)           602880         \n",
            "Merged          (1570, 768)          1205760        \n"
          ]
        }
      ]
    },
    {
      "cell_type": "code",
      "execution_count": null,
      "metadata": {
        "id": "BVeAcVKpZWpW"
      },
      "outputs": [],
      "source": [
        "# Split the data and preprocess it\n",
        "X_train, X_test, y_train, y_test = train_test_split(wor2vec_embeddings_extended, binary_labels, test_size=0.2, random_state=42)\n",
        "# X_train, X_test, y_train, y_test = train_test_split(bert_embeddings, binary_labels, test_size=0.2, random_state=42)"
      ]
    },
    {
      "cell_type": "code",
      "execution_count": null,
      "metadata": {
        "colab": {
          "base_uri": "https://localhost:8080/"
        },
        "id": "sk4dT8veUEpq",
        "outputId": "dc68b4ad-c6b3-4e8b-efd4-80c010cdafbf"
      },
      "outputs": [
        {
          "output_type": "execute_result",
          "data": {
            "text/plain": [
              "868"
            ]
          },
          "metadata": {},
          "execution_count": 71
        }
      ],
      "source": [
        "columns = []\n",
        "\n",
        "for i in range(868):\n",
        "    columns.append(i)\n",
        "\n",
        "len(columns)"
      ]
    },
    {
      "cell_type": "code",
      "execution_count": null,
      "metadata": {
        "colab": {
          "base_uri": "https://localhost:8080/",
          "height": 256
        },
        "id": "ZVXRwSFoUDMO",
        "outputId": "55793586-32fd-4e41-a3c8-aaee5b56ca4c"
      },
      "outputs": [
        {
          "output_type": "execute_result",
          "data": {
            "text/plain": [
              "   column_0  column_1  column_2  column_3  column_4  column_5  column_6  \\\n",
              "0  0.036564  0.218334  0.138538  0.256518  0.281212 -0.569148  0.384156   \n",
              "1  0.032253  0.197821  0.203267  0.292875  0.311066 -0.599398  0.391063   \n",
              "2  0.034568  0.162814  0.191448  0.260829  0.279162 -0.528359  0.341305   \n",
              "3  0.042560  0.168587  0.130679  0.219823  0.261462 -0.463100  0.320594   \n",
              "4  0.025282  0.112338  0.178910  0.221880  0.235676 -0.416479  0.267579   \n",
              "\n",
              "   column_7  column_8  column_9  ...  column_758  column_759  column_760  \\\n",
              "0  0.997973 -0.051162 -0.420632  ...         0.0         0.0         0.0   \n",
              "1  1.120264 -0.018819 -0.493481  ...         0.0         0.0         0.0   \n",
              "2  0.993970 -0.003587 -0.446183  ...         0.0         0.0         0.0   \n",
              "3  0.828719 -0.023770 -0.356276  ...         0.0         0.0         0.0   \n",
              "4  0.823004  0.014731 -0.376754  ...         0.0         0.0         0.0   \n",
              "\n",
              "   column_761  column_762  column_763  column_764  column_765  column_766  \\\n",
              "0         0.0         0.0         0.0         0.0         0.0         0.0   \n",
              "1         0.0         0.0         0.0         0.0         0.0         0.0   \n",
              "2         0.0         0.0         0.0         0.0         0.0         0.0   \n",
              "3         0.0         0.0         0.0         0.0         0.0         0.0   \n",
              "4         0.0         0.0         0.0         0.0         0.0         0.0   \n",
              "\n",
              "   column_767  \n",
              "0         0.0  \n",
              "1         0.0  \n",
              "2         0.0  \n",
              "3         0.0  \n",
              "4         0.0  \n",
              "\n",
              "[5 rows x 768 columns]"
            ],
            "text/html": [
              "\n",
              "  <div id=\"df-14b4b9e1-e879-439f-ae8d-0b7f5b3fcd95\" class=\"colab-df-container\">\n",
              "    <div>\n",
              "<style scoped>\n",
              "    .dataframe tbody tr th:only-of-type {\n",
              "        vertical-align: middle;\n",
              "    }\n",
              "\n",
              "    .dataframe tbody tr th {\n",
              "        vertical-align: top;\n",
              "    }\n",
              "\n",
              "    .dataframe thead th {\n",
              "        text-align: right;\n",
              "    }\n",
              "</style>\n",
              "<table border=\"1\" class=\"dataframe\">\n",
              "  <thead>\n",
              "    <tr style=\"text-align: right;\">\n",
              "      <th></th>\n",
              "      <th>column_0</th>\n",
              "      <th>column_1</th>\n",
              "      <th>column_2</th>\n",
              "      <th>column_3</th>\n",
              "      <th>column_4</th>\n",
              "      <th>column_5</th>\n",
              "      <th>column_6</th>\n",
              "      <th>column_7</th>\n",
              "      <th>column_8</th>\n",
              "      <th>column_9</th>\n",
              "      <th>...</th>\n",
              "      <th>column_758</th>\n",
              "      <th>column_759</th>\n",
              "      <th>column_760</th>\n",
              "      <th>column_761</th>\n",
              "      <th>column_762</th>\n",
              "      <th>column_763</th>\n",
              "      <th>column_764</th>\n",
              "      <th>column_765</th>\n",
              "      <th>column_766</th>\n",
              "      <th>column_767</th>\n",
              "    </tr>\n",
              "  </thead>\n",
              "  <tbody>\n",
              "    <tr>\n",
              "      <th>0</th>\n",
              "      <td>0.036564</td>\n",
              "      <td>0.218334</td>\n",
              "      <td>0.138538</td>\n",
              "      <td>0.256518</td>\n",
              "      <td>0.281212</td>\n",
              "      <td>-0.569148</td>\n",
              "      <td>0.384156</td>\n",
              "      <td>0.997973</td>\n",
              "      <td>-0.051162</td>\n",
              "      <td>-0.420632</td>\n",
              "      <td>...</td>\n",
              "      <td>0.0</td>\n",
              "      <td>0.0</td>\n",
              "      <td>0.0</td>\n",
              "      <td>0.0</td>\n",
              "      <td>0.0</td>\n",
              "      <td>0.0</td>\n",
              "      <td>0.0</td>\n",
              "      <td>0.0</td>\n",
              "      <td>0.0</td>\n",
              "      <td>0.0</td>\n",
              "    </tr>\n",
              "    <tr>\n",
              "      <th>1</th>\n",
              "      <td>0.032253</td>\n",
              "      <td>0.197821</td>\n",
              "      <td>0.203267</td>\n",
              "      <td>0.292875</td>\n",
              "      <td>0.311066</td>\n",
              "      <td>-0.599398</td>\n",
              "      <td>0.391063</td>\n",
              "      <td>1.120264</td>\n",
              "      <td>-0.018819</td>\n",
              "      <td>-0.493481</td>\n",
              "      <td>...</td>\n",
              "      <td>0.0</td>\n",
              "      <td>0.0</td>\n",
              "      <td>0.0</td>\n",
              "      <td>0.0</td>\n",
              "      <td>0.0</td>\n",
              "      <td>0.0</td>\n",
              "      <td>0.0</td>\n",
              "      <td>0.0</td>\n",
              "      <td>0.0</td>\n",
              "      <td>0.0</td>\n",
              "    </tr>\n",
              "    <tr>\n",
              "      <th>2</th>\n",
              "      <td>0.034568</td>\n",
              "      <td>0.162814</td>\n",
              "      <td>0.191448</td>\n",
              "      <td>0.260829</td>\n",
              "      <td>0.279162</td>\n",
              "      <td>-0.528359</td>\n",
              "      <td>0.341305</td>\n",
              "      <td>0.993970</td>\n",
              "      <td>-0.003587</td>\n",
              "      <td>-0.446183</td>\n",
              "      <td>...</td>\n",
              "      <td>0.0</td>\n",
              "      <td>0.0</td>\n",
              "      <td>0.0</td>\n",
              "      <td>0.0</td>\n",
              "      <td>0.0</td>\n",
              "      <td>0.0</td>\n",
              "      <td>0.0</td>\n",
              "      <td>0.0</td>\n",
              "      <td>0.0</td>\n",
              "      <td>0.0</td>\n",
              "    </tr>\n",
              "    <tr>\n",
              "      <th>3</th>\n",
              "      <td>0.042560</td>\n",
              "      <td>0.168587</td>\n",
              "      <td>0.130679</td>\n",
              "      <td>0.219823</td>\n",
              "      <td>0.261462</td>\n",
              "      <td>-0.463100</td>\n",
              "      <td>0.320594</td>\n",
              "      <td>0.828719</td>\n",
              "      <td>-0.023770</td>\n",
              "      <td>-0.356276</td>\n",
              "      <td>...</td>\n",
              "      <td>0.0</td>\n",
              "      <td>0.0</td>\n",
              "      <td>0.0</td>\n",
              "      <td>0.0</td>\n",
              "      <td>0.0</td>\n",
              "      <td>0.0</td>\n",
              "      <td>0.0</td>\n",
              "      <td>0.0</td>\n",
              "      <td>0.0</td>\n",
              "      <td>0.0</td>\n",
              "    </tr>\n",
              "    <tr>\n",
              "      <th>4</th>\n",
              "      <td>0.025282</td>\n",
              "      <td>0.112338</td>\n",
              "      <td>0.178910</td>\n",
              "      <td>0.221880</td>\n",
              "      <td>0.235676</td>\n",
              "      <td>-0.416479</td>\n",
              "      <td>0.267579</td>\n",
              "      <td>0.823004</td>\n",
              "      <td>0.014731</td>\n",
              "      <td>-0.376754</td>\n",
              "      <td>...</td>\n",
              "      <td>0.0</td>\n",
              "      <td>0.0</td>\n",
              "      <td>0.0</td>\n",
              "      <td>0.0</td>\n",
              "      <td>0.0</td>\n",
              "      <td>0.0</td>\n",
              "      <td>0.0</td>\n",
              "      <td>0.0</td>\n",
              "      <td>0.0</td>\n",
              "      <td>0.0</td>\n",
              "    </tr>\n",
              "  </tbody>\n",
              "</table>\n",
              "<p>5 rows × 768 columns</p>\n",
              "</div>\n",
              "    <div class=\"colab-df-buttons\">\n",
              "\n",
              "  <div class=\"colab-df-container\">\n",
              "    <button class=\"colab-df-convert\" onclick=\"convertToInteractive('df-14b4b9e1-e879-439f-ae8d-0b7f5b3fcd95')\"\n",
              "            title=\"Convert this dataframe to an interactive table.\"\n",
              "            style=\"display:none;\">\n",
              "\n",
              "  <svg xmlns=\"http://www.w3.org/2000/svg\" height=\"24px\" viewBox=\"0 -960 960 960\">\n",
              "    <path d=\"M120-120v-720h720v720H120Zm60-500h600v-160H180v160Zm220 220h160v-160H400v160Zm0 220h160v-160H400v160ZM180-400h160v-160H180v160Zm440 0h160v-160H620v160ZM180-180h160v-160H180v160Zm440 0h160v-160H620v160Z\"/>\n",
              "  </svg>\n",
              "    </button>\n",
              "\n",
              "  <style>\n",
              "    .colab-df-container {\n",
              "      display:flex;\n",
              "      gap: 12px;\n",
              "    }\n",
              "\n",
              "    .colab-df-convert {\n",
              "      background-color: #E8F0FE;\n",
              "      border: none;\n",
              "      border-radius: 50%;\n",
              "      cursor: pointer;\n",
              "      display: none;\n",
              "      fill: #1967D2;\n",
              "      height: 32px;\n",
              "      padding: 0 0 0 0;\n",
              "      width: 32px;\n",
              "    }\n",
              "\n",
              "    .colab-df-convert:hover {\n",
              "      background-color: #E2EBFA;\n",
              "      box-shadow: 0px 1px 2px rgba(60, 64, 67, 0.3), 0px 1px 3px 1px rgba(60, 64, 67, 0.15);\n",
              "      fill: #174EA6;\n",
              "    }\n",
              "\n",
              "    .colab-df-buttons div {\n",
              "      margin-bottom: 4px;\n",
              "    }\n",
              "\n",
              "    [theme=dark] .colab-df-convert {\n",
              "      background-color: #3B4455;\n",
              "      fill: #D2E3FC;\n",
              "    }\n",
              "\n",
              "    [theme=dark] .colab-df-convert:hover {\n",
              "      background-color: #434B5C;\n",
              "      box-shadow: 0px 1px 3px 1px rgba(0, 0, 0, 0.15);\n",
              "      filter: drop-shadow(0px 1px 2px rgba(0, 0, 0, 0.3));\n",
              "      fill: #FFFFFF;\n",
              "    }\n",
              "  </style>\n",
              "\n",
              "    <script>\n",
              "      const buttonEl =\n",
              "        document.querySelector('#df-14b4b9e1-e879-439f-ae8d-0b7f5b3fcd95 button.colab-df-convert');\n",
              "      buttonEl.style.display =\n",
              "        google.colab.kernel.accessAllowed ? 'block' : 'none';\n",
              "\n",
              "      async function convertToInteractive(key) {\n",
              "        const element = document.querySelector('#df-14b4b9e1-e879-439f-ae8d-0b7f5b3fcd95');\n",
              "        const dataTable =\n",
              "          await google.colab.kernel.invokeFunction('convertToInteractive',\n",
              "                                                    [key], {});\n",
              "        if (!dataTable) return;\n",
              "\n",
              "        const docLinkHtml = 'Like what you see? Visit the ' +\n",
              "          '<a target=\"_blank\" href=https://colab.research.google.com/notebooks/data_table.ipynb>data table notebook</a>'\n",
              "          + ' to learn more about interactive tables.';\n",
              "        element.innerHTML = '';\n",
              "        dataTable['output_type'] = 'display_data';\n",
              "        await google.colab.output.renderOutput(dataTable, element);\n",
              "        const docLink = document.createElement('div');\n",
              "        docLink.innerHTML = docLinkHtml;\n",
              "        element.appendChild(docLink);\n",
              "      }\n",
              "    </script>\n",
              "  </div>\n",
              "\n",
              "\n",
              "<div id=\"df-b6603bc4-9414-47c0-ba64-2fe95b4d3e94\">\n",
              "  <button class=\"colab-df-quickchart\" onclick=\"quickchart('df-b6603bc4-9414-47c0-ba64-2fe95b4d3e94')\"\n",
              "            title=\"Suggest charts\"\n",
              "            style=\"display:none;\">\n",
              "\n",
              "<svg xmlns=\"http://www.w3.org/2000/svg\" height=\"24px\"viewBox=\"0 0 24 24\"\n",
              "     width=\"24px\">\n",
              "    <g>\n",
              "        <path d=\"M19 3H5c-1.1 0-2 .9-2 2v14c0 1.1.9 2 2 2h14c1.1 0 2-.9 2-2V5c0-1.1-.9-2-2-2zM9 17H7v-7h2v7zm4 0h-2V7h2v10zm4 0h-2v-4h2v4z\"/>\n",
              "    </g>\n",
              "</svg>\n",
              "  </button>\n",
              "\n",
              "<style>\n",
              "  .colab-df-quickchart {\n",
              "      --bg-color: #E8F0FE;\n",
              "      --fill-color: #1967D2;\n",
              "      --hover-bg-color: #E2EBFA;\n",
              "      --hover-fill-color: #174EA6;\n",
              "      --disabled-fill-color: #AAA;\n",
              "      --disabled-bg-color: #DDD;\n",
              "  }\n",
              "\n",
              "  [theme=dark] .colab-df-quickchart {\n",
              "      --bg-color: #3B4455;\n",
              "      --fill-color: #D2E3FC;\n",
              "      --hover-bg-color: #434B5C;\n",
              "      --hover-fill-color: #FFFFFF;\n",
              "      --disabled-bg-color: #3B4455;\n",
              "      --disabled-fill-color: #666;\n",
              "  }\n",
              "\n",
              "  .colab-df-quickchart {\n",
              "    background-color: var(--bg-color);\n",
              "    border: none;\n",
              "    border-radius: 50%;\n",
              "    cursor: pointer;\n",
              "    display: none;\n",
              "    fill: var(--fill-color);\n",
              "    height: 32px;\n",
              "    padding: 0;\n",
              "    width: 32px;\n",
              "  }\n",
              "\n",
              "  .colab-df-quickchart:hover {\n",
              "    background-color: var(--hover-bg-color);\n",
              "    box-shadow: 0 1px 2px rgba(60, 64, 67, 0.3), 0 1px 3px 1px rgba(60, 64, 67, 0.15);\n",
              "    fill: var(--button-hover-fill-color);\n",
              "  }\n",
              "\n",
              "  .colab-df-quickchart-complete:disabled,\n",
              "  .colab-df-quickchart-complete:disabled:hover {\n",
              "    background-color: var(--disabled-bg-color);\n",
              "    fill: var(--disabled-fill-color);\n",
              "    box-shadow: none;\n",
              "  }\n",
              "\n",
              "  .colab-df-spinner {\n",
              "    border: 2px solid var(--fill-color);\n",
              "    border-color: transparent;\n",
              "    border-bottom-color: var(--fill-color);\n",
              "    animation:\n",
              "      spin 1s steps(1) infinite;\n",
              "  }\n",
              "\n",
              "  @keyframes spin {\n",
              "    0% {\n",
              "      border-color: transparent;\n",
              "      border-bottom-color: var(--fill-color);\n",
              "      border-left-color: var(--fill-color);\n",
              "    }\n",
              "    20% {\n",
              "      border-color: transparent;\n",
              "      border-left-color: var(--fill-color);\n",
              "      border-top-color: var(--fill-color);\n",
              "    }\n",
              "    30% {\n",
              "      border-color: transparent;\n",
              "      border-left-color: var(--fill-color);\n",
              "      border-top-color: var(--fill-color);\n",
              "      border-right-color: var(--fill-color);\n",
              "    }\n",
              "    40% {\n",
              "      border-color: transparent;\n",
              "      border-right-color: var(--fill-color);\n",
              "      border-top-color: var(--fill-color);\n",
              "    }\n",
              "    60% {\n",
              "      border-color: transparent;\n",
              "      border-right-color: var(--fill-color);\n",
              "    }\n",
              "    80% {\n",
              "      border-color: transparent;\n",
              "      border-right-color: var(--fill-color);\n",
              "      border-bottom-color: var(--fill-color);\n",
              "    }\n",
              "    90% {\n",
              "      border-color: transparent;\n",
              "      border-bottom-color: var(--fill-color);\n",
              "    }\n",
              "  }\n",
              "</style>\n",
              "\n",
              "  <script>\n",
              "    async function quickchart(key) {\n",
              "      const quickchartButtonEl =\n",
              "        document.querySelector('#' + key + ' button');\n",
              "      quickchartButtonEl.disabled = true;  // To prevent multiple clicks.\n",
              "      quickchartButtonEl.classList.add('colab-df-spinner');\n",
              "      try {\n",
              "        const charts = await google.colab.kernel.invokeFunction(\n",
              "            'suggestCharts', [key], {});\n",
              "      } catch (error) {\n",
              "        console.error('Error during call to suggestCharts:', error);\n",
              "      }\n",
              "      quickchartButtonEl.classList.remove('colab-df-spinner');\n",
              "      quickchartButtonEl.classList.add('colab-df-quickchart-complete');\n",
              "    }\n",
              "    (() => {\n",
              "      let quickchartButtonEl =\n",
              "        document.querySelector('#df-b6603bc4-9414-47c0-ba64-2fe95b4d3e94 button');\n",
              "      quickchartButtonEl.style.display =\n",
              "        google.colab.kernel.accessAllowed ? 'block' : 'none';\n",
              "    })();\n",
              "  </script>\n",
              "</div>\n",
              "    </div>\n",
              "  </div>\n"
            ],
            "application/vnd.google.colaboratory.intrinsic+json": {
              "type": "dataframe",
              "variable_name": "df"
            }
          },
          "metadata": {},
          "execution_count": 72
        }
      ],
      "source": [
        "# # convert to a DataFrame\n",
        "# df = pd.DataFrame(merged_embed, columns=columns)\n",
        "\n",
        "# Assuming merged_embed has shape (1246, 768)\n",
        "# columns should be a list of column names with 768 elements\n",
        "columns = [f\"column_{i}\" for i in range(768)]\n",
        "\n",
        "# Create the DataFrame\n",
        "df = pd.DataFrame(merged_embed, columns=columns)\n",
        "\n",
        "df.head(5)"
      ]
    },
    {
      "cell_type": "code",
      "source": [
        "df"
      ],
      "metadata": {
        "id": "FKx4A5jPfvJT",
        "outputId": "467cd3ac-62cc-4504-aa7d-d97da4756e9b",
        "colab": {
          "base_uri": "https://localhost:8080/",
          "height": 444
        }
      },
      "execution_count": null,
      "outputs": [
        {
          "output_type": "execute_result",
          "data": {
            "text/plain": [
              "      column_0  column_1  column_2  column_3  column_4  column_5  column_6  \\\n",
              "0     0.036564  0.218334  0.138538  0.256518  0.281212 -0.569148  0.384156   \n",
              "1     0.032253  0.197821  0.203267  0.292875  0.311066 -0.599398  0.391063   \n",
              "2     0.034568  0.162814  0.191448  0.260829  0.279162 -0.528359  0.341305   \n",
              "3     0.042560  0.168587  0.130679  0.219823  0.261462 -0.463100  0.320594   \n",
              "4     0.025282  0.112338  0.178910  0.221880  0.235676 -0.416479  0.267579   \n",
              "...        ...       ...       ...       ...       ...       ...       ...   \n",
              "1565 -0.594592 -0.265427 -0.370284  0.449403 -0.049620 -0.060405  0.487752   \n",
              "1566 -0.689070 -0.223740 -0.323642  0.459615  0.004207 -0.045441  0.639157   \n",
              "1567 -0.553515 -0.298507 -0.320682  0.284395 -0.121845 -0.063109  0.438248   \n",
              "1568 -0.402201 -0.203670 -0.657848  0.335423  0.177897 -0.057202  0.291916   \n",
              "1569 -0.661271 -0.296058 -0.679038  0.571126  0.271597 -0.052500  0.768021   \n",
              "\n",
              "      column_7  column_8  column_9  ...  column_758  column_759  column_760  \\\n",
              "0     0.997973 -0.051162 -0.420632  ...    0.000000    0.000000    0.000000   \n",
              "1     1.120264 -0.018819 -0.493481  ...    0.000000    0.000000    0.000000   \n",
              "2     0.993970 -0.003587 -0.446183  ...    0.000000    0.000000    0.000000   \n",
              "3     0.828719 -0.023770 -0.356276  ...    0.000000    0.000000    0.000000   \n",
              "4     0.823004  0.014731 -0.376754  ...    0.000000    0.000000    0.000000   \n",
              "...        ...       ...       ...  ...         ...         ...         ...   \n",
              "1565  0.236381  0.091387 -0.999658  ...    0.572614    0.136991   -0.035602   \n",
              "1566  0.049712 -0.081533 -0.999701  ...    0.526577    0.298951    0.235158   \n",
              "1567  0.223991  0.101273 -0.999505  ...    0.488431    0.185630   -0.185045   \n",
              "1568  0.173513 -0.172743 -0.999129  ...    0.549159    0.081146    0.116781   \n",
              "1569  0.181490 -0.466507 -0.999861  ...    0.605354   -0.066117    0.715839   \n",
              "\n",
              "      column_761  column_762  column_763  column_764  column_765  column_766  \\\n",
              "0       0.000000    0.000000    0.000000    0.000000    0.000000    0.000000   \n",
              "1       0.000000    0.000000    0.000000    0.000000    0.000000    0.000000   \n",
              "2       0.000000    0.000000    0.000000    0.000000    0.000000    0.000000   \n",
              "3       0.000000    0.000000    0.000000    0.000000    0.000000    0.000000   \n",
              "4       0.000000    0.000000    0.000000    0.000000    0.000000    0.000000   \n",
              "...          ...         ...         ...         ...         ...         ...   \n",
              "1565    0.749789    0.340442    0.483130    0.651838   -0.070919   -0.586213   \n",
              "1566    0.790037    0.156687    0.480044    0.625669    0.069269   -0.543947   \n",
              "1567    0.688859    0.360062    0.435166    0.601390   -0.084908   -0.564875   \n",
              "1568    0.533976    0.284301    0.225381    0.644713   -0.496995   -0.503774   \n",
              "1569    0.788030   -0.176278    0.170546    0.703104   -0.375917   -0.564696   \n",
              "\n",
              "      column_767  \n",
              "0       0.000000  \n",
              "1       0.000000  \n",
              "2       0.000000  \n",
              "3       0.000000  \n",
              "4       0.000000  \n",
              "...          ...  \n",
              "1565    0.633905  \n",
              "1566    0.741714  \n",
              "1567    0.599341  \n",
              "1568    0.448942  \n",
              "1569    0.750346  \n",
              "\n",
              "[1570 rows x 768 columns]"
            ],
            "text/html": [
              "\n",
              "  <div id=\"df-3111b790-59ca-420c-afcd-43a089ffe52f\" class=\"colab-df-container\">\n",
              "    <div>\n",
              "<style scoped>\n",
              "    .dataframe tbody tr th:only-of-type {\n",
              "        vertical-align: middle;\n",
              "    }\n",
              "\n",
              "    .dataframe tbody tr th {\n",
              "        vertical-align: top;\n",
              "    }\n",
              "\n",
              "    .dataframe thead th {\n",
              "        text-align: right;\n",
              "    }\n",
              "</style>\n",
              "<table border=\"1\" class=\"dataframe\">\n",
              "  <thead>\n",
              "    <tr style=\"text-align: right;\">\n",
              "      <th></th>\n",
              "      <th>column_0</th>\n",
              "      <th>column_1</th>\n",
              "      <th>column_2</th>\n",
              "      <th>column_3</th>\n",
              "      <th>column_4</th>\n",
              "      <th>column_5</th>\n",
              "      <th>column_6</th>\n",
              "      <th>column_7</th>\n",
              "      <th>column_8</th>\n",
              "      <th>column_9</th>\n",
              "      <th>...</th>\n",
              "      <th>column_758</th>\n",
              "      <th>column_759</th>\n",
              "      <th>column_760</th>\n",
              "      <th>column_761</th>\n",
              "      <th>column_762</th>\n",
              "      <th>column_763</th>\n",
              "      <th>column_764</th>\n",
              "      <th>column_765</th>\n",
              "      <th>column_766</th>\n",
              "      <th>column_767</th>\n",
              "    </tr>\n",
              "  </thead>\n",
              "  <tbody>\n",
              "    <tr>\n",
              "      <th>0</th>\n",
              "      <td>0.036564</td>\n",
              "      <td>0.218334</td>\n",
              "      <td>0.138538</td>\n",
              "      <td>0.256518</td>\n",
              "      <td>0.281212</td>\n",
              "      <td>-0.569148</td>\n",
              "      <td>0.384156</td>\n",
              "      <td>0.997973</td>\n",
              "      <td>-0.051162</td>\n",
              "      <td>-0.420632</td>\n",
              "      <td>...</td>\n",
              "      <td>0.000000</td>\n",
              "      <td>0.000000</td>\n",
              "      <td>0.000000</td>\n",
              "      <td>0.000000</td>\n",
              "      <td>0.000000</td>\n",
              "      <td>0.000000</td>\n",
              "      <td>0.000000</td>\n",
              "      <td>0.000000</td>\n",
              "      <td>0.000000</td>\n",
              "      <td>0.000000</td>\n",
              "    </tr>\n",
              "    <tr>\n",
              "      <th>1</th>\n",
              "      <td>0.032253</td>\n",
              "      <td>0.197821</td>\n",
              "      <td>0.203267</td>\n",
              "      <td>0.292875</td>\n",
              "      <td>0.311066</td>\n",
              "      <td>-0.599398</td>\n",
              "      <td>0.391063</td>\n",
              "      <td>1.120264</td>\n",
              "      <td>-0.018819</td>\n",
              "      <td>-0.493481</td>\n",
              "      <td>...</td>\n",
              "      <td>0.000000</td>\n",
              "      <td>0.000000</td>\n",
              "      <td>0.000000</td>\n",
              "      <td>0.000000</td>\n",
              "      <td>0.000000</td>\n",
              "      <td>0.000000</td>\n",
              "      <td>0.000000</td>\n",
              "      <td>0.000000</td>\n",
              "      <td>0.000000</td>\n",
              "      <td>0.000000</td>\n",
              "    </tr>\n",
              "    <tr>\n",
              "      <th>2</th>\n",
              "      <td>0.034568</td>\n",
              "      <td>0.162814</td>\n",
              "      <td>0.191448</td>\n",
              "      <td>0.260829</td>\n",
              "      <td>0.279162</td>\n",
              "      <td>-0.528359</td>\n",
              "      <td>0.341305</td>\n",
              "      <td>0.993970</td>\n",
              "      <td>-0.003587</td>\n",
              "      <td>-0.446183</td>\n",
              "      <td>...</td>\n",
              "      <td>0.000000</td>\n",
              "      <td>0.000000</td>\n",
              "      <td>0.000000</td>\n",
              "      <td>0.000000</td>\n",
              "      <td>0.000000</td>\n",
              "      <td>0.000000</td>\n",
              "      <td>0.000000</td>\n",
              "      <td>0.000000</td>\n",
              "      <td>0.000000</td>\n",
              "      <td>0.000000</td>\n",
              "    </tr>\n",
              "    <tr>\n",
              "      <th>3</th>\n",
              "      <td>0.042560</td>\n",
              "      <td>0.168587</td>\n",
              "      <td>0.130679</td>\n",
              "      <td>0.219823</td>\n",
              "      <td>0.261462</td>\n",
              "      <td>-0.463100</td>\n",
              "      <td>0.320594</td>\n",
              "      <td>0.828719</td>\n",
              "      <td>-0.023770</td>\n",
              "      <td>-0.356276</td>\n",
              "      <td>...</td>\n",
              "      <td>0.000000</td>\n",
              "      <td>0.000000</td>\n",
              "      <td>0.000000</td>\n",
              "      <td>0.000000</td>\n",
              "      <td>0.000000</td>\n",
              "      <td>0.000000</td>\n",
              "      <td>0.000000</td>\n",
              "      <td>0.000000</td>\n",
              "      <td>0.000000</td>\n",
              "      <td>0.000000</td>\n",
              "    </tr>\n",
              "    <tr>\n",
              "      <th>4</th>\n",
              "      <td>0.025282</td>\n",
              "      <td>0.112338</td>\n",
              "      <td>0.178910</td>\n",
              "      <td>0.221880</td>\n",
              "      <td>0.235676</td>\n",
              "      <td>-0.416479</td>\n",
              "      <td>0.267579</td>\n",
              "      <td>0.823004</td>\n",
              "      <td>0.014731</td>\n",
              "      <td>-0.376754</td>\n",
              "      <td>...</td>\n",
              "      <td>0.000000</td>\n",
              "      <td>0.000000</td>\n",
              "      <td>0.000000</td>\n",
              "      <td>0.000000</td>\n",
              "      <td>0.000000</td>\n",
              "      <td>0.000000</td>\n",
              "      <td>0.000000</td>\n",
              "      <td>0.000000</td>\n",
              "      <td>0.000000</td>\n",
              "      <td>0.000000</td>\n",
              "    </tr>\n",
              "    <tr>\n",
              "      <th>...</th>\n",
              "      <td>...</td>\n",
              "      <td>...</td>\n",
              "      <td>...</td>\n",
              "      <td>...</td>\n",
              "      <td>...</td>\n",
              "      <td>...</td>\n",
              "      <td>...</td>\n",
              "      <td>...</td>\n",
              "      <td>...</td>\n",
              "      <td>...</td>\n",
              "      <td>...</td>\n",
              "      <td>...</td>\n",
              "      <td>...</td>\n",
              "      <td>...</td>\n",
              "      <td>...</td>\n",
              "      <td>...</td>\n",
              "      <td>...</td>\n",
              "      <td>...</td>\n",
              "      <td>...</td>\n",
              "      <td>...</td>\n",
              "      <td>...</td>\n",
              "    </tr>\n",
              "    <tr>\n",
              "      <th>1565</th>\n",
              "      <td>-0.594592</td>\n",
              "      <td>-0.265427</td>\n",
              "      <td>-0.370284</td>\n",
              "      <td>0.449403</td>\n",
              "      <td>-0.049620</td>\n",
              "      <td>-0.060405</td>\n",
              "      <td>0.487752</td>\n",
              "      <td>0.236381</td>\n",
              "      <td>0.091387</td>\n",
              "      <td>-0.999658</td>\n",
              "      <td>...</td>\n",
              "      <td>0.572614</td>\n",
              "      <td>0.136991</td>\n",
              "      <td>-0.035602</td>\n",
              "      <td>0.749789</td>\n",
              "      <td>0.340442</td>\n",
              "      <td>0.483130</td>\n",
              "      <td>0.651838</td>\n",
              "      <td>-0.070919</td>\n",
              "      <td>-0.586213</td>\n",
              "      <td>0.633905</td>\n",
              "    </tr>\n",
              "    <tr>\n",
              "      <th>1566</th>\n",
              "      <td>-0.689070</td>\n",
              "      <td>-0.223740</td>\n",
              "      <td>-0.323642</td>\n",
              "      <td>0.459615</td>\n",
              "      <td>0.004207</td>\n",
              "      <td>-0.045441</td>\n",
              "      <td>0.639157</td>\n",
              "      <td>0.049712</td>\n",
              "      <td>-0.081533</td>\n",
              "      <td>-0.999701</td>\n",
              "      <td>...</td>\n",
              "      <td>0.526577</td>\n",
              "      <td>0.298951</td>\n",
              "      <td>0.235158</td>\n",
              "      <td>0.790037</td>\n",
              "      <td>0.156687</td>\n",
              "      <td>0.480044</td>\n",
              "      <td>0.625669</td>\n",
              "      <td>0.069269</td>\n",
              "      <td>-0.543947</td>\n",
              "      <td>0.741714</td>\n",
              "    </tr>\n",
              "    <tr>\n",
              "      <th>1567</th>\n",
              "      <td>-0.553515</td>\n",
              "      <td>-0.298507</td>\n",
              "      <td>-0.320682</td>\n",
              "      <td>0.284395</td>\n",
              "      <td>-0.121845</td>\n",
              "      <td>-0.063109</td>\n",
              "      <td>0.438248</td>\n",
              "      <td>0.223991</td>\n",
              "      <td>0.101273</td>\n",
              "      <td>-0.999505</td>\n",
              "      <td>...</td>\n",
              "      <td>0.488431</td>\n",
              "      <td>0.185630</td>\n",
              "      <td>-0.185045</td>\n",
              "      <td>0.688859</td>\n",
              "      <td>0.360062</td>\n",
              "      <td>0.435166</td>\n",
              "      <td>0.601390</td>\n",
              "      <td>-0.084908</td>\n",
              "      <td>-0.564875</td>\n",
              "      <td>0.599341</td>\n",
              "    </tr>\n",
              "    <tr>\n",
              "      <th>1568</th>\n",
              "      <td>-0.402201</td>\n",
              "      <td>-0.203670</td>\n",
              "      <td>-0.657848</td>\n",
              "      <td>0.335423</td>\n",
              "      <td>0.177897</td>\n",
              "      <td>-0.057202</td>\n",
              "      <td>0.291916</td>\n",
              "      <td>0.173513</td>\n",
              "      <td>-0.172743</td>\n",
              "      <td>-0.999129</td>\n",
              "      <td>...</td>\n",
              "      <td>0.549159</td>\n",
              "      <td>0.081146</td>\n",
              "      <td>0.116781</td>\n",
              "      <td>0.533976</td>\n",
              "      <td>0.284301</td>\n",
              "      <td>0.225381</td>\n",
              "      <td>0.644713</td>\n",
              "      <td>-0.496995</td>\n",
              "      <td>-0.503774</td>\n",
              "      <td>0.448942</td>\n",
              "    </tr>\n",
              "    <tr>\n",
              "      <th>1569</th>\n",
              "      <td>-0.661271</td>\n",
              "      <td>-0.296058</td>\n",
              "      <td>-0.679038</td>\n",
              "      <td>0.571126</td>\n",
              "      <td>0.271597</td>\n",
              "      <td>-0.052500</td>\n",
              "      <td>0.768021</td>\n",
              "      <td>0.181490</td>\n",
              "      <td>-0.466507</td>\n",
              "      <td>-0.999861</td>\n",
              "      <td>...</td>\n",
              "      <td>0.605354</td>\n",
              "      <td>-0.066117</td>\n",
              "      <td>0.715839</td>\n",
              "      <td>0.788030</td>\n",
              "      <td>-0.176278</td>\n",
              "      <td>0.170546</td>\n",
              "      <td>0.703104</td>\n",
              "      <td>-0.375917</td>\n",
              "      <td>-0.564696</td>\n",
              "      <td>0.750346</td>\n",
              "    </tr>\n",
              "  </tbody>\n",
              "</table>\n",
              "<p>1570 rows × 768 columns</p>\n",
              "</div>\n",
              "    <div class=\"colab-df-buttons\">\n",
              "\n",
              "  <div class=\"colab-df-container\">\n",
              "    <button class=\"colab-df-convert\" onclick=\"convertToInteractive('df-3111b790-59ca-420c-afcd-43a089ffe52f')\"\n",
              "            title=\"Convert this dataframe to an interactive table.\"\n",
              "            style=\"display:none;\">\n",
              "\n",
              "  <svg xmlns=\"http://www.w3.org/2000/svg\" height=\"24px\" viewBox=\"0 -960 960 960\">\n",
              "    <path d=\"M120-120v-720h720v720H120Zm60-500h600v-160H180v160Zm220 220h160v-160H400v160Zm0 220h160v-160H400v160ZM180-400h160v-160H180v160Zm440 0h160v-160H620v160ZM180-180h160v-160H180v160Zm440 0h160v-160H620v160Z\"/>\n",
              "  </svg>\n",
              "    </button>\n",
              "\n",
              "  <style>\n",
              "    .colab-df-container {\n",
              "      display:flex;\n",
              "      gap: 12px;\n",
              "    }\n",
              "\n",
              "    .colab-df-convert {\n",
              "      background-color: #E8F0FE;\n",
              "      border: none;\n",
              "      border-radius: 50%;\n",
              "      cursor: pointer;\n",
              "      display: none;\n",
              "      fill: #1967D2;\n",
              "      height: 32px;\n",
              "      padding: 0 0 0 0;\n",
              "      width: 32px;\n",
              "    }\n",
              "\n",
              "    .colab-df-convert:hover {\n",
              "      background-color: #E2EBFA;\n",
              "      box-shadow: 0px 1px 2px rgba(60, 64, 67, 0.3), 0px 1px 3px 1px rgba(60, 64, 67, 0.15);\n",
              "      fill: #174EA6;\n",
              "    }\n",
              "\n",
              "    .colab-df-buttons div {\n",
              "      margin-bottom: 4px;\n",
              "    }\n",
              "\n",
              "    [theme=dark] .colab-df-convert {\n",
              "      background-color: #3B4455;\n",
              "      fill: #D2E3FC;\n",
              "    }\n",
              "\n",
              "    [theme=dark] .colab-df-convert:hover {\n",
              "      background-color: #434B5C;\n",
              "      box-shadow: 0px 1px 3px 1px rgba(0, 0, 0, 0.15);\n",
              "      filter: drop-shadow(0px 1px 2px rgba(0, 0, 0, 0.3));\n",
              "      fill: #FFFFFF;\n",
              "    }\n",
              "  </style>\n",
              "\n",
              "    <script>\n",
              "      const buttonEl =\n",
              "        document.querySelector('#df-3111b790-59ca-420c-afcd-43a089ffe52f button.colab-df-convert');\n",
              "      buttonEl.style.display =\n",
              "        google.colab.kernel.accessAllowed ? 'block' : 'none';\n",
              "\n",
              "      async function convertToInteractive(key) {\n",
              "        const element = document.querySelector('#df-3111b790-59ca-420c-afcd-43a089ffe52f');\n",
              "        const dataTable =\n",
              "          await google.colab.kernel.invokeFunction('convertToInteractive',\n",
              "                                                    [key], {});\n",
              "        if (!dataTable) return;\n",
              "\n",
              "        const docLinkHtml = 'Like what you see? Visit the ' +\n",
              "          '<a target=\"_blank\" href=https://colab.research.google.com/notebooks/data_table.ipynb>data table notebook</a>'\n",
              "          + ' to learn more about interactive tables.';\n",
              "        element.innerHTML = '';\n",
              "        dataTable['output_type'] = 'display_data';\n",
              "        await google.colab.output.renderOutput(dataTable, element);\n",
              "        const docLink = document.createElement('div');\n",
              "        docLink.innerHTML = docLinkHtml;\n",
              "        element.appendChild(docLink);\n",
              "      }\n",
              "    </script>\n",
              "  </div>\n",
              "\n",
              "\n",
              "<div id=\"df-f38e68c7-9c2b-403d-9d4b-3e5077858d9b\">\n",
              "  <button class=\"colab-df-quickchart\" onclick=\"quickchart('df-f38e68c7-9c2b-403d-9d4b-3e5077858d9b')\"\n",
              "            title=\"Suggest charts\"\n",
              "            style=\"display:none;\">\n",
              "\n",
              "<svg xmlns=\"http://www.w3.org/2000/svg\" height=\"24px\"viewBox=\"0 0 24 24\"\n",
              "     width=\"24px\">\n",
              "    <g>\n",
              "        <path d=\"M19 3H5c-1.1 0-2 .9-2 2v14c0 1.1.9 2 2 2h14c1.1 0 2-.9 2-2V5c0-1.1-.9-2-2-2zM9 17H7v-7h2v7zm4 0h-2V7h2v10zm4 0h-2v-4h2v4z\"/>\n",
              "    </g>\n",
              "</svg>\n",
              "  </button>\n",
              "\n",
              "<style>\n",
              "  .colab-df-quickchart {\n",
              "      --bg-color: #E8F0FE;\n",
              "      --fill-color: #1967D2;\n",
              "      --hover-bg-color: #E2EBFA;\n",
              "      --hover-fill-color: #174EA6;\n",
              "      --disabled-fill-color: #AAA;\n",
              "      --disabled-bg-color: #DDD;\n",
              "  }\n",
              "\n",
              "  [theme=dark] .colab-df-quickchart {\n",
              "      --bg-color: #3B4455;\n",
              "      --fill-color: #D2E3FC;\n",
              "      --hover-bg-color: #434B5C;\n",
              "      --hover-fill-color: #FFFFFF;\n",
              "      --disabled-bg-color: #3B4455;\n",
              "      --disabled-fill-color: #666;\n",
              "  }\n",
              "\n",
              "  .colab-df-quickchart {\n",
              "    background-color: var(--bg-color);\n",
              "    border: none;\n",
              "    border-radius: 50%;\n",
              "    cursor: pointer;\n",
              "    display: none;\n",
              "    fill: var(--fill-color);\n",
              "    height: 32px;\n",
              "    padding: 0;\n",
              "    width: 32px;\n",
              "  }\n",
              "\n",
              "  .colab-df-quickchart:hover {\n",
              "    background-color: var(--hover-bg-color);\n",
              "    box-shadow: 0 1px 2px rgba(60, 64, 67, 0.3), 0 1px 3px 1px rgba(60, 64, 67, 0.15);\n",
              "    fill: var(--button-hover-fill-color);\n",
              "  }\n",
              "\n",
              "  .colab-df-quickchart-complete:disabled,\n",
              "  .colab-df-quickchart-complete:disabled:hover {\n",
              "    background-color: var(--disabled-bg-color);\n",
              "    fill: var(--disabled-fill-color);\n",
              "    box-shadow: none;\n",
              "  }\n",
              "\n",
              "  .colab-df-spinner {\n",
              "    border: 2px solid var(--fill-color);\n",
              "    border-color: transparent;\n",
              "    border-bottom-color: var(--fill-color);\n",
              "    animation:\n",
              "      spin 1s steps(1) infinite;\n",
              "  }\n",
              "\n",
              "  @keyframes spin {\n",
              "    0% {\n",
              "      border-color: transparent;\n",
              "      border-bottom-color: var(--fill-color);\n",
              "      border-left-color: var(--fill-color);\n",
              "    }\n",
              "    20% {\n",
              "      border-color: transparent;\n",
              "      border-left-color: var(--fill-color);\n",
              "      border-top-color: var(--fill-color);\n",
              "    }\n",
              "    30% {\n",
              "      border-color: transparent;\n",
              "      border-left-color: var(--fill-color);\n",
              "      border-top-color: var(--fill-color);\n",
              "      border-right-color: var(--fill-color);\n",
              "    }\n",
              "    40% {\n",
              "      border-color: transparent;\n",
              "      border-right-color: var(--fill-color);\n",
              "      border-top-color: var(--fill-color);\n",
              "    }\n",
              "    60% {\n",
              "      border-color: transparent;\n",
              "      border-right-color: var(--fill-color);\n",
              "    }\n",
              "    80% {\n",
              "      border-color: transparent;\n",
              "      border-right-color: var(--fill-color);\n",
              "      border-bottom-color: var(--fill-color);\n",
              "    }\n",
              "    90% {\n",
              "      border-color: transparent;\n",
              "      border-bottom-color: var(--fill-color);\n",
              "    }\n",
              "  }\n",
              "</style>\n",
              "\n",
              "  <script>\n",
              "    async function quickchart(key) {\n",
              "      const quickchartButtonEl =\n",
              "        document.querySelector('#' + key + ' button');\n",
              "      quickchartButtonEl.disabled = true;  // To prevent multiple clicks.\n",
              "      quickchartButtonEl.classList.add('colab-df-spinner');\n",
              "      try {\n",
              "        const charts = await google.colab.kernel.invokeFunction(\n",
              "            'suggestCharts', [key], {});\n",
              "      } catch (error) {\n",
              "        console.error('Error during call to suggestCharts:', error);\n",
              "      }\n",
              "      quickchartButtonEl.classList.remove('colab-df-spinner');\n",
              "      quickchartButtonEl.classList.add('colab-df-quickchart-complete');\n",
              "    }\n",
              "    (() => {\n",
              "      let quickchartButtonEl =\n",
              "        document.querySelector('#df-f38e68c7-9c2b-403d-9d4b-3e5077858d9b button');\n",
              "      quickchartButtonEl.style.display =\n",
              "        google.colab.kernel.accessAllowed ? 'block' : 'none';\n",
              "    })();\n",
              "  </script>\n",
              "</div>\n",
              "    </div>\n",
              "  </div>\n"
            ],
            "application/vnd.google.colaboratory.intrinsic+json": {
              "type": "dataframe",
              "variable_name": "df"
            }
          },
          "metadata": {},
          "execution_count": 73
        }
      ]
    },
    {
      "cell_type": "code",
      "execution_count": null,
      "metadata": {
        "colab": {
          "base_uri": "https://localhost:8080/"
        },
        "id": "kLD-UCzvUhZ7",
        "outputId": "e3f5d4dc-20c8-45dc-fe24-33a2dbdb72b1"
      },
      "outputs": [
        {
          "output_type": "execute_result",
          "data": {
            "text/plain": [
              "(1570, 768)"
            ]
          },
          "metadata": {},
          "execution_count": 74
        }
      ],
      "source": [
        "df.shape"
      ]
    },
    {
      "cell_type": "code",
      "execution_count": null,
      "metadata": {
        "id": "hHqLJfW7Uje9"
      },
      "outputs": [],
      "source": [
        "# Write the DataFrame to a CSV file\n",
        "df.to_csv('merge_bert_word2vec.csv', index=False)"
      ]
    },
    {
      "cell_type": "code",
      "execution_count": null,
      "metadata": {
        "id": "Q2_vYpxPbMom"
      },
      "outputs": [],
      "source": [
        "import numpy as np\n",
        "import pandas as pd\n",
        "import tensorflow as tf\n",
        "from tensorflow.keras.models import Sequential\n",
        "from tensorflow.keras.layers import LSTM, Dense\n",
        "from sklearn.model_selection import train_test_split"
      ]
    },
    {
      "cell_type": "code",
      "execution_count": null,
      "metadata": {
        "id": "hRFnIMYwbVUY"
      },
      "outputs": [],
      "source": [
        "# path = \"/content/drive/MyDrive/Saddam_Sir/Thesis/Dataset/merge_bert_word2vec.csv\"\n",
        "# path1 = \"/content/drive/MyDrive/Saddam_Sir/Thesis/Dataset/label.csv\"\n",
        "\n",
        "# df = pd.read_csv(path)\n",
        "label = df3['sentiment']\n",
        "\n",
        "# df.head(5)"
      ]
    },
    {
      "cell_type": "code",
      "execution_count": null,
      "metadata": {
        "colab": {
          "base_uri": "https://localhost:8080/"
        },
        "id": "N8JU3crVdHbN",
        "outputId": "df0bdbf8-ba1d-4a21-fe67-18c48a262ba2"
      },
      "outputs": [
        {
          "output_type": "execute_result",
          "data": {
            "text/plain": [
              "((1570, 768), (785,))"
            ]
          },
          "metadata": {},
          "execution_count": 78
        }
      ],
      "source": [
        "df.shape, label.shape"
      ]
    },
    {
      "cell_type": "code",
      "execution_count": null,
      "metadata": {
        "colab": {
          "base_uri": "https://localhost:8080/"
        },
        "id": "nB-blXtTdefj",
        "outputId": "4febb098-a624-4964-e354-be5ae2cb988c"
      },
      "outputs": [
        {
          "output_type": "stream",
          "name": "stdout",
          "text": [
            "(1570, 1, 768)\n"
          ]
        }
      ],
      "source": [
        "# Assuming df is your DataFrame with shape (476, 868)\n",
        "df = np.array(df)  # Convert the DataFrame to a NumPy array\n",
        "\n",
        "# Reshape the NumPy array to have the desired shape (476, 1, 868)\n",
        "df = df[:, np.newaxis, :]\n",
        "\n",
        "# Check the shape of the reshaped DataFrame\n",
        "print(df.shape)  # This should print (476, 1, 868)"
      ]
    },
    {
      "cell_type": "code",
      "execution_count": null,
      "metadata": {
        "id": "zdedTz_kdkoc"
      },
      "outputs": [],
      "source": [
        "import numpy as np\n",
        "\n",
        "# Assuming df and label are numpy arrays with inconsistencies in the number of samples\n",
        "min_samples = min(df.shape[0], label.shape[0])\n",
        "\n",
        "# Align the data by slicing the arrays\n",
        "df = df[:min_samples]\n",
        "label = label[:min_samples]\n",
        "\n",
        "# Now, you can use train_test_split\n",
        "X_train, X_test, y_train, y_test = train_test_split(df, label, test_size=0.1, random_state=24)\n"
      ]
    },
    {
      "cell_type": "code",
      "execution_count": null,
      "metadata": {
        "colab": {
          "base_uri": "https://localhost:8080/"
        },
        "id": "oeSLFIdmfAby",
        "outputId": "2a0417cb-489a-4c0a-d85c-e6cb02828acf"
      },
      "outputs": [
        {
          "output_type": "execute_result",
          "data": {
            "text/plain": [
              "(706, 1, 768)"
            ]
          },
          "metadata": {},
          "execution_count": 81
        }
      ],
      "source": [
        "X_train.shape"
      ]
    },
    {
      "cell_type": "code",
      "execution_count": null,
      "metadata": {
        "id": "bOX4u9k0fHVG",
        "colab": {
          "base_uri": "https://localhost:8080/"
        },
        "outputId": "972fe27e-b749-4761-ee18-f8158d631826"
      },
      "outputs": [
        {
          "output_type": "stream",
          "name": "stderr",
          "text": [
            "WARNING:tensorflow:Layer lstm_1 will not use cuDNN kernels since it doesn't meet the criteria. It will use a generic GPU kernel as fallback when running on GPU.\n",
            "WARNING:tensorflow:Layer lstm_2 will not use cuDNN kernels since it doesn't meet the criteria. It will use a generic GPU kernel as fallback when running on GPU.\n"
          ]
        }
      ],
      "source": [
        "# Define the LSTM model\n",
        "model = Sequential()\n",
        "\n",
        "# Add an LSTM layer\n",
        "model.add(LSTM(units=50, return_sequences=True, input_shape=(1, X_train.shape[2])))\n",
        "\n",
        "# Add another LSTM layer\n",
        "model.add(LSTM(units=50, return_sequences=False))\n",
        "\n",
        "# Add a dense layer for output\n",
        "model.add(Dense(units=1))\n",
        "\n",
        "# Compile the model\n",
        "model.compile(optimizer='adam', loss='mean_squared_error')\n",
        "\n",
        "# # Train the model\n",
        "# model.fit(X_train, y_train, epochs=10, batch_size=32)\n",
        "\n",
        "# # Evaluate the model\n",
        "# loss = model.evaluate(X_test, y_test)\n",
        "# print(f\"Test Loss: {loss}\")"
      ]
    },
    {
      "cell_type": "code",
      "execution_count": null,
      "metadata": {
        "colab": {
          "base_uri": "https://localhost:8080/"
        },
        "id": "rJOhNm-8fM0R",
        "outputId": "ef629b11-b731-4aac-c114-5e2c4d6943b3"
      },
      "outputs": [
        {
          "output_type": "stream",
          "name": "stdout",
          "text": [
            "Model: \"sequential_2\"\n",
            "_________________________________________________________________\n",
            " Layer (type)                Output Shape              Param #   \n",
            "=================================================================\n",
            " lstm_1 (LSTM)               (None, 1, 50)             163800    \n",
            "                                                                 \n",
            " lstm_2 (LSTM)               (None, 50)                20200     \n",
            "                                                                 \n",
            " dense_1 (Dense)             (None, 1)                 51        \n",
            "                                                                 \n",
            "=================================================================\n",
            "Total params: 184051 (718.95 KB)\n",
            "Trainable params: 184051 (718.95 KB)\n",
            "Non-trainable params: 0 (0.00 Byte)\n",
            "_________________________________________________________________\n"
          ]
        }
      ],
      "source": [
        "model.summary()"
      ]
    },
    {
      "cell_type": "code",
      "execution_count": null,
      "metadata": {
        "colab": {
          "base_uri": "https://localhost:8080/"
        },
        "id": "Yw57VjMWfRFZ",
        "outputId": "7e7ceab7-f0ba-42e4-cb07-fb6fae4c72aa"
      },
      "outputs": [
        {
          "output_type": "execute_result",
          "data": {
            "text/plain": [
              "(706, 1, 768)"
            ]
          },
          "metadata": {},
          "execution_count": 83
        }
      ],
      "source": [
        "X_train.shape"
      ]
    },
    {
      "cell_type": "code",
      "execution_count": null,
      "metadata": {
        "colab": {
          "base_uri": "https://localhost:8080/"
        },
        "id": "3sX3D0jFfnB3",
        "outputId": "1da4994f-c0cb-45ec-cfa1-1d0caae1539b"
      },
      "outputs": [
        {
          "output_type": "stream",
          "name": "stdout",
          "text": [
            "Epoch 1/10\n",
            "23/23 [==============================] - 4s 13ms/step - loss: 0.2558\n",
            "Epoch 2/10\n",
            "23/23 [==============================] - 0s 12ms/step - loss: 0.2220\n",
            "Epoch 3/10\n",
            "23/23 [==============================] - 0s 13ms/step - loss: 0.2084\n",
            "Epoch 4/10\n",
            "23/23 [==============================] - 0s 13ms/step - loss: 0.1890\n",
            "Epoch 5/10\n",
            "23/23 [==============================] - 0s 13ms/step - loss: 0.1730\n",
            "Epoch 6/10\n",
            "23/23 [==============================] - 0s 7ms/step - loss: 0.1673\n",
            "Epoch 7/10\n",
            "23/23 [==============================] - 0s 7ms/step - loss: 0.1657\n",
            "Epoch 8/10\n",
            "23/23 [==============================] - 0s 6ms/step - loss: 0.1563\n",
            "Epoch 9/10\n",
            "23/23 [==============================] - 0s 7ms/step - loss: 0.1608\n",
            "Epoch 10/10\n",
            "23/23 [==============================] - 0s 6ms/step - loss: 0.1578\n",
            "3/3 [==============================] - 0s 5ms/step - loss: 0.1229\n",
            "Test Loss: 0.12294580787420273\n"
          ]
        }
      ],
      "source": [
        "# Train the model\n",
        "model.fit(X_train, y_train, epochs=10, batch_size=32)\n",
        "\n",
        "# Evaluate the model\n",
        "loss = model.evaluate(X_test, y_test)\n",
        "print(f\"Test Loss: {loss}\")"
      ]
    },
    {
      "cell_type": "code",
      "execution_count": null,
      "metadata": {
        "colab": {
          "base_uri": "https://localhost:8080/"
        },
        "id": "JaNXZT4wgMhG",
        "outputId": "97ed3596-a7a2-47e0-bb29-6d7c30904270"
      },
      "outputs": [
        {
          "output_type": "stream",
          "name": "stderr",
          "text": [
            "WARNING:tensorflow:Layer lstm_3 will not use cuDNN kernels since it doesn't meet the criteria. It will use a generic GPU kernel as fallback when running on GPU.\n"
          ]
        },
        {
          "output_type": "stream",
          "name": "stdout",
          "text": [
            "Model: \"model\"\n",
            "_________________________________________________________________\n",
            " Layer (type)                Output Shape              Param #   \n",
            "=================================================================\n",
            " inputs (InputLayer)         [(None, 1, 768)]          0         \n",
            "                                                                 \n",
            " lstm_3 (LSTM)               (None, 64)                213248    \n",
            "                                                                 \n",
            " dense_2 (Dense)             (None, 1)                 65        \n",
            "                                                                 \n",
            "=================================================================\n",
            "Total params: 213313 (833.25 KB)\n",
            "Trainable params: 213313 (833.25 KB)\n",
            "Non-trainable params: 0 (0.00 Byte)\n",
            "_________________________________________________________________\n"
          ]
        }
      ],
      "source": [
        "from tensorflow.keras.layers import Input, LSTM, Dense\n",
        "from tensorflow.keras.models import Model\n",
        "\n",
        "# Define the input shape\n",
        "input_shape = (1, 768)  # sequence length = 2, feature dimension = 868\n",
        "\n",
        "# Define the input layer\n",
        "inputs = Input(shape=input_shape, name='inputs')\n",
        "\n",
        "# Add the LSTM layer\n",
        "lstm = LSTM(64)(inputs)\n",
        "\n",
        "# Add the output layer\n",
        "outputs = Dense(1, activation='sigmoid')(lstm)\n",
        "\n",
        "# Define the model\n",
        "model = Model(inputs=inputs, outputs=outputs)\n",
        "\n",
        "# Compile the model\n",
        "model.compile(loss='binary_crossentropy', optimizer='adam', metrics=['accuracy'])\n",
        "\n",
        "# Print the model summary\n",
        "model.summary()"
      ]
    },
    {
      "cell_type": "code",
      "execution_count": null,
      "metadata": {
        "colab": {
          "base_uri": "https://localhost:8080/"
        },
        "id": "PEG2SSmegRaF",
        "outputId": "0508a578-a142-4d5d-9bd0-44b8fa1aa88e"
      },
      "outputs": [
        {
          "output_type": "stream",
          "name": "stdout",
          "text": [
            "Epoch 1/10\n",
            "23/23 [==============================] - 3s 5ms/step - loss: 0.6684 - accuracy: 0.6048\n",
            "Epoch 2/10\n",
            "23/23 [==============================] - 0s 5ms/step - loss: 0.6461 - accuracy: 0.6303\n",
            "Epoch 3/10\n",
            "23/23 [==============================] - 0s 5ms/step - loss: 0.6246 - accuracy: 0.6303\n",
            "Epoch 4/10\n",
            "23/23 [==============================] - 0s 5ms/step - loss: 0.6053 - accuracy: 0.7535\n",
            "Epoch 5/10\n",
            "23/23 [==============================] - 0s 5ms/step - loss: 0.5773 - accuracy: 0.7550\n",
            "Epoch 6/10\n",
            "23/23 [==============================] - 0s 5ms/step - loss: 0.5510 - accuracy: 0.7521\n",
            "Epoch 7/10\n",
            "23/23 [==============================] - 0s 5ms/step - loss: 0.5390 - accuracy: 0.7550\n",
            "Epoch 8/10\n",
            "23/23 [==============================] - 0s 5ms/step - loss: 0.5334 - accuracy: 0.7734\n",
            "Epoch 9/10\n",
            "23/23 [==============================] - 0s 5ms/step - loss: 0.5261 - accuracy: 0.7720\n",
            "Epoch 10/10\n",
            "23/23 [==============================] - 0s 5ms/step - loss: 0.5062 - accuracy: 0.8711\n",
            "3/3 [==============================] - 0s 5ms/step - loss: 0.4666 - accuracy: 0.8734\n",
            "Test Loss: [0.466632604598999, 0.8734177350997925]\n"
          ]
        }
      ],
      "source": [
        "# Train the model\n",
        "model.fit(X_train, y_train, epochs=10, batch_size=32)\n",
        "\n",
        "# Evaluate the model\n",
        "loss = model.evaluate(X_test, y_test)\n",
        "print(f\"Test Loss: {loss}\")"
      ]
    },
    {
      "cell_type": "code",
      "execution_count": null,
      "metadata": {
        "colab": {
          "base_uri": "https://localhost:8080/"
        },
        "id": "xzcn-s1XhV98",
        "outputId": "d6f11cab-1ee2-4714-ca0f-ee574af38c77"
      },
      "outputs": [
        {
          "output_type": "stream",
          "name": "stdout",
          "text": [
            "Epoch 1/10\n",
            "23/23 [==============================] - 0s 8ms/step - loss: 0.5043 - accuracy: 0.8244 - val_loss: 0.4839 - val_accuracy: 0.8101\n",
            "Epoch 2/10\n",
            "23/23 [==============================] - 0s 6ms/step - loss: 0.4965 - accuracy: 0.8329 - val_loss: 0.4785 - val_accuracy: 0.8101\n",
            "Epoch 3/10\n",
            "23/23 [==============================] - 0s 6ms/step - loss: 0.5053 - accuracy: 0.7861 - val_loss: 0.4606 - val_accuracy: 0.8734\n",
            "Epoch 4/10\n",
            "23/23 [==============================] - 0s 6ms/step - loss: 0.4866 - accuracy: 0.8442 - val_loss: 0.4485 - val_accuracy: 0.8734\n",
            "Epoch 5/10\n",
            "23/23 [==============================] - 0s 6ms/step - loss: 0.4844 - accuracy: 0.8598 - val_loss: 0.4351 - val_accuracy: 0.8734\n",
            "Epoch 6/10\n",
            "23/23 [==============================] - 0s 6ms/step - loss: 0.4753 - accuracy: 0.8598 - val_loss: 0.4245 - val_accuracy: 0.8861\n",
            "Epoch 7/10\n",
            "23/23 [==============================] - 0s 6ms/step - loss: 0.4681 - accuracy: 0.8598 - val_loss: 0.4162 - val_accuracy: 0.8734\n",
            "Epoch 8/10\n",
            "23/23 [==============================] - 0s 6ms/step - loss: 0.4674 - accuracy: 0.8527 - val_loss: 0.4123 - val_accuracy: 0.8734\n",
            "Epoch 9/10\n",
            "23/23 [==============================] - 0s 6ms/step - loss: 0.4650 - accuracy: 0.8541 - val_loss: 0.4198 - val_accuracy: 0.8734\n",
            "Epoch 10/10\n",
            "23/23 [==============================] - 0s 6ms/step - loss: 0.4621 - accuracy: 0.8569 - val_loss: 0.4105 - val_accuracy: 0.8734\n"
          ]
        },
        {
          "output_type": "execute_result",
          "data": {
            "text/plain": [
              "<keras.src.callbacks.History at 0x797ec1f3f160>"
            ]
          },
          "metadata": {},
          "execution_count": 87
        }
      ],
      "source": [
        "model.fit(X_train, y_train, epochs=10, batch_size=32, validation_data=(X_test, y_test))"
      ]
    },
    {
      "cell_type": "code",
      "execution_count": null,
      "metadata": {
        "colab": {
          "base_uri": "https://localhost:8080/"
        },
        "id": "FH-BFirrg6Au",
        "outputId": "7473c85e-b100-46b8-9789-7d0409198e40"
      },
      "outputs": [
        {
          "output_type": "stream",
          "name": "stdout",
          "text": [
            "3/3 - 0s - loss: 0.4105 - accuracy: 0.8734 - 24ms/epoch - 8ms/step\n",
            "3/3 [==============================] - 0s 4ms/step\n"
          ]
        }
      ],
      "source": [
        "#analyze the results\n",
        "score, acc = model.evaluate(X_test, Y_test, verbose = 2, batch_size=batch_size)\n",
        "y_pred = model.predict(X_test)"
      ]
    },
    {
      "cell_type": "code",
      "execution_count": null,
      "metadata": {
        "id": "S41jZqEufvTA"
      },
      "outputs": [],
      "source": [
        "threshold = 0.5  # Set the threshold for classification\n",
        "\n",
        "# Assuming y_pred contains probability scores, convert to binary labels\n",
        "y_pred_binary = (y_pred >= threshold).astype(int)\n",
        "\n",
        "# Now, you can use classification metrics on y_test and y_pred_binary\n"
      ]
    },
    {
      "cell_type": "code",
      "execution_count": null,
      "metadata": {
        "id": "NK7w6j40Fz7T"
      },
      "outputs": [],
      "source": [
        "# # Evaluate the model\n",
        "# accuracy = accuracy_score(y_test, y_pred)\n",
        "# conf_matrix = confusion_matrix(y_test, y_pred)\n",
        "# report = classification_report(y_test, y_pred)\n",
        "\n",
        "from sklearn.metrics import accuracy_score, confusion_matrix, classification_report\n",
        "\n",
        "# Assuming you have already defined y_test and y_pred\n",
        "\n",
        "# Evaluate the model\n",
        "accuracy = accuracy_score(y_test, y_pred_binary)\n",
        "conf_matrix = confusion_matrix(y_test, y_pred_binary)\n",
        "report = classification_report(y_test, y_pred_binary)\n"
      ]
    },
    {
      "cell_type": "code",
      "execution_count": null,
      "metadata": {
        "colab": {
          "base_uri": "https://localhost:8080/"
        },
        "id": "D3KPya4vgJWe",
        "outputId": "c625c947-4443-4e7d-c3cd-290ba5b2fc59"
      },
      "outputs": [
        {
          "output_type": "stream",
          "name": "stdout",
          "text": [
            "Accuracy: 0.8734177215189873\n",
            "Confusion Matrix:\n",
            " [[47  1]\n",
            " [ 9 22]]\n",
            "Classification Report:\n",
            "               precision    recall  f1-score   support\n",
            "\n",
            "           0       0.84      0.98      0.90        48\n",
            "           1       0.96      0.71      0.81        31\n",
            "\n",
            "    accuracy                           0.87        79\n",
            "   macro avg       0.90      0.84      0.86        79\n",
            "weighted avg       0.89      0.87      0.87        79\n",
            "\n"
          ]
        }
      ],
      "source": [
        "print(\"Accuracy:\", accuracy)\n",
        "print(\"Confusion Matrix:\\n\", conf_matrix)\n",
        "print(\"Classification Report:\\n\", report)"
      ]
    },
    {
      "cell_type": "code",
      "execution_count": null,
      "metadata": {
        "colab": {
          "base_uri": "https://localhost:8080/",
          "height": 424
        },
        "id": "0yy3Lym-BzYH",
        "outputId": "c3f36b77-69f2-44e6-e409-780b127b9ed3"
      },
      "outputs": [
        {
          "output_type": "display_data",
          "data": {
            "text/plain": [
              "<Figure size 600x400 with 2 Axes>"
            ],
            "image/png": "[encoded data removed]"
          },
          "metadata": {}
        }
      ],
      "source": [
        "import numpy as np\n",
        "import matplotlib.pyplot as plt\n",
        "import seaborn as sns\n",
        "from sklearn.metrics import confusion_matrix\n",
        "\n",
        "# Replace these values with your own\n",
        "conf_matrix2 = np.array(conf_matrix)\n",
        "# conf_matrix = np.array([[33, 4], [17, 9]])\n",
        "classes = ['Class 0', 'Class 1']\n",
        "\n",
        "# Create a heatmap for the confusion matrix\n",
        "plt.figure(figsize=(6, 4))\n",
        "sns.set(font_scale=1.2)  # Adjust font size as needed\n",
        "sns.heatmap(conf_matrix2, annot=True, fmt=\"d\", cmap=\"Blues\", xticklabels=classes, yticklabels=classes)\n",
        "\n",
        "plt.xlabel('Predicted')\n",
        "plt.ylabel('Actual')\n",
        "plt.title('Confusion Matrix')\n",
        "plt.show()\n"
      ]
    },
    {
      "cell_type": "code",
      "execution_count": null,
      "metadata": {
        "colab": {
          "base_uri": "https://localhost:8080/",
          "height": 424
        },
        "id": "xiptdLlqD2sZ",
        "outputId": "5e9df05f-6808-4237-ed96-4765ddbc24cb"
      },
      "outputs": [
        {
          "output_type": "display_data",
          "data": {
            "text/plain": [
              "<Figure size 600x400 with 1 Axes>"
            ],
            "image/png": "[encoded data removed]"
          },
          "metadata": {}
        }
      ],
      "source": [
        "import matplotlib.pyplot as plt\n",
        "from sklearn.metrics import roc_curve, auc\n",
        "\n",
        "# Assuming you have y_pred_probs for predicted probabilities and y_test for true labels\n",
        "\n",
        "# Calculate ROC curve for Class 1 (assuming binary classification)\n",
        "fpr, tpr, thresholds = roc_curve(y_test, y_pred_binary)\n",
        "\n",
        "# Calculate AUC (Area Under the Curve)\n",
        "roc_auc = auc(fpr, tpr)\n",
        "\n",
        "# Plot ROC curve\n",
        "plt.figure(figsize=(6, 4))\n",
        "plt.plot(fpr, tpr, color='darkorange', lw=2, label=f'ROC curve (area = {roc_auc:.2f})')\n",
        "plt.plot([0, 1], [0, 1], color='navy', lw=2, linestyle='--')\n",
        "plt.xlim([0.0, 1.0])\n",
        "plt.ylim([0.0, 1.05])\n",
        "plt.xlabel('False Positive Rate')\n",
        "plt.ylabel('True Positive Rate')\n",
        "plt.title('Receiver Operating Characteristic (ROC)')\n",
        "plt.legend(loc='lower right')\n",
        "plt.show()\n",
        "\n"
      ]
    },
    {
      "cell_type": "code",
      "source": [
        "import tensorflow as tf\n",
        "from tensorflow.keras.models import Model\n",
        "from tensorflow.keras.layers import Input, LSTM, Dense\n",
        "from tensorflow.keras.utils import plot_model\n",
        "\n",
        "# Define the input layer\n",
        "inputs = Input(shape=(1, 768), name='inputs')\n",
        "\n",
        "# Define the LSTM layer\n",
        "lstm = LSTM(64, name='lstm_3')(inputs)\n",
        "\n",
        "# Define the output layer\n",
        "outputs = Dense(1, name='dense_2')(lstm)\n",
        "\n",
        "# Create the model\n",
        "model = Model(inputs=inputs, outputs=outputs)\n",
        "\n",
        "# Visualize the model\n",
        "plot_model(model, to_file='lstm_model.png', show_shapes=True)\n"
      ],
      "metadata": {
        "colab": {
          "base_uri": "https://localhost:8080/",
          "height": 329
        },
        "id": "60VAVRST9LP2",
        "outputId": "bc38e04b-fb9f-45e1-fea8-25a4cc4ccc79"
      },
      "execution_count": null,
      "outputs": [
        {
          "output_type": "stream",
          "name": "stderr",
          "text": [
            "WARNING:tensorflow:Layer lstm_3 will not use cuDNN kernels since it doesn't meet the criteria. It will use a generic GPU kernel as fallback when running on GPU.\n"
          ]
        },
        {
          "output_type": "execute_result",
          "data": {
            "image/png": "[encoded data removed]",
            "text/plain": [
              "<IPython.core.display.Image object>"
            ]
          },
          "metadata": {},
          "execution_count": 94
        }
      ]
    },
    {
      "cell_type": "code",
      "source": [
        "import tensorflow as tf\n",
        "from tensorflow.keras.models import Model\n",
        "from tensorflow.keras.layers import Input, Conv2D, MaxPooling2D, Flatten, Dense\n",
        "from tensorflow.keras.utils import plot_model\n",
        "\n",
        "# Define the input layer\n",
        "input_layer = Input(shape=(64, 64, 3), name='input')\n",
        "\n",
        "# Add convolutional layers\n",
        "conv1 = Conv2D(32, (3, 3), activation='relu', name='conv1')(input_layer)\n",
        "pool1 = MaxPooling2D((2, 2), name='pool1')(conv1)\n",
        "conv2 = Conv2D(64, (3, 3), activation='relu', name='conv2')(pool1)\n",
        "pool2 = MaxPooling2D((2, 2), name='pool2')(conv2)\n",
        "\n",
        "# Flatten layer\n",
        "flatten = Flatten(name='flatten')(pool2)\n",
        "\n",
        "# Fully connected layers\n",
        "fc1 = Dense(128, activation='relu', name='fc1')(flatten)\n",
        "output = Dense(10, activation='softmax', name='output')(fc1)\n",
        "\n",
        "# Create the model\n",
        "model = Model(inputs=input_layer, outputs=output)\n",
        "\n",
        "# Visualize the model\n",
        "plot_model(model, to_file='full_network.png', show_shapes=True)\n"
      ],
      "metadata": {
        "colab": {
          "base_uri": "https://localhost:8080/",
          "height": 865
        },
        "id": "d8xGc_fj-Ojr",
        "outputId": "2d9e3e64-4c14-40d9-ff88-5b6ebf633f6c"
      },
      "execution_count": null,
      "outputs": [
        {
          "output_type": "execute_result",
          "data": {
            "image/png": "[encoded data removed]",
            "text/plain": [
              "<IPython.core.display.Image object>"
            ]
          },
          "metadata": {},
          "execution_count": 95
        }
      ]
    },
    {
      "cell_type": "code",
      "source": [
        "from sklearn.model_selection import KFold\n",
        "import numpy as np\n",
        "\n",
        "# LSTM Model Cross-Validation\n",
        "kf = KFold(n_splits=10, shuffle=True, random_state=24)\n",
        "accuracy_scores = []\n",
        "\n",
        "for train_index, val_index in kf.split(X):\n",
        "    X_train, X_val = X[train_index], X[val_index]\n",
        "    Y_train, Y_val = binary_labels[train_index], binary_labels[val_index]\n",
        "\n",
        "    model = Sequential()\n",
        "    model.add(embedding_layer)\n",
        "    model.add(LSTM(units=lstm_out))\n",
        "    model.add(Dense(1, activation='sigmoid'))\n",
        "    model.compile(loss='binary_crossentropy', optimizer='adam', metrics=['accuracy'])\n",
        "\n",
        "    model.fit(X_train, Y_train, epochs=6, verbose=1, batch_size=batch_size)\n",
        "\n",
        "    score, acc = model.evaluate(X_val, Y_val, verbose=2, batch_size=batch_size)\n",
        "    accuracy_scores.append(acc)\n",
        "\n",
        "mean_accuracy = np.mean(accuracy_scores)\n",
        "print(f\"Mean Accuracy over 10 folds: {mean_accuracy}\")\n"
      ],
      "metadata": {
        "colab": {
          "base_uri": "https://localhost:8080/"
        },
        "id": "-8u4lGvI83yO",
        "outputId": "3eb03af4-ab77-4b6c-d801-33b9196286ca"
      },
      "execution_count": null,
      "outputs": [
        {
          "output_type": "stream",
          "name": "stderr",
          "text": [
            "WARNING:tensorflow:Layer lstm_4 will not use cuDNN kernels since it doesn't meet the criteria. It will use a generic GPU kernel as fallback when running on GPU.\n"
          ]
        },
        {
          "output_type": "stream",
          "name": "stdout",
          "text": [
            "Epoch 1/6\n",
            "23/23 [==============================] - 82s 3s/step - loss: 0.3471 - accuracy: 0.9278\n",
            "Epoch 2/6\n",
            "23/23 [==============================] - 59s 3s/step - loss: 0.0411 - accuracy: 0.9915\n",
            "Epoch 3/6\n",
            "23/23 [==============================] - 59s 3s/step - loss: 0.0151 - accuracy: 0.9972\n",
            "Epoch 4/6\n",
            "23/23 [==============================] - 59s 3s/step - loss: 0.0204 - accuracy: 0.9943\n",
            "Epoch 5/6\n",
            "23/23 [==============================] - 59s 3s/step - loss: 0.0196 - accuracy: 0.9943\n",
            "Epoch 6/6\n",
            "23/23 [==============================] - 61s 3s/step - loss: 0.0095 - accuracy: 0.9958\n",
            "3/3 - 1s - loss: 0.4453 - accuracy: 0.9114 - 1s/epoch - 348ms/step\n"
          ]
        },
        {
          "output_type": "stream",
          "name": "stderr",
          "text": [
            "WARNING:tensorflow:Layer lstm_5 will not use cuDNN kernels since it doesn't meet the criteria. It will use a generic GPU kernel as fallback when running on GPU.\n"
          ]
        },
        {
          "output_type": "stream",
          "name": "stdout",
          "text": [
            "Epoch 1/6\n",
            "23/23 [==============================] - 66s 3s/step - loss: 0.3439 - accuracy: 0.9504\n",
            "Epoch 2/6\n",
            "23/23 [==============================] - 62s 3s/step - loss: 0.0710 - accuracy: 0.9844\n",
            "Epoch 3/6\n",
            "23/23 [==============================] - 60s 3s/step - loss: 0.0477 - accuracy: 0.9915\n",
            "Epoch 4/6\n",
            "23/23 [==============================] - 62s 3s/step - loss: 0.0459 - accuracy: 0.9901\n",
            "Epoch 5/6\n",
            "23/23 [==============================] - 59s 3s/step - loss: 0.0256 - accuracy: 0.9915\n",
            "Epoch 6/6\n",
            "23/23 [==============================] - 59s 3s/step - loss: 0.0156 - accuracy: 0.9943\n",
            "3/3 - 1s - loss: 0.0495 - accuracy: 0.9873 - 836ms/epoch - 279ms/step\n"
          ]
        },
        {
          "output_type": "stream",
          "name": "stderr",
          "text": [
            "WARNING:tensorflow:Layer lstm_6 will not use cuDNN kernels since it doesn't meet the criteria. It will use a generic GPU kernel as fallback when running on GPU.\n"
          ]
        },
        {
          "output_type": "stream",
          "name": "stdout",
          "text": [
            "Epoch 1/6\n",
            "23/23 [==============================] - 61s 3s/step - loss: 0.3096 - accuracy: 0.9419\n",
            "Epoch 2/6\n",
            "23/23 [==============================] - 59s 3s/step - loss: 0.0322 - accuracy: 0.9929\n",
            "Epoch 3/6\n",
            "23/23 [==============================] - 59s 3s/step - loss: 0.0141 - accuracy: 0.9943\n",
            "Epoch 4/6\n",
            "23/23 [==============================] - 59s 3s/step - loss: 0.0098 - accuracy: 0.9958\n",
            "Epoch 5/6\n",
            "23/23 [==============================] - 60s 3s/step - loss: 0.0083 - accuracy: 0.9943\n",
            "Epoch 6/6\n",
            "23/23 [==============================] - 62s 3s/step - loss: 0.0099 - accuracy: 0.9972\n",
            "3/3 - 1s - loss: 0.0040 - accuracy: 1.0000 - 1s/epoch - 445ms/step\n"
          ]
        },
        {
          "output_type": "stream",
          "name": "stderr",
          "text": [
            "WARNING:tensorflow:Layer lstm_7 will not use cuDNN kernels since it doesn't meet the criteria. It will use a generic GPU kernel as fallback when running on GPU.\n"
          ]
        },
        {
          "output_type": "stream",
          "name": "stdout",
          "text": [
            "Epoch 1/6\n",
            "23/23 [==============================] - 66s 3s/step - loss: 0.2829 - accuracy: 0.9490\n",
            "Epoch 2/6\n",
            "23/23 [==============================] - 61s 3s/step - loss: 0.0254 - accuracy: 0.9915\n",
            "Epoch 3/6\n",
            "23/23 [==============================] - 59s 3s/step - loss: 0.0139 - accuracy: 0.9972\n",
            "Epoch 4/6\n",
            "23/23 [==============================] - 58s 3s/step - loss: 0.0136 - accuracy: 0.9958\n",
            "Epoch 5/6\n",
            "23/23 [==============================] - 59s 3s/step - loss: 0.0114 - accuracy: 0.9958\n",
            "Epoch 6/6\n",
            "23/23 [==============================] - 59s 3s/step - loss: 0.0078 - accuracy: 0.9972\n"
          ]
        },
        {
          "output_type": "stream",
          "name": "stderr",
          "text": [
            "WARNING:tensorflow:5 out of the last 46 calls to <function Model.make_test_function.<locals>.test_function at 0x798119360940> triggered tf.function retracing. Tracing is expensive and the excessive number of tracings could be due to (1) creating @tf.function repeatedly in a loop, (2) passing tensors with different shapes, (3) passing Python objects instead of tensors. For (1), please define your @tf.function outside of the loop. For (2), @tf.function has reduce_retracing=True option that can avoid unnecessary retracing. For (3), please refer to https://www.tensorflow.org/guide/function#controlling_retracing and https://www.tensorflow.org/api_docs/python/tf/function for  more details.\n"
          ]
        },
        {
          "output_type": "stream",
          "name": "stdout",
          "text": [
            "3/3 - 1s - loss: 0.0016 - accuracy: 1.0000 - 839ms/epoch - 280ms/step\n"
          ]
        },
        {
          "output_type": "stream",
          "name": "stderr",
          "text": [
            "WARNING:tensorflow:Layer lstm_8 will not use cuDNN kernels since it doesn't meet the criteria. It will use a generic GPU kernel as fallback when running on GPU.\n"
          ]
        },
        {
          "output_type": "stream",
          "name": "stdout",
          "text": [
            "Epoch 1/6\n",
            "23/23 [==============================] - 63s 3s/step - loss: 0.2654 - accuracy: 0.9561\n",
            "Epoch 2/6\n",
            "23/23 [==============================] - 59s 3s/step - loss: 0.0211 - accuracy: 0.9986\n",
            "Epoch 3/6\n",
            "23/23 [==============================] - 59s 3s/step - loss: 0.0129 - accuracy: 0.9958\n",
            "Epoch 4/6\n",
            "23/23 [==============================] - 59s 3s/step - loss: 0.0097 - accuracy: 0.9972\n",
            "Epoch 5/6\n",
            "23/23 [==============================] - 59s 3s/step - loss: 0.0072 - accuracy: 0.9958\n",
            "Epoch 6/6\n",
            "23/23 [==============================] - 59s 3s/step - loss: 0.0073 - accuracy: 0.9986\n"
          ]
        },
        {
          "output_type": "stream",
          "name": "stderr",
          "text": [
            "WARNING:tensorflow:5 out of the last 13 calls to <function Model.make_test_function.<locals>.test_function at 0x7981193593f0> triggered tf.function retracing. Tracing is expensive and the excessive number of tracings could be due to (1) creating @tf.function repeatedly in a loop, (2) passing tensors with different shapes, (3) passing Python objects instead of tensors. For (1), please define your @tf.function outside of the loop. For (2), @tf.function has reduce_retracing=True option that can avoid unnecessary retracing. For (3), please refer to https://www.tensorflow.org/guide/function#controlling_retracing and https://www.tensorflow.org/api_docs/python/tf/function for  more details.\n"
          ]
        },
        {
          "output_type": "stream",
          "name": "stdout",
          "text": [
            "3/3 - 1s - loss: 0.0503 - accuracy: 0.9873 - 842ms/epoch - 281ms/step\n"
          ]
        },
        {
          "output_type": "stream",
          "name": "stderr",
          "text": [
            "WARNING:tensorflow:Layer lstm_9 will not use cuDNN kernels since it doesn't meet the criteria. It will use a generic GPU kernel as fallback when running on GPU.\n"
          ]
        },
        {
          "output_type": "stream",
          "name": "stdout",
          "text": [
            "Epoch 1/6\n",
            "23/23 [==============================] - 62s 3s/step - loss: 0.2255 - accuracy: 0.9859\n",
            "Epoch 2/6\n",
            "23/23 [==============================] - 59s 3s/step - loss: 0.0171 - accuracy: 0.9972\n",
            "Epoch 3/6\n",
            "23/23 [==============================] - 59s 3s/step - loss: 0.0116 - accuracy: 0.9958\n",
            "Epoch 4/6\n",
            "23/23 [==============================] - 59s 3s/step - loss: 0.0074 - accuracy: 0.9958\n",
            "Epoch 5/6\n",
            "23/23 [==============================] - 59s 3s/step - loss: 0.0084 - accuracy: 0.9958\n",
            "Epoch 6/6\n",
            "23/23 [==============================] - 59s 3s/step - loss: 0.0078 - accuracy: 0.9958\n",
            "3/3 - 1s - loss: 0.0015 - accuracy: 1.0000 - 834ms/epoch - 278ms/step\n"
          ]
        },
        {
          "output_type": "stream",
          "name": "stderr",
          "text": [
            "WARNING:tensorflow:Layer lstm_10 will not use cuDNN kernels since it doesn't meet the criteria. It will use a generic GPU kernel as fallback when running on GPU.\n"
          ]
        },
        {
          "output_type": "stream",
          "name": "stdout",
          "text": [
            "Epoch 1/6\n",
            "23/23 [==============================] - 61s 3s/step - loss: 0.2207 - accuracy: 0.9505\n",
            "Epoch 2/6\n",
            "23/23 [==============================] - 61s 3s/step - loss: 0.0151 - accuracy: 0.9972\n",
            "Epoch 3/6\n",
            "23/23 [==============================] - 59s 3s/step - loss: 0.0081 - accuracy: 0.9972\n",
            "Epoch 4/6\n",
            "23/23 [==============================] - 59s 3s/step - loss: 0.0071 - accuracy: 0.9958\n",
            "Epoch 5/6\n",
            "23/23 [==============================] - 59s 3s/step - loss: 0.0063 - accuracy: 0.9958\n",
            "Epoch 6/6\n",
            "23/23 [==============================] - 59s 3s/step - loss: 0.0066 - accuracy: 0.9958\n",
            "3/3 - 1s - loss: 0.0086 - accuracy: 1.0000 - 845ms/epoch - 282ms/step\n"
          ]
        },
        {
          "output_type": "stream",
          "name": "stderr",
          "text": [
            "WARNING:tensorflow:Layer lstm_11 will not use cuDNN kernels since it doesn't meet the criteria. It will use a generic GPU kernel as fallback when running on GPU.\n"
          ]
        },
        {
          "output_type": "stream",
          "name": "stdout",
          "text": [
            "Epoch 1/6\n",
            "23/23 [==============================] - 61s 3s/step - loss: 0.2055 - accuracy: 0.9745\n",
            "Epoch 2/6\n",
            "23/23 [==============================] - 59s 3s/step - loss: 0.0096 - accuracy: 0.9972\n",
            "Epoch 3/6\n",
            "23/23 [==============================] - 59s 3s/step - loss: 0.0068 - accuracy: 0.9972\n",
            "Epoch 4/6\n",
            "23/23 [==============================] - 60s 3s/step - loss: 0.0040 - accuracy: 0.9986\n",
            "Epoch 5/6\n",
            "23/23 [==============================] - 60s 3s/step - loss: 0.0044 - accuracy: 0.9986\n",
            "Epoch 6/6\n",
            "23/23 [==============================] - 58s 3s/step - loss: 0.0034 - accuracy: 0.9972\n",
            "3/3 - 1s - loss: 0.0527 - accuracy: 0.9872 - 872ms/epoch - 291ms/step\n"
          ]
        },
        {
          "output_type": "stream",
          "name": "stderr",
          "text": [
            "WARNING:tensorflow:Layer lstm_12 will not use cuDNN kernels since it doesn't meet the criteria. It will use a generic GPU kernel as fallback when running on GPU.\n"
          ]
        },
        {
          "output_type": "stream",
          "name": "stdout",
          "text": [
            "Epoch 1/6\n",
            "23/23 [==============================] - 63s 3s/step - loss: 0.1983 - accuracy: 0.9887\n",
            "Epoch 2/6\n",
            "23/23 [==============================] - 60s 3s/step - loss: 0.0109 - accuracy: 0.9972\n",
            "Epoch 3/6\n",
            "23/23 [==============================] - 62s 3s/step - loss: 0.0060 - accuracy: 0.9986\n",
            "Epoch 4/6\n",
            "23/23 [==============================] - 63s 3s/step - loss: 0.0050 - accuracy: 0.9986\n",
            "Epoch 5/6\n",
            "23/23 [==============================] - 61s 3s/step - loss: 0.0038 - accuracy: 0.9986\n",
            "Epoch 6/6\n",
            "23/23 [==============================] - 60s 3s/step - loss: 0.0046 - accuracy: 0.9986\n",
            "3/3 - 1s - loss: 0.0412 - accuracy: 0.9872 - 1s/epoch - 390ms/step\n"
          ]
        },
        {
          "output_type": "stream",
          "name": "stderr",
          "text": [
            "WARNING:tensorflow:Layer lstm_13 will not use cuDNN kernels since it doesn't meet the criteria. It will use a generic GPU kernel as fallback when running on GPU.\n"
          ]
        },
        {
          "output_type": "stream",
          "name": "stdout",
          "text": [
            "Epoch 1/6\n",
            "23/23 [==============================] - 62s 3s/step - loss: 0.2082 - accuracy: 0.9576\n",
            "Epoch 2/6\n",
            "23/23 [==============================] - 60s 3s/step - loss: 0.0150 - accuracy: 0.9958\n",
            "Epoch 3/6\n",
            "23/23 [==============================] - 59s 3s/step - loss: 0.0083 - accuracy: 0.9958\n",
            "Epoch 4/6\n",
            "23/23 [==============================] - 59s 3s/step - loss: 0.0071 - accuracy: 0.9958\n",
            "Epoch 5/6\n",
            "23/23 [==============================] - 59s 3s/step - loss: 0.0061 - accuracy: 0.9972\n",
            "Epoch 6/6\n",
            "23/23 [==============================] - 59s 3s/step - loss: 0.0061 - accuracy: 0.9972\n",
            "3/3 - 1s - loss: 7.8398e-04 - accuracy: 1.0000 - 973ms/epoch - 324ms/step\n",
            "Mean Accuracy over 10 folds: 0.9860434830188751\n"
          ]
        }
      ]
    },
    {
      "cell_type": "code",
      "source": [
        "!pip install torch-geometric"
      ],
      "metadata": {
        "colab": {
          "base_uri": "https://localhost:8080/"
        },
        "id": "Biir1DnDdDZH",
        "outputId": "2d587838-2334-42f6-9ace-3f2742aad013"
      },
      "execution_count": null,
      "outputs": [
        {
          "output_type": "stream",
          "name": "stdout",
          "text": [
            "Collecting torch-geometric\n",
            "  Downloading torch_geometric-2.5.3-py3-none-any.whl (1.1 MB)\n",
            "\u001b[?25l     \u001b[90m━━━━━━━━━━━━━━━━━━━━━━━━━━━━━━━━━━━━━━━━\u001b[0m \u001b[32m0.0/1.1 MB\u001b[0m \u001b[31m?\u001b[0m eta \u001b[36m-:--:--\u001b[0m\r\u001b[2K     \u001b[91m━━━━━━━━━━━━━━━━━━━━━━━━━━━━━━━━━━━━━━━\u001b[0m\u001b[91m╸\u001b[0m \u001b[32m1.1/1.1 MB\u001b[0m \u001b[31m34.2 MB/s\u001b[0m eta \u001b[36m0:00:01\u001b[0m\r\u001b[2K     \u001b[90m━━━━━━━━━━━━━━━━━━━━━━━━━━━━━━━━━━━━━━━━\u001b[0m \u001b[32m1.1/1.1 MB\u001b[0m \u001b[31m25.2 MB/s\u001b[0m eta \u001b[36m0:00:00\u001b[0m\n",
            "\u001b[?25hRequirement already satisfied: tqdm in /usr/local/lib/python3.10/dist-packages (from torch-geometric) (4.66.4)\n",
            "Requirement already satisfied: numpy in /usr/local/lib/python3.10/dist-packages (from torch-geometric) (1.25.2)\n",
            "Requirement already satisfied: scipy in /usr/local/lib/python3.10/dist-packages (from torch-geometric) (1.11.4)\n",
            "Requirement already satisfied: fsspec in /usr/local/lib/python3.10/dist-packages (from torch-geometric) (2023.6.0)\n",
            "Requirement already satisfied: jinja2 in /usr/local/lib/python3.10/dist-packages (from torch-geometric) (3.1.4)\n",
            "Requirement already satisfied: aiohttp in /usr/local/lib/python3.10/dist-packages (from torch-geometric) (3.9.5)\n",
            "Requirement already satisfied: requests in /usr/local/lib/python3.10/dist-packages (from torch-geometric) (2.31.0)\n",
            "Requirement already satisfied: pyparsing in /usr/local/lib/python3.10/dist-packages (from torch-geometric) (3.1.2)\n",
            "Requirement already satisfied: scikit-learn in /usr/local/lib/python3.10/dist-packages (from torch-geometric) (1.2.2)\n",
            "Requirement already satisfied: psutil>=5.8.0 in /usr/local/lib/python3.10/dist-packages (from torch-geometric) (5.9.5)\n",
            "Requirement already satisfied: aiosignal>=1.1.2 in /usr/local/lib/python3.10/dist-packages (from aiohttp->torch-geometric) (1.3.1)\n",
            "Requirement already satisfied: attrs>=17.3.0 in /usr/local/lib/python3.10/dist-packages (from aiohttp->torch-geometric) (23.2.0)\n",
            "Requirement already satisfied: frozenlist>=1.1.1 in /usr/local/lib/python3.10/dist-packages (from aiohttp->torch-geometric) (1.4.1)\n",
            "Requirement already satisfied: multidict<7.0,>=4.5 in /usr/local/lib/python3.10/dist-packages (from aiohttp->torch-geometric) (6.0.5)\n",
            "Requirement already satisfied: yarl<2.0,>=1.0 in /usr/local/lib/python3.10/dist-packages (from aiohttp->torch-geometric) (1.9.4)\n",
            "Requirement already satisfied: async-timeout<5.0,>=4.0 in /usr/local/lib/python3.10/dist-packages (from aiohttp->torch-geometric) (4.0.3)\n",
            "Requirement already satisfied: MarkupSafe>=2.0 in /usr/local/lib/python3.10/dist-packages (from jinja2->torch-geometric) (2.1.5)\n",
            "Requirement already satisfied: charset-normalizer<4,>=2 in /usr/local/lib/python3.10/dist-packages (from requests->torch-geometric) (3.3.2)\n",
            "Requirement already satisfied: idna<4,>=2.5 in /usr/local/lib/python3.10/dist-packages (from requests->torch-geometric) (3.7)\n",
            "Requirement already satisfied: urllib3<3,>=1.21.1 in /usr/local/lib/python3.10/dist-packages (from requests->torch-geometric) (2.0.7)\n",
            "Requirement already satisfied: certifi>=2017.4.17 in /usr/local/lib/python3.10/dist-packages (from requests->torch-geometric) (2024.2.2)\n",
            "Requirement already satisfied: joblib>=1.1.1 in /usr/local/lib/python3.10/dist-packages (from scikit-learn->torch-geometric) (1.4.2)\n",
            "Requirement already satisfied: threadpoolctl>=2.0.0 in /usr/local/lib/python3.10/dist-packages (from scikit-learn->torch-geometric) (3.5.0)\n",
            "Installing collected packages: torch-geometric\n",
            "Successfully installed torch-geometric-2.5.3\n"
          ]
        }
      ]
    },
    {
      "cell_type": "code",
      "source": [
        "import pandas as pd\n",
        "import numpy as np\n",
        "from sklearn.preprocessing import MinMaxScaler\n",
        "from sklearn.neighbors import kneighbors_graph\n",
        "from sklearn.metrics.pairwise import cosine_similarity\n",
        "\n",
        "# Sample data\n",
        "df = pd.read_csv(\"/content/drive/MyDrive/Saddam_Sir/Thesis/Dataset/LIWC_results_GNN.csv\")\n",
        "# df = pd.read_csv(r\"D:\\Research\\Saddam Sir\\Jabin Apu\\Main Dataset\\LIWC OUTPUT\\LIWC results GNN.csv\")\n",
        "\n",
        "y = df.iloc[:,0].values\n",
        "X = df.iloc[:,1:].values"
      ],
      "metadata": {
        "id": "M_0JHQUudJKc"
      },
      "execution_count": null,
      "outputs": []
    },
    {
      "cell_type": "code",
      "source": [
        "df"
      ],
      "metadata": {
        "colab": {
          "base_uri": "https://localhost:8080/",
          "height": 424
        },
        "id": "g5XawThRdPlC",
        "outputId": "bc954aae-8b7f-4cc6-f079-c7139cb76906"
      },
      "execution_count": null,
      "outputs": [
        {
          "output_type": "execute_result",
          "data": {
            "text/plain": [
              "      ID   WC    WPS  Qmarks  Unique     Dic  Sixltr  funct  pronoun  ppron  \\\n",
              "0      1  144  24.00    0.00   63.89   82.64   40.97  41.67     6.25   4.17   \n",
              "1      2  121  20.17    0.00   66.12   71.07   27.27  35.54     9.92   8.26   \n",
              "2      3  125  15.62    0.00   67.20   70.40   24.00  42.40    11.20   9.60   \n",
              "3      4   57  14.25    1.75   85.96   73.68   24.56  33.33    10.53   3.51   \n",
              "4      5  173  17.30    1.16   60.12   91.91   10.40  59.54    19.65  14.45   \n",
              "..   ...  ...    ...     ...     ...     ...     ...    ...      ...    ...   \n",
              "524  525    8   8.00    0.00  100.00  100.00   12.50  62.50    12.50  12.50   \n",
              "525  526   13   6.50    7.69  100.00   92.31   30.77  46.15     7.69   0.00   \n",
              "526  527    7   7.00   14.29  100.00  100.00   14.29  57.14    14.29  14.29   \n",
              "527  528   23  23.00    0.00   86.96   69.57   30.43  39.13     4.35   4.35   \n",
              "528  529    7   7.00    0.00  100.00   42.86   28.57  28.57     0.00   0.00   \n",
              "\n",
              "     ...  achieve  leisure  home  money  relig  death  assent  nonfl  filler  \\\n",
              "0    ...     2.78     1.39  0.69   0.69   0.00   1.39     0.0    0.0     0.0   \n",
              "1    ...     0.00     1.65  0.83   0.00   0.00   4.13     0.0    0.0     0.0   \n",
              "2    ...     0.80     2.40  1.60   0.80   0.00   1.60     0.0    0.0     0.0   \n",
              "3    ...     1.75     5.26  3.51   1.75   0.00   7.02     0.0    0.0     0.0   \n",
              "4    ...     0.58     0.58  0.00   0.00   0.00   1.73     0.0    0.0     0.0   \n",
              "..   ...      ...      ...   ...    ...    ...    ...     ...    ...     ...   \n",
              "524  ...     0.00     0.00  0.00   0.00   0.00   0.00     0.0    0.0     0.0   \n",
              "525  ...     7.69     0.00  0.00   0.00  15.38   7.69     0.0    0.0     0.0   \n",
              "526  ...     0.00     0.00  0.00   0.00   0.00   0.00     0.0    0.0     0.0   \n",
              "527  ...     4.35     0.00  0.00   4.35   0.00   0.00     0.0    0.0     0.0   \n",
              "528  ...     0.00     0.00  0.00   0.00   0.00   0.00     0.0    0.0     0.0   \n",
              "\n",
              "     Class  \n",
              "0        1  \n",
              "1        1  \n",
              "2        1  \n",
              "3        0  \n",
              "4        1  \n",
              "..     ...  \n",
              "524      1  \n",
              "525      1  \n",
              "526      1  \n",
              "527      0  \n",
              "528      0  \n",
              "\n",
              "[529 rows x 72 columns]"
            ],
            "text/html": [
              "\n",
              "  <div id=\"df-24f7cf7c-f26a-4cf2-bb5f-d08dbd13a8aa\" class=\"colab-df-container\">\n",
              "    <div>\n",
              "<style scoped>\n",
              "    .dataframe tbody tr th:only-of-type {\n",
              "        vertical-align: middle;\n",
              "    }\n",
              "\n",
              "    .dataframe tbody tr th {\n",
              "        vertical-align: top;\n",
              "    }\n",
              "\n",
              "    .dataframe thead th {\n",
              "        text-align: right;\n",
              "    }\n",
              "</style>\n",
              "<table border=\"1\" class=\"dataframe\">\n",
              "  <thead>\n",
              "    <tr style=\"text-align: right;\">\n",
              "      <th></th>\n",
              "      <th>ID</th>\n",
              "      <th>WC</th>\n",
              "      <th>WPS</th>\n",
              "      <th>Qmarks</th>\n",
              "      <th>Unique</th>\n",
              "      <th>Dic</th>\n",
              "      <th>Sixltr</th>\n",
              "      <th>funct</th>\n",
              "      <th>pronoun</th>\n",
              "      <th>ppron</th>\n",
              "      <th>...</th>\n",
              "      <th>achieve</th>\n",
              "      <th>leisure</th>\n",
              "      <th>home</th>\n",
              "      <th>money</th>\n",
              "      <th>relig</th>\n",
              "      <th>death</th>\n",
              "      <th>assent</th>\n",
              "      <th>nonfl</th>\n",
              "      <th>filler</th>\n",
              "      <th>Class</th>\n",
              "    </tr>\n",
              "  </thead>\n",
              "  <tbody>\n",
              "    <tr>\n",
              "      <th>0</th>\n",
              "      <td>1</td>\n",
              "      <td>144</td>\n",
              "      <td>24.00</td>\n",
              "      <td>0.00</td>\n",
              "      <td>63.89</td>\n",
              "      <td>82.64</td>\n",
              "      <td>40.97</td>\n",
              "      <td>41.67</td>\n",
              "      <td>6.25</td>\n",
              "      <td>4.17</td>\n",
              "      <td>...</td>\n",
              "      <td>2.78</td>\n",
              "      <td>1.39</td>\n",
              "      <td>0.69</td>\n",
              "      <td>0.69</td>\n",
              "      <td>0.00</td>\n",
              "      <td>1.39</td>\n",
              "      <td>0.0</td>\n",
              "      <td>0.0</td>\n",
              "      <td>0.0</td>\n",
              "      <td>1</td>\n",
              "    </tr>\n",
              "    <tr>\n",
              "      <th>1</th>\n",
              "      <td>2</td>\n",
              "      <td>121</td>\n",
              "      <td>20.17</td>\n",
              "      <td>0.00</td>\n",
              "      <td>66.12</td>\n",
              "      <td>71.07</td>\n",
              "      <td>27.27</td>\n",
              "      <td>35.54</td>\n",
              "      <td>9.92</td>\n",
              "      <td>8.26</td>\n",
              "      <td>...</td>\n",
              "      <td>0.00</td>\n",
              "      <td>1.65</td>\n",
              "      <td>0.83</td>\n",
              "      <td>0.00</td>\n",
              "      <td>0.00</td>\n",
              "      <td>4.13</td>\n",
              "      <td>0.0</td>\n",
              "      <td>0.0</td>\n",
              "      <td>0.0</td>\n",
              "      <td>1</td>\n",
              "    </tr>\n",
              "    <tr>\n",
              "      <th>2</th>\n",
              "      <td>3</td>\n",
              "      <td>125</td>\n",
              "      <td>15.62</td>\n",
              "      <td>0.00</td>\n",
              "      <td>67.20</td>\n",
              "      <td>70.40</td>\n",
              "      <td>24.00</td>\n",
              "      <td>42.40</td>\n",
              "      <td>11.20</td>\n",
              "      <td>9.60</td>\n",
              "      <td>...</td>\n",
              "      <td>0.80</td>\n",
              "      <td>2.40</td>\n",
              "      <td>1.60</td>\n",
              "      <td>0.80</td>\n",
              "      <td>0.00</td>\n",
              "      <td>1.60</td>\n",
              "      <td>0.0</td>\n",
              "      <td>0.0</td>\n",
              "      <td>0.0</td>\n",
              "      <td>1</td>\n",
              "    </tr>\n",
              "    <tr>\n",
              "      <th>3</th>\n",
              "      <td>4</td>\n",
              "      <td>57</td>\n",
              "      <td>14.25</td>\n",
              "      <td>1.75</td>\n",
              "      <td>85.96</td>\n",
              "      <td>73.68</td>\n",
              "      <td>24.56</td>\n",
              "      <td>33.33</td>\n",
              "      <td>10.53</td>\n",
              "      <td>3.51</td>\n",
              "      <td>...</td>\n",
              "      <td>1.75</td>\n",
              "      <td>5.26</td>\n",
              "      <td>3.51</td>\n",
              "      <td>1.75</td>\n",
              "      <td>0.00</td>\n",
              "      <td>7.02</td>\n",
              "      <td>0.0</td>\n",
              "      <td>0.0</td>\n",
              "      <td>0.0</td>\n",
              "      <td>0</td>\n",
              "    </tr>\n",
              "    <tr>\n",
              "      <th>4</th>\n",
              "      <td>5</td>\n",
              "      <td>173</td>\n",
              "      <td>17.30</td>\n",
              "      <td>1.16</td>\n",
              "      <td>60.12</td>\n",
              "      <td>91.91</td>\n",
              "      <td>10.40</td>\n",
              "      <td>59.54</td>\n",
              "      <td>19.65</td>\n",
              "      <td>14.45</td>\n",
              "      <td>...</td>\n",
              "      <td>0.58</td>\n",
              "      <td>0.58</td>\n",
              "      <td>0.00</td>\n",
              "      <td>0.00</td>\n",
              "      <td>0.00</td>\n",
              "      <td>1.73</td>\n",
              "      <td>0.0</td>\n",
              "      <td>0.0</td>\n",
              "      <td>0.0</td>\n",
              "      <td>1</td>\n",
              "    </tr>\n",
              "    <tr>\n",
              "      <th>...</th>\n",
              "      <td>...</td>\n",
              "      <td>...</td>\n",
              "      <td>...</td>\n",
              "      <td>...</td>\n",
              "      <td>...</td>\n",
              "      <td>...</td>\n",
              "      <td>...</td>\n",
              "      <td>...</td>\n",
              "      <td>...</td>\n",
              "      <td>...</td>\n",
              "      <td>...</td>\n",
              "      <td>...</td>\n",
              "      <td>...</td>\n",
              "      <td>...</td>\n",
              "      <td>...</td>\n",
              "      <td>...</td>\n",
              "      <td>...</td>\n",
              "      <td>...</td>\n",
              "      <td>...</td>\n",
              "      <td>...</td>\n",
              "      <td>...</td>\n",
              "    </tr>\n",
              "    <tr>\n",
              "      <th>524</th>\n",
              "      <td>525</td>\n",
              "      <td>8</td>\n",
              "      <td>8.00</td>\n",
              "      <td>0.00</td>\n",
              "      <td>100.00</td>\n",
              "      <td>100.00</td>\n",
              "      <td>12.50</td>\n",
              "      <td>62.50</td>\n",
              "      <td>12.50</td>\n",
              "      <td>12.50</td>\n",
              "      <td>...</td>\n",
              "      <td>0.00</td>\n",
              "      <td>0.00</td>\n",
              "      <td>0.00</td>\n",
              "      <td>0.00</td>\n",
              "      <td>0.00</td>\n",
              "      <td>0.00</td>\n",
              "      <td>0.0</td>\n",
              "      <td>0.0</td>\n",
              "      <td>0.0</td>\n",
              "      <td>1</td>\n",
              "    </tr>\n",
              "    <tr>\n",
              "      <th>525</th>\n",
              "      <td>526</td>\n",
              "      <td>13</td>\n",
              "      <td>6.50</td>\n",
              "      <td>7.69</td>\n",
              "      <td>100.00</td>\n",
              "      <td>92.31</td>\n",
              "      <td>30.77</td>\n",
              "      <td>46.15</td>\n",
              "      <td>7.69</td>\n",
              "      <td>0.00</td>\n",
              "      <td>...</td>\n",
              "      <td>7.69</td>\n",
              "      <td>0.00</td>\n",
              "      <td>0.00</td>\n",
              "      <td>0.00</td>\n",
              "      <td>15.38</td>\n",
              "      <td>7.69</td>\n",
              "      <td>0.0</td>\n",
              "      <td>0.0</td>\n",
              "      <td>0.0</td>\n",
              "      <td>1</td>\n",
              "    </tr>\n",
              "    <tr>\n",
              "      <th>526</th>\n",
              "      <td>527</td>\n",
              "      <td>7</td>\n",
              "      <td>7.00</td>\n",
              "      <td>14.29</td>\n",
              "      <td>100.00</td>\n",
              "      <td>100.00</td>\n",
              "      <td>14.29</td>\n",
              "      <td>57.14</td>\n",
              "      <td>14.29</td>\n",
              "      <td>14.29</td>\n",
              "      <td>...</td>\n",
              "      <td>0.00</td>\n",
              "      <td>0.00</td>\n",
              "      <td>0.00</td>\n",
              "      <td>0.00</td>\n",
              "      <td>0.00</td>\n",
              "      <td>0.00</td>\n",
              "      <td>0.0</td>\n",
              "      <td>0.0</td>\n",
              "      <td>0.0</td>\n",
              "      <td>1</td>\n",
              "    </tr>\n",
              "    <tr>\n",
              "      <th>527</th>\n",
              "      <td>528</td>\n",
              "      <td>23</td>\n",
              "      <td>23.00</td>\n",
              "      <td>0.00</td>\n",
              "      <td>86.96</td>\n",
              "      <td>69.57</td>\n",
              "      <td>30.43</td>\n",
              "      <td>39.13</td>\n",
              "      <td>4.35</td>\n",
              "      <td>4.35</td>\n",
              "      <td>...</td>\n",
              "      <td>4.35</td>\n",
              "      <td>0.00</td>\n",
              "      <td>0.00</td>\n",
              "      <td>4.35</td>\n",
              "      <td>0.00</td>\n",
              "      <td>0.00</td>\n",
              "      <td>0.0</td>\n",
              "      <td>0.0</td>\n",
              "      <td>0.0</td>\n",
              "      <td>0</td>\n",
              "    </tr>\n",
              "    <tr>\n",
              "      <th>528</th>\n",
              "      <td>529</td>\n",
              "      <td>7</td>\n",
              "      <td>7.00</td>\n",
              "      <td>0.00</td>\n",
              "      <td>100.00</td>\n",
              "      <td>42.86</td>\n",
              "      <td>28.57</td>\n",
              "      <td>28.57</td>\n",
              "      <td>0.00</td>\n",
              "      <td>0.00</td>\n",
              "      <td>...</td>\n",
              "      <td>0.00</td>\n",
              "      <td>0.00</td>\n",
              "      <td>0.00</td>\n",
              "      <td>0.00</td>\n",
              "      <td>0.00</td>\n",
              "      <td>0.00</td>\n",
              "      <td>0.0</td>\n",
              "      <td>0.0</td>\n",
              "      <td>0.0</td>\n",
              "      <td>0</td>\n",
              "    </tr>\n",
              "  </tbody>\n",
              "</table>\n",
              "<p>529 rows × 72 columns</p>\n",
              "</div>\n",
              "    <div class=\"colab-df-buttons\">\n",
              "\n",
              "  <div class=\"colab-df-container\">\n",
              "    <button class=\"colab-df-convert\" onclick=\"convertToInteractive('df-24f7cf7c-f26a-4cf2-bb5f-d08dbd13a8aa')\"\n",
              "            title=\"Convert this dataframe to an interactive table.\"\n",
              "            style=\"display:none;\">\n",
              "\n",
              "  <svg xmlns=\"http://www.w3.org/2000/svg\" height=\"24px\" viewBox=\"0 -960 960 960\">\n",
              "    <path d=\"M120-120v-720h720v720H120Zm60-500h600v-160H180v160Zm220 220h160v-160H400v160Zm0 220h160v-160H400v160ZM180-400h160v-160H180v160Zm440 0h160v-160H620v160ZM180-180h160v-160H180v160Zm440 0h160v-160H620v160Z\"/>\n",
              "  </svg>\n",
              "    </button>\n",
              "\n",
              "  <style>\n",
              "    .colab-df-container {\n",
              "      display:flex;\n",
              "      gap: 12px;\n",
              "    }\n",
              "\n",
              "    .colab-df-convert {\n",
              "      background-color: #E8F0FE;\n",
              "      border: none;\n",
              "      border-radius: 50%;\n",
              "      cursor: pointer;\n",
              "      display: none;\n",
              "      fill: #1967D2;\n",
              "      height: 32px;\n",
              "      padding: 0 0 0 0;\n",
              "      width: 32px;\n",
              "    }\n",
              "\n",
              "    .colab-df-convert:hover {\n",
              "      background-color: #E2EBFA;\n",
              "      box-shadow: 0px 1px 2px rgba(60, 64, 67, 0.3), 0px 1px 3px 1px rgba(60, 64, 67, 0.15);\n",
              "      fill: #174EA6;\n",
              "    }\n",
              "\n",
              "    .colab-df-buttons div {\n",
              "      margin-bottom: 4px;\n",
              "    }\n",
              "\n",
              "    [theme=dark] .colab-df-convert {\n",
              "      background-color: #3B4455;\n",
              "      fill: #D2E3FC;\n",
              "    }\n",
              "\n",
              "    [theme=dark] .colab-df-convert:hover {\n",
              "      background-color: #434B5C;\n",
              "      box-shadow: 0px 1px 3px 1px rgba(0, 0, 0, 0.15);\n",
              "      filter: drop-shadow(0px 1px 2px rgba(0, 0, 0, 0.3));\n",
              "      fill: #FFFFFF;\n",
              "    }\n",
              "  </style>\n",
              "\n",
              "    <script>\n",
              "      const buttonEl =\n",
              "        document.querySelector('#df-24f7cf7c-f26a-4cf2-bb5f-d08dbd13a8aa button.colab-df-convert');\n",
              "      buttonEl.style.display =\n",
              "        google.colab.kernel.accessAllowed ? 'block' : 'none';\n",
              "\n",
              "      async function convertToInteractive(key) {\n",
              "        const element = document.querySelector('#df-24f7cf7c-f26a-4cf2-bb5f-d08dbd13a8aa');\n",
              "        const dataTable =\n",
              "          await google.colab.kernel.invokeFunction('convertToInteractive',\n",
              "                                                    [key], {});\n",
              "        if (!dataTable) return;\n",
              "\n",
              "        const docLinkHtml = 'Like what you see? Visit the ' +\n",
              "          '<a target=\"_blank\" href=https://colab.research.google.com/notebooks/data_table.ipynb>data table notebook</a>'\n",
              "          + ' to learn more about interactive tables.';\n",
              "        element.innerHTML = '';\n",
              "        dataTable['output_type'] = 'display_data';\n",
              "        await google.colab.output.renderOutput(dataTable, element);\n",
              "        const docLink = document.createElement('div');\n",
              "        docLink.innerHTML = docLinkHtml;\n",
              "        element.appendChild(docLink);\n",
              "      }\n",
              "    </script>\n",
              "  </div>\n",
              "\n",
              "\n",
              "<div id=\"df-55c3fc98-bfc7-4952-8aae-4fed5c37f509\">\n",
              "  <button class=\"colab-df-quickchart\" onclick=\"quickchart('df-55c3fc98-bfc7-4952-8aae-4fed5c37f509')\"\n",
              "            title=\"Suggest charts\"\n",
              "            style=\"display:none;\">\n",
              "\n",
              "<svg xmlns=\"http://www.w3.org/2000/svg\" height=\"24px\"viewBox=\"0 0 24 24\"\n",
              "     width=\"24px\">\n",
              "    <g>\n",
              "        <path d=\"M19 3H5c-1.1 0-2 .9-2 2v14c0 1.1.9 2 2 2h14c1.1 0 2-.9 2-2V5c0-1.1-.9-2-2-2zM9 17H7v-7h2v7zm4 0h-2V7h2v10zm4 0h-2v-4h2v4z\"/>\n",
              "    </g>\n",
              "</svg>\n",
              "  </button>\n",
              "\n",
              "<style>\n",
              "  .colab-df-quickchart {\n",
              "      --bg-color: #E8F0FE;\n",
              "      --fill-color: #1967D2;\n",
              "      --hover-bg-color: #E2EBFA;\n",
              "      --hover-fill-color: #174EA6;\n",
              "      --disabled-fill-color: #AAA;\n",
              "      --disabled-bg-color: #DDD;\n",
              "  }\n",
              "\n",
              "  [theme=dark] .colab-df-quickchart {\n",
              "      --bg-color: #3B4455;\n",
              "      --fill-color: #D2E3FC;\n",
              "      --hover-bg-color: #434B5C;\n",
              "      --hover-fill-color: #FFFFFF;\n",
              "      --disabled-bg-color: #3B4455;\n",
              "      --disabled-fill-color: #666;\n",
              "  }\n",
              "\n",
              "  .colab-df-quickchart {\n",
              "    background-color: var(--bg-color);\n",
              "    border: none;\n",
              "    border-radius: 50%;\n",
              "    cursor: pointer;\n",
              "    display: none;\n",
              "    fill: var(--fill-color);\n",
              "    height: 32px;\n",
              "    padding: 0;\n",
              "    width: 32px;\n",
              "  }\n",
              "\n",
              "  .colab-df-quickchart:hover {\n",
              "    background-color: var(--hover-bg-color);\n",
              "    box-shadow: 0 1px 2px rgba(60, 64, 67, 0.3), 0 1px 3px 1px rgba(60, 64, 67, 0.15);\n",
              "    fill: var(--button-hover-fill-color);\n",
              "  }\n",
              "\n",
              "  .colab-df-quickchart-complete:disabled,\n",
              "  .colab-df-quickchart-complete:disabled:hover {\n",
              "    background-color: var(--disabled-bg-color);\n",
              "    fill: var(--disabled-fill-color);\n",
              "    box-shadow: none;\n",
              "  }\n",
              "\n",
              "  .colab-df-spinner {\n",
              "    border: 2px solid var(--fill-color);\n",
              "    border-color: transparent;\n",
              "    border-bottom-color: var(--fill-color);\n",
              "    animation:\n",
              "      spin 1s steps(1) infinite;\n",
              "  }\n",
              "\n",
              "  @keyframes spin {\n",
              "    0% {\n",
              "      border-color: transparent;\n",
              "      border-bottom-color: var(--fill-color);\n",
              "      border-left-color: var(--fill-color);\n",
              "    }\n",
              "    20% {\n",
              "      border-color: transparent;\n",
              "      border-left-color: var(--fill-color);\n",
              "      border-top-color: var(--fill-color);\n",
              "    }\n",
              "    30% {\n",
              "      border-color: transparent;\n",
              "      border-left-color: var(--fill-color);\n",
              "      border-top-color: var(--fill-color);\n",
              "      border-right-color: var(--fill-color);\n",
              "    }\n",
              "    40% {\n",
              "      border-color: transparent;\n",
              "      border-right-color: var(--fill-color);\n",
              "      border-top-color: var(--fill-color);\n",
              "    }\n",
              "    60% {\n",
              "      border-color: transparent;\n",
              "      border-right-color: var(--fill-color);\n",
              "    }\n",
              "    80% {\n",
              "      border-color: transparent;\n",
              "      border-right-color: var(--fill-color);\n",
              "      border-bottom-color: var(--fill-color);\n",
              "    }\n",
              "    90% {\n",
              "      border-color: transparent;\n",
              "      border-bottom-color: var(--fill-color);\n",
              "    }\n",
              "  }\n",
              "</style>\n",
              "\n",
              "  <script>\n",
              "    async function quickchart(key) {\n",
              "      const quickchartButtonEl =\n",
              "        document.querySelector('#' + key + ' button');\n",
              "      quickchartButtonEl.disabled = true;  // To prevent multiple clicks.\n",
              "      quickchartButtonEl.classList.add('colab-df-spinner');\n",
              "      try {\n",
              "        const charts = await google.colab.kernel.invokeFunction(\n",
              "            'suggestCharts', [key], {});\n",
              "      } catch (error) {\n",
              "        console.error('Error during call to suggestCharts:', error);\n",
              "      }\n",
              "      quickchartButtonEl.classList.remove('colab-df-spinner');\n",
              "      quickchartButtonEl.classList.add('colab-df-quickchart-complete');\n",
              "    }\n",
              "    (() => {\n",
              "      let quickchartButtonEl =\n",
              "        document.querySelector('#df-55c3fc98-bfc7-4952-8aae-4fed5c37f509 button');\n",
              "      quickchartButtonEl.style.display =\n",
              "        google.colab.kernel.accessAllowed ? 'block' : 'none';\n",
              "    })();\n",
              "  </script>\n",
              "</div>\n",
              "    </div>\n",
              "  </div>\n"
            ],
            "application/vnd.google.colaboratory.intrinsic+json": {
              "type": "dataframe",
              "variable_name": "df"
            }
          },
          "metadata": {},
          "execution_count": 99
        }
      ]
    },
    {
      "cell_type": "markdown",
      "source": [],
      "metadata": {
        "id": "LprU3vB49Jcb"
      }
    },
    {
      "cell_type": "code",
      "source": [
        "y\n",
        "scaler = MinMaxScaler()\n",
        "X = scaler.fit_transform(X)\n",
        "X"
      ],
      "metadata": {
        "colab": {
          "base_uri": "https://localhost:8080/"
        },
        "id": "AwF9ws9IdSPM",
        "outputId": "bef29724-1c95-4506-87ba-81d2e4bbe604"
      },
      "execution_count": null,
      "outputs": [
        {
          "output_type": "execute_result",
          "data": {
            "text/plain": [
              "array([[0.82941176, 0.27631579, 0.        , ..., 0.        , 0.        ,\n",
              "        1.        ],\n",
              "       [0.69411765, 0.22592105, 0.        , ..., 0.        , 0.        ,\n",
              "        1.        ],\n",
              "       [0.71764706, 0.16605263, 0.        , ..., 0.        , 0.        ,\n",
              "        1.        ],\n",
              "       ...,\n",
              "       [0.02352941, 0.05263158, 1.        , ..., 0.        , 0.        ,\n",
              "        1.        ],\n",
              "       [0.11764706, 0.26315789, 0.        , ..., 0.        , 0.        ,\n",
              "        0.        ],\n",
              "       [0.02352941, 0.05263158, 0.        , ..., 0.        , 0.        ,\n",
              "        0.        ]])"
            ]
          },
          "metadata": {},
          "execution_count": 100
        }
      ]
    },
    {
      "cell_type": "code",
      "source": [
        "# KNN graph\n",
        "import networkx as nx\n",
        "knn_graph = kneighbors_graph(X, n_neighbors=2, mode='connectivity', include_self=False)\n",
        "\n",
        "# Cosine similarity (can use other similarity metrics)\n",
        "cos_sim = cosine_similarity(X)\n",
        "\n",
        "# Create networkx graph\n",
        "import numpy as np\n",
        "\n",
        "adj = knn_graph.toarray()\n",
        "G = nx.from_numpy_array(adj)\n",
        "\n",
        "# Add edge weights\n",
        "for i, j in G.edges():\n",
        "    G[i][j]['weight'] = cos_sim[i, j]\n",
        "\n",
        "print(G.nodes())\n",
        "print(G.edges(data=True)) # view edges with weights"
      ],
      "metadata": {
        "colab": {
          "base_uri": "https://localhost:8080/"
        },
        "id": "B4rO7TMTdUVq",
        "outputId": "ed6fb5aa-fb4d-43e6-d8f5-a143e48dda19"
      },
      "execution_count": null,
      "outputs": [
        {
          "output_type": "stream",
          "name": "stdout",
          "text": [
            "[0, 1, 2, 3, 4, 5, 6, 7, 8, 9, 10, 11, 12, 13, 14, 15, 16, 17, 18, 19, 20, 21, 22, 23, 24, 25, 26, 27, 28, 29, 30, 31, 32, 33, 34, 35, 36, 37, 38, 39, 40, 41, 42, 43, 44, 45, 46, 47, 48, 49, 50, 51, 52, 53, 54, 55, 56, 57, 58, 59, 60, 61, 62, 63, 64, 65, 66, 67, 68, 69, 70, 71, 72, 73, 74, 75, 76, 77, 78, 79, 80, 81, 82, 83, 84, 85, 86, 87, 88, 89, 90, 91, 92, 93, 94, 95, 96, 97, 98, 99, 100, 101, 102, 103, 104, 105, 106, 107, 108, 109, 110, 111, 112, 113, 114, 115, 116, 117, 118, 119, 120, 121, 122, 123, 124, 125, 126, 127, 128, 129, 130, 131, 132, 133, 134, 135, 136, 137, 138, 139, 140, 141, 142, 143, 144, 145, 146, 147, 148, 149, 150, 151, 152, 153, 154, 155, 156, 157, 158, 159, 160, 161, 162, 163, 164, 165, 166, 167, 168, 169, 170, 171, 172, 173, 174, 175, 176, 177, 178, 179, 180, 181, 182, 183, 184, 185, 186, 187, 188, 189, 190, 191, 192, 193, 194, 195, 196, 197, 198, 199, 200, 201, 202, 203, 204, 205, 206, 207, 208, 209, 210, 211, 212, 213, 214, 215, 216, 217, 218, 219, 220, 221, 222, 223, 224, 225, 226, 227, 228, 229, 230, 231, 232, 233, 234, 235, 236, 237, 238, 239, 240, 241, 242, 243, 244, 245, 246, 247, 248, 249, 250, 251, 252, 253, 254, 255, 256, 257, 258, 259, 260, 261, 262, 263, 264, 265, 266, 267, 268, 269, 270, 271, 272, 273, 274, 275, 276, 277, 278, 279, 280, 281, 282, 283, 284, 285, 286, 287, 288, 289, 290, 291, 292, 293, 294, 295, 296, 297, 298, 299, 300, 301, 302, 303, 304, 305, 306, 307, 308, 309, 310, 311, 312, 313, 314, 315, 316, 317, 318, 319, 320, 321, 322, 323, 324, 325, 326, 327, 328, 329, 330, 331, 332, 333, 334, 335, 336, 337, 338, 339, 340, 341, 342, 343, 344, 345, 346, 347, 348, 349, 350, 351, 352, 353, 354, 355, 356, 357, 358, 359, 360, 361, 362, 363, 364, 365, 366, 367, 368, 369, 370, 371, 372, 373, 374, 375, 376, 377, 378, 379, 380, 381, 382, 383, 384, 385, 386, 387, 388, 389, 390, 391, 392, 393, 394, 395, 396, 397, 398, 399, 400, 401, 402, 403, 404, 405, 406, 407, 408, 409, 410, 411, 412, 413, 414, 415, 416, 417, 418, 419, 420, 421, 422, 423, 424, 425, 426, 427, 428, 429, 430, 431, 432, 433, 434, 435, 436, 437, 438, 439, 440, 441, 442, 443, 444, 445, 446, 447, 448, 449, 450, 451, 452, 453, 454, 455, 456, 457, 458, 459, 460, 461, 462, 463, 464, 465, 466, 467, 468, 469, 470, 471, 472, 473, 474, 475, 476, 477, 478, 479, 480, 481, 482, 483, 484, 485, 486, 487, 488, 489, 490, 491, 492, 493, 494, 495, 496, 497, 498, 499, 500, 501, 502, 503, 504, 505, 506, 507, 508, 509, 510, 511, 512, 513, 514, 515, 516, 517, 518, 519, 520, 521, 522, 523, 524, 525, 526, 527, 528]\n",
            "[(0, 22, {'weight': 0.9604523952426856}), (0, 38, {'weight': 0.948348490652885}), (0, 1, {'weight': 0.9238772082773885}), (0, 2, {'weight': 0.9443705946628516}), (0, 16, {'weight': 0.9271586347320365}), (0, 36, {'weight': 0.9433999742419324}), (1, 2, {'weight': 0.9625765751491756}), (1, 16, {'weight': 0.9172811277058177}), (1, 19, {'weight': 0.7708385099165544}), (2, 7, {'weight': 0.9291938061754831}), (2, 325, {'weight': 0.8994785426960852}), (3, 311, {'weight': 0.8804619038427105}), (3, 390, {'weight': 0.8759576352899454}), (3, 124, {'weight': 0.8750831280937208}), (3, 215, {'weight': 0.8681813585173827}), (3, 329, {'weight': 0.85874684651331}), (3, 476, {'weight': 0.8565709123146621}), (4, 8, {'weight': 0.9248321012591987}), (4, 17, {'weight': 0.9361239533175665}), (5, 8, {'weight': 0.9094038075043966}), (5, 21, {'weight': 0.9069395830791523}), (6, 55, {'weight': 0.9061143630249631}), (6, 248, {'weight': 0.9191366569759188}), (6, 402, {'weight': 0.9150960846711783}), (6, 451, {'weight': 0.8349112646455727}), (6, 484, {'weight': 0.7208427555640483}), (7, 12, {'weight': 0.941918583464644}), (8, 21, {'weight': 0.925368112700646}), (8, 112, {'weight': 0.9369847797026257}), (8, 17, {'weight': 0.9265745144150377}), (8, 366, {'weight': 0.8178436619856864}), (9, 248, {'weight': 0.881763773879252}), (9, 307, {'weight': 0.8621328696234374}), (10, 15, {'weight': 0.8382461637393159}), (10, 30, {'weight': 0.8861007485552095}), (11, 239, {'weight': 0.7332833964165644}), (11, 487, {'weight': 0.7537268734274247}), (12, 21, {'weight': 0.9532506418014017}), (13, 14, {'weight': 0.7630585529518441}), (13, 517, {'weight': 0.8580712701508147}), (14, 73, {'weight': 0.8103585471857017}), (14, 136, {'weight': 0.8103585471857017}), (14, 517, {'weight': 0.92461980139569}), (15, 44, {'weight': 0.9227421173302439}), (15, 247, {'weight': 0.8929068067850522}), (15, 40, {'weight': 0.8598952469450009}), (15, 43, {'weight': 0.7967452820695389}), (15, 123, {'weight': 0.8693909775930784}), (15, 143, {'weight': 0.844502746165972}), (15, 176, {'weight': 0.852191743905786}), (15, 180, {'weight': 0.8454710303823868}), (15, 255, {'weight': 0.877818258979852}), (15, 284, {'weight': 0.8660654392781721}), (15, 312, {'weight': 0.8786833804597672}), (18, 48, {'weight': 0.8900591045818812}), (18, 122, {'weight': 0.8932324594206869}), (19, 510, {'weight': 0.7676020433165296}), (20, 27, {'weight': 0.9999999999999997}), (20, 167, {'weight': 0.7827233704110115}), (21, 38, {'weight': 0.9485871874274046}), (21, 74, {'weight': 0.9335517715659783}), (21, 94, {'weight': 0.9172399498878963}), (22, 36, {'weight': 0.9382206435861035}), (23, 252, {'weight': 0.817974440736004}), (23, 523, {'weight': 0.8016312161556143}), (24, 199, {'weight': 0.8573047657528192}), (24, 241, {'weight': 0.8351730630568065}), (25, 33, {'weight': 0.9040812088775392}), (25, 45, {'weight': 0.8881808426442316}), (25, 32, {'weight': 0.8813230139494783}), (26, 33, {'weight': 0.8680361869012235}), (26, 148, {'weight': 0.8447005696860111}), (27, 167, {'weight': 0.7827233704110115}), (28, 350, {'weight': 0.9394384706061892}), (28, 355, {'weight': 0.9151687446346922}), (29, 55, {'weight': 0.8407047938558648}), (29, 248, {'weight': 0.8508181877164028}), (29, 39, {'weight': 0.8368816329781698}), (29, 345, {'weight': 0.8093999657922036}), (29, 516, {'weight': 0.7198475025947776}), (30, 246, {'weight': 0.8730125733618728}), (31, 85, {'weight': 0.8504228921945071}), (31, 325, {'weight': 0.8746581645743718}), (32, 33, {'weight': 0.8679172085851352}), (33, 148, {'weight': 0.9076843207657117}), (33, 401, {'weight': 0.8918159712372447}), (33, 45, {'weight': 0.887465629542727}), (33, 523, {'weight': 0.8646969589270302}), (34, 349, {'weight': 0.9169708713042207}), (34, 482, {'weight': 0.9171907691396878}), (34, 365, {'weight': 0.7598652215539569}), (34, 425, {'weight': 0.8734254766754759}), (34, 509, {'weight': 0.8734692955909805}), (35, 38, {'weight': 0.852881662335658}), (35, 482, {'weight': 0.8535518342558855}), (35, 369, {'weight': 0.8464983304539763}), (36, 37, {'weight': 0.8972379465973298}), (37, 65, {'weight': 0.8707113652470355}), (39, 248, {'weight': 0.8419359679987816}), (40, 126, {'weight': 0.8292005121999656}), (41, 85, {'weight': 0.8482607909811358}), (41, 250, {'weight': 0.863530341996572}), (42, 423, {'weight': 0.8877472712200662}), (42, 433, {'weight': 0.8986896315778793}), (42, 373, {'weight': 0.9108115715375784}), (43, 384, {'weight': 0.8241738895121207}), (44, 384, {'weight': 0.8992440828067344}), (44, 284, {'weight': 0.8860902531672892}), (45, 423, {'weight': 0.9081591372380999}), (46, 58, {'weight': 0.925928354317681}), (46, 74, {'weight': 0.9178562777137066}), (46, 166, {'weight': 0.8527516030183115}), (47, 317, {'weight': 0.9125738672072784}), (47, 401, {'weight': 0.8998189567438488}), (47, 263, {'weight': 0.8997758653355357}), (48, 225, {'weight': 0.9117811046793471}), (48, 382, {'weight': 0.9080562024613742}), (48, 341, {'weight': 0.8557542786406451}), (49, 181, {'weight': 0.8228221386117118}), (49, 295, {'weight': 0.8255184413263276}), (50, 73, {'weight': 0.8664402808892973}), (50, 269, {'weight': 0.8879526340115639}), (50, 169, {'weight': 0.7755308993506587}), (50, 364, {'weight': 0.8507444371952668}), (50, 513, {'weight': 0.7359719035942139}), (51, 103, {'weight': 0.7841093617734236}), (51, 124, {'weight': 0.779677501778929}), (52, 81, {'weight': 0.9999999999999999}), (52, 127, {'weight': 0.9999999999999999}), (52, 188, {'weight': 0.9999999999999999}), (52, 198, {'weight': 0.9999999999999999}), (52, 261, {'weight': 0.9999999999999999}), (52, 278, {'weight': 0.9999999999999999}), (52, 328, {'weight': 0.9999999999999999}), (52, 338, {'weight': 0.9999999999999999}), (52, 343, {'weight': 0.9999999999999999}), (53, 65, {'weight': 0.884285846002236}), (53, 89, {'weight': 0.9063471516957613}), (53, 99, {'weight': 0.7420374839961276}), (53, 106, {'weight': 0.8672856010738197}), (54, 268, {'weight': 0.8927924260488318}), (54, 291, {'weight': 0.8889934001509597}), (54, 140, {'weight': 0.7888791651029966}), (54, 165, {'weight': 0.7800211689474156}), (54, 486, {'weight': 0.8421069957044458}), (54, 492, {'weight': 0.758944028722532}), (55, 279, {'weight': 0.8894604642556632}), (55, 159, {'weight': 0.8807890017234487}), (55, 345, {'weight': 0.7884594467434867}), (55, 397, {'weight': 0.877586575414488}), (55, 478, {'weight': 0.8220855139418825}), (55, 497, {'weight': 0.8734152090271562}), (55, 500, {'weight': 0.850819717987671}), (55, 507, {'weight': 0.8801367058542137}), (55, 527, {'weight': 0.8551437643044093}), (56, 155, {'weight': 0.834162423590914}), (56, 178, {'weight': 0.834162423590914}), (56, 170, {'weight': 0.8026080532946048}), (56, 342, {'weight': 0.8287177170714675}), (57, 102, {'weight': 0.8310157662479493}), (57, 324, {'weight': 0.8651521865554593}), (58, 74, {'weight': 0.9367262756017499}), (58, 382, {'weight': 0.9299115157910669}), (58, 60, {'weight': 0.9201641556892967}), (58, 67, {'weight': 0.8899754673241449}), (58, 94, {'weight': 0.9268701162596651}), (58, 105, {'weight': 0.860672831620875}), (58, 112, {'weight': 0.9165777593877374}), (58, 122, {'weight': 0.9120850280242943}), (58, 166, {'weight': 0.8621065061422784}), (58, 186, {'weight': 0.8662391394983666}), (58, 211, {'weight': 0.9077828381791049}), (58, 213, {'weight': 0.91543739113089}), (58, 218, {'weight': 0.8604979343373622}), (58, 253, {'weight': 0.8803288512773152}), (58, 266, {'weight': 0.8863705901279636}), (58, 273, {'weight': 0.896223145820069}), (58, 275, {'weight': 0.8983993137952804}), (58, 317, {'weight': 0.920228093888614}), (58, 324, {'weight': 0.8937537669276009}), (58, 371, {'weight': 0.8556332464804828}), (58, 375, {'weight': 0.8820648391017778}), (58, 477, {'weight': 0.9385129474282303}), (58, 494, {'weight': 0.7486849142840895}), (58, 505, {'weight': 0.9004076495328392}), (59, 101, {'weight': 0.8459673260078002}), (59, 295, {'weight': 0.8394227462559767}), (59, 84, {'weight': 0.8356147052171862}), (59, 145, {'weight': 0.8307539507435421}), (60, 112, {'weight': 0.9110897068743584}), (60, 266, {'weight': 0.8920682061850325}), (60, 273, {'weight': 0.8919853772359057}), (61, 413, {'weight': 0.9314342279130361}), (61, 437, {'weight': 0.9282855226975347}), (62, 63, {'weight': 0.887084744291959}), (62, 77, {'weight': 0.887084744291959}), (62, 162, {'weight': 0.8730850091450817}), (62, 252, {'weight': 0.8987024434012972}), (62, 457, {'weight': 0.8396783963694275}), (63, 66, {'weight': 0.9235085104784976}), (63, 77, {'weight': 0.9999999999999998}), (63, 252, {'weight': 0.8853884420267403}), (64, 142, {'weight': 0.8345645770289024}), (64, 358, {'weight': 0.8285352027816649}), (65, 211, {'weight': 0.9263882308985016}), (65, 242, {'weight': 0.9332477418963229}), (65, 106, {'weight': 0.7984500643130212}), (65, 217, {'weight': 0.8719860743157554}), (65, 232, {'weight': 0.892825115508101}), (65, 250, {'weight': 0.8647604093391549}), (65, 318, {'weight': 0.9091062359072712}), (65, 319, {'weight': 0.8938728528688573}), (65, 335, {'weight': 0.8968669384768808}), (66, 77, {'weight': 0.9235085104784976}), (66, 115, {'weight': 0.8637021806846701}), (66, 216, {'weight': 0.8657635923017911}), (67, 105, {'weight': 0.876982950812159}), (67, 83, {'weight': 0.7314831850893553}), (68, 225, {'weight': 0.918540336126447}), (68, 401, {'weight': 0.9289105420255099}), (68, 95, {'weight': 0.9184967377093531}), (69, 128, {'weight': 0.8300536780484203}), (69, 453, {'weight': 0.8476964865786171}), (70, 119, {'weight': 0.874992100348431}), (70, 145, {'weight': 0.8491052150133972}), (70, 307, {'weight': 0.8510546925160799}), (70, 490, {'weight': 0.844459858914846}), (71, 75, {'weight': 1.0000000000000002}), (71, 121, {'weight': 1.0000000000000002}), (71, 206, {'weight': 0.8683702798887551}), (71, 383, {'weight': 0.7690613390390443}), (72, 90, {'weight': 0.8297479793000955}), (72, 169, {'weight': 0.8490889432252839}), (73, 136, {'weight': 1.0000000000000004}), (73, 149, {'weight': 1.0000000000000004}), (73, 142, {'weight': 0.8681039014739551}), (73, 172, {'weight': 1.0000000000000004}), (73, 182, {'weight': 1.0000000000000004}), (73, 192, {'weight': 0.9648698358577611}), (73, 259, {'weight': 1.0000000000000004}), (73, 270, {'weight': 1.0000000000000004}), (73, 280, {'weight': 0.9116684122081492}), (73, 283, {'weight': 1.0000000000000004}), (73, 297, {'weight': 1.0000000000000004}), (73, 323, {'weight': 1.0000000000000004}), (73, 364, {'weight': 0.847789202152746}), (73, 518, {'weight': 0.7992065567601309}), (74, 95, {'weight': 0.9137577293072905}), (74, 122, {'weight': 0.9148126993388012}), (74, 208, {'weight': 0.8904072068217965}), (74, 213, {'weight': 0.8967492254267722}), (74, 231, {'weight': 0.9032428144795444}), (74, 250, {'weight': 0.8761728082243571}), (74, 371, {'weight': 0.8589404383345338}), (74, 425, {'weight': 0.8839522860792529}), (74, 477, {'weight': 0.9300923015696482}), (75, 121, {'weight': 1.0000000000000002}), (75, 125, {'weight': 1.0000000000000002}), (75, 129, {'weight': 1.0000000000000002}), (75, 132, {'weight': 1.0000000000000002}), (75, 147, {'weight': 1.0000000000000002}), (75, 150, {'weight': 1.0000000000000002}), (75, 152, {'weight': 1.0000000000000002}), (75, 156, {'weight': 1.0000000000000002}), (75, 157, {'weight': 1.0000000000000002}), (75, 174, {'weight': 1.0000000000000002}), (75, 179, {'weight': 1.0000000000000002}), (75, 194, {'weight': 1.0000000000000002}), (75, 201, {'weight': 1.0000000000000002}), (75, 206, {'weight': 0.8683702798887551}), (75, 219, {'weight': 1.0000000000000002}), (75, 226, {'weight': 1.0000000000000002}), (75, 228, {'weight': 1.0000000000000002}), (75, 235, {'weight': 1.0000000000000002}), (75, 237, {'weight': 1.0000000000000002}), (75, 249, {'weight': 1.0000000000000002}), (75, 251, {'weight': 1.0000000000000002}), (75, 264, {'weight': 1.0000000000000002}), (75, 265, {'weight': 1.0000000000000002}), (75, 277, {'weight': 1.0000000000000002}), (75, 282, {'weight': 1.0000000000000002}), (75, 305, {'weight': 1.0000000000000002}), (76, 208, {'weight': 0.9095331493395192}), (76, 319, {'weight': 0.879724385698854}), (76, 102, {'weight': 0.8844921329889711}), (76, 163, {'weight': 0.8340813836248314}), (76, 218, {'weight': 0.845716668283002}), (77, 241, {'weight': 0.8877388793718868}), (78, 144, {'weight': 0.8643405335478145}), (78, 351, {'weight': 0.855902761299445}), (79, 141, {'weight': 0.87446498207565}), (79, 311, {'weight': 0.8612506274223178}), (79, 103, {'weight': 0.870229620110245}), (80, 126, {'weight': 0.819210290226562}), (80, 130, {'weight': 0.8364522906643952}), (80, 356, {'weight': 0.8311508546700973}), (81, 127, {'weight': 0.9999999999999999}), (82, 238, {'weight': 0.9999999999999998}), (82, 243, {'weight': 0.9999999999999998}), (82, 236, {'weight': 0.8777715343856242}), (82, 293, {'weight': 0.9999999999999998}), (83, 105, {'weight': 0.7327230031163952}), (84, 221, {'weight': 0.8723490952122905}), (85, 289, {'weight': 0.9999999999999999}), (85, 348, {'weight': 0.9175598748000249}), (85, 346, {'weight': 0.9263172584409106}), (86, 91, {'weight': 0.8370398300892995}), (86, 138, {'weight': 0.8349534362465836}), (87, 225, {'weight': 0.9765008844062188}), (87, 382, {'weight': 0.9533623046327253}), (87, 205, {'weight': 0.89757241165157}), (87, 296, {'weight': 0.9080127075032123}), (88, 230, {'weight': 0.8820967992332898}), (88, 240, {'weight': 0.9364153377978169}), (88, 254, {'weight': 0.8788181179232594}), (89, 222, {'weight': 1.0}), (89, 334, {'weight': 0.9941449543385469}), (89, 258, {'weight': 0.840139409753449}), (90, 492, {'weight': 0.8575318475775792}), (91, 128, {'weight': 0.8590285319611589}), (91, 221, {'weight': 0.8515866843332922}), (91, 304, {'weight': 0.795231566182377}), (92, 491, {'weight': 0.8361724490708634}), (92, 506, {'weight': 0.8758750181131624}), (93, 112, {'weight': 0.7852971754227942}), (93, 211, {'weight': 0.7988353562682395}), (94, 98, {'weight': 0.8771150934100858}), (94, 272, {'weight': 0.865272629914646}), (94, 502, {'weight': 0.8886319229164026}), (96, 148, {'weight': 0.8849256831094812}), (96, 319, {'weight': 0.8793223252410797}), (96, 395, {'weight': 0.861649315207022}), (96, 405, {'weight': 0.8144174893762922}), (96, 441, {'weight': 0.7679947887424934}), (97, 114, {'weight': 1.0}), (97, 118, {'weight': 1.0}), (97, 131, {'weight': 1.0}), (97, 134, {'weight': 1.0}), (97, 151, {'weight': 1.0}), (97, 154, {'weight': 1.0}), (97, 160, {'weight': 1.0}), (97, 171, {'weight': 1.0}), (97, 187, {'weight': 1.0}), (97, 503, {'weight': 0.6326596220007746}), (98, 502, {'weight': 0.9025448006467517}), (99, 106, {'weight': 0.7764320130074978}), (100, 167, {'weight': 0.7572366797597506}), (100, 379, {'weight': 0.7431882400289295}), (101, 181, {'weight': 0.8570605620573689}), (101, 310, {'weight': 0.8402807769439908}), (102, 207, {'weight': 0.8810877945243163}), (102, 257, {'weight': 0.805786974310711}), (102, 405, {'weight': 0.8487880968259299}), (103, 221, {'weight': 0.8755110017669284}), (103, 173, {'weight': 0.8033295074451451}), (103, 193, {'weight': 0.8575876462065393}), (103, 292, {'weight': 0.8716178467946047}), (103, 361, {'weight': 0.874613834702237}), (104, 142, {'weight': 0.8582099197530728}), (104, 291, {'weight': 0.8678659879400142}), (104, 479, {'weight': 0.8580597222520414}), (105, 122, {'weight': 0.8798905465712896}), (107, 153, {'weight': 0.818248576974327}), (107, 214, {'weight': 0.8221829882258926}), (108, 110, {'weight': 0.834271329990246}), (108, 296, {'weight': 0.906086834404498}), (109, 110, {'weight': 0.877765326583576}), (109, 254, {'weight': 0.9157632689533055}), (110, 254, {'weight': 0.8737539444919508}), (110, 335, {'weight': 0.9026409782320242}), (110, 162, {'weight': 0.8669049309381672}), (111, 139, {'weight': 1.0}), (111, 271, {'weight': 1.0}), (112, 135, {'weight': 0.8961320787678081}), (112, 505, {'weight': 0.8812049565203518}), (113, 213, {'weight': 0.8408722770570356}), (113, 322, {'weight': 1.0000000000000002}), (114, 118, {'weight': 1.0}), (114, 503, {'weight': 0.6326596220007746}), (115, 212, {'weight': 0.8708696614609913}), (115, 197, {'weight': 0.8139760830155023}), (116, 180, {'weight': 0.8494989672762326}), (116, 384, {'weight': 0.8648681067581713}), (117, 204, {'weight': 0.7607996729012112}), (117, 327, {'weight': 0.7540042215894307}), (118, 131, {'weight': 1.0}), (118, 134, {'weight': 1.0}), (118, 151, {'weight': 1.0}), (118, 154, {'weight': 1.0}), (118, 160, {'weight': 1.0}), (118, 171, {'weight': 1.0}), (118, 187, {'weight': 1.0}), (119, 191, {'weight': 0.8909655969677734}), (119, 202, {'weight': 0.9080010056846521}), (119, 168, {'weight': 0.8548510420973464}), (119, 183, {'weight': 0.8323596139211445}), (119, 315, {'weight': 0.8147609002204241}), (119, 329, {'weight': 0.8500254244401094}), (119, 462, {'weight': 0.8101778447563744}), (119, 473, {'weight': 0.8483767240556257}), (119, 490, {'weight': 0.795257479864631}), (120, 190, {'weight': 0.8870263712916039}), (120, 192, {'weight': 0.88121963916295}), (120, 185, {'weight': 0.8460854662220022}), (121, 125, {'weight': 1.0000000000000002}), (121, 129, {'weight': 1.0000000000000002}), (121, 132, {'weight': 1.0000000000000002}), (121, 147, {'weight': 1.0000000000000002}), (121, 150, {'weight': 1.0000000000000002}), (121, 152, {'weight': 1.0000000000000002}), (121, 156, {'weight': 1.0000000000000002}), (121, 157, {'weight': 1.0000000000000002}), (121, 174, {'weight': 1.0000000000000002}), (121, 179, {'weight': 1.0000000000000002}), (121, 194, {'weight': 1.0000000000000002}), (121, 201, {'weight': 1.0000000000000002}), (121, 219, {'weight': 1.0000000000000002}), (121, 226, {'weight': 1.0000000000000002}), (121, 228, {'weight': 1.0000000000000002}), (121, 235, {'weight': 1.0000000000000002}), (121, 237, {'weight': 1.0000000000000002}), (121, 249, {'weight': 1.0000000000000002}), (121, 251, {'weight': 1.0000000000000002}), (121, 264, {'weight': 1.0000000000000002}), (121, 265, {'weight': 1.0000000000000002}), (121, 277, {'weight': 1.0000000000000002}), (121, 282, {'weight': 1.0000000000000002}), (121, 305, {'weight': 1.0000000000000002}), (122, 253, {'weight': 0.8676600059460399}), (123, 390, {'weight': 0.8870661702002683}), (123, 193, {'weight': 0.8375299649914064}), (123, 370, {'weight': 0.8823774446689245}), (124, 255, {'weight': 0.8649913289051261}), (126, 159, {'weight': 0.8653047011310989}), (126, 248, {'weight': 0.8605875645661932}), (126, 138, {'weight': 0.8473968563556267}), (126, 184, {'weight': 0.8269810682486157}), (126, 200, {'weight': 0.7692964498733789}), (126, 301, {'weight': 0.7844662312927686}), (126, 463, {'weight': 0.8527948371938974}), (127, 188, {'weight': 0.9999999999999999}), (127, 198, {'weight': 0.9999999999999999}), (127, 261, {'weight': 0.9999999999999999}), (127, 278, {'weight': 0.9999999999999999}), (127, 328, {'weight': 0.9999999999999999}), (127, 338, {'weight': 0.9999999999999999}), (127, 343, {'weight': 0.9999999999999999}), (128, 221, {'weight': 0.864913565659978}), (128, 137, {'weight': 0.8357573761059628}), (128, 175, {'weight': 0.7968227012078394}), (128, 189, {'weight': 0.8532540649290603}), (130, 221, {'weight': 0.8864517387494514}), (130, 269, {'weight': 0.8659079834417984}), (130, 314, {'weight': 0.8685535032395583}), (133, 332, {'weight': 0.839927122609656}), (133, 447, {'weight': 0.8348013093417906}), (135, 211, {'weight': 0.8957155331271502}), (135, 485, {'weight': 0.8289565417203397}), (135, 526, {'weight': 0.769762031928684}), (136, 149, {'weight': 1.0000000000000004}), (136, 192, {'weight': 0.9648698358577611}), (136, 280, {'weight': 0.9116684122081492}), (137, 221, {'weight': 0.8274859279615373}), (137, 340, {'weight': 0.8388508456522273}), (137, 399, {'weight': 0.736684123991647}), (138, 331, {'weight': 0.8590126428599028}), (138, 292, {'weight': 0.8514249565081262}), (138, 475, {'weight': 0.857639977774193}), (139, 271, {'weight': 1.0}), (140, 165, {'weight': 0.8098141489098623}), (140, 170, {'weight': 0.8031744489836126}), (140, 333, {'weight': 0.873808158225025}), (141, 311, {'weight': 0.8668875731394982}), (142, 269, {'weight': 0.8904005554598947}), (142, 167, {'weight': 0.7668672016839834}), (142, 442, {'weight': 0.8929842763869085}), (142, 487, {'weight': 0.7819231869519288}), (143, 326, {'weight': 0.827726963183334}), (144, 406, {'weight': 0.9095847098069757}), (144, 444, {'weight': 0.9167810948936324}), (145, 459, {'weight': 0.8889684964379353}), (145, 161, {'weight': 0.8529144740866064}), (146, 153, {'weight': 0.8555998828106928}), (146, 186, {'weight': 0.8596632064124479}), (148, 244, {'weight': 0.9278207601284122}), (148, 294, {'weight': 0.9270656053269999}), (148, 207, {'weight': 0.9103530683347955}), (148, 401, {'weight': 0.9255535915072827}), (148, 510, {'weight': 0.9056667872528774}), (149, 172, {'weight': 1.0000000000000004}), (149, 182, {'weight': 1.0000000000000004}), (149, 259, {'weight': 1.0000000000000004}), (149, 270, {'weight': 1.0000000000000004}), (149, 283, {'weight': 1.0000000000000004}), (149, 297, {'weight': 1.0000000000000004}), (149, 323, {'weight': 1.0000000000000004}), (149, 518, {'weight': 0.7992065567601309}), (153, 186, {'weight': 0.8850090206782296}), (153, 263, {'weight': 0.8734429942834678}), (153, 214, {'weight': 0.8322946681241248}), (155, 178, {'weight': 0.9999999999999999}), (155, 268, {'weight': 0.7954106919400412}), (155, 177, {'weight': 0.7891701981834196}), (155, 274, {'weight': 0.7517446827056166}), (155, 342, {'weight': 0.8073572084039412}), (158, 475, {'weight': 0.9040820426180918}), (158, 519, {'weight': 0.8536428082791124}), (159, 248, {'weight': 0.9065959990393813}), (159, 200, {'weight': 0.8288572817938554}), (159, 301, {'weight': 0.8273154351632122}), (159, 330, {'weight': 0.8736077484926985}), (159, 520, {'weight': 0.8736876941015379}), (161, 336, {'weight': 0.8828522810475458}), (161, 478, {'weight': 0.7647338820188474}), (162, 288, {'weight': 0.7766319805887177}), (162, 341, {'weight': 0.8859723853483102}), (163, 208, {'weight': 0.8559624327885335}), (164, 176, {'weight': 0.8464814375651015}), (164, 311, {'weight': 0.8497559544134794}), (165, 181, {'weight': 0.8426379401047829}), (165, 256, {'weight': 0.7433975168921031}), (165, 274, {'weight': 0.7736270014936187}), (165, 295, {'weight': 0.770924904066682}), (165, 326, {'weight': 0.8207836790984024}), (167, 442, {'weight': 0.7833375607749253}), (168, 202, {'weight': 0.8554754846963654}), (169, 459, {'weight': 0.8302190098680502}), (173, 314, {'weight': 0.8161501395891061}), (175, 248, {'weight': 0.7892003032123919}), (175, 516, {'weight': 0.7690147294745353}), (176, 326, {'weight': 0.8819984685824415}), (177, 326, {'weight': 0.8530810623852919}), (178, 268, {'weight': 0.7954106919400412}), (178, 493, {'weight': 0.785667028936654}), (180, 384, {'weight': 0.8421102757308118}), (181, 260, {'weight': 0.770003073775582}), (183, 506, {'weight': 0.8301896507815775}), (184, 190, {'weight': 0.8392898960011075}), (184, 461, {'weight': 0.8605312027218475}), (184, 472, {'weight': 0.8605312027218475}), (185, 255, {'weight': 0.8706331719533432}), (185, 471, {'weight': 0.744432844338805}), (189, 255, {'weight': 0.8419157739047299}), (190, 236, {'weight': 0.8894422891523814}), (190, 287, {'weight': 0.8550248632532729}), (190, 446, {'weight': 0.7018005715995411}), (191, 202, {'weight': 0.8997406106234039}), (191, 339, {'weight': 0.8527126876283317}), (191, 446, {'weight': 0.7002479298271584}), (191, 481, {'weight': 0.8183726312348699}), (192, 239, {'weight': 0.859192683908123}), (193, 443, {'weight': 0.7623555267519186}), (195, 205, {'weight': 0.8832932600887144}), (195, 208, {'weight': 0.8860722887490504}), (196, 224, {'weight': 1.0}), (196, 269, {'weight': 0.8451136530790834}), (196, 223, {'weight': 0.8098545132912409}), (196, 448, {'weight': 0.8085909914117686}), (196, 460, {'weight': 0.6440245328821701}), (197, 211, {'weight': 0.8175130380182845}), (199, 241, {'weight': 0.907692818608577}), (199, 252, {'weight': 0.8644586767375957}), (199, 344, {'weight': 0.8661063588236343}), (199, 354, {'weight': 0.8778991309179704}), (199, 367, {'weight': 0.8610330911034083}), (202, 220, {'weight': 0.8049019093000866}), (202, 315, {'weight': 0.8157292459214703}), (202, 336, {'weight': 0.8990719765923196}), (202, 462, {'weight': 0.8066693129806732}), (202, 473, {'weight': 0.8272992456043018}), (203, 246, {'weight': 0.7684088463108559}), (203, 329, {'weight': 0.8094157633108283}), (204, 325, {'weight': 0.8940982352384484}), (204, 327, {'weight': 0.8992107077613805}), (205, 296, {'weight': 0.8815178505337792}), (205, 468, {'weight': 0.8124039618620875}), (206, 463, {'weight': 0.8684912433548043}), (207, 401, {'weight': 0.9182716597660155}), (207, 347, {'weight': 0.8486710774074019}), (207, 525, {'weight': 0.8602870674377401}), (209, 241, {'weight': 0.9025186566356349}), (209, 438, {'weight': 0.9054480348523941}), (209, 344, {'weight': 0.8701733286320525}), (210, 286, {'weight': 0.8619024218733046}), (210, 308, {'weight': 0.850338060941293}), (211, 233, {'weight': 0.8710734934183505}), (211, 285, {'weight': 0.9026033971462905}), (212, 355, {'weight': 0.9236116047229017}), (212, 413, {'weight': 0.9170206891444032}), (212, 457, {'weight': 0.8427003293277805}), (213, 322, {'weight': 0.8408722770570356}), (213, 521, {'weight': 0.812504463884045}), (215, 246, {'weight': 0.8620499930909526}), (215, 308, {'weight': 0.786496481490213}), (216, 262, {'weight': 0.8537445095815195}), (217, 232, {'weight': 0.8712418788362037}), (220, 276, {'weight': 0.8019419833983595}), (221, 276, {'weight': 0.8511741101151269}), (221, 312, {'weight': 0.866931886956725}), (221, 340, {'weight': 0.8351406938213563}), (221, 414, {'weight': 0.7963793212112471}), (222, 334, {'weight': 0.9941449543385469}), (223, 224, {'weight': 0.8098545132912409}), (224, 269, {'weight': 0.8451136530790834}), (224, 448, {'weight': 0.8085909914117686}), (225, 382, {'weight': 0.9678259424907737}), (225, 229, {'weight': 0.9198210952835436}), (225, 510, {'weight': 0.8980537515252248}), (227, 232, {'weight': 0.9251376413046666}), (227, 252, {'weight': 0.8580445584604369}), (229, 502, {'weight': 0.9321685402790865}), (230, 240, {'weight': 0.9346640331434912}), (230, 374, {'weight': 0.924860086690554}), (231, 319, {'weight': 0.9047526207781517}), (232, 332, {'weight': 0.8681786605641453}), (233, 318, {'weight': 0.8723941133638522}), (233, 362, {'weight': 0.8669344428787332}), (233, 363, {'weight': 0.8656544042724196}), (234, 406, {'weight': 0.8956249452543514}), (234, 444, {'weight': 0.889010526368862}), (236, 307, {'weight': 0.8618572774203052}), (238, 243, {'weight': 0.9999999999999998}), (239, 442, {'weight': 0.8519775431010548}), (239, 360, {'weight': 0.7421480114652824}), (239, 470, {'weight': 0.8302905133094945}), (240, 374, {'weight': 0.9173487679037298}), (241, 367, {'weight': 0.8571818396876236}), (242, 335, {'weight': 0.9006725916341138}), (243, 293, {'weight': 0.9999999999999998}), (244, 262, {'weight': 0.9981333918198066}), (244, 281, {'weight': 0.9981333918198066}), (245, 280, {'weight': 0.7672859421030523}), (245, 442, {'weight': 0.7912467544484876}), (245, 454, {'weight': 0.8216682998843783}), (246, 303, {'weight': 0.8845017384677176}), (246, 336, {'weight': 0.9033047565235786}), (246, 320, {'weight': 0.8315705648836043}), (246, 321, {'weight': 0.8429148729018083}), (247, 333, {'weight': 0.9143683140958081}), (248, 255, {'weight': 0.8676140028206872}), (248, 402, {'weight': 0.9052361591333621}), (252, 319, {'weight': 0.8912258006961029}), (255, 299, {'weight': 0.8802347134518127}), (255, 464, {'weight': 0.8840789367855064}), (256, 298, {'weight': 0.8269947468809158}), (257, 398, {'weight': 0.8223777783939811}), (258, 317, {'weight': 0.8475389869013674}), (260, 295, {'weight': 0.8132199657975563}), (260, 466, {'weight': 0.820704174683836}), (262, 281, {'weight': 0.9999999999999998}), (262, 294, {'weight': 0.9998854383677385}), (262, 337, {'weight': 0.9998854383677385}), (263, 401, {'weight': 0.9201194653667026}), (263, 398, {'weight': 0.8625718275899289}), (263, 512, {'weight': 0.8664281481922089}), (266, 469, {'weight': 0.8060725378109711}), (267, 423, {'weight': 0.9070612249225567}), (267, 437, {'weight': 0.8911446604003538}), (268, 316, {'weight': 0.9086120812718959}), (268, 474, {'weight': 0.6181272780046198}), (268, 493, {'weight': 0.8475531427286913}), (269, 311, {'weight': 0.8757317946588181}), (269, 314, {'weight': 0.8757104490318058}), (272, 341, {'weight': 0.8446770471271806}), (275, 317, {'weight': 0.9137003361724209}), (275, 327, {'weight': 0.8944210758355798}), (276, 299, {'weight': 0.914176845791578}), (279, 302, {'weight': 1.0000000000000002}), (279, 306, {'weight': 1.0000000000000002}), (281, 294, {'weight': 0.9998854383677385}), (284, 320, {'weight': 0.8632905891924358}), (285, 324, {'weight': 0.921123620482033}), (286, 473, {'weight': 0.8549080156785337}), (287, 303, {'weight': 0.8666787474653045}), (288, 341, {'weight': 0.8726739699455667}), (289, 348, {'weight': 0.9175598748000249}), (289, 346, {'weight': 0.9263172584409106}), (289, 368, {'weight': 0.8038780229217624}), (290, 309, {'weight': 0.8543140161406819}), (290, 321, {'weight': 0.8394316502807291}), (291, 316, {'weight': 0.8876540454396102}), (291, 479, {'weight': 0.7577846515697776}), (294, 337, {'weight': 0.9999999999999999}), (298, 326, {'weight': 0.8413252118797799}), (298, 333, {'weight': 0.8432293843310323}), (299, 300, {'weight': 0.8867562225948836}), (299, 522, {'weight': 0.7109920195368777}), (300, 307, {'weight': 0.8696846047922023}), (302, 306, {'weight': 1.0000000000000002}), (302, 385, {'weight': 0.8311447702555771}), (303, 491, {'weight': 0.9393148136627613}), (303, 506, {'weight': 0.8899229831128969}), (304, 321, {'weight': 0.888277693930585}), (309, 321, {'weight': 0.8900084908610573}), (310, 402, {'weight': 0.881699905387189}), (310, 394, {'weight': 0.8003568050214016}), (310, 527, {'weight': 0.8663873661598743}), (311, 314, {'weight': 0.8764862736174415}), (313, 375, {'weight': 0.8274720865269565}), (313, 502, {'weight': 0.7954642569450862}), (314, 331, {'weight': 0.8931324785468082}), (314, 339, {'weight': 0.8441802189175914}), (316, 474, {'weight': 0.6260299282114012}), (316, 487, {'weight': 0.7653841095603802}), (316, 492, {'weight': 0.7421213175721755}), (317, 382, {'weight': 0.9234682744741912}), (318, 382, {'weight': 0.9050121533939028}), (319, 488, {'weight': 0.72674214466185}), (319, 525, {'weight': 0.8514836397282985}), (325, 514, {'weight': 0.902566803535064}), (330, 497, {'weight': 0.8606281477525578}), (330, 465, {'weight': 0.8519850545879318}), (332, 447, {'weight': 0.8965619073532194}), (332, 445, {'weight': 0.8128830746833513}), (332, 504, {'weight': 0.8262818053836192}), (334, 468, {'weight': 0.8091415466575596}), (336, 464, {'weight': 0.8958823188005969}), (344, 354, {'weight': 0.8704397243484804}), (344, 362, {'weight': 0.8993141943630153}), (345, 483, {'weight': 0.7191562428135749}), (347, 354, {'weight': 0.8440111784011952}), (349, 482, {'weight': 0.9312904657462775}), (349, 509, {'weight': 0.9409623603086975}), (350, 355, {'weight': 0.9774812273422381}), (351, 406, {'weight': 0.9972031764811401}), (351, 444, {'weight': 0.9777259272208928}), (352, 353, {'weight': 0.9970003203717885}), (352, 409, {'weight': 0.8846638274626092}), (353, 409, {'weight': 0.8703818052755791}), (353, 495, {'weight': 0.7376432817691444}), (355, 365, {'weight': 0.7593050749645363}), (356, 363, {'weight': 0.8383421476530897}), (357, 515, {'weight': 0.8924268776502453}), (357, 528, {'weight': 0.8924268776502453}), (358, 519, {'weight': 0.8643063457010639}), (358, 393, {'weight': 0.7964944265126337}), (359, 389, {'weight': 0.9605104081470569}), (359, 428, {'weight': 0.9081048648660396}), (360, 386, {'weight': 0.7353097343820375}), (361, 481, {'weight': 0.8805887717655729}), (361, 414, {'weight': 0.8121432628506832}), (362, 363, {'weight': 0.864879232323073}), (366, 375, {'weight': 0.8910083996888831}), (367, 488, {'weight': 0.7594340411548947}), (368, 440, {'weight': 0.8176596744010198}), (368, 504, {'weight': 0.7989766235126302}), (369, 437, {'weight': 0.7949043558527348}), (370, 390, {'weight': 0.9867051767453268}), (372, 391, {'weight': 0.9527422217901754}), (372, 467, {'weight': 0.764821442066056}), (373, 433, {'weight': 0.92669356740534}), (375, 485, {'weight': 0.8479753120102526}), (376, 378, {'weight': 0.9660253298571386}), (376, 381, {'weight': 0.9934512595665245}), (376, 440, {'weight': 0.8605206585379427}), (377, 402, {'weight': 0.8588554102925116}), (377, 520, {'weight': 0.844875559765108}), (378, 381, {'weight': 0.9682367767153548}), (378, 440, {'weight': 0.8637217217142368}), (379, 420, {'weight': 0.9479878198415582}), (379, 435, {'weight': 0.9586441724188958}), (379, 433, {'weight': 0.9231407168222417}), (380, 416, {'weight': 0.8936004374331002}), (380, 420, {'weight': 0.9092889946296107}), (382, 398, {'weight': 0.8630971846014881}), (383, 463, {'weight': 0.7933381527645195}), (384, 402, {'weight': 0.8821439189278556}), (385, 397, {'weight': 0.9792499024032527}), (386, 519, {'weight': 0.8359668102389034}), (386, 528, {'weight': 0.8365706938505377}), (387, 388, {'weight': 0.9921502791509489}), (387, 420, {'weight': 0.9280307154598509}), (388, 408, {'weight': 0.929851252650227}), (389, 428, {'weight': 0.9076764286757713}), (391, 467, {'weight': 0.7163491936878326}), (392, 452, {'weight': 0.7657917754682212}), (392, 467, {'weight': 0.7688263984714018}), (393, 506, {'weight': 0.8104692828366228}), (394, 527, {'weight': 0.8059743687194948}), (395, 514, {'weight': 0.9058507874043106}), (396, 409, {'weight': 0.9503914437188755}), (396, 412, {'weight': 0.9544426378737885}), (396, 421, {'weight': 0.8942564427813582}), (398, 501, {'weight': 0.7632424689060167}), (399, 513, {'weight': 0.8421359110726288}), (400, 409, {'weight': 0.8961751802169706}), (400, 420, {'weight': 0.9017995995087769}), (400, 404, {'weight': 0.8820334515122898}), (401, 447, {'weight': 0.8678395034365366}), (401, 512, {'weight': 0.8659412374645368}), (402, 520, {'weight': 0.8920118300205081}), (403, 491, {'weight': 0.7959115229580669}), (403, 506, {'weight': 0.8139478017401863}), (404, 413, {'weight': 0.8647203174205339}), (404, 511, {'weight': 0.7065417165069399}), (405, 496, {'weight': 0.7581766796925697}), (405, 498, {'weight': 0.8012065171072079}), (405, 501, {'weight': 0.7428520175784633}), (406, 444, {'weight': 0.9855577000384932}), (407, 411, {'weight': 0.9840576742188581}), (407, 420, {'weight': 0.8917015527436359}), (407, 439, {'weight': 0.8818355081214926}), (408, 413, {'weight': 0.9303268891710321}), (408, 431, {'weight': 0.9320280548487926}), (409, 412, {'weight': 0.9717747710101834}), (410, 424, {'weight': 0.8387513775477569}), (410, 430, {'weight': 0.8294175712508493}), (411, 431, {'weight': 0.9261950076021414}), (411, 439, {'weight': 0.8831011066486897}), (412, 420, {'weight': 0.9611598244545351}), (412, 428, {'weight': 0.9151523217522167}), (413, 437, {'weight': 0.991036485039037}), (413, 438, {'weight': 0.9799603423301272}), (414, 443, {'weight': 0.7481007797030034}), (415, 417, {'weight': 0.9981265897464604}), (415, 432, {'weight': 0.9801952462825607}), (415, 422, {'weight': 0.9782715248620653}), (416, 420, {'weight': 0.9921481520750958}), (416, 431, {'weight': 0.9883950185641136}), (417, 422, {'weight': 0.977747338949599}), (417, 424, {'weight': 0.9391271413636235}), (418, 421, {'weight': 0.9068772080521325}), (418, 427, {'weight': 0.9707498644977787}), (419, 429, {'weight': 0.9803978867491921}), (419, 436, {'weight': 0.9790280842909796}), (420, 431, {'weight': 0.9806403369956478}), (420, 428, {'weight': 0.9199578389487578}), (421, 427, {'weight': 0.8908860256830539}), (421, 441, {'weight': 0.8166107509247658}), (422, 432, {'weight': 0.997824949658824}), (423, 437, {'weight': 0.9049857953178853}), (424, 430, {'weight': 0.964711940010573}), (426, 431, {'weight': 0.9702642305460364}), (426, 435, {'weight': 0.979572605834624}), (429, 436, {'weight': 0.9933520639748888}), (430, 434, {'weight': 0.9672620571981805}), (432, 434, {'weight': 0.9413922289404617}), (437, 438, {'weight': 0.9896337856307384}), (442, 507, {'weight': 0.8819140854545995}), (442, 454, {'weight': 0.7861022289777391}), (442, 470, {'weight': 0.8031675284408307}), (442, 486, {'weight': 0.8385721095026795}), (445, 447, {'weight': 0.8556198972681534}), (447, 523, {'weight': 0.8805823529232919}), (448, 460, {'weight': 0.8178563533658787}), (449, 515, {'weight': 0.9025379137881081}), (449, 528, {'weight': 0.902537913788108}), (449, 451, {'weight': 0.8420101380375518}), (449, 484, {'weight': 0.6798908414650783}), (450, 456, {'weight': 1.0}), (450, 487, {'weight': 0.7833614107630401}), (452, 467, {'weight': 0.9977013160081731}), (452, 499, {'weight': 0.8964509805005784}), (453, 455, {'weight': 0.8290363279632217}), (453, 459, {'weight': 0.8307422408729129}), (453, 483, {'weight': 0.6844282444598547}), (455, 519, {'weight': 0.9204806741625116}), (455, 528, {'weight': 0.9154619760204171}), (455, 500, {'weight': 0.8240077317828627}), (456, 487, {'weight': 0.7833614107630401}), (458, 462, {'weight': 0.8203143513782382}), (458, 489, {'weight': 0.8330065638078104}), (461, 472, {'weight': 0.9999999999999996}), (465, 497, {'weight': 0.8153177848764943}), (466, 497, {'weight': 0.7581253674363634}), (467, 499, {'weight': 0.8892668993755054}), (468, 494, {'weight': 0.7695911346004254}), (469, 514, {'weight': 0.7933479276792146}), (471, 522, {'weight': 0.9239430496742572}), (476, 497, {'weight': 0.8525270896690123}), (476, 489, {'weight': 0.8050887990715159}), (480, 505, {'weight': 0.7418333418033776}), (480, 521, {'weight': 0.8211138570930934}), (491, 506, {'weight': 0.9719797311549616}), (495, 512, {'weight': 0.7686066368965377}), (496, 498, {'weight': 0.9629928870019648}), (502, 524, {'weight': 0.793293422823073}), (505, 524, {'weight': 0.8275972831111397}), (505, 526, {'weight': 0.7816443382971409}), (508, 514, {'weight': 0.8185590440711626}), (508, 521, {'weight': 0.8297713862631287}), (511, 524, {'weight': 0.7882345050798844}), (515, 519, {'weight': 0.9947088498882591}), (515, 528, {'weight': 1.0}), (519, 528, {'weight': 0.994708849888259})]\n"
          ]
        }
      ]
    },
    {
      "cell_type": "code",
      "source": [
        "import torch\n",
        "from torch_geometric.nn import GCNConv\n",
        "from torch_geometric.utils import add_self_loops\n",
        "num_nodes = X.shape[0]\n",
        "\n",
        "num_nodes = X.shape[0]\n",
        "edge_index = torch.zeros(2, num_nodes, dtype=torch.long)\n",
        "edge_index[0] = torch.arange(num_nodes)\n",
        "edge_index[1] = torch.arange(num_nodes)\n",
        "\n",
        "edges = list(G.edges())\n",
        "num_edges = len(edges)\n",
        "graph_edges = torch.zeros(2, num_edges, dtype=torch.long)\n",
        "graph_edges[0] = torch.from_numpy(np.array(edges)[:,0])\n",
        "graph_edges[1] = torch.from_numpy(np.array(edges)[:,1])\n",
        "\n",
        "edge_index = torch.cat([edge_index, graph_edges], dim=-1)"
      ],
      "metadata": {
        "id": "2PZwoBtsdYdE"
      },
      "execution_count": null,
      "outputs": []
    },
    {
      "cell_type": "code",
      "source": [
        "import matplotlib.pyplot as plt\n",
        "\n",
        "# ...create graph G\n",
        "\n",
        "plt.figure()\n",
        "nx.draw(G, with_labels=True)\n",
        "plt.show()"
      ],
      "metadata": {
        "colab": {
          "base_uri": "https://localhost:8080/",
          "height": 516
        },
        "id": "EK5oUwJndecj",
        "outputId": "bdb0b34b-0811-488f-d132-10314cbb8179"
      },
      "execution_count": null,
      "outputs": [
        {
          "output_type": "display_data",
          "data": {
            "text/plain": [
              "<Figure size 640x480 with 1 Axes>"
            ],
            "image/png": "[encoded data removed]"
          },
          "metadata": {}
        }
      ]
    },
    {
      "cell_type": "code",
      "source": [
        "print(\"Nodes:\", G.number_of_nodes())"
      ],
      "metadata": {
        "colab": {
          "base_uri": "https://localhost:8080/"
        },
        "id": "U2dQLX_mdkvL",
        "outputId": "f2139ba1-1ed9-4f63-e40e-2e0ea9a48258"
      },
      "execution_count": null,
      "outputs": [
        {
          "output_type": "stream",
          "name": "stdout",
          "text": [
            "Nodes: 529\n"
          ]
        }
      ]
    },
    {
      "cell_type": "code",
      "source": [
        "print(\"Edges:\", G.number_of_edges())"
      ],
      "metadata": {
        "colab": {
          "base_uri": "https://localhost:8080/"
        },
        "id": "0i16r8W4dlqD",
        "outputId": "a40d90e7-19e7-4499-860c-1adc34852fa4"
      },
      "execution_count": null,
      "outputs": [
        {
          "output_type": "stream",
          "name": "stdout",
          "text": [
            "Edges: 885\n"
          ]
        }
      ]
    },
    {
      "cell_type": "code",
      "source": [
        "if G.is_directed():\n",
        "    print(\"Directed graph\")\n",
        "else:\n",
        "    print(\"Undirected graph\")"
      ],
      "metadata": {
        "colab": {
          "base_uri": "https://localhost:8080/"
        },
        "id": "cRtJKzRZdoYb",
        "outputId": "b5b007b9-e96a-43bb-af50-03d83521f401"
      },
      "execution_count": null,
      "outputs": [
        {
          "output_type": "stream",
          "name": "stdout",
          "text": [
            "Undirected graph\n"
          ]
        }
      ]
    },
    {
      "cell_type": "code",
      "source": [
        "density = nx.density(G)\n",
        "print(\"Density:\", density)"
      ],
      "metadata": {
        "colab": {
          "base_uri": "https://localhost:8080/"
        },
        "id": "cAEtA1KadrnF",
        "outputId": "33eba159-4531-4b34-be1c-69496805001b"
      },
      "execution_count": null,
      "outputs": [
        {
          "output_type": "stream",
          "name": "stdout",
          "text": [
            "Density: 0.0063369994844475\n"
          ]
        }
      ]
    },
    {
      "cell_type": "code",
      "source": [
        "deg = nx.degree_histogram(G)\n",
        "print(\"Degree distribution:\")\n",
        "print(deg)"
      ],
      "metadata": {
        "colab": {
          "base_uri": "https://localhost:8080/"
        },
        "id": "LEAnuPY5dxD6",
        "outputId": "707af0df-9099-4ae7-dc5f-c5a79d7ecd91"
      },
      "execution_count": null,
      "outputs": [
        {
          "output_type": "stream",
          "name": "stdout",
          "text": [
            "Degree distribution:\n",
            "[0, 0, 263, 110, 64, 39, 20, 11, 4, 6, 4, 2, 2, 0, 0, 0, 1, 0, 0, 0, 0, 0, 0, 0, 0, 1, 1, 1]\n"
          ]
        }
      ]
    },
    {
      "cell_type": "code",
      "source": [
        "import torch\n",
        "import torch.nn as nn\n",
        "import torch.nn.functional as F"
      ],
      "metadata": {
        "id": "CJdWnx4Rd5tj"
      },
      "execution_count": null,
      "outputs": []
    },
    {
      "cell_type": "code",
      "source": [
        "class TabularGNN(torch.nn.Module):\n",
        "    def __init__(self, in_channels, hidden_channels, out_channels):\n",
        "        super(TabularGNN, self).__init__()\n",
        "        self.conv1 = GCNConv(in_channels, hidden_channels)\n",
        "        self.conv2 = GCNConv(hidden_channels, out_channels)\n",
        "\n",
        "    def forward(self, x, edge_index):\n",
        "        x = self.conv1(x, edge_index)\n",
        "        x = x.relu()\n",
        "        x = F.dropout(x, training=self.training)\n",
        "        x = self.conv2(x, edge_index)\n",
        "        return x.log_softmax(dim=1)"
      ],
      "metadata": {
        "id": "XdbOWtYmd9Bk"
      },
      "execution_count": null,
      "outputs": []
    },
    {
      "cell_type": "code",
      "source": [
        "model = TabularGNN(X.shape[1], 64, y.max()+1)\n",
        "\n",
        "optimizer = torch.optim.Adam(model.parameters(), lr=0.01)\n",
        "criterion = torch.nn.NLLLoss()"
      ],
      "metadata": {
        "id": "N2zRufO4eCVW"
      },
      "execution_count": null,
      "outputs": []
    },
    {
      "cell_type": "code",
      "source": [
        "y_np = df['Class'].values\n",
        "y = torch.from_numpy(y_np).long()\n",
        "x = torch.from_numpy(X)"
      ],
      "metadata": {
        "id": "lMvZNyfDeDmN"
      },
      "execution_count": null,
      "outputs": []
    },
    {
      "cell_type": "code",
      "source": [
        "# Cast inputs to double\n",
        "x = x.double()\n",
        "edge_index = edge_index.long()\n",
        "\n",
        "# Cast model parameters\n",
        "model.double()"
      ],
      "metadata": {
        "colab": {
          "base_uri": "https://localhost:8080/"
        },
        "id": "P90jrOJMeFyY",
        "outputId": "ad1a6b4a-dd43-4824-dbbe-a199fc710948"
      },
      "execution_count": null,
      "outputs": [
        {
          "output_type": "execute_result",
          "data": {
            "text/plain": [
              "TabularGNN(\n",
              "  (conv1): GCNConv(71, 64)\n",
              "  (conv2): GCNConv(64, 530)\n",
              ")"
            ]
          },
          "metadata": {},
          "execution_count": 113
        }
      ]
    },
    {
      "cell_type": "code",
      "source": [
        "for epoch in range(200):\n",
        "    out = model(x, edge_index)\n",
        "    loss = criterion(out, y)\n",
        "    loss.backward()\n",
        "    optimizer.step()\n",
        "    optimizer.zero_grad()\n",
        "\n",
        "# Test accuracy\n",
        "_, pred = model(x, edge_index).max(dim=1)\n",
        "acc = pred.eq(y).sum().item() / len(y)\n",
        "print('Test accuracy: ', acc)"
      ],
      "metadata": {
        "colab": {
          "base_uri": "https://localhost:8080/"
        },
        "id": "goSUXmHreKCj",
        "outputId": "197d89d9-ba63-42ec-f0b4-595b30e0f38c"
      },
      "execution_count": null,
      "outputs": [
        {
          "output_type": "stream",
          "name": "stdout",
          "text": [
            "Test accuracy:  1.0\n"
          ]
        }
      ]
    },
    {
      "cell_type": "code",
      "source": [
        "!pip install dgl"
      ],
      "metadata": {
        "colab": {
          "base_uri": "https://localhost:8080/"
        },
        "id": "rlA-5Wb-Otnv",
        "outputId": "2d09d7b1-55c3-4f3e-9f3c-8ab2710a9dc4"
      },
      "execution_count": null,
      "outputs": [
        {
          "output_type": "stream",
          "name": "stdout",
          "text": [
            "Collecting dgl\n",
            "  Downloading dgl-2.1.0-cp310-cp310-manylinux1_x86_64.whl (8.5 MB)\n",
            "\u001b[2K     \u001b[90m━━━━━━━━━━━━━━━━━━━━━━━━━━━━━━━━━━━━━━━━\u001b[0m \u001b[32m8.5/8.5 MB\u001b[0m \u001b[31m27.0 MB/s\u001b[0m eta \u001b[36m0:00:00\u001b[0m\n",
            "\u001b[?25hRequirement already satisfied: numpy>=1.14.0 in /usr/local/lib/python3.10/dist-packages (from dgl) (1.25.2)\n",
            "Requirement already satisfied: scipy>=1.1.0 in /usr/local/lib/python3.10/dist-packages (from dgl) (1.11.4)\n",
            "Requirement already satisfied: networkx>=2.1 in /usr/local/lib/python3.10/dist-packages (from dgl) (3.3)\n",
            "Requirement already satisfied: requests>=2.19.0 in /usr/local/lib/python3.10/dist-packages (from dgl) (2.31.0)\n",
            "Requirement already satisfied: tqdm in /usr/local/lib/python3.10/dist-packages (from dgl) (4.66.4)\n",
            "Requirement already satisfied: psutil>=5.8.0 in /usr/local/lib/python3.10/dist-packages (from dgl) (5.9.5)\n",
            "Collecting torchdata>=0.5.0 (from dgl)\n",
            "  Downloading torchdata-0.7.1-cp310-cp310-manylinux_2_17_x86_64.manylinux2014_x86_64.whl (4.7 MB)\n",
            "\u001b[2K     \u001b[90m━━━━━━━━━━━━━━━━━━━━━━━━━━━━━━━━━━━━━━━━\u001b[0m \u001b[32m4.7/4.7 MB\u001b[0m \u001b[31m16.2 MB/s\u001b[0m eta \u001b[36m0:00:00\u001b[0m\n",
            "\u001b[?25hRequirement already satisfied: charset-normalizer<4,>=2 in /usr/local/lib/python3.10/dist-packages (from requests>=2.19.0->dgl) (3.3.2)\n",
            "Requirement already satisfied: idna<4,>=2.5 in /usr/local/lib/python3.10/dist-packages (from requests>=2.19.0->dgl) (3.7)\n",
            "Requirement already satisfied: urllib3<3,>=1.21.1 in /usr/local/lib/python3.10/dist-packages (from requests>=2.19.0->dgl) (2.0.7)\n",
            "Requirement already satisfied: certifi>=2017.4.17 in /usr/local/lib/python3.10/dist-packages (from requests>=2.19.0->dgl) (2024.2.2)\n",
            "Requirement already satisfied: torch>=2 in /usr/local/lib/python3.10/dist-packages (from torchdata>=0.5.0->dgl) (2.3.0+cu121)\n",
            "Requirement already satisfied: filelock in /usr/local/lib/python3.10/dist-packages (from torch>=2->torchdata>=0.5.0->dgl) (3.14.0)\n",
            "Requirement already satisfied: typing-extensions>=4.8.0 in /usr/local/lib/python3.10/dist-packages (from torch>=2->torchdata>=0.5.0->dgl) (4.12.0)\n",
            "Requirement already satisfied: sympy in /usr/local/lib/python3.10/dist-packages (from torch>=2->torchdata>=0.5.0->dgl) (1.12.1)\n",
            "Requirement already satisfied: jinja2 in /usr/local/lib/python3.10/dist-packages (from torch>=2->torchdata>=0.5.0->dgl) (3.1.4)\n",
            "Requirement already satisfied: fsspec in /usr/local/lib/python3.10/dist-packages (from torch>=2->torchdata>=0.5.0->dgl) (2023.6.0)\n",
            "Collecting nvidia-cuda-nvrtc-cu12==12.1.105 (from torch>=2->torchdata>=0.5.0->dgl)\n",
            "  Using cached nvidia_cuda_nvrtc_cu12-12.1.105-py3-none-manylinux1_x86_64.whl (23.7 MB)\n",
            "Collecting nvidia-cuda-runtime-cu12==12.1.105 (from torch>=2->torchdata>=0.5.0->dgl)\n",
            "  Using cached nvidia_cuda_runtime_cu12-12.1.105-py3-none-manylinux1_x86_64.whl (823 kB)\n",
            "Collecting nvidia-cuda-cupti-cu12==12.1.105 (from torch>=2->torchdata>=0.5.0->dgl)\n",
            "  Using cached nvidia_cuda_cupti_cu12-12.1.105-py3-none-manylinux1_x86_64.whl (14.1 MB)\n",
            "Collecting nvidia-cudnn-cu12==8.9.2.26 (from torch>=2->torchdata>=0.5.0->dgl)\n",
            "  Using cached nvidia_cudnn_cu12-8.9.2.26-py3-none-manylinux1_x86_64.whl (731.7 MB)\n",
            "Collecting nvidia-cublas-cu12==12.1.3.1 (from torch>=2->torchdata>=0.5.0->dgl)\n",
            "  Using cached nvidia_cublas_cu12-12.1.3.1-py3-none-manylinux1_x86_64.whl (410.6 MB)\n",
            "Collecting nvidia-cufft-cu12==11.0.2.54 (from torch>=2->torchdata>=0.5.0->dgl)\n",
            "  Using cached nvidia_cufft_cu12-11.0.2.54-py3-none-manylinux1_x86_64.whl (121.6 MB)\n",
            "Collecting nvidia-curand-cu12==10.3.2.106 (from torch>=2->torchdata>=0.5.0->dgl)\n",
            "  Using cached nvidia_curand_cu12-10.3.2.106-py3-none-manylinux1_x86_64.whl (56.5 MB)\n",
            "Collecting nvidia-cusolver-cu12==11.4.5.107 (from torch>=2->torchdata>=0.5.0->dgl)\n",
            "  Using cached nvidia_cusolver_cu12-11.4.5.107-py3-none-manylinux1_x86_64.whl (124.2 MB)\n",
            "Collecting nvidia-cusparse-cu12==12.1.0.106 (from torch>=2->torchdata>=0.5.0->dgl)\n",
            "  Using cached nvidia_cusparse_cu12-12.1.0.106-py3-none-manylinux1_x86_64.whl (196.0 MB)\n",
            "Collecting nvidia-nccl-cu12==2.20.5 (from torch>=2->torchdata>=0.5.0->dgl)\n",
            "  Using cached nvidia_nccl_cu12-2.20.5-py3-none-manylinux2014_x86_64.whl (176.2 MB)\n",
            "Collecting nvidia-nvtx-cu12==12.1.105 (from torch>=2->torchdata>=0.5.0->dgl)\n",
            "  Using cached nvidia_nvtx_cu12-12.1.105-py3-none-manylinux1_x86_64.whl (99 kB)\n",
            "Requirement already satisfied: triton==2.3.0 in /usr/local/lib/python3.10/dist-packages (from torch>=2->torchdata>=0.5.0->dgl) (2.3.0)\n",
            "Collecting nvidia-nvjitlink-cu12 (from nvidia-cusolver-cu12==11.4.5.107->torch>=2->torchdata>=0.5.0->dgl)\n",
            "  Downloading nvidia_nvjitlink_cu12-12.5.40-py3-none-manylinux2014_x86_64.whl (21.3 MB)\n",
            "\u001b[2K     \u001b[90m━━━━━━━━━━━━━━━━━━━━━━━━━━━━━━━━━━━━━━━━\u001b[0m \u001b[32m21.3/21.3 MB\u001b[0m \u001b[31m29.8 MB/s\u001b[0m eta \u001b[36m0:00:00\u001b[0m\n",
            "\u001b[?25hRequirement already satisfied: MarkupSafe>=2.0 in /usr/local/lib/python3.10/dist-packages (from jinja2->torch>=2->torchdata>=0.5.0->dgl) (2.1.5)\n",
            "Requirement already satisfied: mpmath<1.4.0,>=1.1.0 in /usr/local/lib/python3.10/dist-packages (from sympy->torch>=2->torchdata>=0.5.0->dgl) (1.3.0)\n",
            "Installing collected packages: nvidia-nvtx-cu12, nvidia-nvjitlink-cu12, nvidia-nccl-cu12, nvidia-curand-cu12, nvidia-cufft-cu12, nvidia-cuda-runtime-cu12, nvidia-cuda-nvrtc-cu12, nvidia-cuda-cupti-cu12, nvidia-cublas-cu12, nvidia-cusparse-cu12, nvidia-cudnn-cu12, nvidia-cusolver-cu12, torchdata, dgl\n",
            "Successfully installed dgl-2.1.0 nvidia-cublas-cu12-12.1.3.1 nvidia-cuda-cupti-cu12-12.1.105 nvidia-cuda-nvrtc-cu12-12.1.105 nvidia-cuda-runtime-cu12-12.1.105 nvidia-cudnn-cu12-8.9.2.26 nvidia-cufft-cu12-11.0.2.54 nvidia-curand-cu12-10.3.2.106 nvidia-cusolver-cu12-11.4.5.107 nvidia-cusparse-cu12-12.1.0.106 nvidia-nccl-cu12-2.20.5 nvidia-nvjitlink-cu12-12.5.40 nvidia-nvtx-cu12-12.1.105 torchdata-0.7.1\n"
          ]
        }
      ]
    },
    {
      "cell_type": "code",
      "source": [
        "import dgl\n",
        "import torch\n",
        "import torch.nn as nn\n",
        "import torch.optim as optim\n",
        "from dgl.nn import GraphConv\n",
        "from sklearn.model_selection import KFold\n",
        "\n",
        "# Assume `graph_data` and `labels` are your graph dataset and labels respectively\n",
        "# This part should be modified according to your actual graph data preparation\n",
        "\n",
        "class GNN(nn.Module):\n",
        "    def __init__(self, in_feats, h_feats, num_classes):\n",
        "        super(GNN, self).__init__()\n",
        "        self.conv1 = GraphConv(in_feats, h_feats)\n",
        "        self.conv2 = GraphConv(h_feats, num_classes)\n",
        "\n",
        "    def forward(self, g, in_feat):\n",
        "        h = self.conv1(g, in_feat)\n",
        "        h = torch.relu(h)\n",
        "        h = self.conv2(g, h)\n",
        "        return h\n",
        "\n",
        "# Prepare your graph data and features\n",
        "# Assume graph_data is your DGL graph and features and labels are prepared accordingly\n",
        "\n",
        "accuracy_scores = []\n",
        "\n",
        "kf = KFold(n_splits=10, shuffle=True, random_state=24)\n",
        "\n",
        "for train_index, val_index in kf.split(X):\n",
        "    train_graphs = [graph_data[i] for i in train_index]\n",
        "    val_graphs = [graph_data[i] for i in val_index]\n",
        "    train_labels = [labels[i] for i in train_index]\n",
        "    val_labels = [labels[i] for i in val_index]\n",
        "\n",
        "    model = GNN(in_feats=num_features, h_feats=64, num_classes=2)\n",
        "    optimizer = optim.Adam(model.parameters(), lr=0.01)\n",
        "    loss_fn = nn.CrossEntropyLoss()\n",
        "\n",
        "    for epoch in range(50):  # Training for 50 epochs\n",
        "        model.train()\n",
        "        for g, label in zip(train_graphs, train_labels):\n",
        "            features = g.ndata['feat']\n",
        "            logits = model(g, features)\n",
        "            loss = loss_fn(logits, label)\n",
        "            optimizer.zero_grad()\n",
        "            loss.backward()\n",
        "            optimizer.step()\n",
        "\n",
        "    model.eval()\n",
        "    correct = 0\n",
        "    total = 0\n",
        "    for g, label in zip(val_graphs, val_labels):\n",
        "        features = g.ndata['feat']\n",
        "        logits = model(g, features)\n",
        "        _, predicted = torch.max(logits, 1)\n",
        "        total += label.size(0)\n",
        "        correct += (predicted == label).sum().item()\n",
        "\n",
        "    accuracy_scores.append(correct / total)\n",
        "\n",
        "mean_accuracy = np.mean(accuracy_scores)\n",
        "print(f\"Mean Accuracy over 10 folds: {mean_accuracy}\")\n"
      ],
      "metadata": {
        "colab": {
          "base_uri": "https://localhost:8080/",
          "height": 546
        },
        "id": "oAzE78RaL1Eo",
        "outputId": "256f9cb3-3104-403d-c221-8405b5875320"
      },
      "execution_count": null,
      "outputs": [
        {
          "output_type": "error",
          "ename": "ImportError",
          "evalue": "cannot import name 'DILL_AVAILABLE' from 'torch.utils.data.datapipes.utils.common' (/usr/local/lib/python3.10/dist-packages/torch/utils/data/datapipes/utils/common.py)",
          "traceback": [
            "\u001b[0;31m---------------------------------------------------------------------------\u001b[0m",
            "\u001b[0;31mImportError\u001b[0m                               Traceback (most recent call last)",
            "\u001b[0;32m<ipython-input-123-930fd128cc23>\u001b[0m in \u001b[0;36m<cell line: 5>\u001b[0;34m()\u001b[0m\n\u001b[1;32m      3\u001b[0m \u001b[0;32mimport\u001b[0m \u001b[0mtorch\u001b[0m\u001b[0;34m.\u001b[0m\u001b[0mnn\u001b[0m \u001b[0;32mas\u001b[0m \u001b[0mnn\u001b[0m\u001b[0;34m\u001b[0m\u001b[0;34m\u001b[0m\u001b[0m\n\u001b[1;32m      4\u001b[0m \u001b[0;32mimport\u001b[0m \u001b[0mtorch\u001b[0m\u001b[0;34m.\u001b[0m\u001b[0moptim\u001b[0m \u001b[0;32mas\u001b[0m \u001b[0moptim\u001b[0m\u001b[0;34m\u001b[0m\u001b[0;34m\u001b[0m\u001b[0m\n\u001b[0;32m----> 5\u001b[0;31m \u001b[0;32mfrom\u001b[0m \u001b[0mdgl\u001b[0m\u001b[0;34m.\u001b[0m\u001b[0mnn\u001b[0m \u001b[0;32mimport\u001b[0m \u001b[0mGraphConv\u001b[0m\u001b[0;34m\u001b[0m\u001b[0;34m\u001b[0m\u001b[0m\n\u001b[0m\u001b[1;32m      6\u001b[0m \u001b[0;32mfrom\u001b[0m \u001b[0msklearn\u001b[0m\u001b[0;34m.\u001b[0m\u001b[0mmodel_selection\u001b[0m \u001b[0;32mimport\u001b[0m \u001b[0mKFold\u001b[0m\u001b[0;34m\u001b[0m\u001b[0;34m\u001b[0m\u001b[0m\n\u001b[1;32m      7\u001b[0m \u001b[0;34m\u001b[0m\u001b[0m\n",
            "\u001b[0;32m/usr/local/lib/python3.10/dist-packages/dgl/__init__.py\u001b[0m in \u001b[0;36m<module>\u001b[0;34m\u001b[0m\n\u001b[1;32m     14\u001b[0m \u001b[0;32mfrom\u001b[0m \u001b[0;34m.\u001b[0m\u001b[0mbackend\u001b[0m \u001b[0;32mimport\u001b[0m \u001b[0mbackend_name\u001b[0m\u001b[0;34m,\u001b[0m \u001b[0mload_backend\u001b[0m  \u001b[0;31m# usort: skip\u001b[0m\u001b[0;34m\u001b[0m\u001b[0;34m\u001b[0m\u001b[0m\n\u001b[1;32m     15\u001b[0m \u001b[0;34m\u001b[0m\u001b[0m\n\u001b[0;32m---> 16\u001b[0;31m from . import (\n\u001b[0m\u001b[1;32m     17\u001b[0m     \u001b[0mcontainer\u001b[0m\u001b[0;34m,\u001b[0m\u001b[0;34m\u001b[0m\u001b[0;34m\u001b[0m\u001b[0m\n\u001b[1;32m     18\u001b[0m     \u001b[0mcuda\u001b[0m\u001b[0;34m,\u001b[0m\u001b[0;34m\u001b[0m\u001b[0;34m\u001b[0m\u001b[0m\n",
            "\u001b[0;32m/usr/local/lib/python3.10/dist-packages/dgl/dataloading/__init__.py\u001b[0m in \u001b[0;36m<module>\u001b[0;34m\u001b[0m\n\u001b[1;32m     11\u001b[0m \u001b[0;32mif\u001b[0m \u001b[0mF\u001b[0m\u001b[0;34m.\u001b[0m\u001b[0mget_preferred_backend\u001b[0m\u001b[0;34m(\u001b[0m\u001b[0;34m)\u001b[0m \u001b[0;34m==\u001b[0m \u001b[0;34m\"pytorch\"\u001b[0m\u001b[0;34m:\u001b[0m\u001b[0;34m\u001b[0m\u001b[0;34m\u001b[0m\u001b[0m\n\u001b[1;32m     12\u001b[0m     \u001b[0;32mfrom\u001b[0m \u001b[0;34m.\u001b[0m\u001b[0mspot_target\u001b[0m \u001b[0;32mimport\u001b[0m \u001b[0;34m*\u001b[0m\u001b[0;34m\u001b[0m\u001b[0;34m\u001b[0m\u001b[0m\n\u001b[0;32m---> 13\u001b[0;31m     \u001b[0;32mfrom\u001b[0m \u001b[0;34m.\u001b[0m\u001b[0mdataloader\u001b[0m \u001b[0;32mimport\u001b[0m \u001b[0;34m*\u001b[0m\u001b[0;34m\u001b[0m\u001b[0;34m\u001b[0m\u001b[0m\n\u001b[0m\u001b[1;32m     14\u001b[0m     \u001b[0;32mfrom\u001b[0m \u001b[0;34m.\u001b[0m\u001b[0mdist_dataloader\u001b[0m \u001b[0;32mimport\u001b[0m \u001b[0;34m*\u001b[0m\u001b[0;34m\u001b[0m\u001b[0;34m\u001b[0m\u001b[0m\n",
            "\u001b[0;32m/usr/local/lib/python3.10/dist-packages/dgl/dataloading/dataloader.py\u001b[0m in \u001b[0;36m<module>\u001b[0;34m\u001b[0m\n\u001b[1;32m     25\u001b[0m \u001b[0;32mfrom\u001b[0m \u001b[0;34m.\u001b[0m\u001b[0;34m.\u001b[0m\u001b[0mbatch\u001b[0m \u001b[0;32mimport\u001b[0m \u001b[0mbatch\u001b[0m \u001b[0;32mas\u001b[0m \u001b[0mbatch_graphs\u001b[0m\u001b[0;34m\u001b[0m\u001b[0;34m\u001b[0m\u001b[0m\n\u001b[1;32m     26\u001b[0m \u001b[0;32mfrom\u001b[0m \u001b[0;34m.\u001b[0m\u001b[0;34m.\u001b[0m\u001b[0mcuda\u001b[0m \u001b[0;32mimport\u001b[0m \u001b[0mGPUCache\u001b[0m\u001b[0;34m\u001b[0m\u001b[0;34m\u001b[0m\u001b[0m\n\u001b[0;32m---> 27\u001b[0;31m \u001b[0;32mfrom\u001b[0m \u001b[0;34m.\u001b[0m\u001b[0;34m.\u001b[0m\u001b[0mdistributed\u001b[0m \u001b[0;32mimport\u001b[0m \u001b[0mDistGraph\u001b[0m\u001b[0;34m\u001b[0m\u001b[0;34m\u001b[0m\u001b[0m\n\u001b[0m\u001b[1;32m     28\u001b[0m \u001b[0;32mfrom\u001b[0m \u001b[0;34m.\u001b[0m\u001b[0;34m.\u001b[0m\u001b[0mframe\u001b[0m \u001b[0;32mimport\u001b[0m \u001b[0mLazyFeature\u001b[0m\u001b[0;34m\u001b[0m\u001b[0;34m\u001b[0m\u001b[0m\n\u001b[1;32m     29\u001b[0m \u001b[0;32mfrom\u001b[0m \u001b[0;34m.\u001b[0m\u001b[0;34m.\u001b[0m\u001b[0mheterograph\u001b[0m \u001b[0;32mimport\u001b[0m \u001b[0mDGLGraph\u001b[0m\u001b[0;34m\u001b[0m\u001b[0;34m\u001b[0m\u001b[0m\n",
            "\u001b[0;32m/usr/local/lib/python3.10/dist-packages/dgl/distributed/__init__.py\u001b[0m in \u001b[0;36m<module>\u001b[0;34m\u001b[0m\n\u001b[1;32m      3\u001b[0m \u001b[0;32mfrom\u001b[0m \u001b[0;34m.\u001b[0m\u001b[0mdist_context\u001b[0m \u001b[0;32mimport\u001b[0m \u001b[0mexit_client\u001b[0m\u001b[0;34m,\u001b[0m \u001b[0minitialize\u001b[0m\u001b[0;34m\u001b[0m\u001b[0;34m\u001b[0m\u001b[0m\n\u001b[1;32m      4\u001b[0m \u001b[0;32mfrom\u001b[0m \u001b[0;34m.\u001b[0m\u001b[0mdist_dataloader\u001b[0m \u001b[0;32mimport\u001b[0m \u001b[0mDistDataLoader\u001b[0m\u001b[0;34m\u001b[0m\u001b[0;34m\u001b[0m\u001b[0m\n\u001b[0;32m----> 5\u001b[0;31m \u001b[0;32mfrom\u001b[0m \u001b[0;34m.\u001b[0m\u001b[0mdist_graph\u001b[0m \u001b[0;32mimport\u001b[0m \u001b[0mDistGraph\u001b[0m\u001b[0;34m,\u001b[0m \u001b[0mDistGraphServer\u001b[0m\u001b[0;34m,\u001b[0m \u001b[0medge_split\u001b[0m\u001b[0;34m,\u001b[0m \u001b[0mnode_split\u001b[0m\u001b[0;34m\u001b[0m\u001b[0;34m\u001b[0m\u001b[0m\n\u001b[0m\u001b[1;32m      6\u001b[0m \u001b[0;32mfrom\u001b[0m \u001b[0;34m.\u001b[0m\u001b[0mdist_tensor\u001b[0m \u001b[0;32mimport\u001b[0m \u001b[0mDistTensor\u001b[0m\u001b[0;34m\u001b[0m\u001b[0;34m\u001b[0m\u001b[0m\n\u001b[1;32m      7\u001b[0m \u001b[0;32mfrom\u001b[0m \u001b[0;34m.\u001b[0m\u001b[0mgraph_partition_book\u001b[0m \u001b[0;32mimport\u001b[0m \u001b[0mGraphPartitionBook\u001b[0m\u001b[0;34m,\u001b[0m \u001b[0mPartitionPolicy\u001b[0m\u001b[0;34m\u001b[0m\u001b[0;34m\u001b[0m\u001b[0m\n",
            "\u001b[0;32m/usr/local/lib/python3.10/dist-packages/dgl/distributed/dist_graph.py\u001b[0m in \u001b[0;36m<module>\u001b[0;34m\u001b[0m\n\u001b[1;32m      9\u001b[0m \u001b[0;32mimport\u001b[0m \u001b[0mnumpy\u001b[0m \u001b[0;32mas\u001b[0m \u001b[0mnp\u001b[0m\u001b[0;34m\u001b[0m\u001b[0;34m\u001b[0m\u001b[0m\n\u001b[1;32m     10\u001b[0m \u001b[0;34m\u001b[0m\u001b[0m\n\u001b[0;32m---> 11\u001b[0;31m \u001b[0;32mfrom\u001b[0m \u001b[0;34m.\u001b[0m\u001b[0;34m.\u001b[0m \u001b[0;32mimport\u001b[0m \u001b[0mbackend\u001b[0m \u001b[0;32mas\u001b[0m \u001b[0mF\u001b[0m\u001b[0;34m,\u001b[0m \u001b[0mgraphbolt\u001b[0m \u001b[0;32mas\u001b[0m \u001b[0mgb\u001b[0m\u001b[0;34m,\u001b[0m \u001b[0mheterograph_index\u001b[0m\u001b[0;34m\u001b[0m\u001b[0;34m\u001b[0m\u001b[0m\n\u001b[0m\u001b[1;32m     12\u001b[0m \u001b[0;32mfrom\u001b[0m \u001b[0;34m.\u001b[0m\u001b[0;34m.\u001b[0m\u001b[0m_ffi\u001b[0m\u001b[0;34m.\u001b[0m\u001b[0mndarray\u001b[0m \u001b[0;32mimport\u001b[0m \u001b[0mempty_shared_mem\u001b[0m\u001b[0;34m\u001b[0m\u001b[0;34m\u001b[0m\u001b[0m\n\u001b[1;32m     13\u001b[0m \u001b[0;32mfrom\u001b[0m \u001b[0;34m.\u001b[0m\u001b[0;34m.\u001b[0m\u001b[0mbase\u001b[0m \u001b[0;32mimport\u001b[0m \u001b[0mALL\u001b[0m\u001b[0;34m,\u001b[0m \u001b[0mDGLError\u001b[0m\u001b[0;34m,\u001b[0m \u001b[0mEID\u001b[0m\u001b[0;34m,\u001b[0m \u001b[0mETYPE\u001b[0m\u001b[0;34m,\u001b[0m \u001b[0mis_all\u001b[0m\u001b[0;34m,\u001b[0m \u001b[0mNID\u001b[0m\u001b[0;34m\u001b[0m\u001b[0;34m\u001b[0m\u001b[0m\n",
            "\u001b[0;32m/usr/local/lib/python3.10/dist-packages/dgl/graphbolt/__init__.py\u001b[0m in \u001b[0;36m<module>\u001b[0;34m\u001b[0m\n\u001b[1;32m      6\u001b[0m \u001b[0;34m\u001b[0m\u001b[0m\n\u001b[1;32m      7\u001b[0m \u001b[0;32mfrom\u001b[0m \u001b[0;34m.\u001b[0m\u001b[0;34m.\u001b[0m\u001b[0m_ffi\u001b[0m \u001b[0;32mimport\u001b[0m \u001b[0mlibinfo\u001b[0m\u001b[0;34m\u001b[0m\u001b[0;34m\u001b[0m\u001b[0m\n\u001b[0;32m----> 8\u001b[0;31m \u001b[0;32mfrom\u001b[0m \u001b[0;34m.\u001b[0m\u001b[0mbase\u001b[0m \u001b[0;32mimport\u001b[0m \u001b[0;34m*\u001b[0m\u001b[0;34m\u001b[0m\u001b[0;34m\u001b[0m\u001b[0m\n\u001b[0m\u001b[1;32m      9\u001b[0m \u001b[0;32mfrom\u001b[0m \u001b[0;34m.\u001b[0m\u001b[0mminibatch\u001b[0m \u001b[0;32mimport\u001b[0m \u001b[0;34m*\u001b[0m\u001b[0;34m\u001b[0m\u001b[0;34m\u001b[0m\u001b[0m\n\u001b[1;32m     10\u001b[0m \u001b[0;32mfrom\u001b[0m \u001b[0;34m.\u001b[0m\u001b[0mdataloader\u001b[0m \u001b[0;32mimport\u001b[0m \u001b[0;34m*\u001b[0m\u001b[0;34m\u001b[0m\u001b[0;34m\u001b[0m\u001b[0m\n",
            "\u001b[0;32m/usr/local/lib/python3.10/dist-packages/dgl/graphbolt/base.py\u001b[0m in \u001b[0;36m<module>\u001b[0;34m\u001b[0m\n\u001b[1;32m      6\u001b[0m \u001b[0;32mimport\u001b[0m \u001b[0mtorch\u001b[0m\u001b[0;34m\u001b[0m\u001b[0;34m\u001b[0m\u001b[0m\n\u001b[1;32m      7\u001b[0m \u001b[0;32mfrom\u001b[0m \u001b[0mtorch\u001b[0m\u001b[0;34m.\u001b[0m\u001b[0mutils\u001b[0m\u001b[0;34m.\u001b[0m\u001b[0mdata\u001b[0m \u001b[0;32mimport\u001b[0m \u001b[0mfunctional_datapipe\u001b[0m\u001b[0;34m\u001b[0m\u001b[0;34m\u001b[0m\u001b[0m\n\u001b[0;32m----> 8\u001b[0;31m \u001b[0;32mfrom\u001b[0m \u001b[0mtorchdata\u001b[0m\u001b[0;34m.\u001b[0m\u001b[0mdatapipes\u001b[0m\u001b[0;34m.\u001b[0m\u001b[0miter\u001b[0m \u001b[0;32mimport\u001b[0m \u001b[0mIterDataPipe\u001b[0m\u001b[0;34m\u001b[0m\u001b[0;34m\u001b[0m\u001b[0m\n\u001b[0m\u001b[1;32m      9\u001b[0m \u001b[0;34m\u001b[0m\u001b[0m\n\u001b[1;32m     10\u001b[0m \u001b[0;32mfrom\u001b[0m \u001b[0;34m.\u001b[0m\u001b[0;34m.\u001b[0m\u001b[0mutils\u001b[0m \u001b[0;32mimport\u001b[0m \u001b[0mrecursive_apply\u001b[0m\u001b[0;34m\u001b[0m\u001b[0;34m\u001b[0m\u001b[0m\n",
            "\u001b[0;32m/usr/local/lib/python3.10/dist-packages/torchdata/__init__.py\u001b[0m in \u001b[0;36m<module>\u001b[0;34m\u001b[0m\n\u001b[1;32m      7\u001b[0m \u001b[0;32mfrom\u001b[0m \u001b[0mtorchdata\u001b[0m \u001b[0;32mimport\u001b[0m \u001b[0m_extension\u001b[0m  \u001b[0;31m# noqa: F401\u001b[0m\u001b[0;34m\u001b[0m\u001b[0;34m\u001b[0m\u001b[0m\n\u001b[1;32m      8\u001b[0m \u001b[0;34m\u001b[0m\u001b[0m\n\u001b[0;32m----> 9\u001b[0;31m \u001b[0;32mfrom\u001b[0m \u001b[0;34m.\u001b[0m \u001b[0;32mimport\u001b[0m \u001b[0mdatapipes\u001b[0m\u001b[0;34m\u001b[0m\u001b[0;34m\u001b[0m\u001b[0m\n\u001b[0m\u001b[1;32m     10\u001b[0m \u001b[0;34m\u001b[0m\u001b[0m\n\u001b[1;32m     11\u001b[0m \u001b[0mjanitor\u001b[0m \u001b[0;34m=\u001b[0m \u001b[0mdatapipes\u001b[0m\u001b[0;34m.\u001b[0m\u001b[0mutils\u001b[0m\u001b[0;34m.\u001b[0m\u001b[0mjanitor\u001b[0m\u001b[0;34m\u001b[0m\u001b[0;34m\u001b[0m\u001b[0m\n",
            "\u001b[0;32m/usr/local/lib/python3.10/dist-packages/torchdata/datapipes/__init__.py\u001b[0m in \u001b[0;36m<module>\u001b[0;34m\u001b[0m\n\u001b[1;32m      7\u001b[0m \u001b[0;32mfrom\u001b[0m \u001b[0mtorch\u001b[0m\u001b[0;34m.\u001b[0m\u001b[0mutils\u001b[0m\u001b[0;34m.\u001b[0m\u001b[0mdata\u001b[0m \u001b[0;32mimport\u001b[0m \u001b[0mDataChunk\u001b[0m\u001b[0;34m,\u001b[0m \u001b[0mfunctional_datapipe\u001b[0m\u001b[0;34m\u001b[0m\u001b[0;34m\u001b[0m\u001b[0m\n\u001b[1;32m      8\u001b[0m \u001b[0;34m\u001b[0m\u001b[0m\n\u001b[0;32m----> 9\u001b[0;31m \u001b[0;32mfrom\u001b[0m \u001b[0;34m.\u001b[0m \u001b[0;32mimport\u001b[0m \u001b[0miter\u001b[0m\u001b[0;34m,\u001b[0m \u001b[0mmap\u001b[0m\u001b[0;34m,\u001b[0m \u001b[0mutils\u001b[0m\u001b[0;34m\u001b[0m\u001b[0;34m\u001b[0m\u001b[0m\n\u001b[0m\u001b[1;32m     10\u001b[0m \u001b[0;34m\u001b[0m\u001b[0m\n\u001b[1;32m     11\u001b[0m \u001b[0m__all__\u001b[0m \u001b[0;34m=\u001b[0m \u001b[0;34m[\u001b[0m\u001b[0;34m\"DataChunk\"\u001b[0m\u001b[0;34m,\u001b[0m \u001b[0;34m\"functional_datapipe\"\u001b[0m\u001b[0;34m,\u001b[0m \u001b[0;34m\"iter\"\u001b[0m\u001b[0;34m,\u001b[0m \u001b[0;34m\"map\"\u001b[0m\u001b[0;34m,\u001b[0m \u001b[0;34m\"utils\"\u001b[0m\u001b[0;34m]\u001b[0m\u001b[0;34m\u001b[0m\u001b[0;34m\u001b[0m\u001b[0m\n",
            "\u001b[0;32m/usr/local/lib/python3.10/dist-packages/torchdata/datapipes/iter/__init__.py\u001b[0m in \u001b[0;36m<module>\u001b[0;34m\u001b[0m\n\u001b[1;32m     77\u001b[0m )\n\u001b[1;32m     78\u001b[0m \u001b[0;32mfrom\u001b[0m \u001b[0mtorchdata\u001b[0m\u001b[0;34m.\u001b[0m\u001b[0mdatapipes\u001b[0m\u001b[0;34m.\u001b[0m\u001b[0miter\u001b[0m\u001b[0;34m.\u001b[0m\u001b[0mutil\u001b[0m\u001b[0;34m.\u001b[0m\u001b[0mbz2fileloader\u001b[0m \u001b[0;32mimport\u001b[0m \u001b[0mBz2FileLoaderIterDataPipe\u001b[0m \u001b[0;32mas\u001b[0m \u001b[0mBz2FileLoader\u001b[0m\u001b[0;34m\u001b[0m\u001b[0;34m\u001b[0m\u001b[0m\n\u001b[0;32m---> 79\u001b[0;31m from torchdata.datapipes.iter.util.cacheholder import (\n\u001b[0m\u001b[1;32m     80\u001b[0m     \u001b[0mEndOnDiskCacheHolderIterDataPipe\u001b[0m \u001b[0;32mas\u001b[0m \u001b[0mEndOnDiskCacheHolder\u001b[0m\u001b[0;34m,\u001b[0m\u001b[0;34m\u001b[0m\u001b[0;34m\u001b[0m\u001b[0m\n\u001b[1;32m     81\u001b[0m     \u001b[0mInMemoryCacheHolderIterDataPipe\u001b[0m \u001b[0;32mas\u001b[0m \u001b[0mInMemoryCacheHolder\u001b[0m\u001b[0;34m,\u001b[0m\u001b[0;34m\u001b[0m\u001b[0;34m\u001b[0m\u001b[0m\n",
            "\u001b[0;32m/usr/local/lib/python3.10/dist-packages/torchdata/datapipes/iter/util/cacheholder.py\u001b[0m in \u001b[0;36m<module>\u001b[0;34m\u001b[0m\n\u001b[1;32m     22\u001b[0m     \u001b[0mportalocker\u001b[0m \u001b[0;34m=\u001b[0m \u001b[0;32mNone\u001b[0m\u001b[0;34m\u001b[0m\u001b[0;34m\u001b[0m\u001b[0m\n\u001b[1;32m     23\u001b[0m \u001b[0;34m\u001b[0m\u001b[0m\n\u001b[0;32m---> 24\u001b[0;31m \u001b[0;32mfrom\u001b[0m \u001b[0mtorch\u001b[0m\u001b[0;34m.\u001b[0m\u001b[0mutils\u001b[0m\u001b[0;34m.\u001b[0m\u001b[0mdata\u001b[0m\u001b[0;34m.\u001b[0m\u001b[0mdatapipes\u001b[0m\u001b[0;34m.\u001b[0m\u001b[0mutils\u001b[0m\u001b[0;34m.\u001b[0m\u001b[0mcommon\u001b[0m \u001b[0;32mimport\u001b[0m \u001b[0m_check_unpickable_fn\u001b[0m\u001b[0;34m,\u001b[0m \u001b[0mDILL_AVAILABLE\u001b[0m\u001b[0;34m\u001b[0m\u001b[0;34m\u001b[0m\u001b[0m\n\u001b[0m\u001b[1;32m     25\u001b[0m \u001b[0;34m\u001b[0m\u001b[0m\n\u001b[1;32m     26\u001b[0m \u001b[0;32mfrom\u001b[0m \u001b[0mtorch\u001b[0m\u001b[0;34m.\u001b[0m\u001b[0mutils\u001b[0m\u001b[0;34m.\u001b[0m\u001b[0mdata\u001b[0m\u001b[0;34m.\u001b[0m\u001b[0mgraph\u001b[0m \u001b[0;32mimport\u001b[0m \u001b[0mtraverse_dps\u001b[0m\u001b[0;34m\u001b[0m\u001b[0;34m\u001b[0m\u001b[0m\n",
            "\u001b[0;31mImportError\u001b[0m: cannot import name 'DILL_AVAILABLE' from 'torch.utils.data.datapipes.utils.common' (/usr/local/lib/python3.10/dist-packages/torch/utils/data/datapipes/utils/common.py)",
            "",
            "\u001b[0;31m---------------------------------------------------------------------------\u001b[0;32m\nNOTE: If your import is failing due to a missing package, you can\nmanually install dependencies using either !pip or !apt.\n\nTo view examples of installing some common dependencies, click the\n\"Open Examples\" button below.\n\u001b[0;31m---------------------------------------------------------------------------\u001b[0m\n"
          ],
          "errorDetails": {
            "actions": [
              {
                "action": "open_url",
                "actionText": "Open Examples",
                "url": "/notebooks/snippets/importing_libraries.ipynb"
              }
            ]
          }
        }
      ]
    },
    {
      "cell_type": "code",
      "source": [
        "import numpy as np\n",
        "from sklearn.metrics import accuracy_score, confusion_matrix, classification_report\n",
        "\n",
        "# Assuming y_pred_gnn and y_pred_lstm are the predicted probabilities from GNN and LSTM models\n",
        "y_pred_ensemble = (pred + y_pred_binary) / 2  # Simple averaging\n",
        "\n",
        "# Adjust threshold if needed\n",
        "threshold = 0.5\n",
        "y_pred_ensemble_binary = np.where(y_pred_ensemble >= threshold, 1, 0)\n",
        "\n",
        "# Convert y_test to binary format if it's one-hot encoded\n",
        "if len(y_test.shape) > 1 and y_test.shape[1] > 1:  # Check if y_test is one-hot encoded\n",
        "    y_test_binary = np.argmax(y_test, axis=1)\n",
        "else:\n",
        "    y_test_binary = y_test\n",
        "\n",
        "# Ensure y_test_binary and y_pred_ensemble_binary are of the same shape\n",
        "# (assuming they are 1D arrays)\n",
        "y_test_binary = np.squeeze(y_test_binary)\n",
        "\n",
        "# Take only the predictions for the positive class (assuming 1 is the positive class)\n",
        "y_pred_ensemble_binary = y_pred_ensemble_binary[:, 1]\n",
        "\n",
        "# Calculate accuracy, confusion matrix, and classification report\n",
        "ensemble_accuracy = accuracy_score(y_test_binary, y_pred_ensemble_binary)\n",
        "ensemble_conf_matrix = confusion_matrix(y_test_binary, y_pred_ensemble_binary)\n",
        "ensemble_report = classification_report(y_test_binary, y_pred_ensemble_binary)\n",
        "\n",
        "print(\"Ensemble Accuracy:\", ensemble_accuracy)\n",
        "print(\"Ensemble Confusion Matrix:\\n\", ensemble_conf_matrix)\n",
        "print(\"Ensemble Classification Report:\\n\", ensemble_report)"
      ],
      "metadata": {
        "colab": {
          "base_uri": "https://localhost:8080/"
        },
        "id": "xNA6HmpNeTI9",
        "outputId": "96f8d302-78ec-4dd1-e9f9-dd3d057d9359"
      },
      "execution_count": null,
      "outputs": [
        {
          "output_type": "stream",
          "name": "stdout",
          "text": [
            "Ensemble Accuracy: 0.3924050632911392\n",
            "Ensemble Confusion Matrix:\n",
            " [[ 0 48]\n",
            " [ 0 31]]\n",
            "Ensemble Classification Report:\n",
            "               precision    recall  f1-score   support\n",
            "\n",
            "           0       0.00      0.00      0.00        48\n",
            "           1       0.39      1.00      0.56        31\n",
            "\n",
            "    accuracy                           0.39        79\n",
            "   macro avg       0.20      0.50      0.28        79\n",
            "weighted avg       0.15      0.39      0.22        79\n",
            "\n"
          ]
        },
        {
          "output_type": "stream",
          "name": "stderr",
          "text": [
            "/usr/local/lib/python3.10/dist-packages/sklearn/metrics/_classification.py:1344: UndefinedMetricWarning: Precision and F-score are ill-defined and being set to 0.0 in labels with no predicted samples. Use `zero_division` parameter to control this behavior.\n",
            "  _warn_prf(average, modifier, msg_start, len(result))\n",
            "/usr/local/lib/python3.10/dist-packages/sklearn/metrics/_classification.py:1344: UndefinedMetricWarning: Precision and F-score are ill-defined and being set to 0.0 in labels with no predicted samples. Use `zero_division` parameter to control this behavior.\n",
            "  _warn_prf(average, modifier, msg_start, len(result))\n",
            "/usr/local/lib/python3.10/dist-packages/sklearn/metrics/_classification.py:1344: UndefinedMetricWarning: Precision and F-score are ill-defined and being set to 0.0 in labels with no predicted samples. Use `zero_division` parameter to control this behavior.\n",
            "  _warn_prf(average, modifier, msg_start, len(result))\n"
          ]
        }
      ]
    },
    {
      "cell_type": "code",
      "source": [
        "import numpy as np\n",
        "import matplotlib.pyplot as plt\n",
        "import seaborn as sns\n",
        "from sklearn.metrics import confusion_matrix\n",
        "\n",
        "# Replace these values with your own\n",
        "conf_matrix2 = np.array(conf_matrix)\n",
        "# conf_matrix = np.array([[ 0 37][ 0 19]])\n",
        "classes = ['Class 0', 'Class 1']\n",
        "\n",
        "# Create a heatmap for the confusion matrix\n",
        "plt.figure(figsize=(6, 4))\n",
        "sns.set(font_scale=1.2)  # Adjust font size as needed\n",
        "sns.heatmap(conf_matrix2, annot=True, fmt=\"d\", cmap=\"Blues\", xticklabels=classes, yticklabels=classes)\n",
        "\n",
        "plt.xlabel('Predicted')\n",
        "plt.ylabel('Actual')\n",
        "plt.title('Confusion Matrix')\n",
        "plt.show()"
      ],
      "metadata": {
        "colab": {
          "base_uri": "https://localhost:8080/",
          "height": 424
        },
        "id": "Riwxezadeif8",
        "outputId": "3f421021-3579-4455-b9d1-487316bcd91f"
      },
      "execution_count": null,
      "outputs": [
        {
          "output_type": "display_data",
          "data": {
            "text/plain": [
              "<Figure size 600x400 with 2 Axes>"
            ],
            "image/png": "[encoded data removed]"
          },
          "metadata": {}
        }
      ]
    },
    {
      "cell_type": "code",
      "source": [
        "import numpy as np\n",
        "from sklearn.metrics import accuracy_score, confusion_matrix, classification_report\n",
        "\n",
        "# Assuming y_pred_gnn and y_pred_lstm are the predicted probabilities from GNN and LSTM models\n",
        "y_pred_ensemble = (pred + y_pred_binary) / 2  # Simple averaging\n",
        "\n",
        "# Adjust threshold if needed\n",
        "threshold = 0.5\n",
        "y_pred_ensemble_binary = np.where(y_pred_ensemble >= threshold, 1, 0)\n",
        "\n",
        "# Convert y_test to binary format if it's one-hot encoded\n",
        "if len(y_test.shape) > 1 and y_test.shape[1] > 1:  # Check if y_test is one-hot encoded\n",
        "    y_test_binary = np.argmax(y_test, axis=1)\n",
        "else:\n",
        "    y_test_binary = y_test\n",
        "\n",
        "# Ensure y_test_binary and y_pred_ensemble_binary are of the same shape\n",
        "# (assuming they are 1D arrays)\n",
        "y_test_binary = np.squeeze(y_test_binary)\n",
        "\n",
        "# Check for multilabel-indicator targets\n",
        "if len(np.unique(y_test_binary)) > 2:\n",
        "    y_test_binary = (y_test_binary > 0).astype(int)\n",
        "    y_pred_ensemble_binary = (y_pred_ensemble_binary > 0).astype(int)\n",
        "\n",
        "# Calculate accuracy, confusion matrix, and classification report\n",
        "ensemble_accuracy = accuracy_score(y_test_binary, y_pred_ensemble_binary)\n",
        "ensemble_conf_matrix = confusion_matrix(y_test_binary, y_pred_ensemble_binary)\n",
        "ensemble_report = classification_report(y_test_binary, y_pred_ensemble_binary)\n",
        "\n",
        "print(\"Ensemble Accuracy:\", ensemble_accuracy)\n",
        "print(\"Ensemble Confusion Matrix:\\n\", ensemble_conf_matrix)\n",
        "print(\"Ensemble Classification Report:\\n\", ensemble_report)"
      ],
      "metadata": {
        "colab": {
          "base_uri": "https://localhost:8080/",
          "height": 356
        },
        "id": "Kxfl9mljgaWt",
        "outputId": "a709d3a1-a7d0-435c-f39e-0dac8e56dcf9"
      },
      "execution_count": null,
      "outputs": [
        {
          "output_type": "error",
          "ename": "ValueError",
          "evalue": "Classification metrics can't handle a mix of binary and multilabel-indicator targets",
          "traceback": [
            "\u001b[0;31m---------------------------------------------------------------------------\u001b[0m",
            "\u001b[0;31mValueError\u001b[0m                                Traceback (most recent call last)",
            "\u001b[0;32m<ipython-input-117-109bf571eda8>\u001b[0m in \u001b[0;36m<cell line: 27>\u001b[0;34m()\u001b[0m\n\u001b[1;32m     25\u001b[0m \u001b[0;34m\u001b[0m\u001b[0m\n\u001b[1;32m     26\u001b[0m \u001b[0;31m# Calculate accuracy, confusion matrix, and classification report\u001b[0m\u001b[0;34m\u001b[0m\u001b[0;34m\u001b[0m\u001b[0m\n\u001b[0;32m---> 27\u001b[0;31m \u001b[0mensemble_accuracy\u001b[0m \u001b[0;34m=\u001b[0m \u001b[0maccuracy_score\u001b[0m\u001b[0;34m(\u001b[0m\u001b[0my_test_binary\u001b[0m\u001b[0;34m,\u001b[0m \u001b[0my_pred_ensemble_binary\u001b[0m\u001b[0;34m)\u001b[0m\u001b[0;34m\u001b[0m\u001b[0;34m\u001b[0m\u001b[0m\n\u001b[0m\u001b[1;32m     28\u001b[0m \u001b[0mensemble_conf_matrix\u001b[0m \u001b[0;34m=\u001b[0m \u001b[0mconfusion_matrix\u001b[0m\u001b[0;34m(\u001b[0m\u001b[0my_test_binary\u001b[0m\u001b[0;34m,\u001b[0m \u001b[0my_pred_ensemble_binary\u001b[0m\u001b[0;34m)\u001b[0m\u001b[0;34m\u001b[0m\u001b[0;34m\u001b[0m\u001b[0m\n\u001b[1;32m     29\u001b[0m \u001b[0mensemble_report\u001b[0m \u001b[0;34m=\u001b[0m \u001b[0mclassification_report\u001b[0m\u001b[0;34m(\u001b[0m\u001b[0my_test_binary\u001b[0m\u001b[0;34m,\u001b[0m \u001b[0my_pred_ensemble_binary\u001b[0m\u001b[0;34m)\u001b[0m\u001b[0;34m\u001b[0m\u001b[0;34m\u001b[0m\u001b[0m\n",
            "\u001b[0;32m/usr/local/lib/python3.10/dist-packages/sklearn/utils/_param_validation.py\u001b[0m in \u001b[0;36mwrapper\u001b[0;34m(*args, **kwargs)\u001b[0m\n\u001b[1;32m    190\u001b[0m \u001b[0;34m\u001b[0m\u001b[0m\n\u001b[1;32m    191\u001b[0m             \u001b[0;32mtry\u001b[0m\u001b[0;34m:\u001b[0m\u001b[0;34m\u001b[0m\u001b[0;34m\u001b[0m\u001b[0m\n\u001b[0;32m--> 192\u001b[0;31m                 \u001b[0;32mreturn\u001b[0m \u001b[0mfunc\u001b[0m\u001b[0;34m(\u001b[0m\u001b[0;34m*\u001b[0m\u001b[0margs\u001b[0m\u001b[0;34m,\u001b[0m \u001b[0;34m**\u001b[0m\u001b[0mkwargs\u001b[0m\u001b[0;34m)\u001b[0m\u001b[0;34m\u001b[0m\u001b[0;34m\u001b[0m\u001b[0m\n\u001b[0m\u001b[1;32m    193\u001b[0m             \u001b[0;32mexcept\u001b[0m \u001b[0mInvalidParameterError\u001b[0m \u001b[0;32mas\u001b[0m \u001b[0me\u001b[0m\u001b[0;34m:\u001b[0m\u001b[0;34m\u001b[0m\u001b[0;34m\u001b[0m\u001b[0m\n\u001b[1;32m    194\u001b[0m                 \u001b[0;31m# When the function is just a wrapper around an estimator, we allow\u001b[0m\u001b[0;34m\u001b[0m\u001b[0;34m\u001b[0m\u001b[0m\n",
            "\u001b[0;32m/usr/local/lib/python3.10/dist-packages/sklearn/metrics/_classification.py\u001b[0m in \u001b[0;36maccuracy_score\u001b[0;34m(y_true, y_pred, normalize, sample_weight)\u001b[0m\n\u001b[1;32m    219\u001b[0m \u001b[0;34m\u001b[0m\u001b[0m\n\u001b[1;32m    220\u001b[0m     \u001b[0;31m# Compute accuracy for each possible representation\u001b[0m\u001b[0;34m\u001b[0m\u001b[0;34m\u001b[0m\u001b[0m\n\u001b[0;32m--> 221\u001b[0;31m     \u001b[0my_type\u001b[0m\u001b[0;34m,\u001b[0m \u001b[0my_true\u001b[0m\u001b[0;34m,\u001b[0m \u001b[0my_pred\u001b[0m \u001b[0;34m=\u001b[0m \u001b[0m_check_targets\u001b[0m\u001b[0;34m(\u001b[0m\u001b[0my_true\u001b[0m\u001b[0;34m,\u001b[0m \u001b[0my_pred\u001b[0m\u001b[0;34m)\u001b[0m\u001b[0;34m\u001b[0m\u001b[0;34m\u001b[0m\u001b[0m\n\u001b[0m\u001b[1;32m    222\u001b[0m     \u001b[0mcheck_consistent_length\u001b[0m\u001b[0;34m(\u001b[0m\u001b[0my_true\u001b[0m\u001b[0;34m,\u001b[0m \u001b[0my_pred\u001b[0m\u001b[0;34m,\u001b[0m \u001b[0msample_weight\u001b[0m\u001b[0;34m)\u001b[0m\u001b[0;34m\u001b[0m\u001b[0;34m\u001b[0m\u001b[0m\n\u001b[1;32m    223\u001b[0m     \u001b[0;32mif\u001b[0m \u001b[0my_type\u001b[0m\u001b[0;34m.\u001b[0m\u001b[0mstartswith\u001b[0m\u001b[0;34m(\u001b[0m\u001b[0;34m\"multilabel\"\u001b[0m\u001b[0;34m)\u001b[0m\u001b[0;34m:\u001b[0m\u001b[0;34m\u001b[0m\u001b[0;34m\u001b[0m\u001b[0m\n",
            "\u001b[0;32m/usr/local/lib/python3.10/dist-packages/sklearn/metrics/_classification.py\u001b[0m in \u001b[0;36m_check_targets\u001b[0;34m(y_true, y_pred)\u001b[0m\n\u001b[1;32m     93\u001b[0m \u001b[0;34m\u001b[0m\u001b[0m\n\u001b[1;32m     94\u001b[0m     \u001b[0;32mif\u001b[0m \u001b[0mlen\u001b[0m\u001b[0;34m(\u001b[0m\u001b[0my_type\u001b[0m\u001b[0;34m)\u001b[0m \u001b[0;34m>\u001b[0m \u001b[0;36m1\u001b[0m\u001b[0;34m:\u001b[0m\u001b[0;34m\u001b[0m\u001b[0;34m\u001b[0m\u001b[0m\n\u001b[0;32m---> 95\u001b[0;31m         raise ValueError(\n\u001b[0m\u001b[1;32m     96\u001b[0m             \"Classification metrics can't handle a mix of {0} and {1} targets\".format(\n\u001b[1;32m     97\u001b[0m                 \u001b[0mtype_true\u001b[0m\u001b[0;34m,\u001b[0m \u001b[0mtype_pred\u001b[0m\u001b[0;34m\u001b[0m\u001b[0;34m\u001b[0m\u001b[0m\n",
            "\u001b[0;31mValueError\u001b[0m: Classification metrics can't handle a mix of binary and multilabel-indicator targets"
          ]
        }
      ]
    }
  ],
  "metadata": {
    "accelerator": "GPU",
    "colab": {
      "provenance": [],
      "gpuType": "T4",
      "include_colab_link": true
    },
    "kernelspec": {
      "display_name": "Python 3",
      "name": "python3"
    },
    "language_info": {
      "name": "python"
    },
    "widgets": {
      "application/vnd.jupyter.widget-state+json": {
        "a44780961737423da036aefd9f90cc9e": {
          "model_module": "@jupyter-widgets/controls",
          "model_name": "HBoxModel",
          "model_module_version": "1.5.0",
          "state": {
            "_dom_classes": [],
            "_model_module": "@jupyter-widgets/controls",
            "_model_module_version": "1.5.0",
            "_model_name": "HBoxModel",
            "_view_count": null,
            "_view_module": "@jupyter-widgets/controls",
            "_view_module_version": "1.5.0",
            "_view_name": "HBoxView",
            "box_style": "",
            "children": [
              "IPY_MODEL_ccabaf3bebc6491189c15dce3ad3ecd3",
              "IPY_MODEL_c6bfa82b52ce451ca2d3876395239a79",
              "IPY_MODEL_0509a82ef1184ec1b324b28a5f7969d8"
            ],
            "layout": "IPY_MODEL_81a0b8d3a70649e2aeb4cd3858c5ef42"
          }
        },
        "ccabaf3bebc6491189c15dce3ad3ecd3": {
          "model_module": "@jupyter-widgets/controls",
          "model_name": "HTMLModel",
          "model_module_version": "1.5.0",
          "state": {
            "_dom_classes": [],
            "_model_module": "@jupyter-widgets/controls",
            "_model_module_version": "1.5.0",
            "_model_name": "HTMLModel",
            "_view_count": null,
            "_view_module": "@jupyter-widgets/controls",
            "_view_module_version": "1.5.0",
            "_view_name": "HTMLView",
            "description": "",
            "description_tooltip": null,
            "layout": "IPY_MODEL_c86b6273931d47ed8e17f2d9a6e7b98d",
            "placeholder": "​",
            "style": "IPY_MODEL_3c442f6ca7a34ee48a7bd5ae9f0ec06d",
            "value": "tokenizer_config.json: 100%"
          }
        },
        "c6bfa82b52ce451ca2d3876395239a79": {
          "model_module": "@jupyter-widgets/controls",
          "model_name": "FloatProgressModel",
          "model_module_version": "1.5.0",
          "state": {
            "_dom_classes": [],
            "_model_module": "@jupyter-widgets/controls",
            "_model_module_version": "1.5.0",
            "_model_name": "FloatProgressModel",
            "_view_count": null,
            "_view_module": "@jupyter-widgets/controls",
            "_view_module_version": "1.5.0",
            "_view_name": "ProgressView",
            "bar_style": "success",
            "description": "",
            "description_tooltip": null,
            "layout": "IPY_MODEL_d4efab6be75e4ec7afc4cc8258414a2f",
            "max": 48,
            "min": 0,
            "orientation": "horizontal",
            "style": "IPY_MODEL_29e8e659409a43e0a310b71ff5115d60",
            "value": 48
          }
        },
        "0509a82ef1184ec1b324b28a5f7969d8": {
          "model_module": "@jupyter-widgets/controls",
          "model_name": "HTMLModel",
          "model_module_version": "1.5.0",
          "state": {
            "_dom_classes": [],
            "_model_module": "@jupyter-widgets/controls",
            "_model_module_version": "1.5.0",
            "_model_name": "HTMLModel",
            "_view_count": null,
            "_view_module": "@jupyter-widgets/controls",
            "_view_module_version": "1.5.0",
            "_view_name": "HTMLView",
            "description": "",
            "description_tooltip": null,
            "layout": "IPY_MODEL_7ec63ed9c66a472b9d75b1605db0988f",
            "placeholder": "​",
            "style": "IPY_MODEL_82aa6d6b34b34094a90327cd75f465f0",
            "value": " 48.0/48.0 [00:00&lt;00:00, 1.16kB/s]"
          }
        },
        "81a0b8d3a70649e2aeb4cd3858c5ef42": {
          "model_module": "@jupyter-widgets/base",
          "model_name": "LayoutModel",
          "model_module_version": "1.2.0",
          "state": {
            "_model_module": "@jupyter-widgets/base",
            "_model_module_version": "1.2.0",
            "_model_name": "LayoutModel",
            "_view_count": null,
            "_view_module": "@jupyter-widgets/base",
            "_view_module_version": "1.2.0",
            "_view_name": "LayoutView",
            "align_content": null,
            "align_items": null,
            "align_self": null,
            "border": null,
            "bottom": null,
            "display": null,
            "flex": null,
            "flex_flow": null,
            "grid_area": null,
            "grid_auto_columns": null,
            "grid_auto_flow": null,
            "grid_auto_rows": null,
            "grid_column": null,
            "grid_gap": null,
            "grid_row": null,
            "grid_template_areas": null,
            "grid_template_columns": null,
            "grid_template_rows": null,
            "height": null,
            "justify_content": null,
            "justify_items": null,
            "left": null,
            "margin": null,
            "max_height": null,
            "max_width": null,
            "min_height": null,
            "min_width": null,
            "object_fit": null,
            "object_position": null,
            "order": null,
            "overflow": null,
            "overflow_x": null,
            "overflow_y": null,
            "padding": null,
            "right": null,
            "top": null,
            "visibility": null,
            "width": null
          }
        },
        "c86b6273931d47ed8e17f2d9a6e7b98d": {
          "model_module": "@jupyter-widgets/base",
          "model_name": "LayoutModel",
          "model_module_version": "1.2.0",
          "state": {
            "_model_module": "@jupyter-widgets/base",
            "_model_module_version": "1.2.0",
            "_model_name": "LayoutModel",
            "_view_count": null,
            "_view_module": "@jupyter-widgets/base",
            "_view_module_version": "1.2.0",
            "_view_name": "LayoutView",
            "align_content": null,
            "align_items": null,
            "align_self": null,
            "border": null,
            "bottom": null,
            "display": null,
            "flex": null,
            "flex_flow": null,
            "grid_area": null,
            "grid_auto_columns": null,
            "grid_auto_flow": null,
            "grid_auto_rows": null,
            "grid_column": null,
            "grid_gap": null,
            "grid_row": null,
            "grid_template_areas": null,
            "grid_template_columns": null,
            "grid_template_rows": null,
            "height": null,
            "justify_content": null,
            "justify_items": null,
            "left": null,
            "margin": null,
            "max_height": null,
            "max_width": null,
            "min_height": null,
            "min_width": null,
            "object_fit": null,
            "object_position": null,
            "order": null,
            "overflow": null,
            "overflow_x": null,
            "overflow_y": null,
            "padding": null,
            "right": null,
            "top": null,
            "visibility": null,
            "width": null
          }
        },
        "3c442f6ca7a34ee48a7bd5ae9f0ec06d": {
          "model_module": "@jupyter-widgets/controls",
          "model_name": "DescriptionStyleModel",
          "model_module_version": "1.5.0",
          "state": {
            "_model_module": "@jupyter-widgets/controls",
            "_model_module_version": "1.5.0",
            "_model_name": "DescriptionStyleModel",
            "_view_count": null,
            "_view_module": "@jupyter-widgets/base",
            "_view_module_version": "1.2.0",
            "_view_name": "StyleView",
            "description_width": ""
          }
        },
        "d4efab6be75e4ec7afc4cc8258414a2f": {
          "model_module": "@jupyter-widgets/base",
          "model_name": "LayoutModel",
          "model_module_version": "1.2.0",
          "state": {
            "_model_module": "@jupyter-widgets/base",
            "_model_module_version": "1.2.0",
            "_model_name": "LayoutModel",
            "_view_count": null,
            "_view_module": "@jupyter-widgets/base",
            "_view_module_version": "1.2.0",
            "_view_name": "LayoutView",
            "align_content": null,
            "align_items": null,
            "align_self": null,
            "border": null,
            "bottom": null,
            "display": null,
            "flex": null,
            "flex_flow": null,
            "grid_area": null,
            "grid_auto_columns": null,
            "grid_auto_flow": null,
            "grid_auto_rows": null,
            "grid_column": null,
            "grid_gap": null,
            "grid_row": null,
            "grid_template_areas": null,
            "grid_template_columns": null,
            "grid_template_rows": null,
            "height": null,
            "justify_content": null,
            "justify_items": null,
            "left": null,
            "margin": null,
            "max_height": null,
            "max_width": null,
            "min_height": null,
            "min_width": null,
            "object_fit": null,
            "object_position": null,
            "order": null,
            "overflow": null,
            "overflow_x": null,
            "overflow_y": null,
            "padding": null,
            "right": null,
            "top": null,
            "visibility": null,
            "width": null
          }
        },
        "29e8e659409a43e0a310b71ff5115d60": {
          "model_module": "@jupyter-widgets/controls",
          "model_name": "ProgressStyleModel",
          "model_module_version": "1.5.0",
          "state": {
            "_model_module": "@jupyter-widgets/controls",
            "_model_module_version": "1.5.0",
            "_model_name": "ProgressStyleModel",
            "_view_count": null,
            "_view_module": "@jupyter-widgets/base",
            "_view_module_version": "1.2.0",
            "_view_name": "StyleView",
            "bar_color": null,
            "description_width": ""
          }
        },
        "7ec63ed9c66a472b9d75b1605db0988f": {
          "model_module": "@jupyter-widgets/base",
          "model_name": "LayoutModel",
          "model_module_version": "1.2.0",
          "state": {
            "_model_module": "@jupyter-widgets/base",
            "_model_module_version": "1.2.0",
            "_model_name": "LayoutModel",
            "_view_count": null,
            "_view_module": "@jupyter-widgets/base",
            "_view_module_version": "1.2.0",
            "_view_name": "LayoutView",
            "align_content": null,
            "align_items": null,
            "align_self": null,
            "border": null,
            "bottom": null,
            "display": null,
            "flex": null,
            "flex_flow": null,
            "grid_area": null,
            "grid_auto_columns": null,
            "grid_auto_flow": null,
            "grid_auto_rows": null,
            "grid_column": null,
            "grid_gap": null,
            "grid_row": null,
            "grid_template_areas": null,
            "grid_template_columns": null,
            "grid_template_rows": null,
            "height": null,
            "justify_content": null,
            "justify_items": null,
            "left": null,
            "margin": null,
            "max_height": null,
            "max_width": null,
            "min_height": null,
            "min_width": null,
            "object_fit": null,
            "object_position": null,
            "order": null,
            "overflow": null,
            "overflow_x": null,
            "overflow_y": null,
            "padding": null,
            "right": null,
            "top": null,
            "visibility": null,
            "width": null
          }
        },
        "82aa6d6b34b34094a90327cd75f465f0": {
          "model_module": "@jupyter-widgets/controls",
          "model_name": "DescriptionStyleModel",
          "model_module_version": "1.5.0",
          "state": {
            "_model_module": "@jupyter-widgets/controls",
            "_model_module_version": "1.5.0",
            "_model_name": "DescriptionStyleModel",
            "_view_count": null,
            "_view_module": "@jupyter-widgets/base",
            "_view_module_version": "1.2.0",
            "_view_name": "StyleView",
            "description_width": ""
          }
        },
        "7b43fea5edae44eab23e0d0199d0d998": {
          "model_module": "@jupyter-widgets/controls",
          "model_name": "HBoxModel",
          "model_module_version": "1.5.0",
          "state": {
            "_dom_classes": [],
            "_model_module": "@jupyter-widgets/controls",
            "_model_module_version": "1.5.0",
            "_model_name": "HBoxModel",
            "_view_count": null,
            "_view_module": "@jupyter-widgets/controls",
            "_view_module_version": "1.5.0",
            "_view_name": "HBoxView",
            "box_style": "",
            "children": [
              "IPY_MODEL_3a45020e26d342009e9dae169e5765e7",
              "IPY_MODEL_85e0e73705ee4a8db99e05fa64683f7c",
              "IPY_MODEL_c8bad80889794e8392917222f77be517"
            ],
            "layout": "IPY_MODEL_8e8825cacf414155898e57561e139f5c"
          }
        },
        "3a45020e26d342009e9dae169e5765e7": {
          "model_module": "@jupyter-widgets/controls",
          "model_name": "HTMLModel",
          "model_module_version": "1.5.0",
          "state": {
            "_dom_classes": [],
            "_model_module": "@jupyter-widgets/controls",
            "_model_module_version": "1.5.0",
            "_model_name": "HTMLModel",
            "_view_count": null,
            "_view_module": "@jupyter-widgets/controls",
            "_view_module_version": "1.5.0",
            "_view_name": "HTMLView",
            "description": "",
            "description_tooltip": null,
            "layout": "IPY_MODEL_4e8e54862c2242469d59417757a597f9",
            "placeholder": "​",
            "style": "IPY_MODEL_00a9f8591821455e998ada4815427825",
            "value": "config.json: 100%"
          }
        },
        "85e0e73705ee4a8db99e05fa64683f7c": {
          "model_module": "@jupyter-widgets/controls",
          "model_name": "FloatProgressModel",
          "model_module_version": "1.5.0",
          "state": {
            "_dom_classes": [],
            "_model_module": "@jupyter-widgets/controls",
            "_model_module_version": "1.5.0",
            "_model_name": "FloatProgressModel",
            "_view_count": null,
            "_view_module": "@jupyter-widgets/controls",
            "_view_module_version": "1.5.0",
            "_view_name": "ProgressView",
            "bar_style": "success",
            "description": "",
            "description_tooltip": null,
            "layout": "IPY_MODEL_a996de72ba2542839bba5c359873bec2",
            "max": 570,
            "min": 0,
            "orientation": "horizontal",
            "style": "IPY_MODEL_cfca88ace068428683fccece6e204a22",
            "value": 570
          }
        },
        "c8bad80889794e8392917222f77be517": {
          "model_module": "@jupyter-widgets/controls",
          "model_name": "HTMLModel",
          "model_module_version": "1.5.0",
          "state": {
            "_dom_classes": [],
            "_model_module": "@jupyter-widgets/controls",
            "_model_module_version": "1.5.0",
            "_model_name": "HTMLModel",
            "_view_count": null,
            "_view_module": "@jupyter-widgets/controls",
            "_view_module_version": "1.5.0",
            "_view_name": "HTMLView",
            "description": "",
            "description_tooltip": null,
            "layout": "IPY_MODEL_80c0750e4a19411ca91fee4fe670f9e6",
            "placeholder": "​",
            "style": "IPY_MODEL_3137175520e442f7b5b7492be02cfa7d",
            "value": " 570/570 [00:00&lt;00:00, 10.3kB/s]"
          }
        },
        "8e8825cacf414155898e57561e139f5c": {
          "model_module": "@jupyter-widgets/base",
          "model_name": "LayoutModel",
          "model_module_version": "1.2.0",
          "state": {
            "_model_module": "@jupyter-widgets/base",
            "_model_module_version": "1.2.0",
            "_model_name": "LayoutModel",
            "_view_count": null,
            "_view_module": "@jupyter-widgets/base",
            "_view_module_version": "1.2.0",
            "_view_name": "LayoutView",
            "align_content": null,
            "align_items": null,
            "align_self": null,
            "border": null,
            "bottom": null,
            "display": null,
            "flex": null,
            "flex_flow": null,
            "grid_area": null,
            "grid_auto_columns": null,
            "grid_auto_flow": null,
            "grid_auto_rows": null,
            "grid_column": null,
            "grid_gap": null,
            "grid_row": null,
            "grid_template_areas": null,
            "grid_template_columns": null,
            "grid_template_rows": null,
            "height": null,
            "justify_content": null,
            "justify_items": null,
            "left": null,
            "margin": null,
            "max_height": null,
            "max_width": null,
            "min_height": null,
            "min_width": null,
            "object_fit": null,
            "object_position": null,
            "order": null,
            "overflow": null,
            "overflow_x": null,
            "overflow_y": null,
            "padding": null,
            "right": null,
            "top": null,
            "visibility": null,
            "width": null
          }
        },
        "4e8e54862c2242469d59417757a597f9": {
          "model_module": "@jupyter-widgets/base",
          "model_name": "LayoutModel",
          "model_module_version": "1.2.0",
          "state": {
            "_model_module": "@jupyter-widgets/base",
            "_model_module_version": "1.2.0",
            "_model_name": "LayoutModel",
            "_view_count": null,
            "_view_module": "@jupyter-widgets/base",
            "_view_module_version": "1.2.0",
            "_view_name": "LayoutView",
            "align_content": null,
            "align_items": null,
            "align_self": null,
            "border": null,
            "bottom": null,
            "display": null,
            "flex": null,
            "flex_flow": null,
            "grid_area": null,
            "grid_auto_columns": null,
            "grid_auto_flow": null,
            "grid_auto_rows": null,
            "grid_column": null,
            "grid_gap": null,
            "grid_row": null,
            "grid_template_areas": null,
            "grid_template_columns": null,
            "grid_template_rows": null,
            "height": null,
            "justify_content": null,
            "justify_items": null,
            "left": null,
            "margin": null,
            "max_height": null,
            "max_width": null,
            "min_height": null,
            "min_width": null,
            "object_fit": null,
            "object_position": null,
            "order": null,
            "overflow": null,
            "overflow_x": null,
            "overflow_y": null,
            "padding": null,
            "right": null,
            "top": null,
            "visibility": null,
            "width": null
          }
        },
        "00a9f8591821455e998ada4815427825": {
          "model_module": "@jupyter-widgets/controls",
          "model_name": "DescriptionStyleModel",
          "model_module_version": "1.5.0",
          "state": {
            "_model_module": "@jupyter-widgets/controls",
            "_model_module_version": "1.5.0",
            "_model_name": "DescriptionStyleModel",
            "_view_count": null,
            "_view_module": "@jupyter-widgets/base",
            "_view_module_version": "1.2.0",
            "_view_name": "StyleView",
            "description_width": ""
          }
        },
        "a996de72ba2542839bba5c359873bec2": {
          "model_module": "@jupyter-widgets/base",
          "model_name": "LayoutModel",
          "model_module_version": "1.2.0",
          "state": {
            "_model_module": "@jupyter-widgets/base",
            "_model_module_version": "1.2.0",
            "_model_name": "LayoutModel",
            "_view_count": null,
            "_view_module": "@jupyter-widgets/base",
            "_view_module_version": "1.2.0",
            "_view_name": "LayoutView",
            "align_content": null,
            "align_items": null,
            "align_self": null,
            "border": null,
            "bottom": null,
            "display": null,
            "flex": null,
            "flex_flow": null,
            "grid_area": null,
            "grid_auto_columns": null,
            "grid_auto_flow": null,
            "grid_auto_rows": null,
            "grid_column": null,
            "grid_gap": null,
            "grid_row": null,
            "grid_template_areas": null,
            "grid_template_columns": null,
            "grid_template_rows": null,
            "height": null,
            "justify_content": null,
            "justify_items": null,
            "left": null,
            "margin": null,
            "max_height": null,
            "max_width": null,
            "min_height": null,
            "min_width": null,
            "object_fit": null,
            "object_position": null,
            "order": null,
            "overflow": null,
            "overflow_x": null,
            "overflow_y": null,
            "padding": null,
            "right": null,
            "top": null,
            "visibility": null,
            "width": null
          }
        },
        "cfca88ace068428683fccece6e204a22": {
          "model_module": "@jupyter-widgets/controls",
          "model_name": "ProgressStyleModel",
          "model_module_version": "1.5.0",
          "state": {
            "_model_module": "@jupyter-widgets/controls",
            "_model_module_version": "1.5.0",
            "_model_name": "ProgressStyleModel",
            "_view_count": null,
            "_view_module": "@jupyter-widgets/base",
            "_view_module_version": "1.2.0",
            "_view_name": "StyleView",
            "bar_color": null,
            "description_width": ""
          }
        },
        "80c0750e4a19411ca91fee4fe670f9e6": {
          "model_module": "@jupyter-widgets/base",
          "model_name": "LayoutModel",
          "model_module_version": "1.2.0",
          "state": {
            "_model_module": "@jupyter-widgets/base",
            "_model_module_version": "1.2.0",
            "_model_name": "LayoutModel",
            "_view_count": null,
            "_view_module": "@jupyter-widgets/base",
            "_view_module_version": "1.2.0",
            "_view_name": "LayoutView",
            "align_content": null,
            "align_items": null,
            "align_self": null,
            "border": null,
            "bottom": null,
            "display": null,
            "flex": null,
            "flex_flow": null,
            "grid_area": null,
            "grid_auto_columns": null,
            "grid_auto_flow": null,
            "grid_auto_rows": null,
            "grid_column": null,
            "grid_gap": null,
            "grid_row": null,
            "grid_template_areas": null,
            "grid_template_columns": null,
            "grid_template_rows": null,
            "height": null,
            "justify_content": null,
            "justify_items": null,
            "left": null,
            "margin": null,
            "max_height": null,
            "max_width": null,
            "min_height": null,
            "min_width": null,
            "object_fit": null,
            "object_position": null,
            "order": null,
            "overflow": null,
            "overflow_x": null,
            "overflow_y": null,
            "padding": null,
            "right": null,
            "top": null,
            "visibility": null,
            "width": null
          }
        },
        "3137175520e442f7b5b7492be02cfa7d": {
          "model_module": "@jupyter-widgets/controls",
          "model_name": "DescriptionStyleModel",
          "model_module_version": "1.5.0",
          "state": {
            "_model_module": "@jupyter-widgets/controls",
            "_model_module_version": "1.5.0",
            "_model_name": "DescriptionStyleModel",
            "_view_count": null,
            "_view_module": "@jupyter-widgets/base",
            "_view_module_version": "1.2.0",
            "_view_name": "StyleView",
            "description_width": ""
          }
        },
        "29596abd38294f8e9a86d8574f07a0cd": {
          "model_module": "@jupyter-widgets/controls",
          "model_name": "HBoxModel",
          "model_module_version": "1.5.0",
          "state": {
            "_dom_classes": [],
            "_model_module": "@jupyter-widgets/controls",
            "_model_module_version": "1.5.0",
            "_model_name": "HBoxModel",
            "_view_count": null,
            "_view_module": "@jupyter-widgets/controls",
            "_view_module_version": "1.5.0",
            "_view_name": "HBoxView",
            "box_style": "",
            "children": [
              "IPY_MODEL_b9c03adf3d9e417fba2edcf774b00174",
              "IPY_MODEL_22a1a587d1d04006a8a410358d0646d6",
              "IPY_MODEL_b1ca6f3313984b1aacb769676ea44804"
            ],
            "layout": "IPY_MODEL_1150318c1aa442bf85ce7aee1043c6ec"
          }
        },
        "b9c03adf3d9e417fba2edcf774b00174": {
          "model_module": "@jupyter-widgets/controls",
          "model_name": "HTMLModel",
          "model_module_version": "1.5.0",
          "state": {
            "_dom_classes": [],
            "_model_module": "@jupyter-widgets/controls",
            "_model_module_version": "1.5.0",
            "_model_name": "HTMLModel",
            "_view_count": null,
            "_view_module": "@jupyter-widgets/controls",
            "_view_module_version": "1.5.0",
            "_view_name": "HTMLView",
            "description": "",
            "description_tooltip": null,
            "layout": "IPY_MODEL_f50fe31e764e4be2baf6c749611bb1dd",
            "placeholder": "​",
            "style": "IPY_MODEL_b50a13b323384c49acfb8bc6c391e401",
            "value": "vocab.txt: 100%"
          }
        },
        "22a1a587d1d04006a8a410358d0646d6": {
          "model_module": "@jupyter-widgets/controls",
          "model_name": "FloatProgressModel",
          "model_module_version": "1.5.0",
          "state": {
            "_dom_classes": [],
            "_model_module": "@jupyter-widgets/controls",
            "_model_module_version": "1.5.0",
            "_model_name": "FloatProgressModel",
            "_view_count": null,
            "_view_module": "@jupyter-widgets/controls",
            "_view_module_version": "1.5.0",
            "_view_name": "ProgressView",
            "bar_style": "success",
            "description": "",
            "description_tooltip": null,
            "layout": "IPY_MODEL_1f92afc5be0344c489116da7946db02f",
            "max": 231508,
            "min": 0,
            "orientation": "horizontal",
            "style": "IPY_MODEL_de67af1fcbcf4a72a4b546db5d357047",
            "value": 231508
          }
        },
        "b1ca6f3313984b1aacb769676ea44804": {
          "model_module": "@jupyter-widgets/controls",
          "model_name": "HTMLModel",
          "model_module_version": "1.5.0",
          "state": {
            "_dom_classes": [],
            "_model_module": "@jupyter-widgets/controls",
            "_model_module_version": "1.5.0",
            "_model_name": "HTMLModel",
            "_view_count": null,
            "_view_module": "@jupyter-widgets/controls",
            "_view_module_version": "1.5.0",
            "_view_name": "HTMLView",
            "description": "",
            "description_tooltip": null,
            "layout": "IPY_MODEL_dc88361620c241f6952542e77fa80f09",
            "placeholder": "​",
            "style": "IPY_MODEL_5d7a0a1689be413ab755d051003ea01b",
            "value": " 232k/232k [00:00&lt;00:00, 3.38MB/s]"
          }
        },
        "1150318c1aa442bf85ce7aee1043c6ec": {
          "model_module": "@jupyter-widgets/base",
          "model_name": "LayoutModel",
          "model_module_version": "1.2.0",
          "state": {
            "_model_module": "@jupyter-widgets/base",
            "_model_module_version": "1.2.0",
            "_model_name": "LayoutModel",
            "_view_count": null,
            "_view_module": "@jupyter-widgets/base",
            "_view_module_version": "1.2.0",
            "_view_name": "LayoutView",
            "align_content": null,
            "align_items": null,
            "align_self": null,
            "border": null,
            "bottom": null,
            "display": null,
            "flex": null,
            "flex_flow": null,
            "grid_area": null,
            "grid_auto_columns": null,
            "grid_auto_flow": null,
            "grid_auto_rows": null,
            "grid_column": null,
            "grid_gap": null,
            "grid_row": null,
            "grid_template_areas": null,
            "grid_template_columns": null,
            "grid_template_rows": null,
            "height": null,
            "justify_content": null,
            "justify_items": null,
            "left": null,
            "margin": null,
            "max_height": null,
            "max_width": null,
            "min_height": null,
            "min_width": null,
            "object_fit": null,
            "object_position": null,
            "order": null,
            "overflow": null,
            "overflow_x": null,
            "overflow_y": null,
            "padding": null,
            "right": null,
            "top": null,
            "visibility": null,
            "width": null
          }
        },
        "f50fe31e764e4be2baf6c749611bb1dd": {
          "model_module": "@jupyter-widgets/base",
          "model_name": "LayoutModel",
          "model_module_version": "1.2.0",
          "state": {
            "_model_module": "@jupyter-widgets/base",
            "_model_module_version": "1.2.0",
            "_model_name": "LayoutModel",
            "_view_count": null,
            "_view_module": "@jupyter-widgets/base",
            "_view_module_version": "1.2.0",
            "_view_name": "LayoutView",
            "align_content": null,
            "align_items": null,
            "align_self": null,
            "border": null,
            "bottom": null,
            "display": null,
            "flex": null,
            "flex_flow": null,
            "grid_area": null,
            "grid_auto_columns": null,
            "grid_auto_flow": null,
            "grid_auto_rows": null,
            "grid_column": null,
            "grid_gap": null,
            "grid_row": null,
            "grid_template_areas": null,
            "grid_template_columns": null,
            "grid_template_rows": null,
            "height": null,
            "justify_content": null,
            "justify_items": null,
            "left": null,
            "margin": null,
            "max_height": null,
            "max_width": null,
            "min_height": null,
            "min_width": null,
            "object_fit": null,
            "object_position": null,
            "order": null,
            "overflow": null,
            "overflow_x": null,
            "overflow_y": null,
            "padding": null,
            "right": null,
            "top": null,
            "visibility": null,
            "width": null
          }
        },
        "b50a13b323384c49acfb8bc6c391e401": {
          "model_module": "@jupyter-widgets/controls",
          "model_name": "DescriptionStyleModel",
          "model_module_version": "1.5.0",
          "state": {
            "_model_module": "@jupyter-widgets/controls",
            "_model_module_version": "1.5.0",
            "_model_name": "DescriptionStyleModel",
            "_view_count": null,
            "_view_module": "@jupyter-widgets/base",
            "_view_module_version": "1.2.0",
            "_view_name": "StyleView",
            "description_width": ""
          }
        },
        "1f92afc5be0344c489116da7946db02f": {
          "model_module": "@jupyter-widgets/base",
          "model_name": "LayoutModel",
          "model_module_version": "1.2.0",
          "state": {
            "_model_module": "@jupyter-widgets/base",
            "_model_module_version": "1.2.0",
            "_model_name": "LayoutModel",
            "_view_count": null,
            "_view_module": "@jupyter-widgets/base",
            "_view_module_version": "1.2.0",
            "_view_name": "LayoutView",
            "align_content": null,
            "align_items": null,
            "align_self": null,
            "border": null,
            "bottom": null,
            "display": null,
            "flex": null,
            "flex_flow": null,
            "grid_area": null,
            "grid_auto_columns": null,
            "grid_auto_flow": null,
            "grid_auto_rows": null,
            "grid_column": null,
            "grid_gap": null,
            "grid_row": null,
            "grid_template_areas": null,
            "grid_template_columns": null,
            "grid_template_rows": null,
            "height": null,
            "justify_content": null,
            "justify_items": null,
            "left": null,
            "margin": null,
            "max_height": null,
            "max_width": null,
            "min_height": null,
            "min_width": null,
            "object_fit": null,
            "object_position": null,
            "order": null,
            "overflow": null,
            "overflow_x": null,
            "overflow_y": null,
            "padding": null,
            "right": null,
            "top": null,
            "visibility": null,
            "width": null
          }
        },
        "de67af1fcbcf4a72a4b546db5d357047": {
          "model_module": "@jupyter-widgets/controls",
          "model_name": "ProgressStyleModel",
          "model_module_version": "1.5.0",
          "state": {
            "_model_module": "@jupyter-widgets/controls",
            "_model_module_version": "1.5.0",
            "_model_name": "ProgressStyleModel",
            "_view_count": null,
            "_view_module": "@jupyter-widgets/base",
            "_view_module_version": "1.2.0",
            "_view_name": "StyleView",
            "bar_color": null,
            "description_width": ""
          }
        },
        "dc88361620c241f6952542e77fa80f09": {
          "model_module": "@jupyter-widgets/base",
          "model_name": "LayoutModel",
          "model_module_version": "1.2.0",
          "state": {
            "_model_module": "@jupyter-widgets/base",
            "_model_module_version": "1.2.0",
            "_model_name": "LayoutModel",
            "_view_count": null,
            "_view_module": "@jupyter-widgets/base",
            "_view_module_version": "1.2.0",
            "_view_name": "LayoutView",
            "align_content": null,
            "align_items": null,
            "align_self": null,
            "border": null,
            "bottom": null,
            "display": null,
            "flex": null,
            "flex_flow": null,
            "grid_area": null,
            "grid_auto_columns": null,
            "grid_auto_flow": null,
            "grid_auto_rows": null,
            "grid_column": null,
            "grid_gap": null,
            "grid_row": null,
            "grid_template_areas": null,
            "grid_template_columns": null,
            "grid_template_rows": null,
            "height": null,
            "justify_content": null,
            "justify_items": null,
            "left": null,
            "margin": null,
            "max_height": null,
            "max_width": null,
            "min_height": null,
            "min_width": null,
            "object_fit": null,
            "object_position": null,
            "order": null,
            "overflow": null,
            "overflow_x": null,
            "overflow_y": null,
            "padding": null,
            "right": null,
            "top": null,
            "visibility": null,
            "width": null
          }
        },
        "5d7a0a1689be413ab755d051003ea01b": {
          "model_module": "@jupyter-widgets/controls",
          "model_name": "DescriptionStyleModel",
          "model_module_version": "1.5.0",
          "state": {
            "_model_module": "@jupyter-widgets/controls",
            "_model_module_version": "1.5.0",
            "_model_name": "DescriptionStyleModel",
            "_view_count": null,
            "_view_module": "@jupyter-widgets/base",
            "_view_module_version": "1.2.0",
            "_view_name": "StyleView",
            "description_width": ""
          }
        },
        "c21ead900faa40339effe66bcd77194f": {
          "model_module": "@jupyter-widgets/controls",
          "model_name": "HBoxModel",
          "model_module_version": "1.5.0",
          "state": {
            "_dom_classes": [],
            "_model_module": "@jupyter-widgets/controls",
            "_model_module_version": "1.5.0",
            "_model_name": "HBoxModel",
            "_view_count": null,
            "_view_module": "@jupyter-widgets/controls",
            "_view_module_version": "1.5.0",
            "_view_name": "HBoxView",
            "box_style": "",
            "children": [
              "IPY_MODEL_c69fda693c5e4960a6637199cec07c27",
              "IPY_MODEL_21a95973d4e9482592463cdfb2a28430",
              "IPY_MODEL_b1457f2c2683422faa6e9839734cecd2"
            ],
            "layout": "IPY_MODEL_b6954b3062d045bba23e93c46017103c"
          }
        },
        "c69fda693c5e4960a6637199cec07c27": {
          "model_module": "@jupyter-widgets/controls",
          "model_name": "HTMLModel",
          "model_module_version": "1.5.0",
          "state": {
            "_dom_classes": [],
            "_model_module": "@jupyter-widgets/controls",
            "_model_module_version": "1.5.0",
            "_model_name": "HTMLModel",
            "_view_count": null,
            "_view_module": "@jupyter-widgets/controls",
            "_view_module_version": "1.5.0",
            "_view_name": "HTMLView",
            "description": "",
            "description_tooltip": null,
            "layout": "IPY_MODEL_7fcb6e2fafd4462da02f5bb6980f884b",
            "placeholder": "​",
            "style": "IPY_MODEL_0a39b0b782f6454ba2708ab4392a8ad9",
            "value": "tokenizer.json: 100%"
          }
        },
        "21a95973d4e9482592463cdfb2a28430": {
          "model_module": "@jupyter-widgets/controls",
          "model_name": "FloatProgressModel",
          "model_module_version": "1.5.0",
          "state": {
            "_dom_classes": [],
            "_model_module": "@jupyter-widgets/controls",
            "_model_module_version": "1.5.0",
            "_model_name": "FloatProgressModel",
            "_view_count": null,
            "_view_module": "@jupyter-widgets/controls",
            "_view_module_version": "1.5.0",
            "_view_name": "ProgressView",
            "bar_style": "success",
            "description": "",
            "description_tooltip": null,
            "layout": "IPY_MODEL_78ad783dae4146beabacd83508b212a0",
            "max": 466062,
            "min": 0,
            "orientation": "horizontal",
            "style": "IPY_MODEL_73916bd05c124fc9ac00f4c55d2914c6",
            "value": 466062
          }
        },
        "b1457f2c2683422faa6e9839734cecd2": {
          "model_module": "@jupyter-widgets/controls",
          "model_name": "HTMLModel",
          "model_module_version": "1.5.0",
          "state": {
            "_dom_classes": [],
            "_model_module": "@jupyter-widgets/controls",
            "_model_module_version": "1.5.0",
            "_model_name": "HTMLModel",
            "_view_count": null,
            "_view_module": "@jupyter-widgets/controls",
            "_view_module_version": "1.5.0",
            "_view_name": "HTMLView",
            "description": "",
            "description_tooltip": null,
            "layout": "IPY_MODEL_6ed452afe4fa4b668ef5ca627168020e",
            "placeholder": "​",
            "style": "IPY_MODEL_8339bdace82845c782072a5004f152ec",
            "value": " 466k/466k [00:00&lt;00:00, 669kB/s]"
          }
        },
        "b6954b3062d045bba23e93c46017103c": {
          "model_module": "@jupyter-widgets/base",
          "model_name": "LayoutModel",
          "model_module_version": "1.2.0",
          "state": {
            "_model_module": "@jupyter-widgets/base",
            "_model_module_version": "1.2.0",
            "_model_name": "LayoutModel",
            "_view_count": null,
            "_view_module": "@jupyter-widgets/base",
            "_view_module_version": "1.2.0",
            "_view_name": "LayoutView",
            "align_content": null,
            "align_items": null,
            "align_self": null,
            "border": null,
            "bottom": null,
            "display": null,
            "flex": null,
            "flex_flow": null,
            "grid_area": null,
            "grid_auto_columns": null,
            "grid_auto_flow": null,
            "grid_auto_rows": null,
            "grid_column": null,
            "grid_gap": null,
            "grid_row": null,
            "grid_template_areas": null,
            "grid_template_columns": null,
            "grid_template_rows": null,
            "height": null,
            "justify_content": null,
            "justify_items": null,
            "left": null,
            "margin": null,
            "max_height": null,
            "max_width": null,
            "min_height": null,
            "min_width": null,
            "object_fit": null,
            "object_position": null,
            "order": null,
            "overflow": null,
            "overflow_x": null,
            "overflow_y": null,
            "padding": null,
            "right": null,
            "top": null,
            "visibility": null,
            "width": null
          }
        },
        "7fcb6e2fafd4462da02f5bb6980f884b": {
          "model_module": "@jupyter-widgets/base",
          "model_name": "LayoutModel",
          "model_module_version": "1.2.0",
          "state": {
            "_model_module": "@jupyter-widgets/base",
            "_model_module_version": "1.2.0",
            "_model_name": "LayoutModel",
            "_view_count": null,
            "_view_module": "@jupyter-widgets/base",
            "_view_module_version": "1.2.0",
            "_view_name": "LayoutView",
            "align_content": null,
            "align_items": null,
            "align_self": null,
            "border": null,
            "bottom": null,
            "display": null,
            "flex": null,
            "flex_flow": null,
            "grid_area": null,
            "grid_auto_columns": null,
            "grid_auto_flow": null,
            "grid_auto_rows": null,
            "grid_column": null,
            "grid_gap": null,
            "grid_row": null,
            "grid_template_areas": null,
            "grid_template_columns": null,
            "grid_template_rows": null,
            "height": null,
            "justify_content": null,
            "justify_items": null,
            "left": null,
            "margin": null,
            "max_height": null,
            "max_width": null,
            "min_height": null,
            "min_width": null,
            "object_fit": null,
            "object_position": null,
            "order": null,
            "overflow": null,
            "overflow_x": null,
            "overflow_y": null,
            "padding": null,
            "right": null,
            "top": null,
            "visibility": null,
            "width": null
          }
        },
        "0a39b0b782f6454ba2708ab4392a8ad9": {
          "model_module": "@jupyter-widgets/controls",
          "model_name": "DescriptionStyleModel",
          "model_module_version": "1.5.0",
          "state": {
            "_model_module": "@jupyter-widgets/controls",
            "_model_module_version": "1.5.0",
            "_model_name": "DescriptionStyleModel",
            "_view_count": null,
            "_view_module": "@jupyter-widgets/base",
            "_view_module_version": "1.2.0",
            "_view_name": "StyleView",
            "description_width": ""
          }
        },
        "78ad783dae4146beabacd83508b212a0": {
          "model_module": "@jupyter-widgets/base",
          "model_name": "LayoutModel",
          "model_module_version": "1.2.0",
          "state": {
            "_model_module": "@jupyter-widgets/base",
            "_model_module_version": "1.2.0",
            "_model_name": "LayoutModel",
            "_view_count": null,
            "_view_module": "@jupyter-widgets/base",
            "_view_module_version": "1.2.0",
            "_view_name": "LayoutView",
            "align_content": null,
            "align_items": null,
            "align_self": null,
            "border": null,
            "bottom": null,
            "display": null,
            "flex": null,
            "flex_flow": null,
            "grid_area": null,
            "grid_auto_columns": null,
            "grid_auto_flow": null,
            "grid_auto_rows": null,
            "grid_column": null,
            "grid_gap": null,
            "grid_row": null,
            "grid_template_areas": null,
            "grid_template_columns": null,
            "grid_template_rows": null,
            "height": null,
            "justify_content": null,
            "justify_items": null,
            "left": null,
            "margin": null,
            "max_height": null,
            "max_width": null,
            "min_height": null,
            "min_width": null,
            "object_fit": null,
            "object_position": null,
            "order": null,
            "overflow": null,
            "overflow_x": null,
            "overflow_y": null,
            "padding": null,
            "right": null,
            "top": null,
            "visibility": null,
            "width": null
          }
        },
        "73916bd05c124fc9ac00f4c55d2914c6": {
          "model_module": "@jupyter-widgets/controls",
          "model_name": "ProgressStyleModel",
          "model_module_version": "1.5.0",
          "state": {
            "_model_module": "@jupyter-widgets/controls",
            "_model_module_version": "1.5.0",
            "_model_name": "ProgressStyleModel",
            "_view_count": null,
            "_view_module": "@jupyter-widgets/base",
            "_view_module_version": "1.2.0",
            "_view_name": "StyleView",
            "bar_color": null,
            "description_width": ""
          }
        },
        "6ed452afe4fa4b668ef5ca627168020e": {
          "model_module": "@jupyter-widgets/base",
          "model_name": "LayoutModel",
          "model_module_version": "1.2.0",
          "state": {
            "_model_module": "@jupyter-widgets/base",
            "_model_module_version": "1.2.0",
            "_model_name": "LayoutModel",
            "_view_count": null,
            "_view_module": "@jupyter-widgets/base",
            "_view_module_version": "1.2.0",
            "_view_name": "LayoutView",
            "align_content": null,
            "align_items": null,
            "align_self": null,
            "border": null,
            "bottom": null,
            "display": null,
            "flex": null,
            "flex_flow": null,
            "grid_area": null,
            "grid_auto_columns": null,
            "grid_auto_flow": null,
            "grid_auto_rows": null,
            "grid_column": null,
            "grid_gap": null,
            "grid_row": null,
            "grid_template_areas": null,
            "grid_template_columns": null,
            "grid_template_rows": null,
            "height": null,
            "justify_content": null,
            "justify_items": null,
            "left": null,
            "margin": null,
            "max_height": null,
            "max_width": null,
            "min_height": null,
            "min_width": null,
            "object_fit": null,
            "object_position": null,
            "order": null,
            "overflow": null,
            "overflow_x": null,
            "overflow_y": null,
            "padding": null,
            "right": null,
            "top": null,
            "visibility": null,
            "width": null
          }
        },
        "8339bdace82845c782072a5004f152ec": {
          "model_module": "@jupyter-widgets/controls",
          "model_name": "DescriptionStyleModel",
          "model_module_version": "1.5.0",
          "state": {
            "_model_module": "@jupyter-widgets/controls",
            "_model_module_version": "1.5.0",
            "_model_name": "DescriptionStyleModel",
            "_view_count": null,
            "_view_module": "@jupyter-widgets/base",
            "_view_module_version": "1.2.0",
            "_view_name": "StyleView",
            "description_width": ""
          }
        },
        "51bc6949e5e54c3b8042acd2891fff00": {
          "model_module": "@jupyter-widgets/controls",
          "model_name": "HBoxModel",
          "model_module_version": "1.5.0",
          "state": {
            "_dom_classes": [],
            "_model_module": "@jupyter-widgets/controls",
            "_model_module_version": "1.5.0",
            "_model_name": "HBoxModel",
            "_view_count": null,
            "_view_module": "@jupyter-widgets/controls",
            "_view_module_version": "1.5.0",
            "_view_name": "HBoxView",
            "box_style": "",
            "children": [
              "IPY_MODEL_2340948e3acf49adaa89ee97dd8c89fe",
              "IPY_MODEL_1a5844603ce047e998b343546f15bb59",
              "IPY_MODEL_ce5779f3c6cb4cc0bf0ad16a4ec76d91"
            ],
            "layout": "IPY_MODEL_47899f6589e24432b0789e91e38a4838"
          }
        },
        "2340948e3acf49adaa89ee97dd8c89fe": {
          "model_module": "@jupyter-widgets/controls",
          "model_name": "HTMLModel",
          "model_module_version": "1.5.0",
          "state": {
            "_dom_classes": [],
            "_model_module": "@jupyter-widgets/controls",
            "_model_module_version": "1.5.0",
            "_model_name": "HTMLModel",
            "_view_count": null,
            "_view_module": "@jupyter-widgets/controls",
            "_view_module_version": "1.5.0",
            "_view_name": "HTMLView",
            "description": "",
            "description_tooltip": null,
            "layout": "IPY_MODEL_b32f3ab5cb6e4e5da39e8da0c9ebd2ad",
            "placeholder": "​",
            "style": "IPY_MODEL_5c01cc3286754447a6e6033fa3f8ef5e",
            "value": "model.safetensors: 100%"
          }
        },
        "1a5844603ce047e998b343546f15bb59": {
          "model_module": "@jupyter-widgets/controls",
          "model_name": "FloatProgressModel",
          "model_module_version": "1.5.0",
          "state": {
            "_dom_classes": [],
            "_model_module": "@jupyter-widgets/controls",
            "_model_module_version": "1.5.0",
            "_model_name": "FloatProgressModel",
            "_view_count": null,
            "_view_module": "@jupyter-widgets/controls",
            "_view_module_version": "1.5.0",
            "_view_name": "ProgressView",
            "bar_style": "success",
            "description": "",
            "description_tooltip": null,
            "layout": "IPY_MODEL_3ecd61891437442ba87c79809c18fe53",
            "max": 440449768,
            "min": 0,
            "orientation": "horizontal",
            "style": "IPY_MODEL_92b34f54df584200b3b674f335dd80a0",
            "value": 440449768
          }
        },
        "ce5779f3c6cb4cc0bf0ad16a4ec76d91": {
          "model_module": "@jupyter-widgets/controls",
          "model_name": "HTMLModel",
          "model_module_version": "1.5.0",
          "state": {
            "_dom_classes": [],
            "_model_module": "@jupyter-widgets/controls",
            "_model_module_version": "1.5.0",
            "_model_name": "HTMLModel",
            "_view_count": null,
            "_view_module": "@jupyter-widgets/controls",
            "_view_module_version": "1.5.0",
            "_view_name": "HTMLView",
            "description": "",
            "description_tooltip": null,
            "layout": "IPY_MODEL_bb3060b0639144e08ed69adc9846ebbc",
            "placeholder": "​",
            "style": "IPY_MODEL_85aa3224fac94ab5991f38eca4ef15f5",
            "value": " 440M/440M [00:08&lt;00:00, 80.2MB/s]"
          }
        },
        "47899f6589e24432b0789e91e38a4838": {
          "model_module": "@jupyter-widgets/base",
          "model_name": "LayoutModel",
          "model_module_version": "1.2.0",
          "state": {
            "_model_module": "@jupyter-widgets/base",
            "_model_module_version": "1.2.0",
            "_model_name": "LayoutModel",
            "_view_count": null,
            "_view_module": "@jupyter-widgets/base",
            "_view_module_version": "1.2.0",
            "_view_name": "LayoutView",
            "align_content": null,
            "align_items": null,
            "align_self": null,
            "border": null,
            "bottom": null,
            "display": null,
            "flex": null,
            "flex_flow": null,
            "grid_area": null,
            "grid_auto_columns": null,
            "grid_auto_flow": null,
            "grid_auto_rows": null,
            "grid_column": null,
            "grid_gap": null,
            "grid_row": null,
            "grid_template_areas": null,
            "grid_template_columns": null,
            "grid_template_rows": null,
            "height": null,
            "justify_content": null,
            "justify_items": null,
            "left": null,
            "margin": null,
            "max_height": null,
            "max_width": null,
            "min_height": null,
            "min_width": null,
            "object_fit": null,
            "object_position": null,
            "order": null,
            "overflow": null,
            "overflow_x": null,
            "overflow_y": null,
            "padding": null,
            "right": null,
            "top": null,
            "visibility": null,
            "width": null
          }
        },
        "b32f3ab5cb6e4e5da39e8da0c9ebd2ad": {
          "model_module": "@jupyter-widgets/base",
          "model_name": "LayoutModel",
          "model_module_version": "1.2.0",
          "state": {
            "_model_module": "@jupyter-widgets/base",
            "_model_module_version": "1.2.0",
            "_model_name": "LayoutModel",
            "_view_count": null,
            "_view_module": "@jupyter-widgets/base",
            "_view_module_version": "1.2.0",
            "_view_name": "LayoutView",
            "align_content": null,
            "align_items": null,
            "align_self": null,
            "border": null,
            "bottom": null,
            "display": null,
            "flex": null,
            "flex_flow": null,
            "grid_area": null,
            "grid_auto_columns": null,
            "grid_auto_flow": null,
            "grid_auto_rows": null,
            "grid_column": null,
            "grid_gap": null,
            "grid_row": null,
            "grid_template_areas": null,
            "grid_template_columns": null,
            "grid_template_rows": null,
            "height": null,
            "justify_content": null,
            "justify_items": null,
            "left": null,
            "margin": null,
            "max_height": null,
            "max_width": null,
            "min_height": null,
            "min_width": null,
            "object_fit": null,
            "object_position": null,
            "order": null,
            "overflow": null,
            "overflow_x": null,
            "overflow_y": null,
            "padding": null,
            "right": null,
            "top": null,
            "visibility": null,
            "width": null
          }
        },
        "5c01cc3286754447a6e6033fa3f8ef5e": {
          "model_module": "@jupyter-widgets/controls",
          "model_name": "DescriptionStyleModel",
          "model_module_version": "1.5.0",
          "state": {
            "_model_module": "@jupyter-widgets/controls",
            "_model_module_version": "1.5.0",
            "_model_name": "DescriptionStyleModel",
            "_view_count": null,
            "_view_module": "@jupyter-widgets/base",
            "_view_module_version": "1.2.0",
            "_view_name": "StyleView",
            "description_width": ""
          }
        },
        "3ecd61891437442ba87c79809c18fe53": {
          "model_module": "@jupyter-widgets/base",
          "model_name": "LayoutModel",
          "model_module_version": "1.2.0",
          "state": {
            "_model_module": "@jupyter-widgets/base",
            "_model_module_version": "1.2.0",
            "_model_name": "LayoutModel",
            "_view_count": null,
            "_view_module": "@jupyter-widgets/base",
            "_view_module_version": "1.2.0",
            "_view_name": "LayoutView",
            "align_content": null,
            "align_items": null,
            "align_self": null,
            "border": null,
            "bottom": null,
            "display": null,
            "flex": null,
            "flex_flow": null,
            "grid_area": null,
            "grid_auto_columns": null,
            "grid_auto_flow": null,
            "grid_auto_rows": null,
            "grid_column": null,
            "grid_gap": null,
            "grid_row": null,
            "grid_template_areas": null,
            "grid_template_columns": null,
            "grid_template_rows": null,
            "height": null,
            "justify_content": null,
            "justify_items": null,
            "left": null,
            "margin": null,
            "max_height": null,
            "max_width": null,
            "min_height": null,
            "min_width": null,
            "object_fit": null,
            "object_position": null,
            "order": null,
            "overflow": null,
            "overflow_x": null,
            "overflow_y": null,
            "padding": null,
            "right": null,
            "top": null,
            "visibility": null,
            "width": null
          }
        },
        "92b34f54df584200b3b674f335dd80a0": {
          "model_module": "@jupyter-widgets/controls",
          "model_name": "ProgressStyleModel",
          "model_module_version": "1.5.0",
          "state": {
            "_model_module": "@jupyter-widgets/controls",
            "_model_module_version": "1.5.0",
            "_model_name": "ProgressStyleModel",
            "_view_count": null,
            "_view_module": "@jupyter-widgets/base",
            "_view_module_version": "1.2.0",
            "_view_name": "StyleView",
            "bar_color": null,
            "description_width": ""
          }
        },
        "bb3060b0639144e08ed69adc9846ebbc": {
          "model_module": "@jupyter-widgets/base",
          "model_name": "LayoutModel",
          "model_module_version": "1.2.0",
          "state": {
            "_model_module": "@jupyter-widgets/base",
            "_model_module_version": "1.2.0",
            "_model_name": "LayoutModel",
            "_view_count": null,
            "_view_module": "@jupyter-widgets/base",
            "_view_module_version": "1.2.0",
            "_view_name": "LayoutView",
            "align_content": null,
            "align_items": null,
            "align_self": null,
            "border": null,
            "bottom": null,
            "display": null,
            "flex": null,
            "flex_flow": null,
            "grid_area": null,
            "grid_auto_columns": null,
            "grid_auto_flow": null,
            "grid_auto_rows": null,
            "grid_column": null,
            "grid_gap": null,
            "grid_row": null,
            "grid_template_areas": null,
            "grid_template_columns": null,
            "grid_template_rows": null,
            "height": null,
            "justify_content": null,
            "justify_items": null,
            "left": null,
            "margin": null,
            "max_height": null,
            "max_width": null,
            "min_height": null,
            "min_width": null,
            "object_fit": null,
            "object_position": null,
            "order": null,
            "overflow": null,
            "overflow_x": null,
            "overflow_y": null,
            "padding": null,
            "right": null,
            "top": null,
            "visibility": null,
            "width": null
          }
        },
        "85aa3224fac94ab5991f38eca4ef15f5": {
          "model_module": "@jupyter-widgets/controls",
          "model_name": "DescriptionStyleModel",
          "model_module_version": "1.5.0",
          "state": {
            "_model_module": "@jupyter-widgets/controls",
            "_model_module_version": "1.5.0",
            "_model_name": "DescriptionStyleModel",
            "_view_count": null,
            "_view_module": "@jupyter-widgets/base",
            "_view_module_version": "1.2.0",
            "_view_name": "StyleView",
            "description_width": ""
          }
        }
      }
    }
  },
  "nbformat": 4,
  "nbformat_minor": 0
}